{
 "cells": [
  {
   "cell_type": "markdown",
   "metadata": {},
   "source": [
    "<img src=\"http://imgur.com/1ZcRyrc.png\" style=\"float: left; margin: 20px; height: 55px\">\n",
    "\n",
    "# Project 1: Standardized Test Analysis"
   ]
  },
  {
   "cell_type": "markdown",
   "metadata": {},
   "source": [
    "--- \n",
    "# Part 1\n",
    "\n",
    "Part 1 requires knowledge of basic Python.\n",
    "\n",
    "---"
   ]
  },
  {
   "cell_type": "markdown",
   "metadata": {},
   "source": [
    "## Problem Statement"
   ]
  },
  {
   "cell_type": "markdown",
   "metadata": {},
   "source": [
    "I want to figure out if there is any relationship between income and SAT scores?"
   ]
  },
  {
   "cell_type": "markdown",
   "metadata": {},
   "source": [
    "### Contents:\n",
    "- [Background](#Background)\n",
    "- [Data Import & Cleaning](#Data-Import-and-Cleaning)\n",
    "- [Exploratory Data Analysis](#Exploratory-Data-Analysis)\n",
    "- [Data Visualization](#Visualize-the-Data)\n",
    "- [Conclusions and Recommendations](#Conclusions-and-Recommendations)"
   ]
  },
  {
   "cell_type": "markdown",
   "metadata": {},
   "source": [
    "## Background"
   ]
  },
  {
   "cell_type": "markdown",
   "metadata": {},
   "source": [
    "The SAT is a standardized test that many colleges and universities in the United States require for their admissions process. This score is used along with other materials such as grade point average (GPA) and essay responses to determine whether or not a potential student will be accepted to the university.\n",
    "\n",
    "The SAT has two sections of the test: Evidence-Based Reading and Writing and Math ([*source*](https://www.princetonreview.com/college/sat-sections)). T\n",
    "* [SAT](https://collegereadiness.collegeboard.org/sat)"
   ]
  },
  {
   "cell_type": "markdown",
   "metadata": {},
   "source": [
    "### Data\n",
    "\n",
    "There are 10 datasets included in the [`data`](./data/) folder for this project. You are required to pick **at least two** of these to complete your analysis. Feel free to use more than two if you would like, or add other relevant datasets you find online.\n",
    "\n",
    "* [`sat_2019_ca.csv`](./data/sat_2019_ca.csv): 2019 SAT Scores in California by School\n",
    "* [California School District Areas 2018-19](https://gis.data.ca.gov/datasets/e9476c422f0842a7a38652aaf4c7597c_0): Authoritative geographic data source for all schools' district area boundaries in California for the 2018-19 academic year"
   ]
  },
  {
   "cell_type": "markdown",
   "metadata": {},
   "source": [
    "### Outside Research"
   ]
  },
  {
   "cell_type": "markdown",
   "metadata": {},
   "source": [
    "##### Firstly, I found a district map file so I can plot the data for each school district. I also find a income map in CA for different areas."
   ]
  },
  {
   "cell_type": "code",
   "execution_count": 1,
   "metadata": {},
   "outputs": [],
   "source": [
    "# Mean Function:\n",
    "def mean(num_list):\n",
    "    total_num = len(num_list)\n",
    "    total = sum(num_list)\n",
    "    \n",
    "    return total/total_num"
   ]
  },
  {
   "cell_type": "code",
   "execution_count": 2,
   "metadata": {},
   "outputs": [],
   "source": [
    "# STD Function:\n",
    "def std(num_list):\n",
    "    sum_var_sqr = 0\n",
    "    the_mean = mean(num_list)\n",
    "    \n",
    "    for i in num_list:\n",
    "        sum_var_sqr += (i-the_mean)**2\n",
    "    \n",
    "    return (sum_var_sqr/len(num_list))**(1/2)"
   ]
  },
  {
   "cell_type": "code",
   "execution_count": 3,
   "metadata": {},
   "outputs": [],
   "source": [
    "# Data cleaning function\n",
    "def per_to_float(per):\n",
    "    return float(per[:-1]) / 100"
   ]
  },
  {
   "cell_type": "markdown",
   "metadata": {},
   "source": [
    "--- \n",
    "# Part 2\n",
    "\n",
    "Libraries\n",
    "\n",
    "---"
   ]
  },
  {
   "cell_type": "code",
   "execution_count": 4,
   "metadata": {},
   "outputs": [],
   "source": [
    "# Imports:\n",
    "import pandas as pd\n",
    "import matplotlib.pyplot as plt\n",
    "import geopandas"
   ]
  },
  {
   "cell_type": "markdown",
   "metadata": {},
   "source": [
    "## Data Import and Cleaning"
   ]
  },
  {
   "cell_type": "markdown",
   "metadata": {},
   "source": [
    "### Data Import & Cleaning"
   ]
  },
  {
   "cell_type": "code",
   "execution_count": 62,
   "metadata": {},
   "outputs": [],
   "source": [
    "ca_sat_2019 = pd.read_csv('../data/sat_2019_ca.csv')"
   ]
  },
  {
   "cell_type": "code",
   "execution_count": 59,
   "metadata": {},
   "outputs": [
    {
     "data": {
      "text/html": [
       "<div>\n",
       "<style scoped>\n",
       "    .dataframe tbody tr th:only-of-type {\n",
       "        vertical-align: middle;\n",
       "    }\n",
       "\n",
       "    .dataframe tbody tr th {\n",
       "        vertical-align: top;\n",
       "    }\n",
       "\n",
       "    .dataframe thead th {\n",
       "        text-align: right;\n",
       "    }\n",
       "</style>\n",
       "<table border=\"1\" class=\"dataframe\">\n",
       "  <thead>\n",
       "    <tr style=\"text-align: right;\">\n",
       "      <th></th>\n",
       "      <th>CDS</th>\n",
       "      <th>CCode</th>\n",
       "      <th>CDCode</th>\n",
       "      <th>SCode</th>\n",
       "      <th>RType</th>\n",
       "      <th>SName</th>\n",
       "      <th>DName</th>\n",
       "      <th>CName</th>\n",
       "      <th>Enroll12</th>\n",
       "      <th>NumTSTTakr12</th>\n",
       "      <th>...</th>\n",
       "      <th>NumERWBenchmark11</th>\n",
       "      <th>PctERWBenchmark11</th>\n",
       "      <th>NumMathBenchmark11</th>\n",
       "      <th>PctMathBenchmark11</th>\n",
       "      <th>TotNumBothBenchmark12</th>\n",
       "      <th>PctBothBenchmark12</th>\n",
       "      <th>TotNumBothBenchmark11</th>\n",
       "      <th>PctBothBenchmark11</th>\n",
       "      <th>Year</th>\n",
       "      <th>Unnamed: 25</th>\n",
       "    </tr>\n",
       "  </thead>\n",
       "  <tbody>\n",
       "    <tr>\n",
       "      <td>0</td>\n",
       "      <td>6.615981e+12</td>\n",
       "      <td>6.0</td>\n",
       "      <td>661598.0</td>\n",
       "      <td>630046.0</td>\n",
       "      <td>S</td>\n",
       "      <td>Colusa Alternative Home</td>\n",
       "      <td>Colusa Unified</td>\n",
       "      <td>Colusa</td>\n",
       "      <td>18.0</td>\n",
       "      <td>0.0</td>\n",
       "      <td>...</td>\n",
       "      <td>NaN</td>\n",
       "      <td>NaN</td>\n",
       "      <td>NaN</td>\n",
       "      <td>NaN</td>\n",
       "      <td>NaN</td>\n",
       "      <td>NaN</td>\n",
       "      <td>NaN</td>\n",
       "      <td>NaN</td>\n",
       "      <td>2018-19</td>\n",
       "      <td>NaN</td>\n",
       "    </tr>\n",
       "    <tr>\n",
       "      <td>1</td>\n",
       "      <td>6.616061e+12</td>\n",
       "      <td>6.0</td>\n",
       "      <td>661606.0</td>\n",
       "      <td>634758.0</td>\n",
       "      <td>S</td>\n",
       "      <td>Maxwell Sr High</td>\n",
       "      <td>Maxwell Unified</td>\n",
       "      <td>Colusa</td>\n",
       "      <td>29.0</td>\n",
       "      <td>10.0</td>\n",
       "      <td>...</td>\n",
       "      <td>*</td>\n",
       "      <td>*</td>\n",
       "      <td>*</td>\n",
       "      <td>*</td>\n",
       "      <td>*</td>\n",
       "      <td>*</td>\n",
       "      <td>*</td>\n",
       "      <td>*</td>\n",
       "      <td>2018-19</td>\n",
       "      <td>NaN</td>\n",
       "    </tr>\n",
       "    <tr>\n",
       "      <td>2</td>\n",
       "      <td>1.964733e+13</td>\n",
       "      <td>19.0</td>\n",
       "      <td>1964733.0</td>\n",
       "      <td>1930924.0</td>\n",
       "      <td>S</td>\n",
       "      <td>Belmont Senior High</td>\n",
       "      <td>Los Angeles Unified</td>\n",
       "      <td>Los Angeles</td>\n",
       "      <td>206.0</td>\n",
       "      <td>102.0</td>\n",
       "      <td>...</td>\n",
       "      <td>42</td>\n",
       "      <td>24.14</td>\n",
       "      <td>12</td>\n",
       "      <td>6.90</td>\n",
       "      <td>14</td>\n",
       "      <td>13.73</td>\n",
       "      <td>11</td>\n",
       "      <td>6.32</td>\n",
       "      <td>2018-19</td>\n",
       "      <td>NaN</td>\n",
       "    </tr>\n",
       "  </tbody>\n",
       "</table>\n",
       "<p>3 rows × 26 columns</p>\n",
       "</div>"
      ],
      "text/plain": [
       "            CDS  CCode     CDCode      SCode RType                    SName  \\\n",
       "0  6.615981e+12    6.0   661598.0   630046.0     S  Colusa Alternative Home   \n",
       "1  6.616061e+12    6.0   661606.0   634758.0     S          Maxwell Sr High   \n",
       "2  1.964733e+13   19.0  1964733.0  1930924.0     S      Belmont Senior High   \n",
       "\n",
       "                 DName        CName  Enroll12  NumTSTTakr12  ...  \\\n",
       "0       Colusa Unified       Colusa      18.0           0.0  ...   \n",
       "1      Maxwell Unified       Colusa      29.0          10.0  ...   \n",
       "2  Los Angeles Unified  Los Angeles     206.0         102.0  ...   \n",
       "\n",
       "  NumERWBenchmark11 PctERWBenchmark11 NumMathBenchmark11 PctMathBenchmark11  \\\n",
       "0               NaN               NaN                NaN                NaN   \n",
       "1                 *                 *                  *                  *   \n",
       "2                42             24.14                 12               6.90   \n",
       "\n",
       "   TotNumBothBenchmark12  PctBothBenchmark12 TotNumBothBenchmark11  \\\n",
       "0                    NaN                 NaN                   NaN   \n",
       "1                      *                   *                     *   \n",
       "2                     14               13.73                    11   \n",
       "\n",
       "  PctBothBenchmark11     Year Unnamed: 25  \n",
       "0                NaN  2018-19         NaN  \n",
       "1                  *  2018-19         NaN  \n",
       "2               6.32  2018-19         NaN  \n",
       "\n",
       "[3 rows x 26 columns]"
      ]
     },
     "execution_count": 59,
     "metadata": {},
     "output_type": "execute_result"
    }
   ],
   "source": [
    "ca_sat_2019.head(3)"
   ]
  },
  {
   "cell_type": "code",
   "execution_count": 60,
   "metadata": {},
   "outputs": [
    {
     "name": "stdout",
     "output_type": "stream",
     "text": [
      "<class 'pandas.core.frame.DataFrame'>\n",
      "RangeIndex: 2580 entries, 0 to 2579\n",
      "Data columns (total 26 columns):\n",
      "CDS                      2579 non-null float64\n",
      "CCode                    2579 non-null float64\n",
      "CDCode                   2579 non-null float64\n",
      "SCode                    2579 non-null float64\n",
      "RType                    2579 non-null object\n",
      "SName                    1982 non-null object\n",
      "DName                    2521 non-null object\n",
      "CName                    2579 non-null object\n",
      "Enroll12                 2579 non-null float64\n",
      "NumTSTTakr12             2579 non-null float64\n",
      "NumERWBenchmark12        2304 non-null object\n",
      "PctERWBenchmark12        2304 non-null object\n",
      "NumMathBenchmark12       2304 non-null object\n",
      "PctMathBenchmark12       2304 non-null object\n",
      "Enroll11                 2579 non-null float64\n",
      "NumTSTTakr11             2579 non-null float64\n",
      "NumERWBenchmark11        2269 non-null object\n",
      "PctERWBenchmark11        2269 non-null object\n",
      "NumMathBenchmark11       2269 non-null object\n",
      "PctMathBenchmark11       2269 non-null object\n",
      "TotNumBothBenchmark12    2304 non-null object\n",
      "PctBothBenchmark12       2304 non-null object\n",
      "TotNumBothBenchmark11    2269 non-null object\n",
      "PctBothBenchmark11       2269 non-null object\n",
      "Year                     2579 non-null object\n",
      "Unnamed: 25              0 non-null float64\n",
      "dtypes: float64(9), object(17)\n",
      "memory usage: 524.2+ KB\n"
     ]
    }
   ],
   "source": [
    "ca_sat_2019.info()"
   ]
  },
  {
   "cell_type": "markdown",
   "metadata": {},
   "source": [
    "**Keep the columns I need.**"
   ]
  },
  {
   "cell_type": "code",
   "execution_count": 33,
   "metadata": {},
   "outputs": [
    {
     "data": {
      "text/plain": [
       "Index(['code', 'name', 'num_student', 'num_taken', 'erw_num', 'erw_per',\n",
       "       'math_num', 'math_per'],\n",
       "      dtype='object')"
      ]
     },
     "execution_count": 33,
     "metadata": {},
     "output_type": "execute_result"
    }
   ],
   "source": [
    "df.columns"
   ]
  },
  {
   "cell_type": "code",
   "execution_count": null,
   "metadata": {},
   "outputs": [],
   "source": [
    "df = df.replace('*',0)"
   ]
  },
  {
   "cell_type": "code",
   "execution_count": 17,
   "metadata": {},
   "outputs": [],
   "source": [
    "df = ca_sat_2019[['CDCode','RType','DName','Enroll12','NumTSTTakr12','NumERWBenchmark12','PctERWBenchmark12','NumMathBenchmark12','PctMathBenchmark12']]"
   ]
  },
  {
   "cell_type": "markdown",
   "metadata": {},
   "source": [
    "**Cheking missing values.**"
   ]
  },
  {
   "cell_type": "code",
   "execution_count": 18,
   "metadata": {},
   "outputs": [
    {
     "data": {
      "text/plain": [
       "CDCode                  1\n",
       "RType                   1\n",
       "DName                  59\n",
       "Enroll12                1\n",
       "NumTSTTakr12            1\n",
       "NumERWBenchmark12     276\n",
       "PctERWBenchmark12     276\n",
       "NumMathBenchmark12    276\n",
       "PctMathBenchmark12    276\n",
       "dtype: int64"
      ]
     },
     "execution_count": 18,
     "metadata": {},
     "output_type": "execute_result"
    }
   ],
   "source": [
    "df.isnull().sum()"
   ]
  },
  {
   "cell_type": "code",
   "execution_count": 19,
   "metadata": {},
   "outputs": [
    {
     "data": {
      "text/html": [
       "<div>\n",
       "<style scoped>\n",
       "    .dataframe tbody tr th:only-of-type {\n",
       "        vertical-align: middle;\n",
       "    }\n",
       "\n",
       "    .dataframe tbody tr th {\n",
       "        vertical-align: top;\n",
       "    }\n",
       "\n",
       "    .dataframe thead th {\n",
       "        text-align: right;\n",
       "    }\n",
       "</style>\n",
       "<table border=\"1\" class=\"dataframe\">\n",
       "  <thead>\n",
       "    <tr style=\"text-align: right;\">\n",
       "      <th></th>\n",
       "      <th>CDCode</th>\n",
       "      <th>RType</th>\n",
       "      <th>DName</th>\n",
       "      <th>Enroll12</th>\n",
       "      <th>NumTSTTakr12</th>\n",
       "      <th>NumERWBenchmark12</th>\n",
       "      <th>PctERWBenchmark12</th>\n",
       "      <th>NumMathBenchmark12</th>\n",
       "      <th>PctMathBenchmark12</th>\n",
       "    </tr>\n",
       "  </thead>\n",
       "  <tbody>\n",
       "    <tr>\n",
       "      <td>1981</td>\n",
       "      <td>900000.0</td>\n",
       "      <td>C</td>\n",
       "      <td>NaN</td>\n",
       "      <td>2226.0</td>\n",
       "      <td>604.0</td>\n",
       "      <td>547</td>\n",
       "      <td>90.56</td>\n",
       "      <td>458</td>\n",
       "      <td>75.83</td>\n",
       "    </tr>\n",
       "    <tr>\n",
       "      <td>1982</td>\n",
       "      <td>1900000.0</td>\n",
       "      <td>C</td>\n",
       "      <td>NaN</td>\n",
       "      <td>114618.0</td>\n",
       "      <td>48676.0</td>\n",
       "      <td>30081</td>\n",
       "      <td>61.80</td>\n",
       "      <td>19791</td>\n",
       "      <td>40.66</td>\n",
       "    </tr>\n",
       "    <tr>\n",
       "      <td>1983</td>\n",
       "      <td>2000000.0</td>\n",
       "      <td>C</td>\n",
       "      <td>NaN</td>\n",
       "      <td>2352.0</td>\n",
       "      <td>442.0</td>\n",
       "      <td>277</td>\n",
       "      <td>62.67</td>\n",
       "      <td>136</td>\n",
       "      <td>30.77</td>\n",
       "    </tr>\n",
       "    <tr>\n",
       "      <td>1984</td>\n",
       "      <td>5700000.0</td>\n",
       "      <td>C</td>\n",
       "      <td>NaN</td>\n",
       "      <td>2299.0</td>\n",
       "      <td>759.0</td>\n",
       "      <td>586</td>\n",
       "      <td>77.21</td>\n",
       "      <td>464</td>\n",
       "      <td>61.13</td>\n",
       "    </tr>\n",
       "    <tr>\n",
       "      <td>1985</td>\n",
       "      <td>1500000.0</td>\n",
       "      <td>C</td>\n",
       "      <td>NaN</td>\n",
       "      <td>14229.0</td>\n",
       "      <td>3793.0</td>\n",
       "      <td>2334</td>\n",
       "      <td>61.53</td>\n",
       "      <td>1481</td>\n",
       "      <td>39.05</td>\n",
       "    </tr>\n",
       "  </tbody>\n",
       "</table>\n",
       "</div>"
      ],
      "text/plain": [
       "         CDCode RType DName  Enroll12  NumTSTTakr12 NumERWBenchmark12  \\\n",
       "1981   900000.0     C   NaN    2226.0         604.0               547   \n",
       "1982  1900000.0     C   NaN  114618.0       48676.0             30081   \n",
       "1983  2000000.0     C   NaN    2352.0         442.0               277   \n",
       "1984  5700000.0     C   NaN    2299.0         759.0               586   \n",
       "1985  1500000.0     C   NaN   14229.0        3793.0              2334   \n",
       "\n",
       "     PctERWBenchmark12 NumMathBenchmark12 PctMathBenchmark12  \n",
       "1981             90.56                458              75.83  \n",
       "1982             61.80              19791              40.66  \n",
       "1983             62.67                136              30.77  \n",
       "1984             77.21                464              61.13  \n",
       "1985             61.53               1481              39.05  "
      ]
     },
     "execution_count": 19,
     "metadata": {},
     "output_type": "execute_result"
    }
   ],
   "source": [
    "df[df['DName'].isnull()].head(5)"
   ]
  },
  {
   "cell_type": "markdown",
   "metadata": {},
   "source": [
    "The description of the data set informs that there are 4 types of records, County, District, School and State. It looks like the extreme values come from State record.\n",
    "The result proved it. Since the goal is to see the realtion between each county, keeping records only with record type equal C and also remove unnecessary columns"
   ]
  },
  {
   "cell_type": "code",
   "execution_count": 20,
   "metadata": {},
   "outputs": [
    {
     "data": {
      "text/html": [
       "<div>\n",
       "<style scoped>\n",
       "    .dataframe tbody tr th:only-of-type {\n",
       "        vertical-align: middle;\n",
       "    }\n",
       "\n",
       "    .dataframe tbody tr th {\n",
       "        vertical-align: top;\n",
       "    }\n",
       "\n",
       "    .dataframe thead th {\n",
       "        text-align: right;\n",
       "    }\n",
       "</style>\n",
       "<table border=\"1\" class=\"dataframe\">\n",
       "  <thead>\n",
       "    <tr style=\"text-align: right;\">\n",
       "      <th></th>\n",
       "      <th>count</th>\n",
       "      <th>mean</th>\n",
       "      <th>std</th>\n",
       "      <th>min</th>\n",
       "      <th>25%</th>\n",
       "      <th>50%</th>\n",
       "      <th>75%</th>\n",
       "      <th>max</th>\n",
       "    </tr>\n",
       "    <tr>\n",
       "      <th>RType</th>\n",
       "      <th></th>\n",
       "      <th></th>\n",
       "      <th></th>\n",
       "      <th></th>\n",
       "      <th></th>\n",
       "      <th></th>\n",
       "      <th></th>\n",
       "      <th></th>\n",
       "    </tr>\n",
       "  </thead>\n",
       "  <tbody>\n",
       "    <tr>\n",
       "      <td>C</td>\n",
       "      <td>58.0</td>\n",
       "      <td>8442.241379</td>\n",
       "      <td>17344.164490</td>\n",
       "      <td>0.0</td>\n",
       "      <td>525.5</td>\n",
       "      <td>2325.5</td>\n",
       "      <td>7477.25</td>\n",
       "      <td>114618.0</td>\n",
       "    </tr>\n",
       "    <tr>\n",
       "      <td>D</td>\n",
       "      <td>539.0</td>\n",
       "      <td>907.730983</td>\n",
       "      <td>2165.403522</td>\n",
       "      <td>0.0</td>\n",
       "      <td>104.5</td>\n",
       "      <td>325.0</td>\n",
       "      <td>1063.50</td>\n",
       "      <td>41873.0</td>\n",
       "    </tr>\n",
       "    <tr>\n",
       "      <td>S</td>\n",
       "      <td>1981.0</td>\n",
       "      <td>232.673397</td>\n",
       "      <td>216.578502</td>\n",
       "      <td>0.0</td>\n",
       "      <td>53.0</td>\n",
       "      <td>141.0</td>\n",
       "      <td>398.00</td>\n",
       "      <td>1135.0</td>\n",
       "    </tr>\n",
       "    <tr>\n",
       "      <td>X</td>\n",
       "      <td>1.0</td>\n",
       "      <td>489650.000000</td>\n",
       "      <td>NaN</td>\n",
       "      <td>489650.0</td>\n",
       "      <td>489650.0</td>\n",
       "      <td>489650.0</td>\n",
       "      <td>489650.00</td>\n",
       "      <td>489650.0</td>\n",
       "    </tr>\n",
       "  </tbody>\n",
       "</table>\n",
       "</div>"
      ],
      "text/plain": [
       "        count           mean           std       min       25%       50%  \\\n",
       "RType                                                                      \n",
       "C        58.0    8442.241379  17344.164490       0.0     525.5    2325.5   \n",
       "D       539.0     907.730983   2165.403522       0.0     104.5     325.0   \n",
       "S      1981.0     232.673397    216.578502       0.0      53.0     141.0   \n",
       "X         1.0  489650.000000           NaN  489650.0  489650.0  489650.0   \n",
       "\n",
       "             75%       max  \n",
       "RType                       \n",
       "C        7477.25  114618.0  \n",
       "D        1063.50   41873.0  \n",
       "S         398.00    1135.0  \n",
       "X      489650.00  489650.0  "
      ]
     },
     "execution_count": 20,
     "metadata": {},
     "output_type": "execute_result"
    }
   ],
   "source": [
    "df.groupby('RType')['Enroll12'].describe()"
   ]
  },
  {
   "cell_type": "code",
   "execution_count": 22,
   "metadata": {},
   "outputs": [],
   "source": [
    "df = df[df['RType'] == 'D']"
   ]
  },
  {
   "cell_type": "code",
   "execution_count": 23,
   "metadata": {},
   "outputs": [],
   "source": [
    "df = df.dropna()"
   ]
  },
  {
   "cell_type": "markdown",
   "metadata": {},
   "source": [
    "#### Check the data typs before checking outliers"
   ]
  },
  {
   "cell_type": "code",
   "execution_count": 24,
   "metadata": {},
   "outputs": [
    {
     "name": "stdout",
     "output_type": "stream",
     "text": [
      "<class 'pandas.core.frame.DataFrame'>\n",
      "Int64Index: 501 entries, 2037 to 2575\n",
      "Data columns (total 9 columns):\n",
      "CDCode                501 non-null float64\n",
      "RType                 501 non-null object\n",
      "DName                 501 non-null object\n",
      "Enroll12              501 non-null float64\n",
      "NumTSTTakr12          501 non-null float64\n",
      "NumERWBenchmark12     501 non-null object\n",
      "PctERWBenchmark12     501 non-null object\n",
      "NumMathBenchmark12    501 non-null object\n",
      "PctMathBenchmark12    501 non-null object\n",
      "dtypes: float64(3), object(6)\n",
      "memory usage: 39.1+ KB\n"
     ]
    }
   ],
   "source": [
    "df.info()"
   ]
  },
  {
   "cell_type": "code",
   "execution_count": 27,
   "metadata": {},
   "outputs": [],
   "source": [
    "df['NumERWBenchmark12'] = pd.to_numeric(df['NumERWBenchmark12'])\n",
    "df['PctERWBenchmark12'] = pd.to_numeric(df['PctERWBenchmark12'])\n",
    "df['NumMathBenchmark12'] = pd.to_numeric(df['NumMathBenchmark12'])\n",
    "df['PctMathBenchmark12'] = pd.to_numeric(df['PctMathBenchmark12'])"
   ]
  },
  {
   "cell_type": "code",
   "execution_count": 28,
   "metadata": {},
   "outputs": [],
   "source": [
    "# drop RType column since we only have Type D left\n",
    "df = df.drop(['RType'],axis = 1)"
   ]
  },
  {
   "cell_type": "code",
   "execution_count": 30,
   "metadata": {},
   "outputs": [],
   "source": [
    "# reset column names\n",
    "df.columns = ['code','name','num_student','num_taken','erw_num','erw_per','math_num','math_per']"
   ]
  },
  {
   "cell_type": "code",
   "execution_count": 31,
   "metadata": {},
   "outputs": [],
   "source": [
    "df.reset_index(drop=True,inplace = True)"
   ]
  },
  {
   "cell_type": "markdown",
   "metadata": {},
   "source": [
    "### Data Dictionary\n",
    "\n",
    "|Feature|Type|Dataset|Description|\n",
    "|---|---|---|---|\n",
    "|code|float|sat_2019_ca|School District Code in CA, each district has a unique code| \n",
    "|name|object|sat_2019_ca|School District Name|\n",
    "|num_student|float|sat_2019_ca|Number of students enrolled in 12th grade in the county|\n",
    "|num_taken|float|sat_2019_ca|Number of students taken SAT test in the county| \n",
    "|erw_num|int|sat_2019_ca|Number of students who has taken SAT and exceed the writting benchmark|\n",
    "|erw_per|float|sat_2019_ca|Percentge of student who exceed writting benchmark|\n",
    "|math_num|int|sat_2019_ca|Number of students who has taken SAT and exceed the math benchmark|\n",
    "|math_per|float|sat_2019_ca|Percentge of student who exceed math benchmark|\n",
    "\n"
   ]
  },
  {
   "cell_type": "markdown",
   "metadata": {},
   "source": [
    "## Exploratory Data Analysis"
   ]
  },
  {
   "cell_type": "code",
   "execution_count": 35,
   "metadata": {},
   "outputs": [],
   "source": [
    "sd = {col:std(df[col]) for col in df if df[col].dtypes != 'O'}"
   ]
  },
  {
   "cell_type": "code",
   "execution_count": 36,
   "metadata": {},
   "outputs": [
    {
     "data": {
      "text/plain": [
       "{'code': 1546765.6425155844,\n",
       " 'num_student': 2230.7542264934173,\n",
       " 'num_taken': 1010.4598623309781,\n",
       " 'erw_num': 565.5883969354992,\n",
       " 'erw_per': 32.25770373670049,\n",
       " 'math_num': 358.7620094291532,\n",
       " 'math_per': 26.79398032204399}"
      ]
     },
     "execution_count": 36,
     "metadata": {},
     "output_type": "execute_result"
    }
   ],
   "source": [
    "sd"
   ]
  },
  {
   "cell_type": "markdown",
   "metadata": {},
   "source": [
    "#### Add a nother feature to help us better understand the difference between each district"
   ]
  },
  {
   "cell_type": "code",
   "execution_count": 37,
   "metadata": {},
   "outputs": [],
   "source": [
    "df['taken_per'] = df['num_taken'] / df['num_student'] "
   ]
  },
  {
   "cell_type": "markdown",
   "metadata": {},
   "source": [
    "Check if there is any district has more number of student taken SAT than number of student in 12th grade."
   ]
  },
  {
   "cell_type": "code",
   "execution_count": 40,
   "metadata": {},
   "outputs": [
    {
     "data": {
      "text/html": [
       "<div>\n",
       "<style scoped>\n",
       "    .dataframe tbody tr th:only-of-type {\n",
       "        vertical-align: middle;\n",
       "    }\n",
       "\n",
       "    .dataframe tbody tr th {\n",
       "        vertical-align: top;\n",
       "    }\n",
       "\n",
       "    .dataframe thead th {\n",
       "        text-align: right;\n",
       "    }\n",
       "</style>\n",
       "<table border=\"1\" class=\"dataframe\">\n",
       "  <thead>\n",
       "    <tr style=\"text-align: right;\">\n",
       "      <th></th>\n",
       "      <th>code</th>\n",
       "      <th>name</th>\n",
       "      <th>num_student</th>\n",
       "      <th>num_taken</th>\n",
       "      <th>erw_num</th>\n",
       "      <th>erw_per</th>\n",
       "      <th>math_num</th>\n",
       "      <th>math_per</th>\n",
       "      <th>taken_per</th>\n",
       "    </tr>\n",
       "  </thead>\n",
       "  <tbody>\n",
       "  </tbody>\n",
       "</table>\n",
       "</div>"
      ],
      "text/plain": [
       "Empty DataFrame\n",
       "Columns: [code, name, num_student, num_taken, erw_num, erw_per, math_num, math_per, taken_per]\n",
       "Index: []"
      ]
     },
     "execution_count": 40,
     "metadata": {},
     "output_type": "execute_result"
    }
   ],
   "source": [
    "df[df['num_taken'] > df['num_student']]"
   ]
  },
  {
   "cell_type": "markdown",
   "metadata": {},
   "source": [
    "Good news, there is no such record."
   ]
  },
  {
   "cell_type": "markdown",
   "metadata": {},
   "source": [
    "Check if there any duplicates"
   ]
  },
  {
   "cell_type": "code",
   "execution_count": 41,
   "metadata": {},
   "outputs": [
    {
     "data": {
      "text/plain": [
       "True"
      ]
     },
     "execution_count": 41,
     "metadata": {},
     "output_type": "execute_result"
    }
   ],
   "source": [
    "df['code'].nunique() == len(df)"
   ]
  },
  {
   "cell_type": "markdown",
   "metadata": {},
   "source": [
    "Each row is a unique district record, there is no duplicates"
   ]
  },
  {
   "cell_type": "code",
   "execution_count": 43,
   "metadata": {},
   "outputs": [
    {
     "data": {
      "text/html": [
       "<div>\n",
       "<style scoped>\n",
       "    .dataframe tbody tr th:only-of-type {\n",
       "        vertical-align: middle;\n",
       "    }\n",
       "\n",
       "    .dataframe tbody tr th {\n",
       "        vertical-align: top;\n",
       "    }\n",
       "\n",
       "    .dataframe thead th {\n",
       "        text-align: right;\n",
       "    }\n",
       "</style>\n",
       "<table border=\"1\" class=\"dataframe\">\n",
       "  <thead>\n",
       "    <tr style=\"text-align: right;\">\n",
       "      <th></th>\n",
       "      <th>count</th>\n",
       "      <th>mean</th>\n",
       "      <th>std</th>\n",
       "      <th>min</th>\n",
       "      <th>25%</th>\n",
       "      <th>50%</th>\n",
       "      <th>75%</th>\n",
       "      <th>max</th>\n",
       "    </tr>\n",
       "  </thead>\n",
       "  <tbody>\n",
       "    <tr>\n",
       "      <td>code</td>\n",
       "      <td>501.0</td>\n",
       "      <td>2.974097e+06</td>\n",
       "      <td>1.548312e+06</td>\n",
       "      <td>110017.000000</td>\n",
       "      <td>1.864162e+06</td>\n",
       "      <td>3.066647e+06</td>\n",
       "      <td>4.168924e+06</td>\n",
       "      <td>5872769.00</td>\n",
       "    </tr>\n",
       "    <tr>\n",
       "      <td>num_student</td>\n",
       "      <td>501.0</td>\n",
       "      <td>9.720120e+02</td>\n",
       "      <td>2.232984e+03</td>\n",
       "      <td>2.000000</td>\n",
       "      <td>1.400000e+02</td>\n",
       "      <td>3.830000e+02</td>\n",
       "      <td>1.136000e+03</td>\n",
       "      <td>41873.00</td>\n",
       "    </tr>\n",
       "    <tr>\n",
       "      <td>num_taken</td>\n",
       "      <td>501.0</td>\n",
       "      <td>3.401277e+02</td>\n",
       "      <td>1.011470e+03</td>\n",
       "      <td>1.000000</td>\n",
       "      <td>2.700000e+01</td>\n",
       "      <td>9.200000e+01</td>\n",
       "      <td>3.560000e+02</td>\n",
       "      <td>19988.00</td>\n",
       "    </tr>\n",
       "    <tr>\n",
       "      <td>erw_num</td>\n",
       "      <td>501.0</td>\n",
       "      <td>2.316387e+02</td>\n",
       "      <td>5.661537e+02</td>\n",
       "      <td>0.000000</td>\n",
       "      <td>1.800000e+01</td>\n",
       "      <td>6.600000e+01</td>\n",
       "      <td>2.780000e+02</td>\n",
       "      <td>10448.00</td>\n",
       "    </tr>\n",
       "    <tr>\n",
       "      <td>erw_per</td>\n",
       "      <td>501.0</td>\n",
       "      <td>5.874543e+01</td>\n",
       "      <td>3.228995e+01</td>\n",
       "      <td>0.000000</td>\n",
       "      <td>4.450000e+01</td>\n",
       "      <td>6.955000e+01</td>\n",
       "      <td>8.340000e+01</td>\n",
       "      <td>100.00</td>\n",
       "    </tr>\n",
       "    <tr>\n",
       "      <td>math_num</td>\n",
       "      <td>501.0</td>\n",
       "      <td>1.623034e+02</td>\n",
       "      <td>3.591206e+02</td>\n",
       "      <td>0.000000</td>\n",
       "      <td>9.000000e+00</td>\n",
       "      <td>4.400000e+01</td>\n",
       "      <td>1.950000e+02</td>\n",
       "      <td>5981.00</td>\n",
       "    </tr>\n",
       "    <tr>\n",
       "      <td>math_per</td>\n",
       "      <td>501.0</td>\n",
       "      <td>3.983868e+01</td>\n",
       "      <td>2.682076e+01</td>\n",
       "      <td>0.000000</td>\n",
       "      <td>1.920000e+01</td>\n",
       "      <td>4.011000e+01</td>\n",
       "      <td>6.008000e+01</td>\n",
       "      <td>93.33</td>\n",
       "    </tr>\n",
       "    <tr>\n",
       "      <td>taken_per</td>\n",
       "      <td>501.0</td>\n",
       "      <td>2.992615e-01</td>\n",
       "      <td>1.704152e-01</td>\n",
       "      <td>0.002611</td>\n",
       "      <td>2.067039e-01</td>\n",
       "      <td>2.871012e-01</td>\n",
       "      <td>3.652531e-01</td>\n",
       "      <td>1.00</td>\n",
       "    </tr>\n",
       "  </tbody>\n",
       "</table>\n",
       "</div>"
      ],
      "text/plain": [
       "             count          mean           std            min           25%  \\\n",
       "code         501.0  2.974097e+06  1.548312e+06  110017.000000  1.864162e+06   \n",
       "num_student  501.0  9.720120e+02  2.232984e+03       2.000000  1.400000e+02   \n",
       "num_taken    501.0  3.401277e+02  1.011470e+03       1.000000  2.700000e+01   \n",
       "erw_num      501.0  2.316387e+02  5.661537e+02       0.000000  1.800000e+01   \n",
       "erw_per      501.0  5.874543e+01  3.228995e+01       0.000000  4.450000e+01   \n",
       "math_num     501.0  1.623034e+02  3.591206e+02       0.000000  9.000000e+00   \n",
       "math_per     501.0  3.983868e+01  2.682076e+01       0.000000  1.920000e+01   \n",
       "taken_per    501.0  2.992615e-01  1.704152e-01       0.002611  2.067039e-01   \n",
       "\n",
       "                      50%           75%         max  \n",
       "code         3.066647e+06  4.168924e+06  5872769.00  \n",
       "num_student  3.830000e+02  1.136000e+03    41873.00  \n",
       "num_taken    9.200000e+01  3.560000e+02    19988.00  \n",
       "erw_num      6.600000e+01  2.780000e+02    10448.00  \n",
       "erw_per      6.955000e+01  8.340000e+01      100.00  \n",
       "math_num     4.400000e+01  1.950000e+02     5981.00  \n",
       "math_per     4.011000e+01  6.008000e+01       93.33  \n",
       "taken_per    2.871012e-01  3.652531e-01        1.00  "
      ]
     },
     "execution_count": 43,
     "metadata": {},
     "output_type": "execute_result"
    }
   ],
   "source": [
    "df.describe().T"
   ]
  },
  {
   "cell_type": "code",
   "execution_count": 44,
   "metadata": {},
   "outputs": [
    {
     "data": {
      "text/html": [
       "<div>\n",
       "<style scoped>\n",
       "    .dataframe tbody tr th:only-of-type {\n",
       "        vertical-align: middle;\n",
       "    }\n",
       "\n",
       "    .dataframe tbody tr th {\n",
       "        vertical-align: top;\n",
       "    }\n",
       "\n",
       "    .dataframe thead th {\n",
       "        text-align: right;\n",
       "    }\n",
       "</style>\n",
       "<table border=\"1\" class=\"dataframe\">\n",
       "  <thead>\n",
       "    <tr style=\"text-align: right;\">\n",
       "      <th></th>\n",
       "      <th>code</th>\n",
       "      <th>name</th>\n",
       "      <th>num_student</th>\n",
       "      <th>num_taken</th>\n",
       "      <th>erw_num</th>\n",
       "      <th>erw_per</th>\n",
       "      <th>math_num</th>\n",
       "      <th>math_per</th>\n",
       "      <th>taken_per</th>\n",
       "    </tr>\n",
       "  </thead>\n",
       "  <tbody>\n",
       "    <tr>\n",
       "      <td>296</td>\n",
       "      <td>1964733.0</td>\n",
       "      <td>Los Angeles Unified</td>\n",
       "      <td>41873.0</td>\n",
       "      <td>19988.0</td>\n",
       "      <td>10448</td>\n",
       "      <td>52.27</td>\n",
       "      <td>5981</td>\n",
       "      <td>29.92</td>\n",
       "      <td>0.477348</td>\n",
       "    </tr>\n",
       "  </tbody>\n",
       "</table>\n",
       "</div>"
      ],
      "text/plain": [
       "          code                 name  num_student  num_taken  erw_num  erw_per  \\\n",
       "296  1964733.0  Los Angeles Unified      41873.0    19988.0    10448    52.27   \n",
       "\n",
       "     math_num  math_per  taken_per  \n",
       "296      5981     29.92   0.477348  "
      ]
     },
     "execution_count": 44,
     "metadata": {},
     "output_type": "execute_result"
    }
   ],
   "source": [
    "df[df['num_student'] == 41873]"
   ]
  },
  {
   "cell_type": "code",
   "execution_count": 45,
   "metadata": {},
   "outputs": [
    {
     "data": {
      "text/html": [
       "<div>\n",
       "<style scoped>\n",
       "    .dataframe tbody tr th:only-of-type {\n",
       "        vertical-align: middle;\n",
       "    }\n",
       "\n",
       "    .dataframe tbody tr th {\n",
       "        vertical-align: top;\n",
       "    }\n",
       "\n",
       "    .dataframe thead th {\n",
       "        text-align: right;\n",
       "    }\n",
       "</style>\n",
       "<table border=\"1\" class=\"dataframe\">\n",
       "  <thead>\n",
       "    <tr style=\"text-align: right;\">\n",
       "      <th></th>\n",
       "      <th>code</th>\n",
       "      <th>name</th>\n",
       "      <th>num_student</th>\n",
       "      <th>num_taken</th>\n",
       "      <th>erw_num</th>\n",
       "      <th>erw_per</th>\n",
       "      <th>math_num</th>\n",
       "      <th>math_per</th>\n",
       "      <th>taken_per</th>\n",
       "    </tr>\n",
       "  </thead>\n",
       "  <tbody>\n",
       "    <tr>\n",
       "      <td>296</td>\n",
       "      <td>1964733.0</td>\n",
       "      <td>Los Angeles Unified</td>\n",
       "      <td>41873.0</td>\n",
       "      <td>19988.0</td>\n",
       "      <td>10448</td>\n",
       "      <td>52.27</td>\n",
       "      <td>5981</td>\n",
       "      <td>29.92</td>\n",
       "      <td>0.477348</td>\n",
       "    </tr>\n",
       "  </tbody>\n",
       "</table>\n",
       "</div>"
      ],
      "text/plain": [
       "          code                 name  num_student  num_taken  erw_num  erw_per  \\\n",
       "296  1964733.0  Los Angeles Unified      41873.0    19988.0    10448    52.27   \n",
       "\n",
       "     math_num  math_per  taken_per  \n",
       "296      5981     29.92   0.477348  "
      ]
     },
     "execution_count": 45,
     "metadata": {},
     "output_type": "execute_result"
    }
   ],
   "source": [
    "df[df['num_taken'] == 19988]"
   ]
  },
  {
   "cell_type": "markdown",
   "metadata": {},
   "source": [
    "Los Angeles Unified is a very large district, so it has largest population of students"
   ]
  },
  {
   "cell_type": "code",
   "execution_count": 46,
   "metadata": {},
   "outputs": [
    {
     "data": {
      "text/html": [
       "<div>\n",
       "<style scoped>\n",
       "    .dataframe tbody tr th:only-of-type {\n",
       "        vertical-align: middle;\n",
       "    }\n",
       "\n",
       "    .dataframe tbody tr th {\n",
       "        vertical-align: top;\n",
       "    }\n",
       "\n",
       "    .dataframe thead th {\n",
       "        text-align: right;\n",
       "    }\n",
       "</style>\n",
       "<table border=\"1\" class=\"dataframe\">\n",
       "  <thead>\n",
       "    <tr style=\"text-align: right;\">\n",
       "      <th></th>\n",
       "      <th>code</th>\n",
       "      <th>name</th>\n",
       "      <th>num_student</th>\n",
       "      <th>num_taken</th>\n",
       "      <th>erw_num</th>\n",
       "      <th>erw_per</th>\n",
       "      <th>math_num</th>\n",
       "      <th>math_per</th>\n",
       "      <th>taken_per</th>\n",
       "    </tr>\n",
       "  </thead>\n",
       "  <tbody>\n",
       "    <tr>\n",
       "      <td>64</td>\n",
       "      <td>1275382.0</td>\n",
       "      <td>Mattole Unified</td>\n",
       "      <td>3.0</td>\n",
       "      <td>3.0</td>\n",
       "      <td>0</td>\n",
       "      <td>0.0</td>\n",
       "      <td>0</td>\n",
       "      <td>0.0</td>\n",
       "      <td>1.0</td>\n",
       "    </tr>\n",
       "    <tr>\n",
       "      <td>221</td>\n",
       "      <td>1463297.0</td>\n",
       "      <td>Owens Valley Unified</td>\n",
       "      <td>2.0</td>\n",
       "      <td>2.0</td>\n",
       "      <td>0</td>\n",
       "      <td>0.0</td>\n",
       "      <td>0</td>\n",
       "      <td>0.0</td>\n",
       "      <td>1.0</td>\n",
       "    </tr>\n",
       "    <tr>\n",
       "      <td>414</td>\n",
       "      <td>5071167.0</td>\n",
       "      <td>Modesto City Elementary</td>\n",
       "      <td>3.0</td>\n",
       "      <td>3.0</td>\n",
       "      <td>0</td>\n",
       "      <td>0.0</td>\n",
       "      <td>0</td>\n",
       "      <td>0.0</td>\n",
       "      <td>1.0</td>\n",
       "    </tr>\n",
       "  </tbody>\n",
       "</table>\n",
       "</div>"
      ],
      "text/plain": [
       "          code                     name  num_student  num_taken  erw_num  \\\n",
       "64   1275382.0          Mattole Unified          3.0        3.0        0   \n",
       "221  1463297.0     Owens Valley Unified          2.0        2.0        0   \n",
       "414  5071167.0  Modesto City Elementary          3.0        3.0        0   \n",
       "\n",
       "     erw_per  math_num  math_per  taken_per  \n",
       "64       0.0         0       0.0        1.0  \n",
       "221      0.0         0       0.0        1.0  \n",
       "414      0.0         0       0.0        1.0  "
      ]
     },
     "execution_count": 46,
     "metadata": {},
     "output_type": "execute_result"
    }
   ],
   "source": [
    "df[df['taken_per'] == 1]"
   ]
  },
  {
   "cell_type": "markdown",
   "metadata": {},
   "source": [
    "These 3 districts has a very small students population. However, 100% percentage of 12th grade student took SAT test."
   ]
  },
  {
   "cell_type": "markdown",
   "metadata": {},
   "source": [
    "## Visualize the Data\n"
   ]
  },
  {
   "cell_type": "code",
   "execution_count": null,
   "metadata": {},
   "outputs": [],
   "source": [
    "# fig, (num_student, num_taken, erw_number, math_number) = plt.subplots(1, 4,figsize=(20,5))\n",
    "\n",
    "# num_student.boxplot(data_merge['num_student']);\n",
    "# num_student.set_xlabel('num_student');\n",
    "\n",
    "# num_taken.boxplot(data_merge['num_taken']);\n",
    "# num_taken.set_xlabel('num_taken');\n",
    "\n",
    "\n",
    "# erw_number.boxplot(data_merge['erw_num']);\n",
    "# erw_number.set_xlabel('erw_num');\n",
    "\n",
    "# math_number.boxplot(data_merge['math_num']);\n",
    "# math_number.set_xlabel('math_num');"
   ]
  },
  {
   "cell_type": "markdown",
   "metadata": {},
   "source": [
    "Change percentage to decimals"
   ]
  },
  {
   "cell_type": "code",
   "execution_count": 47,
   "metadata": {},
   "outputs": [],
   "source": [
    "df['math_per'] = df['math_per']/100\n",
    "df['erw_per'] = df['erw_per']/100"
   ]
  },
  {
   "cell_type": "code",
   "execution_count": 48,
   "metadata": {},
   "outputs": [
    {
     "data": {
      "image/png": "[encoded data removed]",
      "text/plain": [
       "<Figure size 1440x360 with 3 Axes>"
      ]
     },
     "metadata": {
      "needs_background": "light"
     },
     "output_type": "display_data"
    }
   ],
   "source": [
    "fig, (taken_per, erw_per, math_per) = plt.subplots(1, 3,figsize=(20,5))\n",
    "\n",
    "taken_per.boxplot(df['taken_per']);\n",
    "taken_per.set_xlabel('taken_per');\n",
    "\n",
    "erw_per.boxplot(df['erw_per']);\n",
    "erw_per.set_xlabel('erw_per')\n",
    "\n",
    "\n",
    "math_per.boxplot(df['math_per']);\n",
    "math_per.set_xlabel('math_per');"
   ]
  },
  {
   "cell_type": "markdown",
   "metadata": {},
   "source": [
    "Taken_per has many outliers on the top. Take a closer look. Method credit to [**here**](https://datascience.stackexchange.com/questions/54808/how-to-remove-outliers-using-box-plot)\n"
   ]
  },
  {
   "cell_type": "code",
   "execution_count": 49,
   "metadata": {},
   "outputs": [
    {
     "data": {
      "text/html": [
       "<div>\n",
       "<style scoped>\n",
       "    .dataframe tbody tr th:only-of-type {\n",
       "        vertical-align: middle;\n",
       "    }\n",
       "\n",
       "    .dataframe tbody tr th {\n",
       "        vertical-align: top;\n",
       "    }\n",
       "\n",
       "    .dataframe thead th {\n",
       "        text-align: right;\n",
       "    }\n",
       "</style>\n",
       "<table border=\"1\" class=\"dataframe\">\n",
       "  <thead>\n",
       "    <tr style=\"text-align: right;\">\n",
       "      <th></th>\n",
       "      <th>num_student</th>\n",
       "      <th>num_taken</th>\n",
       "      <th>taken_per</th>\n",
       "    </tr>\n",
       "  </thead>\n",
       "  <tbody>\n",
       "    <tr>\n",
       "      <td>221</td>\n",
       "      <td>2.0</td>\n",
       "      <td>2.0</td>\n",
       "      <td>1.000000</td>\n",
       "    </tr>\n",
       "    <tr>\n",
       "      <td>414</td>\n",
       "      <td>3.0</td>\n",
       "      <td>3.0</td>\n",
       "      <td>1.000000</td>\n",
       "    </tr>\n",
       "    <tr>\n",
       "      <td>64</td>\n",
       "      <td>3.0</td>\n",
       "      <td>3.0</td>\n",
       "      <td>1.000000</td>\n",
       "    </tr>\n",
       "    <tr>\n",
       "      <td>233</td>\n",
       "      <td>5.0</td>\n",
       "      <td>4.0</td>\n",
       "      <td>0.800000</td>\n",
       "    </tr>\n",
       "    <tr>\n",
       "      <td>13</td>\n",
       "      <td>6.0</td>\n",
       "      <td>5.0</td>\n",
       "      <td>0.833333</td>\n",
       "    </tr>\n",
       "    <tr>\n",
       "      <td>452</td>\n",
       "      <td>7.0</td>\n",
       "      <td>5.0</td>\n",
       "      <td>0.714286</td>\n",
       "    </tr>\n",
       "    <tr>\n",
       "      <td>428</td>\n",
       "      <td>10.0</td>\n",
       "      <td>7.0</td>\n",
       "      <td>0.700000</td>\n",
       "    </tr>\n",
       "    <tr>\n",
       "      <td>331</td>\n",
       "      <td>37.0</td>\n",
       "      <td>27.0</td>\n",
       "      <td>0.729730</td>\n",
       "    </tr>\n",
       "    <tr>\n",
       "      <td>488</td>\n",
       "      <td>65.0</td>\n",
       "      <td>42.0</td>\n",
       "      <td>0.646154</td>\n",
       "    </tr>\n",
       "    <tr>\n",
       "      <td>229</td>\n",
       "      <td>75.0</td>\n",
       "      <td>69.0</td>\n",
       "      <td>0.920000</td>\n",
       "    </tr>\n",
       "    <tr>\n",
       "      <td>266</td>\n",
       "      <td>126.0</td>\n",
       "      <td>95.0</td>\n",
       "      <td>0.753968</td>\n",
       "    </tr>\n",
       "    <tr>\n",
       "      <td>337</td>\n",
       "      <td>157.0</td>\n",
       "      <td>124.0</td>\n",
       "      <td>0.789809</td>\n",
       "    </tr>\n",
       "    <tr>\n",
       "      <td>143</td>\n",
       "      <td>242.0</td>\n",
       "      <td>149.0</td>\n",
       "      <td>0.615702</td>\n",
       "    </tr>\n",
       "    <tr>\n",
       "      <td>423</td>\n",
       "      <td>296.0</td>\n",
       "      <td>233.0</td>\n",
       "      <td>0.787162</td>\n",
       "    </tr>\n",
       "    <tr>\n",
       "      <td>465</td>\n",
       "      <td>735.0</td>\n",
       "      <td>577.0</td>\n",
       "      <td>0.785034</td>\n",
       "    </tr>\n",
       "    <tr>\n",
       "      <td>43</td>\n",
       "      <td>854.0</td>\n",
       "      <td>536.0</td>\n",
       "      <td>0.627635</td>\n",
       "    </tr>\n",
       "    <tr>\n",
       "      <td>363</td>\n",
       "      <td>1066.0</td>\n",
       "      <td>998.0</td>\n",
       "      <td>0.936210</td>\n",
       "    </tr>\n",
       "    <tr>\n",
       "      <td>345</td>\n",
       "      <td>1179.0</td>\n",
       "      <td>912.0</td>\n",
       "      <td>0.773537</td>\n",
       "    </tr>\n",
       "    <tr>\n",
       "      <td>226</td>\n",
       "      <td>1281.0</td>\n",
       "      <td>1000.0</td>\n",
       "      <td>0.780640</td>\n",
       "    </tr>\n",
       "    <tr>\n",
       "      <td>201</td>\n",
       "      <td>1403.0</td>\n",
       "      <td>1223.0</td>\n",
       "      <td>0.871703</td>\n",
       "    </tr>\n",
       "    <tr>\n",
       "      <td>37</td>\n",
       "      <td>1459.0</td>\n",
       "      <td>1110.0</td>\n",
       "      <td>0.760795</td>\n",
       "    </tr>\n",
       "    <tr>\n",
       "      <td>241</td>\n",
       "      <td>1641.0</td>\n",
       "      <td>1310.0</td>\n",
       "      <td>0.798294</td>\n",
       "    </tr>\n",
       "    <tr>\n",
       "      <td>115</td>\n",
       "      <td>1858.0</td>\n",
       "      <td>1195.0</td>\n",
       "      <td>0.643165</td>\n",
       "    </tr>\n",
       "    <tr>\n",
       "      <td>112</td>\n",
       "      <td>2261.0</td>\n",
       "      <td>1870.0</td>\n",
       "      <td>0.827068</td>\n",
       "    </tr>\n",
       "    <tr>\n",
       "      <td>408</td>\n",
       "      <td>2434.0</td>\n",
       "      <td>1788.0</td>\n",
       "      <td>0.734593</td>\n",
       "    </tr>\n",
       "    <tr>\n",
       "      <td>82</td>\n",
       "      <td>2481.0</td>\n",
       "      <td>1992.0</td>\n",
       "      <td>0.802902</td>\n",
       "    </tr>\n",
       "    <tr>\n",
       "      <td>357</td>\n",
       "      <td>2520.0</td>\n",
       "      <td>1770.0</td>\n",
       "      <td>0.702381</td>\n",
       "    </tr>\n",
       "    <tr>\n",
       "      <td>185</td>\n",
       "      <td>4063.0</td>\n",
       "      <td>2690.0</td>\n",
       "      <td>0.662072</td>\n",
       "    </tr>\n",
       "    <tr>\n",
       "      <td>205</td>\n",
       "      <td>4128.0</td>\n",
       "      <td>3149.0</td>\n",
       "      <td>0.762839</td>\n",
       "    </tr>\n",
       "    <tr>\n",
       "      <td>400</td>\n",
       "      <td>5929.0</td>\n",
       "      <td>3705.0</td>\n",
       "      <td>0.624895</td>\n",
       "    </tr>\n",
       "  </tbody>\n",
       "</table>\n",
       "</div>"
      ],
      "text/plain": [
       "     num_student  num_taken  taken_per\n",
       "221          2.0        2.0   1.000000\n",
       "414          3.0        3.0   1.000000\n",
       "64           3.0        3.0   1.000000\n",
       "233          5.0        4.0   0.800000\n",
       "13           6.0        5.0   0.833333\n",
       "452          7.0        5.0   0.714286\n",
       "428         10.0        7.0   0.700000\n",
       "331         37.0       27.0   0.729730\n",
       "488         65.0       42.0   0.646154\n",
       "229         75.0       69.0   0.920000\n",
       "266        126.0       95.0   0.753968\n",
       "337        157.0      124.0   0.789809\n",
       "143        242.0      149.0   0.615702\n",
       "423        296.0      233.0   0.787162\n",
       "465        735.0      577.0   0.785034\n",
       "43         854.0      536.0   0.627635\n",
       "363       1066.0      998.0   0.936210\n",
       "345       1179.0      912.0   0.773537\n",
       "226       1281.0     1000.0   0.780640\n",
       "201       1403.0     1223.0   0.871703\n",
       "37        1459.0     1110.0   0.760795\n",
       "241       1641.0     1310.0   0.798294\n",
       "115       1858.0     1195.0   0.643165\n",
       "112       2261.0     1870.0   0.827068\n",
       "408       2434.0     1788.0   0.734593\n",
       "82        2481.0     1992.0   0.802902\n",
       "357       2520.0     1770.0   0.702381\n",
       "185       4063.0     2690.0   0.662072\n",
       "205       4128.0     3149.0   0.762839\n",
       "400       5929.0     3705.0   0.624895"
      ]
     },
     "execution_count": 49,
     "metadata": {},
     "output_type": "execute_result"
    }
   ],
   "source": [
    "#############################\n",
    "taken_per_q1 = df['taken_per'].quantile(0.25)\n",
    "taken_per_q3 = df['taken_per'].quantile(0.75)\n",
    "taken_per_iqr = taken_per_q3 -taken_per_q1\n",
    "\n",
    "mask = (df['taken_per'] > (taken_per_q3 + 1.5 * taken_per_iqr))\n",
    "df[mask][['num_student','num_taken','taken_per']].sort_values(by='num_student')#.head(10)"
   ]
  },
  {
   "cell_type": "markdown",
   "metadata": {},
   "source": [
    "Take a look of the relations between each percentage value"
   ]
  },
  {
   "cell_type": "code",
   "execution_count": 50,
   "metadata": {},
   "outputs": [
    {
     "data": {
      "image/png": "[encoded data removed]",
      "text/plain": [
       "<Figure size 648x360 with 1 Axes>"
      ]
     },
     "metadata": {
      "needs_background": "light"
     },
     "output_type": "display_data"
    }
   ],
   "source": [
    "##############################\n",
    "plt.figure(figsize=(9,5))\n",
    "\n",
    "plt.scatter(df['math_per'],df['erw_per'],c = 'darkkhaki',marker= '.');\n",
    "plt.plot(0,0,c = 'r', marker = 'o');\n",
    "\n",
    "plt.title('% Meet or Exceed Benchmark for Math vs ERW');\n",
    "plt.xlabel('Math Percentage');\n",
    "plt.ylabel('ERW Percentage');"
   ]
  },
  {
   "cell_type": "markdown",
   "metadata": {},
   "source": [
    "It clearly shows that Math and ERW are highly correalted."
   ]
  },
  {
   "cell_type": "code",
   "execution_count": 51,
   "metadata": {},
   "outputs": [
    {
     "data": {
      "image/png": "[encoded data removed]",
      "text/plain": [
       "<Figure size 1080x360 with 2 Axes>"
      ]
     },
     "metadata": {
      "needs_background": "light"
     },
     "output_type": "display_data"
    }
   ],
   "source": [
    "#######################\n",
    "fig,(math_taken,erw_taken) = plt.subplots(1,2,figsize = (15,5))\n",
    "\n",
    "\n",
    "\n",
    "math_taken.scatter(df['math_per'],df['taken_per'],c = 'darkkhaki',marker= '.');\n",
    "erw_taken.scatter(df['erw_per'],df['taken_per'],c = 'darkkhaki',marker= '.');\n",
    "\n",
    "\n",
    "\n",
    "math_taken.set_title('% Meet or Exceed Benchmark for Math vs % Taken SAT');\n",
    "erw_taken.set_title('% Meet or Exceed Benchmark for ERW vs % Taken SAT');\n",
    "\n",
    "math_taken.set_xlabel('Math Percentage');\n",
    "math_taken.set_ylabel('Taken Percentage');\n",
    "\n",
    "erw_taken.set_xlabel('ERW Percentage');\n",
    "erw_taken.set_ylabel('Taken Percentage');"
   ]
  },
  {
   "cell_type": "markdown",
   "metadata": {},
   "source": [
    "It clearly shows that taken percentage is not correlated with either math_per nor erw_oer, also, there is a strange pattern on both plots. It might be the result of outliers."
   ]
  },
  {
   "cell_type": "markdown",
   "metadata": {},
   "source": [
    "### Visualize the percentage on map"
   ]
  },
  {
   "cell_type": "code",
   "execution_count": 53,
   "metadata": {},
   "outputs": [],
   "source": [
    "path = \"../data/shape file/California_School_District_Areas_2018-19-shp\"\n",
    "\n",
    "ca_geo = geopandas.read_file(path)"
   ]
  },
  {
   "cell_type": "code",
   "execution_count": 54,
   "metadata": {},
   "outputs": [],
   "source": [
    "ca_geo['CDCode'] = ca_geo['CDCode'].astype('float')"
   ]
  },
  {
   "cell_type": "code",
   "execution_count": 55,
   "metadata": {},
   "outputs": [],
   "source": [
    "data_merge = ca_geo.merge(df, left_on = 'CDCode', right_on = 'code')"
   ]
  },
  {
   "cell_type": "code",
   "execution_count": 63,
   "metadata": {},
   "outputs": [
    {
     "data": {
      "image/png": "[encoded data removed]",
      "text/plain": [
       "<Figure size 936x936 with 1 Axes>"
      ]
     },
     "metadata": {
      "needs_background": "light"
     },
     "output_type": "display_data"
    }
   ],
   "source": [
    "data_merge.plot(column='math_per',legend=True, figsize = (13,13) ,scheme=\"Quantiles\");"
   ]
  },
  {
   "cell_type": "markdown",
   "metadata": {},
   "source": [
    "## Conclusions and Recommendations"
   ]
  },
  {
   "cell_type": "markdown",
   "metadata": {},
   "source": [
    "Students who lived high income areas tend to have higher SAT scores. But more data need to prove."
   ]
  }
 ],
 "metadata": {
  "anaconda-cloud": {},
  "kernelspec": {
   "display_name": "Python 3",
   "language": "python",
   "name": "python3"
  },
  "language_info": {
   "codemirror_mode": {
    "name": "ipython",
    "version": 3
   },
   "file_extension": ".py",
   "mimetype": "text/x-python",
   "name": "python",
   "nbconvert_exporter": "python",
   "pygments_lexer": "ipython3",
   "version": "3.7.4"
  }
 },
 "nbformat": 4,
 "nbformat_minor": 4
}
