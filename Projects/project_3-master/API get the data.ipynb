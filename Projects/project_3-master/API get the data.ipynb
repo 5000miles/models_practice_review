{
 "cells": [
  {
   "cell_type": "code",
   "execution_count": 25,
   "metadata": {},
   "outputs": [],
   "source": [
    "import pandas as pd\n",
    "import numpy as np\n",
    "import requests\n",
    "import time"
   ]
  },
  {
   "cell_type": "markdown",
   "metadata": {},
   "source": [
    "### API"
   ]
  },
  {
   "cell_type": "code",
   "execution_count": 170,
   "metadata": {},
   "outputs": [],
   "source": [
    "def get_submissions(subreddit, n_iter, epoch_right_now):\n",
    "    base_url = 'https://api.pushshift.io/reddit/search/submission?subreddit='\n",
    "    \n",
    "    df_list = []\n",
    "    \n",
    "    current_time = epoch_right_now\n",
    "    \n",
    "    for post in range(n_iter):\n",
    "        res = requests.get(base_url,params = {'subreddit':subreddit,'size':100, 'lang':100, 'before':current_time,'selftext:not':'[removed]','q:not':'[deleted]'})\n",
    "    \n",
    "        df = pd.DataFrame(res.json()['data'])\n",
    "        \n",
    "        df= df.loc[:, ['title','created_utc','selftext','subreddit','author','media_only','permalink']]\n",
    "        \n",
    "        df_list.append(df)\n",
    "        \n",
    "        # sleep 5 seconds after each request\n",
    "        time.sleep(5)\n",
    "        \n",
    "        current_time = df['created_utc'].min()\n",
    "        \n",
    "    return pd.concat(df_list, axis=0)"
   ]
  },
  {
   "cell_type": "markdown",
   "metadata": {},
   "source": [
    "---\n",
    "### get the data"
   ]
  },
  {
   "cell_type": "code",
   "execution_count": 215,
   "metadata": {},
   "outputs": [],
   "source": [
    "math_submissions = get_submissions('math',50,1617047153)"
   ]
  },
  {
   "cell_type": "code",
   "execution_count": 264,
   "metadata": {},
   "outputs": [],
   "source": [
    "math_submissions.to_csv('math_submissions.csv',index=False)"
   ]
  },
  {
   "cell_type": "code",
   "execution_count": 171,
   "metadata": {},
   "outputs": [],
   "source": [
    "physics_submissions = get_submissions('Physics',50,1617047153)"
   ]
  },
  {
   "cell_type": "code",
   "execution_count": 172,
   "metadata": {},
   "outputs": [],
   "source": [
    "physics_submissions.to_csv('physics_submissions.csv',index=False)"
   ]
  },
  {
   "cell_type": "markdown",
   "metadata": {},
   "source": [
    "### Take a look of the removed post, comparing with the data wihout removed posts"
   ]
  },
  {
   "cell_type": "code",
   "execution_count": 609,
   "metadata": {},
   "outputs": [],
   "source": [
    "# get removed posts, the previous API exclude removed data, \n",
    "# this API will only include removed API\n",
    "def get_submissions_removed(subreddit, n_iter, epoch_right_now):\n",
    "    base_url = 'https://api.pushshift.io/reddit/search/submission?subreddit='\n",
    "    \n",
    "    df_list = []\n",
    "    \n",
    "    current_time = epoch_right_now\n",
    "    \n",
    "    for post in range(n_iter):\n",
    "        res = requests.get(base_url,params = {'subreddit':subreddit,'size':100, 'lang':100, 'before':current_time,'selftext':'[removed]'})\n",
    "    \n",
    "        df = pd.DataFrame(res.json()['data'])\n",
    "        \n",
    "        df= df.loc[:, ['title','created_utc','selftext','subreddit','author','media_only','permalink']]\n",
    "        \n",
    "        df_list.append(df)\n",
    "        \n",
    "        time.sleep(5)\n",
    "        \n",
    "        current_time = df['created_utc'].min()\n",
    "        \n",
    "    return pd.concat(df_list, axis=0)\n",
    "\n",
    "math_submissions_removed =  get_submissions_removed('math',50,1617047153)"
   ]
  },
  {
   "cell_type": "code",
   "execution_count": 610,
   "metadata": {},
   "outputs": [],
   "source": [
    "math_submissions_removed.to_csv('math_submissions_removed.csv',index=False)"
   ]
  },
  {
   "cell_type": "markdown",
   "metadata": {},
   "source": [
    "---"
   ]
  }
 ],
 "metadata": {
  "kernelspec": {
   "display_name": "Python 3",
   "language": "python",
   "name": "python3"
  },
  "language_info": {
   "codemirror_mode": {
    "name": "ipython",
    "version": 3
   },
   "file_extension": ".py",
   "mimetype": "text/x-python",
   "name": "python",
   "nbconvert_exporter": "python",
   "pygments_lexer": "ipython3",
   "version": "3.7.4"
  }
 },
 "nbformat": 4,
 "nbformat_minor": 4
}
