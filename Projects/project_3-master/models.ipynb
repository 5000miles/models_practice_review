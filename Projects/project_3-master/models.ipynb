{
 "cells": [
  {
   "cell_type": "code",
   "execution_count": 39,
   "metadata": {},
   "outputs": [],
   "source": [
    "import pandas as pd\n",
    "import numpy as np\n",
    "import random\n",
    "\n",
    "from sklearn.feature_extraction.text import TfidfVectorizer\n",
    "from sklearn.model_selection import GridSearchCV\n",
    "from sklearn.ensemble import RandomForestClassifier, ExtraTreesClassifier, AdaBoostClassifier\n",
    "from sklearn.linear_model import LogisticRegression\n",
    "from sklearn.pipeline import Pipeline\n",
    "from sklearn.svm import SVC\n",
    "from sklearn.tree import DecisionTreeClassifier\n",
    "from sklearn.naive_bayes import MultinomialNB,BernoulliNB\n",
    "from sklearn.metrics import confusion_matrix,precision_score,recall_score\n",
    "import pickle"
   ]
  },
  {
   "cell_type": "code",
   "execution_count": 2,
   "metadata": {},
   "outputs": [],
   "source": [
    "%store -r X_train_1\n",
    "%store -r X_test_1\n",
    "%store -r y_train_1\n",
    "%store -r y_test_1"
   ]
  },
  {
   "cell_type": "code",
   "execution_count": 3,
   "metadata": {},
   "outputs": [
    {
     "name": "stdout",
     "output_type": "stream",
     "text": [
      "no stored variable X_train_2\n",
      "no stored variable X_test_2\n",
      "no stored variable y_train_2\n",
      "no stored variable y_test_2\n"
     ]
    }
   ],
   "source": [
    "%store -r X_train_2\n",
    "%store -r X_test_2\n",
    "%store -r y_train_2\n",
    "%store -r y_test_2"
   ]
  },
  {
   "cell_type": "markdown",
   "metadata": {},
   "source": [
    "### 1st model, logistic regression"
   ]
  },
  {
   "cell_type": "code",
   "execution_count": 18,
   "metadata": {},
   "outputs": [],
   "source": [
    "pipe_1 = Pipeline([('tvec', TfidfVectorizer()),\n",
    "                  ('logreg', LogisticRegression())])"
   ]
  },
  {
   "cell_type": "code",
   "execution_count": 19,
   "metadata": {},
   "outputs": [],
   "source": [
    "# pipe_1.get_params()"
   ]
  },
  {
   "cell_type": "code",
   "execution_count": 20,
   "metadata": {},
   "outputs": [],
   "source": [
    "pipe_1_params = {\n",
    "    'tvec__min_df':[2,3],\n",
    "    'tvec__max_features':[6000,7000,8000],\n",
    "    'tvec__stop_words':['english',None],\n",
    "    'logreg__C':[1.3,1.35]\n",
    "}"
   ]
  },
  {
   "cell_type": "code",
   "execution_count": 21,
   "metadata": {},
   "outputs": [],
   "source": [
    "pipe_1_gs = GridSearchCV(pipe_1,pipe_1_params,cv=5,verbose=1)"
   ]
  },
  {
   "cell_type": "code",
   "execution_count": 22,
   "metadata": {},
   "outputs": [
    {
     "name": "stdout",
     "output_type": "stream",
     "text": [
      "Fitting 5 folds for each of 24 candidates, totalling 120 fits\n"
     ]
    },
    {
     "data": {
      "text/plain": [
       "GridSearchCV(cv=5,\n",
       "             estimator=Pipeline(steps=[('tvec', TfidfVectorizer()),\n",
       "                                       ('logreg', LogisticRegression())]),\n",
       "             param_grid={'logreg__C': [1.3, 1.35],\n",
       "                         'tvec__max_features': [6000, 7000, 8000],\n",
       "                         'tvec__min_df': [2, 3],\n",
       "                         'tvec__stop_words': ['english', None]},\n",
       "             verbose=1)"
      ]
     },
     "execution_count": 22,
     "metadata": {},
     "output_type": "execute_result"
    }
   ],
   "source": [
    "pipe_1_gs.fit(X_train_1,y_train_1)"
   ]
  },
  {
   "cell_type": "code",
   "execution_count": 31,
   "metadata": {},
   "outputs": [],
   "source": [
    "# pickle.dump(pipe_1_gs, open('project3.pkl', 'wb'))"
   ]
  },
  {
   "cell_type": "code",
   "execution_count": 23,
   "metadata": {},
   "outputs": [
    {
     "data": {
      "text/plain": [
       "Pipeline(steps=[('tvec',\n",
       "                 TfidfVectorizer(max_features=6000, min_df=2,\n",
       "                                 stop_words='english')),\n",
       "                ('logreg', LogisticRegression(C=1.3))])"
      ]
     },
     "execution_count": 23,
     "metadata": {},
     "output_type": "execute_result"
    }
   ],
   "source": [
    "pipe_1_gs.best_estimator_"
   ]
  },
  {
   "cell_type": "code",
   "execution_count": 494,
   "metadata": {},
   "outputs": [
    {
     "data": {
      "text/plain": [
       "0.8765333333333334"
      ]
     },
     "execution_count": 494,
     "metadata": {},
     "output_type": "execute_result"
    }
   ],
   "source": [
    "pipe_1_gs.best_score_"
   ]
  },
  {
   "cell_type": "code",
   "execution_count": 735,
   "metadata": {},
   "outputs": [
    {
     "data": {
      "text/plain": [
       "(0.9326666666666666, 0.8824)"
      ]
     },
     "execution_count": 735,
     "metadata": {},
     "output_type": "execute_result"
    }
   ],
   "source": [
    "pipe_1_gs.score(X_train_1,y_train_1),pipe_1_gs.score(X_test_1,y_test_1)"
   ]
  },
  {
   "cell_type": "markdown",
   "metadata": {},
   "source": [
    "### 2nd Model: Random Forest"
   ]
  },
  {
   "cell_type": "code",
   "execution_count": 648,
   "metadata": {},
   "outputs": [],
   "source": [
    "pipe_2 = Pipeline([('tvec',TfidfVectorizer()),\n",
    "                   ('rf',RandomForestClassifier(n_jobs=-1))])"
   ]
  },
  {
   "cell_type": "code",
   "execution_count": 649,
   "metadata": {},
   "outputs": [],
   "source": [
    "# pipe_2.get_params()"
   ]
  },
  {
   "cell_type": "code",
   "execution_count": 651,
   "metadata": {},
   "outputs": [],
   "source": [
    "pipe_2_params = {\n",
    "#     'tvec__min_df':[1,2,3],\n",
    "    'tvec__max_features':[3000,4000],\n",
    "    'tvec__stop_words':['english'],\n",
    "#     'tvec__ngram_range':[(1,1),(2,2)],\n",
    "    'rf__n_estimators':[800,900]\n",
    "#     'rf__max_depth':[None,3,5],\n",
    "#     'rf__min_samples_leaf':[1,2]\n",
    "}"
   ]
  },
  {
   "cell_type": "code",
   "execution_count": 652,
   "metadata": {},
   "outputs": [],
   "source": [
    "pipe_2_gs = GridSearchCV(pipe_2,pipe_2_params,cv=5,verbose=1)"
   ]
  },
  {
   "cell_type": "code",
   "execution_count": 653,
   "metadata": {},
   "outputs": [
    {
     "name": "stdout",
     "output_type": "stream",
     "text": [
      "Fitting 5 folds for each of 4 candidates, totalling 20 fits\n"
     ]
    },
    {
     "data": {
      "text/plain": [
       "GridSearchCV(cv=5,\n",
       "             estimator=Pipeline(steps=[('tvec', TfidfVectorizer()),\n",
       "                                       ('rf',\n",
       "                                        RandomForestClassifier(n_jobs=-1))]),\n",
       "             param_grid={'rf__n_estimators': [800, 900],\n",
       "                         'tvec__max_features': [3000, 4000],\n",
       "                         'tvec__stop_words': ['english']},\n",
       "             verbose=1)"
      ]
     },
     "execution_count": 653,
     "metadata": {},
     "output_type": "execute_result"
    }
   ],
   "source": [
    "pipe_2_gs.fit(X_train_1,y_train_1)"
   ]
  },
  {
   "cell_type": "code",
   "execution_count": 654,
   "metadata": {},
   "outputs": [
    {
     "data": {
      "text/plain": [
       "0.9837333333333333"
      ]
     },
     "execution_count": 654,
     "metadata": {},
     "output_type": "execute_result"
    }
   ],
   "source": [
    "pipe_2_gs.score(X_train_1,y_train_1)"
   ]
  },
  {
   "cell_type": "code",
   "execution_count": 655,
   "metadata": {},
   "outputs": [
    {
     "data": {
      "text/plain": [
       "0.8652"
      ]
     },
     "execution_count": 655,
     "metadata": {},
     "output_type": "execute_result"
    }
   ],
   "source": [
    "pipe_2_gs.score(X_test_1,y_test_1)"
   ]
  },
  {
   "cell_type": "code",
   "execution_count": 883,
   "metadata": {},
   "outputs": [],
   "source": [
    "# pipe_2_gs.best_estimator_"
   ]
  },
  {
   "cell_type": "markdown",
   "metadata": {},
   "source": [
    "### 2.1 AdaBoost"
   ]
  },
  {
   "cell_type": "code",
   "execution_count": 37,
   "metadata": {},
   "outputs": [
    {
     "ename": "NameError",
     "evalue": "name 'AdaBoostClassifier' is not defined",
     "output_type": "error",
     "traceback": [
      "\u001b[0;31m---------------------------------------------------------------------------\u001b[0m",
      "\u001b[0;31mNameError\u001b[0m                                 Traceback (most recent call last)",
      "\u001b[0;32m<ipython-input-37-822321a4b824>\u001b[0m in \u001b[0;36m<module>\u001b[0;34m\u001b[0m\n\u001b[1;32m      1\u001b[0m pipe_2_1 = Pipeline([('tvec',TfidfVectorizer()),\n\u001b[0;32m----> 2\u001b[0;31m                    ('ad',AdaBoostClassifier())])\n\u001b[0m",
      "\u001b[0;31mNameError\u001b[0m: name 'AdaBoostClassifier' is not defined"
     ]
    }
   ],
   "source": [
    "pipe_2_1 = Pipeline([('tvec',TfidfVectorizer()),\n",
    "                   ('ad',AdaBoostClassifier())])"
   ]
  },
  {
   "cell_type": "code",
   "execution_count": 563,
   "metadata": {},
   "outputs": [],
   "source": [
    "pipe_2_1_params = {\n",
    "    'tvec__max_features':[3000,5000,7000],\n",
    "    'tvec__stop_words':['english'],\n",
    "    'ad__base_estimator':[DecisionTreeClassifier(max_depth=2)],\n",
    "    'ad__learning_rate':[0.05,0.1,0.2],\n",
    "    'ad__n_estimators':[500]\n",
    "                   }"
   ]
  },
  {
   "cell_type": "code",
   "execution_count": 564,
   "metadata": {},
   "outputs": [],
   "source": [
    "pipe_2_1_gs = GridSearchCV(pipe_2_1,pipe_2_1_params,cv=5,verbose=1,n_jobs=-1)"
   ]
  },
  {
   "cell_type": "code",
   "execution_count": 565,
   "metadata": {},
   "outputs": [
    {
     "name": "stdout",
     "output_type": "stream",
     "text": [
      "Fitting 5 folds for each of 2 candidates, totalling 10 fits\n"
     ]
    },
    {
     "data": {
      "text/plain": [
       "GridSearchCV(cv=5,\n",
       "             estimator=Pipeline(steps=[('tvec', TfidfVectorizer()),\n",
       "                                       ('ad', AdaBoostClassifier())]),\n",
       "             n_jobs=-1,\n",
       "             param_grid={'ad__base_estimator': [DecisionTreeClassifier(max_depth=2)],\n",
       "                         'ad__learning_rate': [0.1], 'ad__n_estimators': [500],\n",
       "                         'tvec__max_features': [5000], 'tvec__min_df': [1, 2],\n",
       "                         'tvec__stop_words': ['english']},\n",
       "             verbose=1)"
      ]
     },
     "execution_count": 565,
     "metadata": {},
     "output_type": "execute_result"
    }
   ],
   "source": [
    "pipe_2_1_gs.fit(X_train_1,y_train_1)"
   ]
  },
  {
   "cell_type": "code",
   "execution_count": 629,
   "metadata": {},
   "outputs": [
    {
     "data": {
      "text/plain": [
       "0.9142666666666667"
      ]
     },
     "execution_count": 629,
     "metadata": {},
     "output_type": "execute_result"
    }
   ],
   "source": [
    "# score for training data\n",
    "pipe_2_1_gs.score(X_train_1,y_train_1)"
   ]
  },
  {
   "cell_type": "code",
   "execution_count": 676,
   "metadata": {},
   "outputs": [
    {
     "data": {
      "text/plain": [
       "0.8432"
      ]
     },
     "execution_count": 676,
     "metadata": {},
     "output_type": "execute_result"
    }
   ],
   "source": [
    "# score for testing data\n",
    "pipe_2_1_gs.score(X_test_1,y_test_1)"
   ]
  },
  {
   "cell_type": "code",
   "execution_count": 569,
   "metadata": {},
   "outputs": [
    {
     "data": {
      "text/plain": [
       "Pipeline(steps=[('tvec',\n",
       "                 TfidfVectorizer(max_features=5000, stop_words='english')),\n",
       "                ('ad',\n",
       "                 AdaBoostClassifier(base_estimator=DecisionTreeClassifier(max_depth=2),\n",
       "                                    learning_rate=0.1, n_estimators=500))])"
      ]
     },
     "execution_count": 569,
     "metadata": {},
     "output_type": "execute_result"
    }
   ],
   "source": [
    "pipe_2_1_gs.best_estimator_"
   ]
  },
  {
   "cell_type": "markdown",
   "metadata": {},
   "source": [
    "### Model 3.2. Predict Removed Posts"
   ]
  },
  {
   "cell_type": "code",
   "execution_count": 624,
   "metadata": {},
   "outputs": [],
   "source": [
    "pipe_3_2 = Pipeline([('tvec', TfidfVectorizer()),\n",
    "                  ('logreg', LogisticRegression(n_jobs=-1))])\n",
    "\n",
    "pipe_3_2_params = {\n",
    "#     'tvec__min_df':[1,2],\n",
    "    'tvec__max_features':[3000,5000,6000,7000],\n",
    "    'tvec__stop_words':['english'],\n",
    "    'logreg__C':[1,2,3]\n",
    "}\n",
    "\n",
    "pipe_3_2_gs = GridSearchCV(pipe_3_2,pipe_3_2_params,cv=5,verbose=1)"
   ]
  },
  {
   "cell_type": "code",
   "execution_count": 625,
   "metadata": {},
   "outputs": [
    {
     "name": "stdout",
     "output_type": "stream",
     "text": [
      "Fitting 5 folds for each of 12 candidates, totalling 60 fits\n"
     ]
    },
    {
     "data": {
      "text/plain": [
       "GridSearchCV(cv=5,\n",
       "             estimator=Pipeline(steps=[('tvec', TfidfVectorizer()),\n",
       "                                       ('logreg',\n",
       "                                        LogisticRegression(n_jobs=-1))]),\n",
       "             param_grid={'logreg__C': [1, 2, 3],\n",
       "                         'tvec__max_features': [3000, 5000, 6000, 7000],\n",
       "                         'tvec__stop_words': ['english']},\n",
       "             verbose=1)"
      ]
     },
     "execution_count": 625,
     "metadata": {},
     "output_type": "execute_result"
    }
   ],
   "source": [
    "pipe_3_2_gs.fit(X_train_2,y_train_2)"
   ]
  },
  {
   "cell_type": "code",
   "execution_count": 626,
   "metadata": {},
   "outputs": [
    {
     "data": {
      "text/plain": [
       "Pipeline(steps=[('tvec',\n",
       "                 TfidfVectorizer(max_features=5000, stop_words='english')),\n",
       "                ('logreg', LogisticRegression(C=2, n_jobs=-1))])"
      ]
     },
     "execution_count": 626,
     "metadata": {},
     "output_type": "execute_result"
    }
   ],
   "source": [
    "pipe_3_2_gs.best_estimator_"
   ]
  },
  {
   "cell_type": "code",
   "execution_count": 627,
   "metadata": {},
   "outputs": [
    {
     "data": {
      "text/plain": [
       "0.8509333333333333"
      ]
     },
     "execution_count": 627,
     "metadata": {},
     "output_type": "execute_result"
    }
   ],
   "source": [
    "pipe_3_2_gs.score(X_train_2,y_train_2)"
   ]
  },
  {
   "cell_type": "code",
   "execution_count": 628,
   "metadata": {},
   "outputs": [
    {
     "data": {
      "text/plain": [
       "0.7568"
      ]
     },
     "execution_count": 628,
     "metadata": {},
     "output_type": "execute_result"
    }
   ],
   "source": [
    "pipe_3_2_gs.score(X_test_2,y_test_2)"
   ]
  },
  {
   "cell_type": "markdown",
   "metadata": {},
   "source": [
    "### 3rd Model: SVM"
   ]
  },
  {
   "cell_type": "code",
   "execution_count": 669,
   "metadata": {},
   "outputs": [],
   "source": [
    "pipe_3 = Pipeline([('tvec',TfidfVectorizer()),\n",
    "                   ('svm',SVC())])"
   ]
  },
  {
   "cell_type": "code",
   "execution_count": 670,
   "metadata": {},
   "outputs": [],
   "source": [
    "pipe_3_params = {\n",
    "    'tvec__min_df':[1,2,3],\n",
    "    'tvec__max_features':[None,4000,5000],\n",
    "    'tvec__ngram_range':[(1,1),(2,2)],\n",
    "    'svm__kernel':['rbf','poly'],\n",
    "    'svm__C':[0.1,1,10]\n",
    "}"
   ]
  },
  {
   "cell_type": "code",
   "execution_count": 671,
   "metadata": {},
   "outputs": [],
   "source": [
    "pipe_3_gs = GridSearchCV(pipe_3,pipe_3_params,cv=5,verbose=2)"
   ]
  },
  {
   "cell_type": "code",
   "execution_count": 673,
   "metadata": {},
   "outputs": [],
   "source": [
    "# pipe_3_gs.fit(X_train_1,y_train_1)"
   ]
  },
  {
   "cell_type": "code",
   "execution_count": 529,
   "metadata": {},
   "outputs": [
    {
     "data": {
      "text/plain": [
       "Pipeline(steps=[('tvec', TfidfVectorizer()), ('svm', SVC(C=1))])"
      ]
     },
     "execution_count": 529,
     "metadata": {},
     "output_type": "execute_result"
    }
   ],
   "source": [
    "pipe_3_gs.best_estimator_"
   ]
  },
  {
   "cell_type": "code",
   "execution_count": 532,
   "metadata": {},
   "outputs": [
    {
     "data": {
      "text/plain": [
       "0.98"
      ]
     },
     "execution_count": 532,
     "metadata": {},
     "output_type": "execute_result"
    }
   ],
   "source": [
    "pipe_3_gs.score(X_train_1,y_train_1)"
   ]
  },
  {
   "cell_type": "code",
   "execution_count": 533,
   "metadata": {},
   "outputs": [
    {
     "data": {
      "text/plain": [
       "0.8844"
      ]
     },
     "execution_count": 533,
     "metadata": {},
     "output_type": "execute_result"
    }
   ],
   "source": [
    "pipe_3_gs.score(X_test_1,y_test_1)"
   ]
  },
  {
   "cell_type": "markdown",
   "metadata": {},
   "source": [
    "### Model 4 Naive Bayes"
   ]
  },
  {
   "cell_type": "code",
   "execution_count": 29,
   "metadata": {},
   "outputs": [],
   "source": [
    "pipe_4 = Pipeline([('tvec', TfidfVectorizer()),\n",
    "                  ('naive', MultinomialNB())])"
   ]
  },
  {
   "cell_type": "code",
   "execution_count": 30,
   "metadata": {},
   "outputs": [],
   "source": [
    "pipe_4_params = {\n",
    "    'tvec__min_df':[1,2,3],\n",
    "    'tvec__max_features':[None,4000,5000],\n",
    "    'tvec__ngram_range':[(1,1),(2,2)]\n",
    "}"
   ]
  },
  {
   "cell_type": "code",
   "execution_count": 33,
   "metadata": {},
   "outputs": [],
   "source": [
    "pipe_4_gs = GridSearchCV(pipe_4,pipe_4_params,cv=5,verbose=1)"
   ]
  },
  {
   "cell_type": "code",
   "execution_count": 34,
   "metadata": {},
   "outputs": [
    {
     "name": "stdout",
     "output_type": "stream",
     "text": [
      "Fitting 5 folds for each of 18 candidates, totalling 90 fits\n"
     ]
    },
    {
     "data": {
      "text/plain": [
       "GridSearchCV(cv=5,\n",
       "             estimator=Pipeline(steps=[('tvec', TfidfVectorizer()),\n",
       "                                       ('naive', MultinomialNB())]),\n",
       "             param_grid={'tvec__max_features': [None, 4000, 5000],\n",
       "                         'tvec__min_df': [1, 2, 3],\n",
       "                         'tvec__ngram_range': [(1, 1), (2, 2)]},\n",
       "             verbose=1)"
      ]
     },
     "execution_count": 34,
     "metadata": {},
     "output_type": "execute_result"
    }
   ],
   "source": [
    "pipe_4_gs.fit(X_train_1, y_train_1)"
   ]
  },
  {
   "cell_type": "code",
   "execution_count": 36,
   "metadata": {},
   "outputs": [
    {
     "data": {
      "text/plain": [
       "(0.9242666666666667, 0.87)"
      ]
     },
     "execution_count": 36,
     "metadata": {},
     "output_type": "execute_result"
    }
   ],
   "source": [
    "pipe_4_gs.score(X_train_1,y_train_1),pipe_4_gs.score(X_test_1,y_test_1)"
   ]
  },
  {
   "cell_type": "markdown",
   "metadata": {},
   "source": [
    "## Evaluating models"
   ]
  },
  {
   "cell_type": "code",
   "execution_count": 837,
   "metadata": {},
   "outputs": [],
   "source": [
    "# calculate the precision and recall for 3 models\n",
    "def precision_recall(X_test, y_true):\n",
    "    preds_1 = pipe_1_gs.predict(X_test)\n",
    "    preds_2 = pipe_2_gs.predict(X_test)\n",
    "    preds_2_1 = pipe_2_1_gs.predict(X_test)\n",
    "#     preds_3 = pipe_3_gs.predict(X_test_1)\n",
    "    \n",
    "    model_1 = ['Logistic Regression', precision_score(y_true,preds_1,pos_label='math'), recall_score(y_true,preds_1,pos_label='math')]\n",
    "    model_2 = ['Random Forest', precision_score(y_true,preds_2,pos_label='math'), recall_score(y_true,preds_2,pos_label='math')]\n",
    "    model_2_1 = ['Adaboost', precision_score(y_true,preds_2_1,pos_label='math'), recall_score(y_true,preds_2_1,pos_label='math')]\n",
    "\n",
    "    result = pd.DataFrame([model_1,model_2,model_2_1],columns=['Model','Precision','Recall']).set_index('Model')\n",
    "    return result"
   ]
  },
  {
   "cell_type": "code",
   "execution_count": 838,
   "metadata": {},
   "outputs": [
    {
     "data": {
      "text/html": [
       "<div>\n",
       "<style scoped>\n",
       "    .dataframe tbody tr th:only-of-type {\n",
       "        vertical-align: middle;\n",
       "    }\n",
       "\n",
       "    .dataframe tbody tr th {\n",
       "        vertical-align: top;\n",
       "    }\n",
       "\n",
       "    .dataframe thead th {\n",
       "        text-align: right;\n",
       "    }\n",
       "</style>\n",
       "<table border=\"1\" class=\"dataframe\">\n",
       "  <thead>\n",
       "    <tr style=\"text-align: right;\">\n",
       "      <th></th>\n",
       "      <th>Precision</th>\n",
       "      <th>Recall</th>\n",
       "    </tr>\n",
       "    <tr>\n",
       "      <th>Model</th>\n",
       "      <th></th>\n",
       "      <th></th>\n",
       "    </tr>\n",
       "  </thead>\n",
       "  <tbody>\n",
       "    <tr>\n",
       "      <td>Logistic Regression</td>\n",
       "      <td>0.866564</td>\n",
       "      <td>0.9040</td>\n",
       "    </tr>\n",
       "    <tr>\n",
       "      <td>Random Forest</td>\n",
       "      <td>0.832969</td>\n",
       "      <td>0.9136</td>\n",
       "    </tr>\n",
       "    <tr>\n",
       "      <td>Adaboost</td>\n",
       "      <td>0.793033</td>\n",
       "      <td>0.9288</td>\n",
       "    </tr>\n",
       "  </tbody>\n",
       "</table>\n",
       "</div>"
      ],
      "text/plain": [
       "                     Precision  Recall\n",
       "Model                                 \n",
       "Logistic Regression   0.866564  0.9040\n",
       "Random Forest         0.832969  0.9136\n",
       "Adaboost              0.793033  0.9288"
      ]
     },
     "execution_count": 838,
     "metadata": {},
     "output_type": "execute_result"
    }
   ],
   "source": [
    "precision_recall(X_test_1,y_test_1)"
   ]
  },
  {
   "cell_type": "code",
   "execution_count": 879,
   "metadata": {},
   "outputs": [],
   "source": [
    "# random pick some 100 data from each subreddit at a given time and return the precision and recall of each model\n",
    "# in the example bettwen, choosed 2 time periods\n",
    "\n",
    "def evaluate_models():\n",
    "    random.seed(42)\n",
    "    # 11/24/2020 - 3/29/2021\n",
    "    random_time_1 = random.choice(range(1606228102,1617024502))\n",
    "    \n",
    "    math_1 = get_submissions('math',1,random_time_1)\n",
    "    physics_1 = get_submissions('Physics',1,random_time_1)\n",
    "    \n",
    "    math_1 = prepare(math_1)\n",
    "    physics_1 = prepare(physics_1)\n",
    "    \n",
    "    data_1 =  pd.concat([math_1[['title_selftext_new','subreddit']],physics_1[['title_selftext_new','subreddit']]],axis=0,ignore_index=True)\n",
    "    X_1 = data_1['title_selftext_new']\n",
    "    y_1 = data_1['subreddit']\n",
    "    \n",
    "    # 3/1/2015 - 9/1/2015\n",
    "    random_time_2 = random.choice(range(1425220102,1441114102))\n",
    "    \n",
    "    math_2 = get_submissions('math',1,random_time_2)\n",
    "    physics_2 = get_submissions('Physics',1,random_time_2)\n",
    "    \n",
    "    math_2 = prepare(math_2)\n",
    "    physics_2 = prepare(physics_2)\n",
    "    \n",
    "    data_2 =  pd.concat([math_2[['title_selftext_new','subreddit']],physics_2[['title_selftext_new','subreddit']]],axis=0,ignore_index=True)\n",
    "    X_2 = data_2['title_selftext_new']\n",
    "    y_2 = data_2['subreddit']\n",
    "\n",
    "    df_1 = precision_recall(X_1,y_1)\n",
    "    df_2 = precision_recall(X_2,y_2)\n",
    "    \n",
    "    return df_1,df_2\n"
   ]
  },
  {
   "cell_type": "code",
   "execution_count": 880,
   "metadata": {},
   "outputs": [],
   "source": [
    "period_1 ,period_2 = evaluate_models()"
   ]
  },
  {
   "cell_type": "code",
   "execution_count": 881,
   "metadata": {},
   "outputs": [
    {
     "data": {
      "text/html": [
       "<div>\n",
       "<style scoped>\n",
       "    .dataframe tbody tr th:only-of-type {\n",
       "        vertical-align: middle;\n",
       "    }\n",
       "\n",
       "    .dataframe tbody tr th {\n",
       "        vertical-align: top;\n",
       "    }\n",
       "\n",
       "    .dataframe thead th {\n",
       "        text-align: right;\n",
       "    }\n",
       "</style>\n",
       "<table border=\"1\" class=\"dataframe\">\n",
       "  <thead>\n",
       "    <tr style=\"text-align: right;\">\n",
       "      <th></th>\n",
       "      <th>Precision</th>\n",
       "      <th>Recall</th>\n",
       "    </tr>\n",
       "    <tr>\n",
       "      <th>Model</th>\n",
       "      <th></th>\n",
       "      <th></th>\n",
       "    </tr>\n",
       "  </thead>\n",
       "  <tbody>\n",
       "    <tr>\n",
       "      <td>Logistic Regression</td>\n",
       "      <td>0.888889</td>\n",
       "      <td>0.96</td>\n",
       "    </tr>\n",
       "    <tr>\n",
       "      <td>Random Forest</td>\n",
       "      <td>0.934579</td>\n",
       "      <td>1.00</td>\n",
       "    </tr>\n",
       "    <tr>\n",
       "      <td>Adaboost</td>\n",
       "      <td>0.843478</td>\n",
       "      <td>0.97</td>\n",
       "    </tr>\n",
       "  </tbody>\n",
       "</table>\n",
       "</div>"
      ],
      "text/plain": [
       "                     Precision  Recall\n",
       "Model                                 \n",
       "Logistic Regression   0.888889    0.96\n",
       "Random Forest         0.934579    1.00\n",
       "Adaboost              0.843478    0.97"
      ]
     },
     "execution_count": 881,
     "metadata": {},
     "output_type": "execute_result"
    }
   ],
   "source": [
    "period_1"
   ]
  },
  {
   "cell_type": "code",
   "execution_count": 882,
   "metadata": {},
   "outputs": [
    {
     "data": {
      "text/html": [
       "<div>\n",
       "<style scoped>\n",
       "    .dataframe tbody tr th:only-of-type {\n",
       "        vertical-align: middle;\n",
       "    }\n",
       "\n",
       "    .dataframe tbody tr th {\n",
       "        vertical-align: top;\n",
       "    }\n",
       "\n",
       "    .dataframe thead th {\n",
       "        text-align: right;\n",
       "    }\n",
       "</style>\n",
       "<table border=\"1\" class=\"dataframe\">\n",
       "  <thead>\n",
       "    <tr style=\"text-align: right;\">\n",
       "      <th></th>\n",
       "      <th>Precision</th>\n",
       "      <th>Recall</th>\n",
       "    </tr>\n",
       "    <tr>\n",
       "      <th>Model</th>\n",
       "      <th></th>\n",
       "      <th></th>\n",
       "    </tr>\n",
       "  </thead>\n",
       "  <tbody>\n",
       "    <tr>\n",
       "      <td>Logistic Regression</td>\n",
       "      <td>0.923077</td>\n",
       "      <td>0.96</td>\n",
       "    </tr>\n",
       "    <tr>\n",
       "      <td>Random Forest</td>\n",
       "      <td>0.834783</td>\n",
       "      <td>0.96</td>\n",
       "    </tr>\n",
       "    <tr>\n",
       "      <td>Adaboost</td>\n",
       "      <td>0.770492</td>\n",
       "      <td>0.94</td>\n",
       "    </tr>\n",
       "  </tbody>\n",
       "</table>\n",
       "</div>"
      ],
      "text/plain": [
       "                     Precision  Recall\n",
       "Model                                 \n",
       "Logistic Regression   0.923077    0.96\n",
       "Random Forest         0.834783    0.96\n",
       "Adaboost              0.770492    0.94"
      ]
     },
     "execution_count": 882,
     "metadata": {},
     "output_type": "execute_result"
    }
   ],
   "source": [
    "period_2"
   ]
  }
 ],
 "metadata": {
  "kernelspec": {
   "display_name": "Python 3",
   "language": "python",
   "name": "python3"
  },
  "language_info": {
   "codemirror_mode": {
    "name": "ipython",
    "version": 3
   },
   "file_extension": ".py",
   "mimetype": "text/x-python",
   "name": "python",
   "nbconvert_exporter": "python",
   "pygments_lexer": "ipython3",
   "version": "3.7.4"
  }
 },
 "nbformat": 4,
 "nbformat_minor": 4
}
