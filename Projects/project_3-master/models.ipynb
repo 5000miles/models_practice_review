{
 "cells": [
  {
   "cell_type": "code",
   "execution_count": 2,
   "metadata": {},
   "outputs": [],
   "source": [
    "import pandas as pd\n",
    "import numpy as np\n",
    "import random\n",
    "\n",
    "from sklearn.feature_extraction.text import TfidfVectorizer\n",
    "from sklearn.model_selection import GridSearchCV\n",
    "from sklearn.ensemble import RandomForestClassifier, ExtraTreesClassifier, AdaBoostClassifier\n",
    "from sklearn.linear_model import LogisticRegression\n",
    "from sklearn.pipeline import Pipeline\n",
    "from sklearn.svm import SVC\n",
    "from sklearn.tree import DecisionTreeClassifier\n",
    "from sklearn.naive_bayes import MultinomialNB,BernoulliNB\n",
    "from sklearn.metrics import confusion_matrix,precision_score,recall_score\n",
    "import pickle"
   ]
  },
  {
   "cell_type": "code",
   "execution_count": 3,
   "metadata": {},
   "outputs": [],
   "source": [
    "%store -r X_train_1\n",
    "%store -r X_test_1\n",
    "%store -r y_train_1\n",
    "%store -r y_test_1"
   ]
  },
  {
   "cell_type": "code",
   "execution_count": 4,
   "metadata": {},
   "outputs": [
    {
     "name": "stdout",
     "output_type": "stream",
     "text": [
      "no stored variable X_train_2\n",
      "no stored variable X_test_2\n",
      "no stored variable y_train_2\n",
      "no stored variable y_test_2\n"
     ]
    }
   ],
   "source": [
    "%store -r X_train_2\n",
    "%store -r X_test_2\n",
    "%store -r y_train_2\n",
    "%store -r y_test_2"
   ]
  },
  {
   "cell_type": "markdown",
   "metadata": {},
   "source": [
    "### 1st model, logistic regression"
   ]
  },
  {
   "cell_type": "code",
   "execution_count": 48,
   "metadata": {},
   "outputs": [],
   "source": [
    "pipe_1 = Pipeline([('tvec', TfidfVectorizer()),\n",
    "                  ('logreg', LogisticRegression())])"
   ]
  },
  {
   "cell_type": "code",
   "execution_count": 49,
   "metadata": {},
   "outputs": [],
   "source": [
    "# pipe_1.get_params()"
   ]
  },
  {
   "cell_type": "code",
   "execution_count": 50,
   "metadata": {},
   "outputs": [],
   "source": [
    "pipe_1_params = {\n",
    "    'tvec__min_df':[2,3],\n",
    "    'tvec__max_features':[6000,7000,8000],\n",
    "    'tvec__stop_words':['english',None],\n",
    "    'logreg__C':[1.3,1.35]\n",
    "}"
   ]
  },
  {
   "cell_type": "code",
   "execution_count": 51,
   "metadata": {},
   "outputs": [
    {
     "name": "stdout",
     "output_type": "stream",
     "text": [
      "Fitting 5 folds for each of 24 candidates, totalling 120 fits\n"
     ]
    },
    {
     "data": {
      "text/plain": [
       "GridSearchCV(cv=5,\n",
       "             estimator=Pipeline(steps=[('tvec', TfidfVectorizer()),\n",
       "                                       ('logreg', LogisticRegression())]),\n",
       "             param_grid={'logreg__C': [1.3, 1.35],\n",
       "                         'tvec__max_features': [6000, 7000, 8000],\n",
       "                         'tvec__min_df': [2, 3],\n",
       "                         'tvec__stop_words': ['english', None]},\n",
       "             verbose=1)"
      ]
     },
     "execution_count": 51,
     "metadata": {},
     "output_type": "execute_result"
    }
   ],
   "source": [
    "pipe_1_gs = GridSearchCV(pipe_1,pipe_1_params,cv=5,verbose=1)\n",
    "pipe_1_gs.fit(X_train_1,y_train_1)"
   ]
  },
  {
   "cell_type": "code",
   "execution_count": 31,
   "metadata": {},
   "outputs": [],
   "source": [
    "# pickle.dump(pipe_1_gs, open('project3.pkl', 'wb'))"
   ]
  },
  {
   "cell_type": "code",
   "execution_count": 64,
   "metadata": {},
   "outputs": [
    {
     "data": {
      "text/plain": [
       "Pipeline(steps=[('tvec',\n",
       "                 TfidfVectorizer(max_features=6000, min_df=2,\n",
       "                                 stop_words='english')),\n",
       "                ('logreg', LogisticRegression(C=1.3))])"
      ]
     },
     "execution_count": 64,
     "metadata": {},
     "output_type": "execute_result"
    }
   ],
   "source": [
    "# pipe_1_gs.best_estimator_"
   ]
  },
  {
   "cell_type": "code",
   "execution_count": 52,
   "metadata": {},
   "outputs": [
    {
     "data": {
      "text/plain": [
       "(0.9326666666666666, 0.8824)"
      ]
     },
     "execution_count": 52,
     "metadata": {},
     "output_type": "execute_result"
    }
   ],
   "source": [
    "# score for training and testing data\n",
    "pipe_1_gs.score(X_train_1,y_train_1),pipe_1_gs.score(X_test_1,y_test_1)"
   ]
  },
  {
   "cell_type": "code",
   "execution_count": null,
   "metadata": {},
   "outputs": [],
   "source": []
  },
  {
   "cell_type": "markdown",
   "metadata": {},
   "source": [
    "### Pre 2nd Model, Ordinary Decision Tree"
   ]
  },
  {
   "cell_type": "code",
   "execution_count": 5,
   "metadata": {},
   "outputs": [],
   "source": [
    "pipe_pre2 = Pipeline([('tvec',TfidfVectorizer()),\n",
    "                      ('dc',DecisionTreeClassifier())])"
   ]
  },
  {
   "cell_type": "code",
   "execution_count": 9,
   "metadata": {},
   "outputs": [],
   "source": [
    "# pipe_pre2.get_params()"
   ]
  },
  {
   "cell_type": "code",
   "execution_count": 8,
   "metadata": {},
   "outputs": [],
   "source": [
    "pipe_pre2_params = {\n",
    "    'tvec__min_df':[1,2,3],\n",
    "    'tvec__max_features':[3000,4000],\n",
    "    'tvec__stop_words':['english'],\n",
    "    'dc__min_impurity_decrease':[0.0,0.3,0.5],\n",
    "    'dc__min_samples_split':[2,3],\n",
    "    'dc__min_samples_leaf':[1,2,5]\n",
    "}"
   ]
  },
  {
   "cell_type": "code",
   "execution_count": 10,
   "metadata": {},
   "outputs": [
    {
     "name": "stdout",
     "output_type": "stream",
     "text": [
      "Fitting 5 folds for each of 108 candidates, totalling 540 fits\n"
     ]
    },
    {
     "data": {
      "text/plain": [
       "GridSearchCV(cv=5,\n",
       "             estimator=Pipeline(steps=[('tvec', TfidfVectorizer()),\n",
       "                                       ('dc', DecisionTreeClassifier())]),\n",
       "             param_grid={'dc__min_impurity_decrease': [0.0, 0.3, 0.5],\n",
       "                         'dc__min_samples_leaf': [1, 2, 5],\n",
       "                         'dc__min_samples_split': [2, 3],\n",
       "                         'tvec__max_features': [3000, 4000],\n",
       "                         'tvec__min_df': [1, 2, 3],\n",
       "                         'tvec__stop_words': ['english']},\n",
       "             verbose=1)"
      ]
     },
     "execution_count": 10,
     "metadata": {},
     "output_type": "execute_result"
    }
   ],
   "source": [
    "pipe_pre2_gs = GridSearchCV(pipe_pre2,pipe_pre2_params,cv=5,verbose=1)\n",
    "pipe_pre2_gs.fit(X_train_1,y_train_1)"
   ]
  },
  {
   "cell_type": "code",
   "execution_count": 13,
   "metadata": {},
   "outputs": [
    {
     "data": {
      "text/plain": [
       "Pipeline(steps=[('tvec',\n",
       "                 TfidfVectorizer(max_features=4000, min_df=2,\n",
       "                                 stop_words='english')),\n",
       "                ('dc', DecisionTreeClassifier())])"
      ]
     },
     "execution_count": 13,
     "metadata": {},
     "output_type": "execute_result"
    }
   ],
   "source": [
    "pipe_pre2_gs.best_estimator_"
   ]
  },
  {
   "cell_type": "code",
   "execution_count": 11,
   "metadata": {},
   "outputs": [
    {
     "data": {
      "text/plain": [
       "(0.9837333333333333, 0.8096)"
      ]
     },
     "execution_count": 11,
     "metadata": {},
     "output_type": "execute_result"
    }
   ],
   "source": [
    "# score for training and testing data\n",
    "pipe_pre2_gs.score(X_train_1,y_train_1),pipe_pre2_gs.score(X_test_1,y_test_1)"
   ]
  },
  {
   "cell_type": "markdown",
   "metadata": {},
   "source": [
    "### Overfitting\n",
    "Definitely need try some ensemble methods.\n",
    "Since overfitting is the main problem now, first ensemble method I'm going to try is a **Bagged Decision Tree**. \n",
    "More specifically, **Random Forest** is the first one comes in my mind, because when using Random Forest, at each splitting within each boostrapping sample, a **random subset of the features** are select. If one or few features (words in this case) are very strong preictors for the response variable, these words will be used in many/all of the bagged decision tree, causing them to become correlated and result in high variance and overfitting, by selecting a random subset of features at each split, it will counter this correlation between base trees."
   ]
  },
  {
   "cell_type": "markdown",
   "metadata": {},
   "source": [
    "### 2nd Model: Random Forest"
   ]
  },
  {
   "cell_type": "code",
   "execution_count": 16,
   "metadata": {},
   "outputs": [],
   "source": [
    "pipe_2 = Pipeline([('tvec',TfidfVectorizer()),\n",
    "                   ('rf',RandomForestClassifier(n_jobs=-1))])"
   ]
  },
  {
   "cell_type": "code",
   "execution_count": 18,
   "metadata": {},
   "outputs": [],
   "source": [
    "# pipe_2.get_params()"
   ]
  },
  {
   "cell_type": "code",
   "execution_count": 30,
   "metadata": {},
   "outputs": [],
   "source": [
    "pipe_2_params = {\n",
    "#     'tvec__min_df':[1,2,3],\n",
    "#     'tvec__max_features':[2000,3000,4000],\n",
    "    'tvec__max_features':[4000],\n",
    "    'tvec__stop_words':['english'],\n",
    "#     'rf__n_estimators':[200,500]\n",
    "    'rf__n_estimators':[700,1000]\n",
    "#     'rf__max_depth':[None,3,5],\n",
    "#     'rf__min_samples_leaf':[1,2,3]\n",
    "}"
   ]
  },
  {
   "cell_type": "code",
   "execution_count": 31,
   "metadata": {},
   "outputs": [
    {
     "name": "stdout",
     "output_type": "stream",
     "text": [
      "Fitting 5 folds for each of 2 candidates, totalling 10 fits\n"
     ]
    },
    {
     "data": {
      "text/plain": [
       "GridSearchCV(cv=5,\n",
       "             estimator=Pipeline(steps=[('tvec', TfidfVectorizer()),\n",
       "                                       ('rf',\n",
       "                                        RandomForestClassifier(n_jobs=-1))]),\n",
       "             param_grid={'rf__n_estimators': [700, 1000],\n",
       "                         'tvec__max_features': [4000],\n",
       "                         'tvec__stop_words': ['english']},\n",
       "             verbose=1)"
      ]
     },
     "execution_count": 31,
     "metadata": {},
     "output_type": "execute_result"
    }
   ],
   "source": [
    "pipe_2_gs = GridSearchCV(pipe_2,pipe_2_params,cv=5,verbose=1)\n",
    "pipe_2_gs.fit(X_train_1,y_train_1)"
   ]
  },
  {
   "cell_type": "code",
   "execution_count": 33,
   "metadata": {},
   "outputs": [
    {
     "data": {
      "text/plain": [
       "Pipeline(steps=[('tvec',\n",
       "                 TfidfVectorizer(max_features=4000, stop_words='english')),\n",
       "                ('rf', RandomForestClassifier(n_estimators=700, n_jobs=-1))])"
      ]
     },
     "execution_count": 33,
     "metadata": {},
     "output_type": "execute_result"
    }
   ],
   "source": [
    "pipe_2_gs.best_estimator_"
   ]
  },
  {
   "cell_type": "code",
   "execution_count": 32,
   "metadata": {},
   "outputs": [
    {
     "data": {
      "text/plain": [
       "(0.9837333333333333, 0.862)"
      ]
     },
     "execution_count": 32,
     "metadata": {},
     "output_type": "execute_result"
    }
   ],
   "source": [
    "pipe_2_gs.score(X_train_1,y_train_1),pipe_2_gs.score(X_test_1,y_test_1)"
   ]
  },
  {
   "cell_type": "markdown",
   "metadata": {},
   "source": [
    "The overfitting problem is reduced"
   ]
  },
  {
   "cell_type": "markdown",
   "metadata": {},
   "source": [
    "### 2.1 AdaBoost\n",
    "Baaged Decision Tree(including Random Forest), words are treated independly, however, words ( written by human) couldn't be independly, so boosting decision tree might has better performance, since boosting decision tree is fitted sequentially instead of in parallel.\n",
    "AdaBoost is the Boosting Decision Tree I'll try, however, the disadvantages of AdaBoost is it fits slow and is more prone to overfitting"
   ]
  },
  {
   "cell_type": "code",
   "execution_count": 35,
   "metadata": {},
   "outputs": [],
   "source": [
    "pipe_2_1 = Pipeline([('tvec',TfidfVectorizer()),\n",
    "                   ('ad',AdaBoostClassifier())])"
   ]
  },
  {
   "cell_type": "code",
   "execution_count": 37,
   "metadata": {},
   "outputs": [],
   "source": [
    "pipe_2_1_params = {\n",
    "#     'tvec__max_features':[3000,5000,7000],\n",
    "    'tvec__max_features':[5000],\n",
    "    'tvec__stop_words':['english'],\n",
    "    'ad__base_estimator':[DecisionTreeClassifier(max_depth=2)],\n",
    "#     'ad__learning_rate':[0.05,0.1,0.2],\n",
    "    'ad__learning_rate':[0.1],\n",
    "    'ad__n_estimators':[500,700]\n",
    "                   }"
   ]
  },
  {
   "cell_type": "code",
   "execution_count": 39,
   "metadata": {},
   "outputs": [
    {
     "name": "stdout",
     "output_type": "stream",
     "text": [
      "Fitting 5 folds for each of 2 candidates, totalling 10 fits\n"
     ]
    },
    {
     "data": {
      "text/plain": [
       "GridSearchCV(cv=5,\n",
       "             estimator=Pipeline(steps=[('tvec', TfidfVectorizer()),\n",
       "                                       ('ad', AdaBoostClassifier())]),\n",
       "             n_jobs=-1,\n",
       "             param_grid={'ad__base_estimator': [DecisionTreeClassifier(max_depth=2)],\n",
       "                         'ad__learning_rate': [0.1],\n",
       "                         'ad__n_estimators': [500, 700],\n",
       "                         'tvec__max_features': [5000],\n",
       "                         'tvec__stop_words': ['english']},\n",
       "             verbose=1)"
      ]
     },
     "execution_count": 39,
     "metadata": {},
     "output_type": "execute_result"
    }
   ],
   "source": [
    "pipe_2_1_gs = GridSearchCV(pipe_2_1,pipe_2_1_params,cv=5,verbose=1,n_jobs=-1)\n",
    "pipe_2_1_gs.fit(X_train_1,y_train_1)"
   ]
  },
  {
   "cell_type": "code",
   "execution_count": 569,
   "metadata": {},
   "outputs": [
    {
     "data": {
      "text/plain": [
       "Pipeline(steps=[('tvec',\n",
       "                 TfidfVectorizer(max_features=5000, stop_words='english')),\n",
       "                ('ad',\n",
       "                 AdaBoostClassifier(base_estimator=DecisionTreeClassifier(max_depth=2),\n",
       "                                    learning_rate=0.1, n_estimators=500))])"
      ]
     },
     "execution_count": 569,
     "metadata": {},
     "output_type": "execute_result"
    }
   ],
   "source": [
    "pipe_2_1_gs.best_estimator_"
   ]
  },
  {
   "cell_type": "code",
   "execution_count": 40,
   "metadata": {},
   "outputs": [
    {
     "data": {
      "text/plain": [
       "(0.9350666666666667, 0.85)"
      ]
     },
     "execution_count": 40,
     "metadata": {},
     "output_type": "execute_result"
    }
   ],
   "source": [
    "# score for training and testing data\n",
    "pipe_2_1_gs.score(X_train_1,y_train_1),pipe_2_1_gs.score(X_test_1,y_test_1)"
   ]
  },
  {
   "cell_type": "markdown",
   "metadata": {},
   "source": [
    "### Model 3.2. Predict Removed Posts\n",
    "Trying to figure out why some post are deleted by the website. Is there any patterns?\n",
    "Still working on"
   ]
  },
  {
   "cell_type": "code",
   "execution_count": 624,
   "metadata": {
    "jupyter": {
     "source_hidden": true
    }
   },
   "outputs": [],
   "source": [
    "pipe_3_2 = Pipeline([('tvec', TfidfVectorizer()),\n",
    "                  ('logreg', LogisticRegression(n_jobs=-1))])\n",
    "\n",
    "pipe_3_2_params = {\n",
    "#     'tvec__min_df':[1,2],\n",
    "    'tvec__max_features':[3000,5000,6000,7000],\n",
    "    'tvec__stop_words':['english'],\n",
    "    'logreg__C':[1,2,3]\n",
    "}\n",
    "\n",
    "pipe_3_2_gs = GridSearchCV(pipe_3_2,pipe_3_2_params,cv=5,verbose=1)"
   ]
  },
  {
   "cell_type": "code",
   "execution_count": 625,
   "metadata": {
    "collapsed": true,
    "jupyter": {
     "outputs_hidden": true,
     "source_hidden": true
    }
   },
   "outputs": [
    {
     "name": "stdout",
     "output_type": "stream",
     "text": [
      "Fitting 5 folds for each of 12 candidates, totalling 60 fits\n"
     ]
    },
    {
     "data": {
      "text/plain": [
       "GridSearchCV(cv=5,\n",
       "             estimator=Pipeline(steps=[('tvec', TfidfVectorizer()),\n",
       "                                       ('logreg',\n",
       "                                        LogisticRegression(n_jobs=-1))]),\n",
       "             param_grid={'logreg__C': [1, 2, 3],\n",
       "                         'tvec__max_features': [3000, 5000, 6000, 7000],\n",
       "                         'tvec__stop_words': ['english']},\n",
       "             verbose=1)"
      ]
     },
     "execution_count": 625,
     "metadata": {},
     "output_type": "execute_result"
    }
   ],
   "source": [
    "pipe_3_2_gs.fit(X_train_2,y_train_2)"
   ]
  },
  {
   "cell_type": "code",
   "execution_count": 626,
   "metadata": {
    "collapsed": true,
    "jupyter": {
     "outputs_hidden": true,
     "source_hidden": true
    }
   },
   "outputs": [
    {
     "data": {
      "text/plain": [
       "Pipeline(steps=[('tvec',\n",
       "                 TfidfVectorizer(max_features=5000, stop_words='english')),\n",
       "                ('logreg', LogisticRegression(C=2, n_jobs=-1))])"
      ]
     },
     "execution_count": 626,
     "metadata": {},
     "output_type": "execute_result"
    }
   ],
   "source": [
    "pipe_3_2_gs.best_estimator_"
   ]
  },
  {
   "cell_type": "code",
   "execution_count": 627,
   "metadata": {
    "collapsed": true,
    "jupyter": {
     "outputs_hidden": true,
     "source_hidden": true
    }
   },
   "outputs": [
    {
     "data": {
      "text/plain": [
       "0.8509333333333333"
      ]
     },
     "execution_count": 627,
     "metadata": {},
     "output_type": "execute_result"
    }
   ],
   "source": [
    "pipe_3_2_gs.score(X_train_2,y_train_2)"
   ]
  },
  {
   "cell_type": "code",
   "execution_count": 628,
   "metadata": {
    "collapsed": true,
    "jupyter": {
     "outputs_hidden": true,
     "source_hidden": true
    }
   },
   "outputs": [
    {
     "data": {
      "text/plain": [
       "0.7568"
      ]
     },
     "execution_count": 628,
     "metadata": {},
     "output_type": "execute_result"
    }
   ],
   "source": [
    "pipe_3_2_gs.score(X_test_2,y_test_2)"
   ]
  },
  {
   "cell_type": "markdown",
   "metadata": {},
   "source": [
    "### 3rd Model: SVM"
   ]
  },
  {
   "cell_type": "code",
   "execution_count": 41,
   "metadata": {},
   "outputs": [],
   "source": [
    "pipe_3 = Pipeline([('tvec',TfidfVectorizer()),\n",
    "                   ('svm',SVC())])"
   ]
  },
  {
   "cell_type": "code",
   "execution_count": 42,
   "metadata": {},
   "outputs": [],
   "source": [
    "pipe_3_params = {\n",
    "    'tvec__min_df':[1,2,3],\n",
    "    'tvec__max_features':[None,4000,5000],\n",
    "#     'tvec__ngram_range':[(1,1),(2,2)],\n",
    "    'svm__kernel':['rbf','poly'],\n",
    "#     'svm__C':[0.1,1,10]\n",
    "    'svm__C':[1]\n",
    "}"
   ]
  },
  {
   "cell_type": "code",
   "execution_count": 45,
   "metadata": {},
   "outputs": [],
   "source": [
    "# pipe_3_gs = GridSearchCV(pipe_3,pipe_3_params,cv=5,verbose=2)\n",
    "# pipe_3_gs.fit(X_train_1,y_train_1)"
   ]
  },
  {
   "cell_type": "code",
   "execution_count": 46,
   "metadata": {},
   "outputs": [
    {
     "data": {
      "text/plain": [
       "Pipeline(steps=[('tvec', TfidfVectorizer()), ('svm', SVC(C=1))])"
      ]
     },
     "execution_count": 46,
     "metadata": {},
     "output_type": "execute_result"
    }
   ],
   "source": [
    "pipe_3_gs.best_estimator_"
   ]
  },
  {
   "cell_type": "code",
   "execution_count": 53,
   "metadata": {},
   "outputs": [
    {
     "data": {
      "text/plain": [
       "(0.98, 0.8844)"
      ]
     },
     "execution_count": 53,
     "metadata": {},
     "output_type": "execute_result"
    }
   ],
   "source": [
    "# score for training and testing data\n",
    "pipe_3_gs.score(X_train_1,y_train_1),pipe_3_gs.score(X_test_1,y_test_1)"
   ]
  },
  {
   "cell_type": "markdown",
   "metadata": {},
   "source": [
    "### Model 4 Naive Bayes"
   ]
  },
  {
   "cell_type": "code",
   "execution_count": 54,
   "metadata": {},
   "outputs": [],
   "source": [
    "pipe_4 = Pipeline([('tvec', TfidfVectorizer()),\n",
    "                  ('naive', MultinomialNB())])"
   ]
  },
  {
   "cell_type": "code",
   "execution_count": 55,
   "metadata": {},
   "outputs": [],
   "source": [
    "pipe_4_params = {\n",
    "    'tvec__min_df':[1,2,3],\n",
    "    'tvec__max_features':[None,4000,5000],\n",
    "    'tvec__ngram_range':[(1,1),(2,2)]\n",
    "}"
   ]
  },
  {
   "cell_type": "code",
   "execution_count": 57,
   "metadata": {},
   "outputs": [
    {
     "name": "stdout",
     "output_type": "stream",
     "text": [
      "Fitting 5 folds for each of 18 candidates, totalling 90 fits\n"
     ]
    },
    {
     "data": {
      "text/plain": [
       "GridSearchCV(cv=5,\n",
       "             estimator=Pipeline(steps=[('tvec', TfidfVectorizer()),\n",
       "                                       ('naive', MultinomialNB())]),\n",
       "             param_grid={'tvec__max_features': [None, 4000, 5000],\n",
       "                         'tvec__min_df': [1, 2, 3],\n",
       "                         'tvec__ngram_range': [(1, 1), (2, 2)]},\n",
       "             verbose=1)"
      ]
     },
     "execution_count": 57,
     "metadata": {},
     "output_type": "execute_result"
    }
   ],
   "source": [
    "pipe_4_gs = GridSearchCV(pipe_4,pipe_4_params,cv=5,verbose=1)\n",
    "pipe_4_gs.fit(X_train_1, y_train_1)"
   ]
  },
  {
   "cell_type": "code",
   "execution_count": 58,
   "metadata": {},
   "outputs": [
    {
     "data": {
      "text/plain": [
       "Pipeline(steps=[('tvec', TfidfVectorizer()), ('naive', MultinomialNB())])"
      ]
     },
     "execution_count": 58,
     "metadata": {},
     "output_type": "execute_result"
    }
   ],
   "source": [
    "pipe_4_gs.best_estimator_"
   ]
  },
  {
   "cell_type": "code",
   "execution_count": 59,
   "metadata": {},
   "outputs": [
    {
     "data": {
      "text/plain": [
       "(0.9242666666666667, 0.87)"
      ]
     },
     "execution_count": 59,
     "metadata": {},
     "output_type": "execute_result"
    }
   ],
   "source": [
    "pipe_4_gs.score(X_train_1,y_train_1),pipe_4_gs.score(X_test_1,y_test_1)"
   ]
  },
  {
   "cell_type": "markdown",
   "metadata": {},
   "source": [
    "## Evaluating models"
   ]
  },
  {
   "cell_type": "code",
   "execution_count": 62,
   "metadata": {},
   "outputs": [],
   "source": [
    "# calculate the precision and recall for 3 models\n",
    "def precision_recall(X_test, y_true):\n",
    "    preds_1 = pipe_1_gs.predict(X_test) # Logistic Regression\n",
    "    preds_pre2 = pipe_pre2_gs.predict(X_test) # ordinary Decision Tree\n",
    "    preds_2 = pipe_2_gs.predict(X_test) # Random Forest\n",
    "    preds_2_1 = pipe_2_1_gs.predict(X_test) # Adaboost\n",
    "    preds_3 = pipe_3_gs.predict(X_test) # SVM\n",
    "    preds_4 = pipe_4_gs.predict(X_test) # Navie Bayes\n",
    "    \n",
    "    model_1 = ['Logistic Regression', precision_score(y_true,preds_1,pos_label='math'), recall_score(y_true,preds_1,pos_label='math')]\n",
    "    model_pre2 = ['Decision Tree', precision_score(y_true,preds_pre2,pos_label='math'), recall_score(y_true,preds_pre2,pos_label='math')]\n",
    "    model_2 = ['Random Forest', precision_score(y_true,preds_2,pos_label='math'), recall_score(y_true,preds_2,pos_label='math')]\n",
    "    model_2_1 = ['Adaboost', precision_score(y_true,preds_2_1,pos_label='math'), recall_score(y_true,preds_2_1,pos_label='math')]\n",
    "    model_3 = ['SVM', precision_score(y_true,preds_3,pos_label='math'), recall_score(y_true,preds_3,pos_label='math')]\n",
    "    model_4 = ['Naive Bayes', precision_score(y_true,preds_4,pos_label='math'), recall_score(y_true,preds_4,pos_label='math')]\n",
    "\n",
    "    result = pd.DataFrame([model_1,model_pre2,model_2,model_2_1,model_3,model_4],columns=['Model','Precision','Recall']).set_index('Model')\n",
    "    return result"
   ]
  },
  {
   "cell_type": "code",
   "execution_count": 63,
   "metadata": {},
   "outputs": [
    {
     "data": {
      "text/html": [
       "<div>\n",
       "<style scoped>\n",
       "    .dataframe tbody tr th:only-of-type {\n",
       "        vertical-align: middle;\n",
       "    }\n",
       "\n",
       "    .dataframe tbody tr th {\n",
       "        vertical-align: top;\n",
       "    }\n",
       "\n",
       "    .dataframe thead th {\n",
       "        text-align: right;\n",
       "    }\n",
       "</style>\n",
       "<table border=\"1\" class=\"dataframe\">\n",
       "  <thead>\n",
       "    <tr style=\"text-align: right;\">\n",
       "      <th></th>\n",
       "      <th>Precision</th>\n",
       "      <th>Recall</th>\n",
       "    </tr>\n",
       "    <tr>\n",
       "      <th>Model</th>\n",
       "      <th></th>\n",
       "      <th></th>\n",
       "    </tr>\n",
       "  </thead>\n",
       "  <tbody>\n",
       "    <tr>\n",
       "      <td>Logistic Regression</td>\n",
       "      <td>0.866564</td>\n",
       "      <td>0.9040</td>\n",
       "    </tr>\n",
       "    <tr>\n",
       "      <td>Decision Tree</td>\n",
       "      <td>0.779221</td>\n",
       "      <td>0.8640</td>\n",
       "    </tr>\n",
       "    <tr>\n",
       "      <td>Random Forest</td>\n",
       "      <td>0.830051</td>\n",
       "      <td>0.9104</td>\n",
       "    </tr>\n",
       "    <tr>\n",
       "      <td>Adaboost</td>\n",
       "      <td>0.804878</td>\n",
       "      <td>0.9240</td>\n",
       "    </tr>\n",
       "    <tr>\n",
       "      <td>SVM</td>\n",
       "      <td>0.858315</td>\n",
       "      <td>0.9208</td>\n",
       "    </tr>\n",
       "    <tr>\n",
       "      <td>Naive Bayes</td>\n",
       "      <td>0.834418</td>\n",
       "      <td>0.9232</td>\n",
       "    </tr>\n",
       "  </tbody>\n",
       "</table>\n",
       "</div>"
      ],
      "text/plain": [
       "                     Precision  Recall\n",
       "Model                                 \n",
       "Logistic Regression   0.866564  0.9040\n",
       "Decision Tree         0.779221  0.8640\n",
       "Random Forest         0.830051  0.9104\n",
       "Adaboost              0.804878  0.9240\n",
       "SVM                   0.858315  0.9208\n",
       "Naive Bayes           0.834418  0.9232"
      ]
     },
     "execution_count": 63,
     "metadata": {},
     "output_type": "execute_result"
    }
   ],
   "source": [
    "precision_recall(X_test_1,y_test_1)"
   ]
  },
  {
   "cell_type": "code",
   "execution_count": 879,
   "metadata": {},
   "outputs": [],
   "source": [
    "# random pick some 100 data from each subreddit at a given time and return the precision and recall of each model\n",
    "# in the example bettwen, choosed 2 time periods\n",
    "\n",
    "def evaluate_models():\n",
    "    random.seed(42)\n",
    "    # 11/24/2020 - 3/29/2021\n",
    "    random_time_1 = random.choice(range(1606228102,1617024502))\n",
    "    \n",
    "    math_1 = get_submissions('math',1,random_time_1)\n",
    "    physics_1 = get_submissions('Physics',1,random_time_1)\n",
    "    \n",
    "    math_1 = prepare(math_1)\n",
    "    physics_1 = prepare(physics_1)\n",
    "    \n",
    "    data_1 =  pd.concat([math_1[['title_selftext_new','subreddit']],physics_1[['title_selftext_new','subreddit']]],axis=0,ignore_index=True)\n",
    "    X_1 = data_1['title_selftext_new']\n",
    "    y_1 = data_1['subreddit']\n",
    "    \n",
    "    # 3/1/2015 - 9/1/2015\n",
    "    random_time_2 = random.choice(range(1425220102,1441114102))\n",
    "    \n",
    "    math_2 = get_submissions('math',1,random_time_2)\n",
    "    physics_2 = get_submissions('Physics',1,random_time_2)\n",
    "    \n",
    "    math_2 = prepare(math_2)\n",
    "    physics_2 = prepare(physics_2)\n",
    "    \n",
    "    data_2 =  pd.concat([math_2[['title_selftext_new','subreddit']],physics_2[['title_selftext_new','subreddit']]],axis=0,ignore_index=True)\n",
    "    X_2 = data_2['title_selftext_new']\n",
    "    y_2 = data_2['subreddit']\n",
    "\n",
    "    df_1 = precision_recall(X_1,y_1)\n",
    "    df_2 = precision_recall(X_2,y_2)\n",
    "    \n",
    "    return df_1,df_2\n"
   ]
  },
  {
   "cell_type": "code",
   "execution_count": 880,
   "metadata": {},
   "outputs": [],
   "source": [
    "period_1 ,period_2 = evaluate_models()"
   ]
  },
  {
   "cell_type": "code",
   "execution_count": 881,
   "metadata": {},
   "outputs": [
    {
     "data": {
      "text/html": [
       "<div>\n",
       "<style scoped>\n",
       "    .dataframe tbody tr th:only-of-type {\n",
       "        vertical-align: middle;\n",
       "    }\n",
       "\n",
       "    .dataframe tbody tr th {\n",
       "        vertical-align: top;\n",
       "    }\n",
       "\n",
       "    .dataframe thead th {\n",
       "        text-align: right;\n",
       "    }\n",
       "</style>\n",
       "<table border=\"1\" class=\"dataframe\">\n",
       "  <thead>\n",
       "    <tr style=\"text-align: right;\">\n",
       "      <th></th>\n",
       "      <th>Precision</th>\n",
       "      <th>Recall</th>\n",
       "    </tr>\n",
       "    <tr>\n",
       "      <th>Model</th>\n",
       "      <th></th>\n",
       "      <th></th>\n",
       "    </tr>\n",
       "  </thead>\n",
       "  <tbody>\n",
       "    <tr>\n",
       "      <td>Logistic Regression</td>\n",
       "      <td>0.888889</td>\n",
       "      <td>0.96</td>\n",
       "    </tr>\n",
       "    <tr>\n",
       "      <td>Random Forest</td>\n",
       "      <td>0.934579</td>\n",
       "      <td>1.00</td>\n",
       "    </tr>\n",
       "    <tr>\n",
       "      <td>Adaboost</td>\n",
       "      <td>0.843478</td>\n",
       "      <td>0.97</td>\n",
       "    </tr>\n",
       "  </tbody>\n",
       "</table>\n",
       "</div>"
      ],
      "text/plain": [
       "                     Precision  Recall\n",
       "Model                                 \n",
       "Logistic Regression   0.888889    0.96\n",
       "Random Forest         0.934579    1.00\n",
       "Adaboost              0.843478    0.97"
      ]
     },
     "execution_count": 881,
     "metadata": {},
     "output_type": "execute_result"
    }
   ],
   "source": [
    "period_1"
   ]
  },
  {
   "cell_type": "code",
   "execution_count": 882,
   "metadata": {},
   "outputs": [
    {
     "data": {
      "text/html": [
       "<div>\n",
       "<style scoped>\n",
       "    .dataframe tbody tr th:only-of-type {\n",
       "        vertical-align: middle;\n",
       "    }\n",
       "\n",
       "    .dataframe tbody tr th {\n",
       "        vertical-align: top;\n",
       "    }\n",
       "\n",
       "    .dataframe thead th {\n",
       "        text-align: right;\n",
       "    }\n",
       "</style>\n",
       "<table border=\"1\" class=\"dataframe\">\n",
       "  <thead>\n",
       "    <tr style=\"text-align: right;\">\n",
       "      <th></th>\n",
       "      <th>Precision</th>\n",
       "      <th>Recall</th>\n",
       "    </tr>\n",
       "    <tr>\n",
       "      <th>Model</th>\n",
       "      <th></th>\n",
       "      <th></th>\n",
       "    </tr>\n",
       "  </thead>\n",
       "  <tbody>\n",
       "    <tr>\n",
       "      <td>Logistic Regression</td>\n",
       "      <td>0.923077</td>\n",
       "      <td>0.96</td>\n",
       "    </tr>\n",
       "    <tr>\n",
       "      <td>Random Forest</td>\n",
       "      <td>0.834783</td>\n",
       "      <td>0.96</td>\n",
       "    </tr>\n",
       "    <tr>\n",
       "      <td>Adaboost</td>\n",
       "      <td>0.770492</td>\n",
       "      <td>0.94</td>\n",
       "    </tr>\n",
       "  </tbody>\n",
       "</table>\n",
       "</div>"
      ],
      "text/plain": [
       "                     Precision  Recall\n",
       "Model                                 \n",
       "Logistic Regression   0.923077    0.96\n",
       "Random Forest         0.834783    0.96\n",
       "Adaboost              0.770492    0.94"
      ]
     },
     "execution_count": 882,
     "metadata": {},
     "output_type": "execute_result"
    }
   ],
   "source": [
    "period_2"
   ]
  }
 ],
 "metadata": {
  "kernelspec": {
   "display_name": "Python 3",
   "language": "python",
   "name": "python3"
  },
  "language_info": {
   "codemirror_mode": {
    "name": "ipython",
    "version": 3
   },
   "file_extension": ".py",
   "mimetype": "text/x-python",
   "name": "python",
   "nbconvert_exporter": "python",
   "pygments_lexer": "ipython3",
   "version": "3.7.4"
  }
 },
 "nbformat": 4,
 "nbformat_minor": 4
}
