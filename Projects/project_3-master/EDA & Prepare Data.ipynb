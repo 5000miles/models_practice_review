{
 "cells": [
  {
   "cell_type": "code",
   "execution_count": 1,
   "metadata": {},
   "outputs": [],
   "source": [
    "import pandas as pd\n",
    "import matplotlib.pyplot as plt\n",
    "import seaborn as sns\n",
    "from datetime import datetime\n",
    "\n",
    "from nltk.tokenize import RegexpTokenizer,sent_tokenize\n",
    "from nltk.stem import WordNetLemmatizer\n",
    "\n",
    "from sklearn.model_selection import train_test_split"
   ]
  },
  {
   "cell_type": "code",
   "execution_count": 2,
   "metadata": {},
   "outputs": [],
   "source": [
    "# import data of math subreddit\n",
    "math_submissions = pd.read_csv('math_submissions.csv')\n",
    "test_math_submissions = math_submissions.copy()\n",
    "\n",
    "# math_submissions: convert utc time to local time and see the distribution of post based on hour\n",
    "test_math_submissions['local_time_new'] = test_math_submissions['created_utc'].map(lambda x:datetime.fromtimestamp(x))\n",
    "test_math_submissions['local_time_new_hour'] = test_math_submissions['created_utc'].map(lambda x:datetime.fromtimestamp(x).hour)\n",
    "\n",
    "\n",
    "# sns.countplot(test_math_submissions['local_time_new_hour']);"
   ]
  },
  {
   "cell_type": "code",
   "execution_count": 3,
   "metadata": {},
   "outputs": [],
   "source": [
    "# import data of Physics subreddit\n",
    "\n",
    "physics_submissions = pd.read_csv('physics_submissions.csv')\n",
    "test_physics_submissions = physics_submissions.copy()\n",
    "\n",
    "# physics_submissions: convert utc time to local time and see the distribution of post based on hour\n",
    "test_physics_submissions['local_time_new'] = test_physics_submissions['created_utc'].map(lambda x:datetime.fromtimestamp(x))\n",
    "test_physics_submissions['local_time_new_hour'] = test_physics_submissions['created_utc'].map(lambda x:datetime.fromtimestamp(x).hour)\n",
    "# sns.countplot(test_physics_submissions['local_time_new_hour']);"
   ]
  },
  {
   "cell_type": "code",
   "execution_count": 9,
   "metadata": {},
   "outputs": [],
   "source": [
    "# take a look of the removed post\n",
    "\n",
    "math_submissions_removed = pd.read_csv('math_submissions_removed.csv')\n",
    "test_math_submissions_removed = math_submissions_removed.copy()\n",
    "test_math_submissions_removed['local_time_new'] = test_math_submissions_removed['created_utc'].map(lambda x:datetime.fromtimestamp(x))\n",
    "test_math_submissions_removed['local_time_new_hour'] = test_math_submissions_removed['created_utc'].map(lambda x:datetime.fromtimestamp(x).hour)\n"
   ]
  },
  {
   "cell_type": "code",
   "execution_count": 32,
   "metadata": {},
   "outputs": [
    {
     "data": {
      "image/png": "[encoded data removed]",
      "text/plain": [
       "<Figure size 1152x360 with 2 Axes>"
      ]
     },
     "metadata": {
      "needs_background": "light"
     },
     "output_type": "display_data"
    }
   ],
   "source": [
    "# plot the distribution of number of posts for each hour of the day \n",
    "# color=(1,0.2627451,0) reddit logo color\n",
    "\n",
    "plt.figure(figsize=(16,5))\n",
    "plt.subplot(1,2,1)\n",
    "sns.countplot(x = test_math_submissions['local_time_new_hour'], color=(1,0.2627451,0));\n",
    "plt.xlabel('hour of the day',fontsize=15);\n",
    "plt.ylabel('posts counts',fontsize=15);\n",
    "plt.title('Posts from Math subreddit',fontsize=18);\n",
    "\n",
    "plt.subplot(1,2,2)\n",
    "sns.countplot(x = test_physics_submissions['local_time_new_hour'], color=(1,0.2627451,0));\n",
    "plt.xlabel('hour of the day',fontsize=15);\n",
    "plt.ylabel('posts counts',fontsize=15);\n",
    "plt.title('Posts from Physics subreddit',fontsize=18);"
   ]
  },
  {
   "cell_type": "code",
   "execution_count": 33,
   "metadata": {},
   "outputs": [
    {
     "data": {
      "image/png": "[encoded data removed]",
      "text/plain": [
       "<Figure size 432x288 with 1 Axes>"
      ]
     },
     "metadata": {
      "needs_background": "light"
     },
     "output_type": "display_data"
    }
   ],
   "source": [
    "# take a look of the distribution of removed posts from math\n",
    "sns.countplot(x = test_math_submissions_removed['local_time_new_hour']);"
   ]
  },
  {
   "cell_type": "markdown",
   "metadata": {},
   "source": [
    "### Prepare the submission data"
   ]
  },
  {
   "cell_type": "code",
   "execution_count": 34,
   "metadata": {},
   "outputs": [],
   "source": [
    "def prepare(data_df):\n",
    "    # combine title column and selftext column\n",
    "    # check if the selftext is null and create a new column based on the result\n",
    "    data_df['selftext_null'] = data_df['selftext'].isnull().astype(int)\n",
    "    # using apply function to combine, if selftext is null then return title, otherwise, combine them.\n",
    "    data_df['title_selftext'] = data_df.apply(lambda x: x['title'] if (x['selftext_null']==1) else (x['title']+x['selftext']),axis=1)\n",
    "    \n",
    "    # tokenize the title_selftext\n",
    "    regex_token = RegexpTokenizer('\\w+')\n",
    "    data_df['title_selftext_token'] = data_df['title_selftext'].map(lambda x: regex_token.tokenize(x.lower()))\n",
    "    \n",
    "    # lemmitize the title_selftext_token\n",
    "    lemmatizer = WordNetLemmatizer()\n",
    "    data_df['title_selftext_token'] = data_df['title_selftext_token'].map(lambda x:[lemmatizer.lemmatize(i) for i in x])\n",
    "    \n",
    "    # convert list back to string in order to CountVectorizer\n",
    "    data_df['title_selftext_new'] = data_df['title_selftext_token'].map(lambda x: ','.join(x))\n",
    "    \n",
    "    return data_df"
   ]
  },
  {
   "cell_type": "code",
   "execution_count": 37,
   "metadata": {},
   "outputs": [],
   "source": [
    "math_submissions = prepare(math_submissions)"
   ]
  },
  {
   "cell_type": "code",
   "execution_count": 38,
   "metadata": {},
   "outputs": [],
   "source": [
    "physics_submissions = prepare(physics_submissions)"
   ]
  },
  {
   "cell_type": "markdown",
   "metadata": {},
   "source": [
    "### Combine Math and Physics"
   ]
  },
  {
   "cell_type": "code",
   "execution_count": 39,
   "metadata": {},
   "outputs": [],
   "source": [
    "# combine 2 datasets\n",
    "\n",
    "data_1 =  pd.concat([math_submissions[['title_selftext_new','subreddit']],physics_submissions[['title_selftext_new','subreddit']]],axis=0,ignore_index=True)"
   ]
  },
  {
   "cell_type": "code",
   "execution_count": 44,
   "metadata": {},
   "outputs": [],
   "source": [
    "X_1 = data_1['title_selftext_new']\n",
    "y_1 = data_1['subreddit']\n",
    "\n",
    "X_train_1, X_test_1, y_train_1, y_test_1 = train_test_split(X_1, y_1, random_state=42, stratify=y_1)"
   ]
  },
  {
   "cell_type": "code",
   "execution_count": 46,
   "metadata": {},
   "outputs": [
    {
     "name": "stdout",
     "output_type": "stream",
     "text": [
      "Stored 'X_train_1' (Series)\n",
      "Stored 'X_test_1' (Series)\n",
      "Stored 'y_train_1' (Series)\n",
      "Stored 'y_test_1' (Series)\n"
     ]
    }
   ],
   "source": [
    "%store X_train_1\n",
    "%store X_test_1\n",
    "%store y_train_1\n",
    "%store y_test_1"
   ]
  },
  {
   "cell_type": "markdown",
   "metadata": {},
   "source": [
    "### Prepare the removed posts data"
   ]
  },
  {
   "cell_type": "code",
   "execution_count": 13,
   "metadata": {},
   "outputs": [],
   "source": [
    "# since the selftext in removed posts is ['removed'], change it to nan\n",
    "math_submissions_removed['selftext'] = np.nan"
   ]
  },
  {
   "cell_type": "code",
   "execution_count": 14,
   "metadata": {},
   "outputs": [],
   "source": [
    "math_submissions_removed = prepare(math_submissions_removed)"
   ]
  },
  {
   "cell_type": "code",
   "execution_count": 15,
   "metadata": {},
   "outputs": [],
   "source": [
    "# change the values in subreddit column to removed\n",
    "math_submissions_removed['subreddit'] = 'removed'"
   ]
  },
  {
   "cell_type": "code",
   "execution_count": 16,
   "metadata": {},
   "outputs": [],
   "source": [
    "data_2 =  pd.concat([math_submissions[['title_selftext_new','subreddit']],math_submissions_removed[['title_selftext_new','subreddit']]],axis=0,ignore_index=True)"
   ]
  },
  {
   "cell_type": "code",
   "execution_count": 17,
   "metadata": {},
   "outputs": [],
   "source": [
    "X_2 = data_2['title_selftext_new']\n",
    "y_2 = data_2['subreddit']\n",
    "\n",
    "X_train_2, X_test_2, y_train_2, y_test_2 = train_test_split(X_2, y_2, random_state=42, stratify=y_2)"
   ]
  },
  {
   "cell_type": "code",
   "execution_count": null,
   "metadata": {},
   "outputs": [],
   "source": [
    "%store X_train_2\n",
    "%store X_test_2\n",
    "%store y_train_2\n",
    "%store y_test_2"
   ]
  }
 ],
 "metadata": {
  "kernelspec": {
   "display_name": "Python 3",
   "language": "python",
   "name": "python3"
  },
  "language_info": {
   "codemirror_mode": {
    "name": "ipython",
    "version": 3
   },
   "file_extension": ".py",
   "mimetype": "text/x-python",
   "name": "python",
   "nbconvert_exporter": "python",
   "pygments_lexer": "ipython3",
   "version": "3.7.4"
  }
 },
 "nbformat": 4,
 "nbformat_minor": 4
}
