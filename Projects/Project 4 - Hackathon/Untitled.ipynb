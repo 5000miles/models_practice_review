{
 "cells": [
  {
   "cell_type": "code",
   "execution_count": 122,
   "metadata": {},
   "outputs": [],
   "source": [
    "import pandas as pd\n",
    "import numpy as np\n",
    "import seaborn as sns\n",
    "import matplotlib.pyplot as plt\n",
    "\n",
    "\n",
    "# model packages\n",
    "from sklearn.tree import DecisionTreeClassifier\n",
    "from sklearn.ensemble import RandomForestClassifier,AdaBoostClassifier,ExtraTreesClassifier\n",
    "from sklearn.svm import SVC\n",
    "from sklearn.metrics import confusion_matrix,accuracy_score\n",
    "from sklearn.model_selection import cross_val_score,train_test_split,GridSearchCV\n",
    "from sklearn.preprocessing import StandardScaler\n",
    "from sklearn.pipeline import Pipeline\n"
   ]
  },
  {
   "cell_type": "code",
   "execution_count": 70,
   "metadata": {},
   "outputs": [],
   "source": [
    "data = pd.read_csv('Stars.csv')"
   ]
  },
  {
   "cell_type": "code",
   "execution_count": 71,
   "metadata": {},
   "outputs": [
    {
     "data": {
      "text/html": [
       "<div>\n",
       "<style scoped>\n",
       "    .dataframe tbody tr th:only-of-type {\n",
       "        vertical-align: middle;\n",
       "    }\n",
       "\n",
       "    .dataframe tbody tr th {\n",
       "        vertical-align: top;\n",
       "    }\n",
       "\n",
       "    .dataframe thead th {\n",
       "        text-align: right;\n",
       "    }\n",
       "</style>\n",
       "<table border=\"1\" class=\"dataframe\">\n",
       "  <thead>\n",
       "    <tr style=\"text-align: right;\">\n",
       "      <th></th>\n",
       "      <th>Temperature</th>\n",
       "      <th>L</th>\n",
       "      <th>R</th>\n",
       "      <th>A_M</th>\n",
       "      <th>Color</th>\n",
       "      <th>Spectral_Class</th>\n",
       "      <th>Type</th>\n",
       "    </tr>\n",
       "  </thead>\n",
       "  <tbody>\n",
       "    <tr>\n",
       "      <td>0</td>\n",
       "      <td>3068</td>\n",
       "      <td>0.0024</td>\n",
       "      <td>0.1700</td>\n",
       "      <td>16.12</td>\n",
       "      <td>Red</td>\n",
       "      <td>M</td>\n",
       "      <td>0</td>\n",
       "    </tr>\n",
       "    <tr>\n",
       "      <td>1</td>\n",
       "      <td>3042</td>\n",
       "      <td>0.0005</td>\n",
       "      <td>0.1542</td>\n",
       "      <td>16.60</td>\n",
       "      <td>Red</td>\n",
       "      <td>M</td>\n",
       "      <td>0</td>\n",
       "    </tr>\n",
       "    <tr>\n",
       "      <td>2</td>\n",
       "      <td>2600</td>\n",
       "      <td>0.0003</td>\n",
       "      <td>0.1020</td>\n",
       "      <td>18.70</td>\n",
       "      <td>Red</td>\n",
       "      <td>M</td>\n",
       "      <td>0</td>\n",
       "    </tr>\n",
       "  </tbody>\n",
       "</table>\n",
       "</div>"
      ],
      "text/plain": [
       "   Temperature       L       R    A_M Color Spectral_Class  Type\n",
       "0         3068  0.0024  0.1700  16.12   Red              M     0\n",
       "1         3042  0.0005  0.1542  16.60   Red              M     0\n",
       "2         2600  0.0003  0.1020  18.70   Red              M     0"
      ]
     },
     "execution_count": 71,
     "metadata": {},
     "output_type": "execute_result"
    }
   ],
   "source": [
    "data.head(3)"
   ]
  },
  {
   "cell_type": "markdown",
   "metadata": {},
   "source": [
    "### Predictors:\n",
    "- **Temperature**: K\n",
    "- **L**: Relative Luminosity, L/Lo (1 Lo = 3.828 x 10^26 Watts, Avg Luminosity of Sun)\n",
    "- **R**: Relative Radius, R/Ro (1 Ro = 6.9551 x 10^8 m, Avg Radius of Sun)\n",
    "- **AM**: Absolute Magnitude, AM/Mv\n",
    "- **Color**: General Color of Spectrum\n",
    "- **Spectral_Class**: O,B,A,F,G,K,M / SMASS - https://en.wikipedia.org/wiki/Asteroid_spectral_types\n",
    "\n",
    "### Target:\n",
    "- **Type**:\n",
    "    * Red Dwarf: 0\n",
    "    * Brown Dwarf: 1\n",
    "    * White Dwarf: 2\n",
    "    * Main Sequence: 3\n",
    "    * Super Giants: 4\n",
    "    * Hyper Giants: 5\n"
   ]
  },
  {
   "cell_type": "code",
   "execution_count": 72,
   "metadata": {},
   "outputs": [],
   "source": [
    "# rename the columns for convenience\n",
    "data.columns = ['temp','lum','rad','mag','col','spe_class','type']"
   ]
  },
  {
   "cell_type": "markdown",
   "metadata": {},
   "source": [
    "### EDA"
   ]
  },
  {
   "cell_type": "code",
   "execution_count": 73,
   "metadata": {},
   "outputs": [
    {
     "data": {
      "text/plain": [
       "temp         0\n",
       "lum          0\n",
       "rad          0\n",
       "mag          0\n",
       "col          0\n",
       "spe_class    0\n",
       "type         0\n",
       "dtype: int64"
      ]
     },
     "execution_count": 73,
     "metadata": {},
     "output_type": "execute_result"
    }
   ],
   "source": [
    "# check if any missing values \n",
    "data.isnull().sum()"
   ]
  },
  {
   "cell_type": "code",
   "execution_count": 74,
   "metadata": {},
   "outputs": [
    {
     "data": {
      "image/png": "[encoded data removed]",
      "text/plain": [
       "<Figure size 432x288 with 1 Axes>"
      ]
     },
     "metadata": {
      "needs_background": "light"
     },
     "output_type": "display_data"
    }
   ],
   "source": [
    "# Distribution of each numeric variable\n",
    "plt.hist(data['temp']);"
   ]
  },
  {
   "cell_type": "code",
   "execution_count": 75,
   "metadata": {},
   "outputs": [
    {
     "data": {
      "image/png": "[encoded data removed]",
      "text/plain": [
       "<Figure size 432x288 with 1 Axes>"
      ]
     },
     "metadata": {
      "needs_background": "light"
     },
     "output_type": "display_data"
    }
   ],
   "source": [
    "plt.hist(data['lum']);"
   ]
  },
  {
   "cell_type": "code",
   "execution_count": 76,
   "metadata": {},
   "outputs": [
    {
     "data": {
      "image/png": "[encoded data removed]",
      "text/plain": [
       "<Figure size 432x288 with 1 Axes>"
      ]
     },
     "metadata": {
      "needs_background": "light"
     },
     "output_type": "display_data"
    }
   ],
   "source": [
    "plt.hist(data['rad']);"
   ]
  },
  {
   "cell_type": "code",
   "execution_count": 77,
   "metadata": {},
   "outputs": [
    {
     "data": {
      "image/png": "[encoded data removed]",
      "text/plain": [
       "<Figure size 432x288 with 1 Axes>"
      ]
     },
     "metadata": {
      "needs_background": "light"
     },
     "output_type": "display_data"
    }
   ],
   "source": [
    "plt.hist(data['mag']);"
   ]
  },
  {
   "cell_type": "code",
   "execution_count": 78,
   "metadata": {},
   "outputs": [
    {
     "data": {
      "text/plain": [
       "Red                   112\n",
       "Blue                   56\n",
       "Blue-white             26\n",
       "Blue White             10\n",
       "yellow-white            8\n",
       "White                   7\n",
       "Blue white              4\n",
       "white                   3\n",
       "Yellowish White         3\n",
       "Whitish                 2\n",
       "yellowish               2\n",
       "Orange                  2\n",
       "Blue-White              1\n",
       "Orange-Red              1\n",
       "White-Yellow            1\n",
       "Pale yellow orange      1\n",
       "Yellowish               1\n",
       "Name: col, dtype: int64"
      ]
     },
     "execution_count": 78,
     "metadata": {},
     "output_type": "execute_result"
    }
   ],
   "source": [
    "data['col'].value_counts()"
   ]
  },
  {
   "cell_type": "code",
   "execution_count": 79,
   "metadata": {},
   "outputs": [],
   "source": [
    "# 1)using lowercase for for each color\n",
    "\n",
    "data['col'] = data['col'].map(lambda x: x.lower())"
   ]
  },
  {
   "cell_type": "code",
   "execution_count": 80,
   "metadata": {},
   "outputs": [],
   "source": [
    "# 2) replace - with space\n",
    "data['col'] = data['col'].map(lambda x: x.replace('-', ' '))"
   ]
  },
  {
   "cell_type": "code",
   "execution_count": 81,
   "metadata": {},
   "outputs": [],
   "source": [
    "color_rgb = {\n",
    "    'red':'255,0,0',\n",
    "    'blue':'0,0,255',\n",
    "    'blue white':'173, 216, 230',\n",
    "    'white':'255,255,255',\n",
    "    'yellow white':'255,255,190',\n",
    "    'yellowish white':'255,255,190',\n",
    "    'yellowish':'255,255,190',\n",
    "    'orange':'255,165,0',\n",
    "    'whitish':'255,255,255',\n",
    "    'pale yellow orange':'255,207,143',\n",
    "    'white yellow':'255,207,143',\n",
    "    'orange red':'255,69,0'\n",
    "            }"
   ]
  },
  {
   "cell_type": "code",
   "execution_count": 82,
   "metadata": {},
   "outputs": [],
   "source": [
    "def color_map(color):\n",
    "    return color_rgb['color']"
   ]
  },
  {
   "cell_type": "code",
   "execution_count": 83,
   "metadata": {},
   "outputs": [],
   "source": [
    "# 3) using RGB color model to classify each color\n",
    "color_rgb = {\n",
    "    'red':'255,0,0',\n",
    "    'blue':'0,0,255',\n",
    "    'blue white':'173,216,230',\n",
    "    'white':'255,255,255',\n",
    "    'yellow white':'255,255,190',\n",
    "    'yellowish white':'255,255,190',\n",
    "    'yellowish':'255,255,190',\n",
    "    'orange':'255,165,0',\n",
    "    'whitish':'255,255,255',\n",
    "    'pale yellow orange':'255,207,143',\n",
    "    'white yellow':'255,207,143',\n",
    "    'orange red':'255,69,0'\n",
    "            }\n",
    "\n",
    "def color_map(color):\n",
    "    return color_rgb[color]\n",
    "\n",
    "data['col_rgb'] = data['col'].map(color_map)\n",
    "\n",
    "# split rgb into r,g,b\n",
    "data[['r','g','b']] = data['col_rgb'].str.split(',',expand=True).astype('int')"
   ]
  },
  {
   "cell_type": "code",
   "execution_count": 84,
   "metadata": {},
   "outputs": [
    {
     "data": {
      "text/plain": [
       "M    111\n",
       "B     46\n",
       "O     40\n",
       "A     19\n",
       "F     17\n",
       "K      6\n",
       "G      1\n",
       "Name: spe_class, dtype: int64"
      ]
     },
     "execution_count": 84,
     "metadata": {},
     "output_type": "execute_result"
    }
   ],
   "source": [
    "# value counts for spe_class\n",
    "data['spe_class'].value_counts()"
   ]
  },
  {
   "cell_type": "code",
   "execution_count": 85,
   "metadata": {},
   "outputs": [
    {
     "data": {
      "text/plain": [
       "5    40\n",
       "4    40\n",
       "3    40\n",
       "2    40\n",
       "1    40\n",
       "0    40\n",
       "Name: type, dtype: int64"
      ]
     },
     "execution_count": 85,
     "metadata": {},
     "output_type": "execute_result"
    }
   ],
   "source": [
    "# check the target value\n",
    "data['type'].value_counts()"
   ]
  },
  {
   "cell_type": "markdown",
   "metadata": {},
   "source": [
    "well balanced"
   ]
  },
  {
   "cell_type": "code",
   "execution_count": 86,
   "metadata": {},
   "outputs": [
    {
     "name": "stdout",
     "output_type": "stream",
     "text": [
      "<class 'pandas.core.frame.DataFrame'>\n",
      "RangeIndex: 240 entries, 0 to 239\n",
      "Data columns (total 11 columns):\n",
      "temp         240 non-null int64\n",
      "lum          240 non-null float64\n",
      "rad          240 non-null float64\n",
      "mag          240 non-null float64\n",
      "col          240 non-null object\n",
      "spe_class    240 non-null object\n",
      "type         240 non-null int64\n",
      "col_rgb      240 non-null object\n",
      "r            240 non-null int64\n",
      "g            240 non-null int64\n",
      "b            240 non-null int64\n",
      "dtypes: float64(3), int64(5), object(3)\n",
      "memory usage: 20.8+ KB\n"
     ]
    }
   ],
   "source": [
    "data.info()"
   ]
  },
  {
   "cell_type": "markdown",
   "metadata": {},
   "source": [
    "### Set up X,y"
   ]
  },
  {
   "cell_type": "code",
   "execution_count": 87,
   "metadata": {},
   "outputs": [],
   "source": [
    "X = data.drop(['col_rgb','col','type'],axis=1)\n",
    "y = data['type']\n",
    "\n",
    "X_dummy = pd.get_dummies(X,drop_first=True)"
   ]
  },
  {
   "cell_type": "code",
   "execution_count": 88,
   "metadata": {},
   "outputs": [],
   "source": [
    "X_train,X_test,y_train,y_test = train_test_split(X_dummy,y,random_state=33)"
   ]
  },
  {
   "cell_type": "markdown",
   "metadata": {},
   "source": [
    "### Model 1: Decision Tree"
   ]
  },
  {
   "cell_type": "code",
   "execution_count": 93,
   "metadata": {},
   "outputs": [],
   "source": [
    "pipe1 = Pipeline([\n",
    "    ('sc',StandardScaler()),\n",
    "    ('dc',DecisionTreeClassifier())\n",
    "])\n",
    "\n",
    "pipe1_params = {\n",
    "    'sc__with_mean':[True,False],\n",
    "    'sc__with_std':[True,False],\n",
    "    'dc__max_depth':[None,1,2,3,4,5],\n",
    "    'dc__min_samples_split':[2,3,4]\n",
    "}\n",
    "\n",
    "pipe1_gs = GridSearchCV(pipe1,pipe1_params,cv=5,verbose=1)"
   ]
  },
  {
   "cell_type": "code",
   "execution_count": 94,
   "metadata": {},
   "outputs": [
    {
     "name": "stdout",
     "output_type": "stream",
     "text": [
      "Fitting 5 folds for each of 72 candidates, totalling 360 fits\n"
     ]
    },
    {
     "data": {
      "text/plain": [
       "GridSearchCV(cv=5,\n",
       "             estimator=Pipeline(steps=[('sc', StandardScaler()),\n",
       "                                       ('dc', DecisionTreeClassifier())]),\n",
       "             param_grid={'dc__max_depth': [None, 1, 2, 3, 4, 5],\n",
       "                         'dc__min_samples_split': [2, 3, 4],\n",
       "                         'sc__with_mean': [True, False],\n",
       "                         'sc__with_std': [True, False]},\n",
       "             verbose=1)"
      ]
     },
     "execution_count": 94,
     "metadata": {},
     "output_type": "execute_result"
    }
   ],
   "source": [
    "pipe1_gs.fit(X_train,y_train)"
   ]
  },
  {
   "cell_type": "code",
   "execution_count": 97,
   "metadata": {},
   "outputs": [
    {
     "data": {
      "text/plain": [
       "1.0"
      ]
     },
     "execution_count": 97,
     "metadata": {},
     "output_type": "execute_result"
    }
   ],
   "source": [
    "pipe1_gs.best_score_"
   ]
  },
  {
   "cell_type": "code",
   "execution_count": 99,
   "metadata": {},
   "outputs": [
    {
     "data": {
      "text/plain": [
       "0.9666666666666667"
      ]
     },
     "execution_count": 99,
     "metadata": {},
     "output_type": "execute_result"
    }
   ],
   "source": [
    "pipe1_gs.score(X_test,y_test)"
   ]
  },
  {
   "cell_type": "markdown",
   "metadata": {},
   "source": [
    "### Model 2: Random Forest"
   ]
  },
  {
   "cell_type": "code",
   "execution_count": 114,
   "metadata": {},
   "outputs": [],
   "source": [
    "pipe2 = Pipeline([\n",
    "    ('sc',StandardScaler()),\n",
    "    ('rd',RandomForestClassifier())\n",
    "])\n",
    "\n",
    "pipe2_params = {\n",
    "    'sc__with_mean':[True,False],\n",
    "    'sc__with_std':[True,False]\n",
    "}\n",
    "\n",
    "pipe2_gs = GridSearchCV(pipe2,pipe2_params,cv=5,verbose=1)"
   ]
  },
  {
   "cell_type": "code",
   "execution_count": 115,
   "metadata": {},
   "outputs": [
    {
     "name": "stdout",
     "output_type": "stream",
     "text": [
      "Fitting 5 folds for each of 4 candidates, totalling 20 fits\n"
     ]
    },
    {
     "data": {
      "text/plain": [
       "GridSearchCV(cv=5,\n",
       "             estimator=Pipeline(steps=[('sc', StandardScaler()),\n",
       "                                       ('rd', RandomForestClassifier())]),\n",
       "             param_grid={'sc__with_mean': [True, False],\n",
       "                         'sc__with_std': [True, False]},\n",
       "             verbose=1)"
      ]
     },
     "execution_count": 115,
     "metadata": {},
     "output_type": "execute_result"
    }
   ],
   "source": [
    "pipe2_gs.fit(X_train,y_train)"
   ]
  },
  {
   "cell_type": "code",
   "execution_count": 117,
   "metadata": {},
   "outputs": [
    {
     "data": {
      "text/plain": [
       "1.0"
      ]
     },
     "execution_count": 117,
     "metadata": {},
     "output_type": "execute_result"
    }
   ],
   "source": [
    "pipe2_gs.score(X_train,y_train)"
   ]
  },
  {
   "cell_type": "code",
   "execution_count": 118,
   "metadata": {},
   "outputs": [
    {
     "data": {
      "text/plain": [
       "1.0"
      ]
     },
     "execution_count": 118,
     "metadata": {},
     "output_type": "execute_result"
    }
   ],
   "source": [
    "pipe2_gs.score(X_train,y_train)"
   ]
  },
  {
   "cell_type": "code",
   "execution_count": 119,
   "metadata": {},
   "outputs": [],
   "source": [
    "preds_2 = pipe1_gs.predict(X_test)"
   ]
  },
  {
   "cell_type": "code",
   "execution_count": 120,
   "metadata": {},
   "outputs": [
    {
     "data": {
      "text/plain": [
       "array([1, 2, 3, 2, 5, 0, 5, 4, 0, 0, 0, 2, 1, 1, 1, 4, 3, 2, 4, 2, 1, 0,\n",
       "       3, 3, 5, 5, 4, 5, 5, 1, 1, 1, 4, 5, 3, 2, 4, 3, 3, 3, 5, 5, 3, 5,\n",
       "       0, 4, 4, 5, 1, 1, 2, 2, 5, 3, 2, 0, 3, 1, 4, 4])"
      ]
     },
     "execution_count": 120,
     "metadata": {},
     "output_type": "execute_result"
    }
   ],
   "source": [
    "preds_2"
   ]
  },
  {
   "cell_type": "code",
   "execution_count": 121,
   "metadata": {},
   "outputs": [
    {
     "data": {
      "text/plain": [
       "array([[ 7,  0,  0,  0,  0,  0],\n",
       "       [ 0, 11,  0,  0,  0,  0],\n",
       "       [ 0,  0,  9,  0,  0,  0],\n",
       "       [ 0,  0,  0, 11,  0,  0],\n",
       "       [ 0,  0,  0,  0, 10,  0],\n",
       "       [ 0,  0,  0,  0,  0, 12]])"
      ]
     },
     "execution_count": 121,
     "metadata": {},
     "output_type": "execute_result"
    }
   ],
   "source": [
    "confusion_matrix(y_test,preds_2)"
   ]
  },
  {
   "cell_type": "code",
   "execution_count": 123,
   "metadata": {},
   "outputs": [
    {
     "data": {
      "text/plain": [
       "1.0"
      ]
     },
     "execution_count": 123,
     "metadata": {},
     "output_type": "execute_result"
    }
   ],
   "source": [
    "accuracy_score(y_test,preds_2)"
   ]
  }
 ],
 "metadata": {
  "kernelspec": {
   "display_name": "Python 3",
   "language": "python",
   "name": "python3"
  },
  "language_info": {
   "codemirror_mode": {
    "name": "ipython",
    "version": 3
   },
   "file_extension": ".py",
   "mimetype": "text/x-python",
   "name": "python",
   "nbconvert_exporter": "python",
   "pygments_lexer": "ipython3",
   "version": "3.7.4"
  }
 },
 "nbformat": 4,
 "nbformat_minor": 4
}
