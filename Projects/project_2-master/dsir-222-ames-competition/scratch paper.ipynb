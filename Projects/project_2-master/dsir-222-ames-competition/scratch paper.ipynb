{
 "cells": [
  {
   "cell_type": "code",
   "execution_count": 195,
   "metadata": {},
   "outputs": [],
   "source": [
    "#libaries\n",
    "import pandas as pd\n",
    "import numpy as np\n",
    "import matplotlib.pyplot as plt\n",
    "import seaborn as sns\n",
    "\n",
    "from sklearn.model_selection import train_test_split, cross_val_score\n",
    "from sklearn.metrics import mean_squared_error\n",
    "from sklearn.linear_model import LinearRegression"
   ]
  },
  {
   "cell_type": "code",
   "execution_count": 197,
   "metadata": {},
   "outputs": [],
   "source": [
    "df = pd.read_csv('train.csv')"
   ]
  },
  {
   "cell_type": "markdown",
   "metadata": {},
   "source": [
    "---\n",
    "## Transfomations:"
   ]
  },
  {
   "cell_type": "code",
   "execution_count": 198,
   "metadata": {},
   "outputs": [],
   "source": [
    "# rename the columns names using lower case and replace space with '_'\n",
    "def rename_columns(df):\n",
    "    df.columns = [columns.lower().replace(\" \",\"_\") for columns in df.columns]\n",
    "    return df\n",
    "\n",
    "df = rename_columns(df)"
   ]
  },
  {
   "cell_type": "code",
   "execution_count": 199,
   "metadata": {},
   "outputs": [],
   "source": [
    "# add 1st_flr_sf and 2nd_flr_sf and create a new column total_sf\n",
    "def create_total_sf(df):\n",
    "    df['total_sf'] = df['1st_flr_sf'] + df['2nd_flr_sf']\n",
    "    return df\n",
    "df = create_total_sf(df)"
   ]
  },
  {
   "cell_type": "code",
   "execution_count": 201,
   "metadata": {},
   "outputs": [],
   "source": [
    "# sum up all the qualites ( basement + kitchen + exter)\n",
    "def all_qual(df):\n",
    "    df['bsmt_qual_fillna'] = df['bsmt_qual'].copy()\n",
    "    df['bsmt_qual_fillna'].fillna(6,inplace=True)\n",
    "    df['bsmt_qual_fillna'] = df['bsmt_qual_fillna'].map({'Po':2,'Fa':2,'TA':3,'Gd':4,'Ex':5,6:2})\n",
    "    \n",
    "    df['kitchen_qual_new'] = df['kitchen_qual'].map({'Po':1,'Fa':2,'TA':3,'Gd':4,'Ex':5})\n",
    "    \n",
    "    df['exter_qual_new'] = df['exter_qual'].map({'Po':1,'Fa':2,'TA':3,'Gd':4,'Ex':5})\n",
    "    \n",
    "    df['all_qual'] = df['overall_qual'] + df['bsmt_qual_fillna'] + df['kitchen_qual_new'] + df['exter_qual_new']\n",
    "    return df\n",
    "df = all_qual(df)"
   ]
  },
  {
   "cell_type": "code",
   "execution_count": 8,
   "metadata": {},
   "outputs": [],
   "source": [
    "# def bsmt_qual_alter(df):\n",
    "#     df['bsmt_qual_test1'] = df['bsmt_qual'].map(lambda x: 'Fa' if str(x) == 'nan' or x == 'Po' else x)\n",
    "#     df.drop('bsmt_qual',axis = 1,inplace=True)\n",
    "#     return df\n",
    "# df = bsmt_qual_alter(df)"
   ]
  },
  {
   "cell_type": "code",
   "execution_count": 9,
   "metadata": {},
   "outputs": [],
   "source": [
    "# def bsmt_full_bath_na(df):\n",
    "#     df['bsmt_full_bath'].fillna(0,inplace=True)\n",
    "#     return df\n",
    "    \n",
    "# df = bsmt_full_bath_na(df)"
   ]
  },
  {
   "cell_type": "code",
   "execution_count": 10,
   "metadata": {},
   "outputs": [],
   "source": [
    "def garage_cars_na(df):\n",
    "    df = df[~df['garage_cars'].isnull()]\n",
    "    return df\n",
    "df = garage_cars_na(df)"
   ]
  },
  {
   "cell_type": "code",
   "execution_count": 11,
   "metadata": {},
   "outputs": [],
   "source": [
    "def room_avg_size(df):\n",
    "    df['room_avg_size'] = df['total_sf'] / (df['totrms_abvgrd'] + df['full_bath'] + 0.5*df['half_bath'] + df['kitchen_abvgr'])\n",
    "    return df\n",
    "df = room_avg_size(df)"
   ]
  },
  {
   "cell_type": "code",
   "execution_count": 12,
   "metadata": {},
   "outputs": [],
   "source": [
    "def total_baths(df):\n",
    "    df['total_baths'] = df['full_bath'] + 0.5*df['half_bath'] + 0.5* df['bsmt_full_bath'].fillna(0) + 0.5 *0.5* df['bsmt_half_bath'].fillna(0)\n",
    "    return df\n",
    "df = total_baths(df)"
   ]
  },
  {
   "cell_type": "code",
   "execution_count": 253,
   "metadata": {},
   "outputs": [],
   "source": [
    "# def central_air_convert(df):\n",
    "#     df['central_air'] = df['central_air'].map({'Y':1,'N':0})\n",
    "#     return df\n",
    "# df = central_air_convert(df)"
   ]
  },
  {
   "cell_type": "markdown",
   "metadata": {},
   "source": [
    "---\n",
    "## First try\n"
   ]
  },
  {
   "cell_type": "code",
   "execution_count": 48,
   "metadata": {},
   "outputs": [],
   "source": [
    "df_1st = df[['overall_qual','year_built', 'exter_qual', 'bsmt_qual_test1', 'central_air','total_sf','bsmt_full_bath','full_bath','kitchen_qual','totrms_abvgrd','fireplaces','garage_cars','saleprice','room_avg_size']]"
   ]
  },
  {
   "cell_type": "code",
   "execution_count": 49,
   "metadata": {},
   "outputs": [],
   "source": [
    "df_1st_dummy = pd.get_dummies(df_1st,drop_first=True)"
   ]
  },
  {
   "cell_type": "code",
   "execution_count": 50,
   "metadata": {},
   "outputs": [],
   "source": [
    "X = df_1st_dummy.drop('saleprice', axis=1)\n",
    "y = df_1st_dummy['saleprice']\n",
    "\n",
    "X_train,X_test,y_train,y_test = train_test_split(X,y,random_state=42)"
   ]
  },
  {
   "cell_type": "code",
   "execution_count": 51,
   "metadata": {},
   "outputs": [
    {
     "data": {
      "text/plain": [
       "0.8265385234213605"
      ]
     },
     "execution_count": 51,
     "metadata": {},
     "output_type": "execute_result"
    }
   ],
   "source": [
    "linreg_1 = LinearRegression()\n",
    "linreg_1.fit(X_train,y_train)\n",
    "linreg_1.score(X_train,y_train)"
   ]
  },
  {
   "cell_type": "code",
   "execution_count": 114,
   "metadata": {},
   "outputs": [
    {
     "data": {
      "text/plain": [
       "0.8530189256712726"
      ]
     },
     "execution_count": 114,
     "metadata": {},
     "output_type": "execute_result"
    }
   ],
   "source": [
    "linreg_1.score(X_test,y_test)"
   ]
  },
  {
   "cell_type": "code",
   "execution_count": 52,
   "metadata": {},
   "outputs": [
    {
     "data": {
      "text/plain": [
       "0.8125124826975478"
      ]
     },
     "execution_count": 52,
     "metadata": {},
     "output_type": "execute_result"
    }
   ],
   "source": [
    "cross_val_score(linreg_1,X_train,y_train,cv=10).mean()"
   ]
  },
  {
   "cell_type": "code",
   "execution_count": null,
   "metadata": {},
   "outputs": [],
   "source": []
  },
  {
   "cell_type": "code",
   "execution_count": null,
   "metadata": {},
   "outputs": [],
   "source": []
  },
  {
   "cell_type": "markdown",
   "metadata": {},
   "source": [
    "---\n",
    "### compare"
   ]
  },
  {
   "cell_type": "code",
   "execution_count": 54,
   "metadata": {},
   "outputs": [],
   "source": [
    "df_compare = df[['overall_qual','year_built', 'exter_qual', 'bsmt_qual_test1', 'central_air','total_sf','bsmt_full_bath','full_bath','kitchen_qual','totrms_abvgrd','fireplaces','garage_cars','saleprice']]"
   ]
  },
  {
   "cell_type": "code",
   "execution_count": 55,
   "metadata": {},
   "outputs": [],
   "source": [
    "df_comp_dummy = pd.get_dummies(df_compare,drop_first=True)"
   ]
  },
  {
   "cell_type": "code",
   "execution_count": 56,
   "metadata": {},
   "outputs": [],
   "source": [
    "X_comp = df_comp_dummy.drop('saleprice', axis=1)\n",
    "y_comp = df_comp_dummy['saleprice']\n",
    "\n",
    "X_train_comp,X_test_comp,y_train_comp,y_test_comp = train_test_split(X_comp,y_comp,random_state=42)"
   ]
  },
  {
   "cell_type": "code",
   "execution_count": 57,
   "metadata": {},
   "outputs": [
    {
     "data": {
      "text/plain": [
       "0.8233548875985597"
      ]
     },
     "execution_count": 57,
     "metadata": {},
     "output_type": "execute_result"
    }
   ],
   "source": [
    "linreg_comp = LinearRegression()\n",
    "linreg_comp.fit(X_train_comp,y_train_comp)\n",
    "\n",
    "linreg_comp.score(X_train_comp,y_train_comp)"
   ]
  },
  {
   "cell_type": "code",
   "execution_count": 113,
   "metadata": {},
   "outputs": [
    {
     "data": {
      "text/plain": [
       "0.8558706037472356"
      ]
     },
     "execution_count": 113,
     "metadata": {},
     "output_type": "execute_result"
    }
   ],
   "source": [
    "linreg_comp.score(X_test_comp,y_test_comp)"
   ]
  },
  {
   "cell_type": "code",
   "execution_count": 115,
   "metadata": {},
   "outputs": [
    {
     "data": {
      "text/plain": [
       "array([0.81687355, 0.85817739, 0.87370906, 0.842806  , 0.80654737,\n",
       "       0.88871304, 0.86907093, 0.74961456, 0.57576861, 0.84398492])"
      ]
     },
     "execution_count": 115,
     "metadata": {},
     "output_type": "execute_result"
    }
   ],
   "source": [
    "cross_val_score(linreg_comp,X_train_comp,y_train_comp,cv=10)"
   ]
  },
  {
   "cell_type": "code",
   "execution_count": null,
   "metadata": {},
   "outputs": [],
   "source": []
  },
  {
   "cell_type": "code",
   "execution_count": null,
   "metadata": {},
   "outputs": [],
   "source": []
  },
  {
   "cell_type": "code",
   "execution_count": null,
   "metadata": {},
   "outputs": [],
   "source": []
  },
  {
   "cell_type": "markdown",
   "metadata": {},
   "source": [
    "---\n",
    "### 3rd try"
   ]
  },
  {
   "cell_type": "code",
   "execution_count": 87,
   "metadata": {},
   "outputs": [],
   "source": [
    "df_3rd = df[['all_qual', 'exter_qual', 'central_air','total_sf','kitchen_qual','totrms_abvgrd','fireplaces','garage_cars','saleprice','room_avg_size']]"
   ]
  },
  {
   "cell_type": "code",
   "execution_count": 88,
   "metadata": {},
   "outputs": [],
   "source": [
    "df_3rd_dummies = pd.get_dummies(df_3rd,drop_first=True)"
   ]
  },
  {
   "cell_type": "code",
   "execution_count": 89,
   "metadata": {},
   "outputs": [],
   "source": [
    "X_3rd = df_3rd_dummies.drop('saleprice',axis=1)\n",
    "y_3rd = df_3rd_dummies['saleprice']"
   ]
  },
  {
   "cell_type": "code",
   "execution_count": 90,
   "metadata": {},
   "outputs": [],
   "source": [
    "X_train_3rd,X_test_3rd,y_train_3rd,y_test_3rd = train_test_split(X_3rd,y_3rd,random_state=42)"
   ]
  },
  {
   "cell_type": "code",
   "execution_count": 91,
   "metadata": {},
   "outputs": [
    {
     "data": {
      "text/plain": [
       "0.8131831831403985"
      ]
     },
     "execution_count": 91,
     "metadata": {},
     "output_type": "execute_result"
    }
   ],
   "source": [
    "linreg_3rd = LinearRegression()\n",
    "linreg_3rd.fit(X_train_3rd,y_train_3rd)\n",
    "\n",
    "linreg_3rd.score(X_train_3rd,y_train_3rd)"
   ]
  },
  {
   "cell_type": "code",
   "execution_count": 112,
   "metadata": {},
   "outputs": [
    {
     "data": {
      "text/plain": [
       "0.8462187744508909"
      ]
     },
     "execution_count": 112,
     "metadata": {},
     "output_type": "execute_result"
    }
   ],
   "source": [
    "linreg_3rd.score(X_test_3rd,y_test_3rd)"
   ]
  },
  {
   "cell_type": "code",
   "execution_count": 94,
   "metadata": {},
   "outputs": [
    {
     "data": {
      "text/plain": [
       "0.8023681097053945"
      ]
     },
     "execution_count": 94,
     "metadata": {},
     "output_type": "execute_result"
    }
   ],
   "source": [
    "cross_val_score(linreg_3rd,X_train_3rd,y_train_3rd,cv=10).mean()"
   ]
  },
  {
   "cell_type": "code",
   "execution_count": 93,
   "metadata": {},
   "outputs": [
    {
     "data": {
      "text/html": [
       "<div>\n",
       "<style scoped>\n",
       "    .dataframe tbody tr th:only-of-type {\n",
       "        vertical-align: middle;\n",
       "    }\n",
       "\n",
       "    .dataframe tbody tr th {\n",
       "        vertical-align: top;\n",
       "    }\n",
       "\n",
       "    .dataframe thead th {\n",
       "        text-align: right;\n",
       "    }\n",
       "</style>\n",
       "<table border=\"1\" class=\"dataframe\">\n",
       "  <thead>\n",
       "    <tr style=\"text-align: right;\">\n",
       "      <th></th>\n",
       "      <th>all_qual</th>\n",
       "      <th>total_sf</th>\n",
       "      <th>totrms_abvgrd</th>\n",
       "      <th>fireplaces</th>\n",
       "      <th>garage_cars</th>\n",
       "      <th>saleprice</th>\n",
       "      <th>room_avg_size</th>\n",
       "    </tr>\n",
       "  </thead>\n",
       "  <tbody>\n",
       "    <tr>\n",
       "      <td>all_qual</td>\n",
       "      <td>1.000000</td>\n",
       "      <td>0.556290</td>\n",
       "      <td>0.353668</td>\n",
       "      <td>0.372151</td>\n",
       "      <td>0.610605</td>\n",
       "      <td>0.817400</td>\n",
       "      <td>0.492171</td>\n",
       "    </tr>\n",
       "    <tr>\n",
       "      <td>total_sf</td>\n",
       "      <td>0.556290</td>\n",
       "      <td>1.000000</td>\n",
       "      <td>0.805640</td>\n",
       "      <td>0.461949</td>\n",
       "      <td>0.497681</td>\n",
       "      <td>0.705500</td>\n",
       "      <td>0.747194</td>\n",
       "    </tr>\n",
       "    <tr>\n",
       "      <td>totrms_abvgrd</td>\n",
       "      <td>0.353668</td>\n",
       "      <td>0.805640</td>\n",
       "      <td>1.000000</td>\n",
       "      <td>0.311710</td>\n",
       "      <td>0.368034</td>\n",
       "      <td>0.503990</td>\n",
       "      <td>0.265716</td>\n",
       "    </tr>\n",
       "    <tr>\n",
       "      <td>fireplaces</td>\n",
       "      <td>0.372151</td>\n",
       "      <td>0.461949</td>\n",
       "      <td>0.311710</td>\n",
       "      <td>1.000000</td>\n",
       "      <td>0.310687</td>\n",
       "      <td>0.471034</td>\n",
       "      <td>0.452987</td>\n",
       "    </tr>\n",
       "    <tr>\n",
       "      <td>garage_cars</td>\n",
       "      <td>0.610605</td>\n",
       "      <td>0.497681</td>\n",
       "      <td>0.368034</td>\n",
       "      <td>0.310687</td>\n",
       "      <td>1.000000</td>\n",
       "      <td>0.648220</td>\n",
       "      <td>0.380024</td>\n",
       "    </tr>\n",
       "    <tr>\n",
       "      <td>saleprice</td>\n",
       "      <td>0.817400</td>\n",
       "      <td>0.705500</td>\n",
       "      <td>0.503990</td>\n",
       "      <td>0.471034</td>\n",
       "      <td>0.648220</td>\n",
       "      <td>1.000000</td>\n",
       "      <td>0.592318</td>\n",
       "    </tr>\n",
       "    <tr>\n",
       "      <td>room_avg_size</td>\n",
       "      <td>0.492171</td>\n",
       "      <td>0.747194</td>\n",
       "      <td>0.265716</td>\n",
       "      <td>0.452987</td>\n",
       "      <td>0.380024</td>\n",
       "      <td>0.592318</td>\n",
       "      <td>1.000000</td>\n",
       "    </tr>\n",
       "  </tbody>\n",
       "</table>\n",
       "</div>"
      ],
      "text/plain": [
       "               all_qual  total_sf  totrms_abvgrd  fireplaces  garage_cars  \\\n",
       "all_qual       1.000000  0.556290       0.353668    0.372151     0.610605   \n",
       "total_sf       0.556290  1.000000       0.805640    0.461949     0.497681   \n",
       "totrms_abvgrd  0.353668  0.805640       1.000000    0.311710     0.368034   \n",
       "fireplaces     0.372151  0.461949       0.311710    1.000000     0.310687   \n",
       "garage_cars    0.610605  0.497681       0.368034    0.310687     1.000000   \n",
       "saleprice      0.817400  0.705500       0.503990    0.471034     0.648220   \n",
       "room_avg_size  0.492171  0.747194       0.265716    0.452987     0.380024   \n",
       "\n",
       "               saleprice  room_avg_size  \n",
       "all_qual        0.817400       0.492171  \n",
       "total_sf        0.705500       0.747194  \n",
       "totrms_abvgrd   0.503990       0.265716  \n",
       "fireplaces      0.471034       0.452987  \n",
       "garage_cars     0.648220       0.380024  \n",
       "saleprice       1.000000       0.592318  \n",
       "room_avg_size   0.592318       1.000000  "
      ]
     },
     "execution_count": 93,
     "metadata": {},
     "output_type": "execute_result"
    }
   ],
   "source": [
    "df_3rd.corr()"
   ]
  },
  {
   "cell_type": "markdown",
   "metadata": {},
   "source": [
    "---\n",
    "### 4th"
   ]
  },
  {
   "cell_type": "code",
   "execution_count": 227,
   "metadata": {},
   "outputs": [],
   "source": [
    "df_4 = df[['all_qual', 'central_air','total_sf','kitchen_qual','totrms_abvgrd','fireplaces','garage_cars','room_avg_size','saleprice']]"
   ]
  },
  {
   "cell_type": "code",
   "execution_count": 228,
   "metadata": {},
   "outputs": [],
   "source": [
    "df_4_dummies = pd.get_dummies(df_4,drop_first=True)"
   ]
  },
  {
   "cell_type": "code",
   "execution_count": 229,
   "metadata": {},
   "outputs": [],
   "source": [
    "#df_4_dummies= sc.fit_transform(df_4_dummies)"
   ]
  },
  {
   "cell_type": "code",
   "execution_count": 230,
   "metadata": {},
   "outputs": [],
   "source": [
    "X_4 = df_4_dummies.drop('saleprice',axis=1)\n",
    "# X_4['total_sf'] = np.log(X_4['total_sf'])\n",
    "y_4 = df_4_dummies['saleprice']"
   ]
  },
  {
   "cell_type": "code",
   "execution_count": 231,
   "metadata": {},
   "outputs": [],
   "source": [
    "X_train_4,X_test_4,y_train_4,y_test_4 = train_test_split(X_4,y_4,random_state=42)"
   ]
  },
  {
   "cell_type": "code",
   "execution_count": 232,
   "metadata": {},
   "outputs": [
    {
     "data": {
      "text/plain": [
       "0.8001526643120968"
      ]
     },
     "execution_count": 232,
     "metadata": {},
     "output_type": "execute_result"
    }
   ],
   "source": [
    "linreg_4 = LinearRegression()\n",
    "linreg_4.fit(X_train_4,y_train_4)\n",
    "\n",
    "linreg_4.score(X_train_4,y_train_4)"
   ]
  },
  {
   "cell_type": "code",
   "execution_count": 233,
   "metadata": {},
   "outputs": [
    {
     "data": {
      "text/plain": [
       "array([0.79740497, 0.8457347 , 0.86309721, 0.81172187, 0.79805092,\n",
       "       0.87058115, 0.86240229, 0.7514779 , 0.60065859, 0.8225515 ])"
      ]
     },
     "execution_count": 233,
     "metadata": {},
     "output_type": "execute_result"
    }
   ],
   "source": [
    "cross_val_score(linreg_3rd,X_train_3rd,y_train_3rd,cv=10)"
   ]
  },
  {
   "cell_type": "code",
   "execution_count": 234,
   "metadata": {},
   "outputs": [
    {
     "data": {
      "text/plain": [
       "0.8477975842062146"
      ]
     },
     "execution_count": 234,
     "metadata": {},
     "output_type": "execute_result"
    }
   ],
   "source": [
    "linreg_4.score(X_test_4,y_test_4)"
   ]
  },
  {
   "cell_type": "code",
   "execution_count": 235,
   "metadata": {},
   "outputs": [
    {
     "data": {
      "text/html": [
       "<div>\n",
       "<style scoped>\n",
       "    .dataframe tbody tr th:only-of-type {\n",
       "        vertical-align: middle;\n",
       "    }\n",
       "\n",
       "    .dataframe tbody tr th {\n",
       "        vertical-align: top;\n",
       "    }\n",
       "\n",
       "    .dataframe thead th {\n",
       "        text-align: right;\n",
       "    }\n",
       "</style>\n",
       "<table border=\"1\" class=\"dataframe\">\n",
       "  <thead>\n",
       "    <tr style=\"text-align: right;\">\n",
       "      <th></th>\n",
       "      <th>all_qual</th>\n",
       "      <th>total_sf</th>\n",
       "      <th>totrms_abvgrd</th>\n",
       "      <th>fireplaces</th>\n",
       "      <th>garage_cars</th>\n",
       "      <th>room_avg_size</th>\n",
       "      <th>saleprice</th>\n",
       "    </tr>\n",
       "  </thead>\n",
       "  <tbody>\n",
       "    <tr>\n",
       "      <td>all_qual</td>\n",
       "      <td>1.000000</td>\n",
       "      <td>0.556290</td>\n",
       "      <td>0.353668</td>\n",
       "      <td>0.372151</td>\n",
       "      <td>0.610605</td>\n",
       "      <td>0.492171</td>\n",
       "      <td>0.817400</td>\n",
       "    </tr>\n",
       "    <tr>\n",
       "      <td>total_sf</td>\n",
       "      <td>0.556290</td>\n",
       "      <td>1.000000</td>\n",
       "      <td>0.805640</td>\n",
       "      <td>0.461949</td>\n",
       "      <td>0.497681</td>\n",
       "      <td>0.747194</td>\n",
       "      <td>0.705500</td>\n",
       "    </tr>\n",
       "    <tr>\n",
       "      <td>totrms_abvgrd</td>\n",
       "      <td>0.353668</td>\n",
       "      <td>0.805640</td>\n",
       "      <td>1.000000</td>\n",
       "      <td>0.311710</td>\n",
       "      <td>0.368034</td>\n",
       "      <td>0.265716</td>\n",
       "      <td>0.503990</td>\n",
       "    </tr>\n",
       "    <tr>\n",
       "      <td>fireplaces</td>\n",
       "      <td>0.372151</td>\n",
       "      <td>0.461949</td>\n",
       "      <td>0.311710</td>\n",
       "      <td>1.000000</td>\n",
       "      <td>0.310687</td>\n",
       "      <td>0.452987</td>\n",
       "      <td>0.471034</td>\n",
       "    </tr>\n",
       "    <tr>\n",
       "      <td>garage_cars</td>\n",
       "      <td>0.610605</td>\n",
       "      <td>0.497681</td>\n",
       "      <td>0.368034</td>\n",
       "      <td>0.310687</td>\n",
       "      <td>1.000000</td>\n",
       "      <td>0.380024</td>\n",
       "      <td>0.648220</td>\n",
       "    </tr>\n",
       "    <tr>\n",
       "      <td>room_avg_size</td>\n",
       "      <td>0.492171</td>\n",
       "      <td>0.747194</td>\n",
       "      <td>0.265716</td>\n",
       "      <td>0.452987</td>\n",
       "      <td>0.380024</td>\n",
       "      <td>1.000000</td>\n",
       "      <td>0.592318</td>\n",
       "    </tr>\n",
       "    <tr>\n",
       "      <td>saleprice</td>\n",
       "      <td>0.817400</td>\n",
       "      <td>0.705500</td>\n",
       "      <td>0.503990</td>\n",
       "      <td>0.471034</td>\n",
       "      <td>0.648220</td>\n",
       "      <td>0.592318</td>\n",
       "      <td>1.000000</td>\n",
       "    </tr>\n",
       "  </tbody>\n",
       "</table>\n",
       "</div>"
      ],
      "text/plain": [
       "               all_qual  total_sf  totrms_abvgrd  fireplaces  garage_cars  \\\n",
       "all_qual       1.000000  0.556290       0.353668    0.372151     0.610605   \n",
       "total_sf       0.556290  1.000000       0.805640    0.461949     0.497681   \n",
       "totrms_abvgrd  0.353668  0.805640       1.000000    0.311710     0.368034   \n",
       "fireplaces     0.372151  0.461949       0.311710    1.000000     0.310687   \n",
       "garage_cars    0.610605  0.497681       0.368034    0.310687     1.000000   \n",
       "room_avg_size  0.492171  0.747194       0.265716    0.452987     0.380024   \n",
       "saleprice      0.817400  0.705500       0.503990    0.471034     0.648220   \n",
       "\n",
       "               room_avg_size  saleprice  \n",
       "all_qual            0.492171   0.817400  \n",
       "total_sf            0.747194   0.705500  \n",
       "totrms_abvgrd       0.265716   0.503990  \n",
       "fireplaces          0.452987   0.471034  \n",
       "garage_cars         0.380024   0.648220  \n",
       "room_avg_size       1.000000   0.592318  \n",
       "saleprice           0.592318   1.000000  "
      ]
     },
     "execution_count": 235,
     "metadata": {},
     "output_type": "execute_result"
    }
   ],
   "source": [
    "df_4.corr()"
   ]
  },
  {
   "cell_type": "code",
   "execution_count": 165,
   "metadata": {},
   "outputs": [
    {
     "data": {
      "text/html": [
       "<div>\n",
       "<style scoped>\n",
       "    .dataframe tbody tr th:only-of-type {\n",
       "        vertical-align: middle;\n",
       "    }\n",
       "\n",
       "    .dataframe tbody tr th {\n",
       "        vertical-align: top;\n",
       "    }\n",
       "\n",
       "    .dataframe thead th {\n",
       "        text-align: right;\n",
       "    }\n",
       "</style>\n",
       "<table border=\"1\" class=\"dataframe\">\n",
       "  <thead>\n",
       "    <tr style=\"text-align: right;\">\n",
       "      <th></th>\n",
       "      <th>all_qual</th>\n",
       "      <th>total_sf</th>\n",
       "      <th>totrms_abvgrd</th>\n",
       "      <th>fireplaces</th>\n",
       "      <th>garage_cars</th>\n",
       "      <th>saleprice</th>\n",
       "      <th>room_avg_size</th>\n",
       "    </tr>\n",
       "  </thead>\n",
       "  <tbody>\n",
       "    <tr>\n",
       "      <td>count</td>\n",
       "      <td>2050.000000</td>\n",
       "      <td>2050.000000</td>\n",
       "      <td>2050.000000</td>\n",
       "      <td>2050.000000</td>\n",
       "      <td>2050.000000</td>\n",
       "      <td>2050.000000</td>\n",
       "      <td>2050.000000</td>\n",
       "    </tr>\n",
       "    <tr>\n",
       "      <td>mean</td>\n",
       "      <td>9.656585</td>\n",
       "      <td>1493.654146</td>\n",
       "      <td>6.436098</td>\n",
       "      <td>0.591220</td>\n",
       "      <td>1.776585</td>\n",
       "      <td>181484.609268</td>\n",
       "      <td>159.731917</td>\n",
       "    </tr>\n",
       "    <tr>\n",
       "      <td>std</td>\n",
       "      <td>2.009037</td>\n",
       "      <td>497.685300</td>\n",
       "      <td>1.560576</td>\n",
       "      <td>0.638539</td>\n",
       "      <td>0.764537</td>\n",
       "      <td>79275.121591</td>\n",
       "      <td>29.058405</td>\n",
       "    </tr>\n",
       "    <tr>\n",
       "      <td>min</td>\n",
       "      <td>3.000000</td>\n",
       "      <td>334.000000</td>\n",
       "      <td>2.000000</td>\n",
       "      <td>0.000000</td>\n",
       "      <td>0.000000</td>\n",
       "      <td>12789.000000</td>\n",
       "      <td>74.285714</td>\n",
       "    </tr>\n",
       "    <tr>\n",
       "      <td>25%</td>\n",
       "      <td>8.000000</td>\n",
       "      <td>1124.250000</td>\n",
       "      <td>5.000000</td>\n",
       "      <td>0.000000</td>\n",
       "      <td>1.000000</td>\n",
       "      <td>129812.500000</td>\n",
       "      <td>139.777778</td>\n",
       "    </tr>\n",
       "    <tr>\n",
       "      <td>50%</td>\n",
       "      <td>9.000000</td>\n",
       "      <td>1440.000000</td>\n",
       "      <td>6.000000</td>\n",
       "      <td>1.000000</td>\n",
       "      <td>2.000000</td>\n",
       "      <td>162500.000000</td>\n",
       "      <td>156.857143</td>\n",
       "    </tr>\n",
       "    <tr>\n",
       "      <td>75%</td>\n",
       "      <td>11.000000</td>\n",
       "      <td>1728.000000</td>\n",
       "      <td>7.000000</td>\n",
       "      <td>1.000000</td>\n",
       "      <td>2.000000</td>\n",
       "      <td>214000.000000</td>\n",
       "      <td>175.156682</td>\n",
       "    </tr>\n",
       "    <tr>\n",
       "      <td>max</td>\n",
       "      <td>15.000000</td>\n",
       "      <td>5642.000000</td>\n",
       "      <td>15.000000</td>\n",
       "      <td>4.000000</td>\n",
       "      <td>5.000000</td>\n",
       "      <td>611657.000000</td>\n",
       "      <td>364.000000</td>\n",
       "    </tr>\n",
       "  </tbody>\n",
       "</table>\n",
       "</div>"
      ],
      "text/plain": [
       "          all_qual     total_sf  totrms_abvgrd   fireplaces  garage_cars  \\\n",
       "count  2050.000000  2050.000000    2050.000000  2050.000000  2050.000000   \n",
       "mean      9.656585  1493.654146       6.436098     0.591220     1.776585   \n",
       "std       2.009037   497.685300       1.560576     0.638539     0.764537   \n",
       "min       3.000000   334.000000       2.000000     0.000000     0.000000   \n",
       "25%       8.000000  1124.250000       5.000000     0.000000     1.000000   \n",
       "50%       9.000000  1440.000000       6.000000     1.000000     2.000000   \n",
       "75%      11.000000  1728.000000       7.000000     1.000000     2.000000   \n",
       "max      15.000000  5642.000000      15.000000     4.000000     5.000000   \n",
       "\n",
       "           saleprice  room_avg_size  \n",
       "count    2050.000000    2050.000000  \n",
       "mean   181484.609268     159.731917  \n",
       "std     79275.121591      29.058405  \n",
       "min     12789.000000      74.285714  \n",
       "25%    129812.500000     139.777778  \n",
       "50%    162500.000000     156.857143  \n",
       "75%    214000.000000     175.156682  \n",
       "max    611657.000000     364.000000  "
      ]
     },
     "execution_count": 165,
     "metadata": {},
     "output_type": "execute_result"
    }
   ],
   "source": [
    "df_4.describe()"
   ]
  },
  {
   "cell_type": "code",
   "execution_count": 150,
   "metadata": {},
   "outputs": [],
   "source": [
    "from sklearn.preprocessing import StandardScaler"
   ]
  },
  {
   "cell_type": "code",
   "execution_count": 151,
   "metadata": {},
   "outputs": [],
   "source": [
    "sc=StandardScaler()"
   ]
  },
  {
   "cell_type": "markdown",
   "metadata": {},
   "source": [
    "---\n",
    "### Regulization"
   ]
  },
  {
   "cell_type": "code",
   "execution_count": null,
   "metadata": {},
   "outputs": [],
   "source": []
  },
  {
   "cell_type": "code",
   "execution_count": null,
   "metadata": {},
   "outputs": [],
   "source": []
  },
  {
   "cell_type": "code",
   "execution_count": null,
   "metadata": {},
   "outputs": [],
   "source": []
  },
  {
   "cell_type": "code",
   "execution_count": null,
   "metadata": {},
   "outputs": [],
   "source": []
  },
  {
   "cell_type": "code",
   "execution_count": 177,
   "metadata": {},
   "outputs": [
    {
     "data": {
      "text/plain": [
       "0.8055545704949139"
      ]
     },
     "execution_count": 177,
     "metadata": {},
     "output_type": "execute_result"
    }
   ],
   "source": [
    "ela_net_2 = ElasticNet(alpha=0.1, l1_ratio=0.5)\n",
    "ela_net_2.fit(X_train,y_train)\n",
    "ela_net_2.score(X_train,y_train)"
   ]
  },
  {
   "cell_type": "code",
   "execution_count": 179,
   "metadata": {},
   "outputs": [
    {
     "data": {
      "text/plain": [
       "0.7947892494458273"
      ]
     },
     "execution_count": 179,
     "metadata": {},
     "output_type": "execute_result"
    }
   ],
   "source": [
    "cross_val_score(ela_net_2,X_train,y_train,cv=10).mean()"
   ]
  },
  {
   "cell_type": "code",
   "execution_count": null,
   "metadata": {},
   "outputs": [],
   "source": []
  },
  {
   "cell_type": "code",
   "execution_count": null,
   "metadata": {},
   "outputs": [],
   "source": []
  },
  {
   "cell_type": "code",
   "execution_count": null,
   "metadata": {},
   "outputs": [],
   "source": []
  },
  {
   "cell_type": "code",
   "execution_count": null,
   "metadata": {},
   "outputs": [],
   "source": []
  },
  {
   "cell_type": "code",
   "execution_count": 243,
   "metadata": {},
   "outputs": [
    {
     "data": {
      "text/plain": [
       "0       Y\n",
       "1       Y\n",
       "2       Y\n",
       "3       Y\n",
       "4       Y\n",
       "       ..\n",
       "2046    Y\n",
       "2047    Y\n",
       "2048    Y\n",
       "2049    Y\n",
       "2050    Y\n",
       "Name: central_air, Length: 2050, dtype: object"
      ]
     },
     "execution_count": 243,
     "metadata": {},
     "output_type": "execute_result"
    }
   ],
   "source": [
    "df['central_air']"
   ]
  },
  {
   "cell_type": "code",
   "execution_count": 240,
   "metadata": {},
   "outputs": [
    {
     "data": {
      "text/plain": [
       "29.0"
      ]
     },
     "execution_count": 240,
     "metadata": {},
     "output_type": "execute_result"
    }
   ],
   "source": [
    "np.mean([1,5,10,100])"
   ]
  },
  {
   "cell_type": "code",
   "execution_count": null,
   "metadata": {},
   "outputs": [],
   "source": [
    "from sklearn"
   ]
  },
  {
   "cell_type": "markdown",
   "metadata": {},
   "source": [
    "TA    1047\n",
    "Gd     805\n",
    "Ex     151\n",
    "Fa      47"
   ]
  },
  {
   "cell_type": "code",
   "execution_count": 176,
   "metadata": {},
   "outputs": [],
   "source": [
    "df_5 = df[['all_qual','year_built','total_sf','total_baths','totrms_abvgrd','fireplaces','garage_cars','room_avg_size','saleprice','kitchen_qual']]"
   ]
  },
  {
   "cell_type": "code",
   "execution_count": 177,
   "metadata": {},
   "outputs": [
    {
     "name": "stderr",
     "output_type": "stream",
     "text": [
      "/Users/czc/opt/anaconda3/lib/python3.7/site-packages/ipykernel_launcher.py:1: SettingWithCopyWarning: \n",
      "A value is trying to be set on a copy of a slice from a DataFrame.\n",
      "Try using .loc[row_indexer,col_indexer] = value instead\n",
      "\n",
      "See the caveats in the documentation: http://pandas.pydata.org/pandas-docs/stable/user_guide/indexing.html#returning-a-view-versus-a-copy\n",
      "  \"\"\"Entry point for launching an IPython kernel.\n"
     ]
    }
   ],
   "source": [
    "df_5['kitchen_qual'] = df_5['kitchen_qual'].map({'Po':1,'Fa':2,'TA':3,'Gd':4,'Ex':5})"
   ]
  },
  {
   "cell_type": "code",
   "execution_count": 178,
   "metadata": {},
   "outputs": [],
   "source": [
    "# df_5 = pd.get_dummies(df_5,drop_first=True)"
   ]
  },
  {
   "cell_type": "code",
   "execution_count": 179,
   "metadata": {},
   "outputs": [],
   "source": [
    "X = df_5.drop('saleprice',axis=1)\n",
    "y = df_5['saleprice']\n",
    "y = np.log(df_5['saleprice'])"
   ]
  },
  {
   "cell_type": "code",
   "execution_count": 180,
   "metadata": {},
   "outputs": [],
   "source": [
    "X_train,X_test,y_train,y_test = train_test_split(X,y,train_size=0.8,random_state=42)"
   ]
  },
  {
   "cell_type": "code",
   "execution_count": 181,
   "metadata": {},
   "outputs": [],
   "source": [
    "from sklearn.linear_model import ElasticNet,Ridge\n"
   ]
  },
  {
   "cell_type": "code",
   "execution_count": 182,
   "metadata": {},
   "outputs": [],
   "source": [
    "from sklearn.pipeline import Pipeline\n",
    "from sklearn.model_selection import GridSearchCV\n",
    "from sklearn.preprocessing import PolynomialFeatures,StandardScaler\n"
   ]
  },
  {
   "cell_type": "code",
   "execution_count": 183,
   "metadata": {},
   "outputs": [],
   "source": [
    "pipe = Pipeline([\n",
    "#     ('poly',PolynomialFeatures()),\n",
    "    ('sc', StandardScaler()),\n",
    "    ('Ela_Net', ElasticNet())])"
   ]
  },
  {
   "cell_type": "code",
   "execution_count": 184,
   "metadata": {},
   "outputs": [],
   "source": [
    "# pipe.get_params()"
   ]
  },
  {
   "cell_type": "code",
   "execution_count": 185,
   "metadata": {},
   "outputs": [],
   "source": [
    "pipe_params = {\n",
    "#     'poly__interaction_only': [True],\n",
    "#     'poly__include_bias': [False],\n",
    "    'sc__with_mean':[True,False],\n",
    "    'sc__with_std':[True,False],\n",
    "    'Ela_Net__alpha':[0.01,0.06,0.07,0.08,0.09],\n",
    "    'Ela_Net__l1_ratio':[0.0001,0.0005,0.001]\n",
    "}"
   ]
  },
  {
   "cell_type": "code",
   "execution_count": 186,
   "metadata": {},
   "outputs": [],
   "source": [
    "pipe_gridsearch = GridSearchCV(pipe, # What is the model we want to fit?\n",
    "                                 pipe_params, # What is the dictionary of hyperparameters?\n",
    "                                 cv=5, # What number of folds in CV will we use?\n",
    "                                 verbose=1)"
   ]
  },
  {
   "cell_type": "code",
   "execution_count": 187,
   "metadata": {},
   "outputs": [
    {
     "name": "stdout",
     "output_type": "stream",
     "text": [
      "Fitting 5 folds for each of 60 candidates, totalling 300 fits\n"
     ]
    }
   ],
   "source": [
    "pipe_gridsearch.fit(X_train, y_train);"
   ]
  },
  {
   "cell_type": "code",
   "execution_count": 188,
   "metadata": {},
   "outputs": [
    {
     "data": {
      "text/plain": [
       "0.8461249409430015"
      ]
     },
     "execution_count": 188,
     "metadata": {},
     "output_type": "execute_result"
    }
   ],
   "source": [
    "pipe_gridsearch.score(X_train,y_train)"
   ]
  },
  {
   "cell_type": "code",
   "execution_count": 189,
   "metadata": {},
   "outputs": [
    {
     "data": {
      "text/plain": [
       "0.8217390120668697"
      ]
     },
     "execution_count": 189,
     "metadata": {},
     "output_type": "execute_result"
    }
   ],
   "source": [
    "pipe_gridsearch.score(X_test,y_test)"
   ]
  },
  {
   "cell_type": "code",
   "execution_count": 190,
   "metadata": {},
   "outputs": [
    {
     "data": {
      "text/plain": [
       "Pipeline(steps=[('sc', StandardScaler(with_mean=False, with_std=False)),\n",
       "                ('Ela_Net', ElasticNet(alpha=0.01, l1_ratio=0.0001))])"
      ]
     },
     "execution_count": 190,
     "metadata": {},
     "output_type": "execute_result"
    }
   ],
   "source": [
    "pipe_gridsearch.best_estimator_"
   ]
  },
  {
   "cell_type": "code",
   "execution_count": 191,
   "metadata": {},
   "outputs": [
    {
     "data": {
      "text/plain": [
       "array([ 0.06888082,  0.00189665, -0.0004898 ,  0.10442007,  0.13263017,\n",
       "        0.05953174,  0.0670037 ,  0.00706405,  0.07752784])"
      ]
     },
     "execution_count": 191,
     "metadata": {},
     "output_type": "execute_result"
    }
   ],
   "source": [
    "pipe_gridsearch.best_estimator_.named_steps['Ela_Net'].coef_"
   ]
  },
  {
   "cell_type": "code",
   "execution_count": null,
   "metadata": {},
   "outputs": [],
   "source": []
  },
  {
   "cell_type": "code",
   "execution_count": 192,
   "metadata": {},
   "outputs": [],
   "source": [
    "preds = pipe_gridsearch.predict(X_train)"
   ]
  },
  {
   "cell_type": "code",
   "execution_count": 193,
   "metadata": {},
   "outputs": [],
   "source": [
    "residuals = y_train - preds"
   ]
  },
  {
   "cell_type": "code",
   "execution_count": 194,
   "metadata": {},
   "outputs": [
    {
     "data": {
      "text/plain": [
       "<matplotlib.axes._subplots.AxesSubplot at 0x7f8682e28390>"
      ]
     },
     "execution_count": 194,
     "metadata": {},
     "output_type": "execute_result"
    },
    {
     "data": {
      "image/png": "[encoded data removed]",
      "text/plain": [
       "<Figure size 432x288 with 1 Axes>"
      ]
     },
     "metadata": {
      "needs_background": "light"
     },
     "output_type": "display_data"
    }
   ],
   "source": [
    "sns.scatterplot(y_train,residuals)"
   ]
  },
  {
   "cell_type": "code",
   "execution_count": 118,
   "metadata": {},
   "outputs": [
    {
     "data": {
      "text/plain": [
       "TA    1047\n",
       "Gd     805\n",
       "Ex     151\n",
       "Fa      47\n",
       "Name: kitchen_qual, dtype: int64"
      ]
     },
     "execution_count": 118,
     "metadata": {},
     "output_type": "execute_result"
    }
   ],
   "source": [
    "df_5['kitchen_qual'].value_counts(dropna=False)"
   ]
  },
  {
   "cell_type": "code",
   "execution_count": null,
   "metadata": {},
   "outputs": [],
   "source": []
  }
 ],
 "metadata": {
  "kernelspec": {
   "display_name": "Python 3",
   "language": "python",
   "name": "python3"
  },
  "language_info": {
   "codemirror_mode": {
    "name": "ipython",
    "version": 3
   },
   "file_extension": ".py",
   "mimetype": "text/x-python",
   "name": "python",
   "nbconvert_exporter": "python",
   "pygments_lexer": "ipython3",
   "version": "3.7.4"
  }
 },
 "nbformat": 4,
 "nbformat_minor": 4
}
