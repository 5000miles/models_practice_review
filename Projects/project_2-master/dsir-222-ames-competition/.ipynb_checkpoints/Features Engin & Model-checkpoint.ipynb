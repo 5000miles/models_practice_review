{
 "cells": [
  {
   "cell_type": "code",
   "execution_count": 214,
   "metadata": {},
   "outputs": [],
   "source": [
    "#libaries\n",
    "import pandas as pd\n",
    "import numpy as np\n",
    "import seaborn as sns\n",
    "import matplotlib.pyplot as plt\n",
    "from sklearn.model_selection import train_test_split, cross_val_score\n",
    "from sklearn.metrics import mean_squared_error\n",
    "from sklearn.linear_model import LinearRegression\n",
    "from sklearn.preprocessing import StandardScaler,PolynomialFeatures\n",
    "\n",
    "from sklearn.linear_model import Ridge,Lasso\n",
    "from sklearn.pipeline import Pipeline\n",
    "from sklearn.model_selection import GridSearchCV"
   ]
  },
  {
   "cell_type": "code",
   "execution_count": 848,
   "metadata": {},
   "outputs": [],
   "source": [
    "df = pd.read_csv('train.csv')"
   ]
  },
  {
   "cell_type": "markdown",
   "metadata": {},
   "source": [
    "---\n",
    "## Functions for prepare data"
   ]
  },
  {
   "cell_type": "code",
   "execution_count": 799,
   "metadata": {},
   "outputs": [],
   "source": [
    "# rename the columns names using lower case and replace space with '_'\n",
    "def rename_columns(df):\n",
    "    df.columns = [columns.lower().replace(\" \",\"_\") for columns in df.columns]\n",
    "    return df"
   ]
  },
  {
   "cell_type": "code",
   "execution_count": 800,
   "metadata": {},
   "outputs": [],
   "source": [
    "# add 1st_flr_sf and 2nd_flr_sf and create a new column total_sf\n",
    "def create_total_sf(df):\n",
    "    df['total_sf'] = df['1st_flr_sf'] + df['2nd_flr_sf']\n",
    "    return df"
   ]
  },
  {
   "cell_type": "code",
   "execution_count": 801,
   "metadata": {},
   "outputs": [],
   "source": [
    "# sum up all the qualites ( basement + kitchen + exter)\n",
    "def all_qual(df):\n",
    "    df['bsmt_qual_fillna'] = df['bsmt_qual'].copy()\n",
    "    df['bsmt_qual_fillna'].fillna(6,inplace=True)\n",
    "    df['bsmt_qual_fillna'] = df['bsmt_qual_fillna'].map({'Po':2,'Fa':2,'TA':3,'Gd':4,'Ex':5,6:2})\n",
    "    \n",
    "    df['kitchen_qual_new'] = df['kitchen_qual'].map({'Po':1,'Fa':2,'TA':3,'Gd':4,'Ex':5})\n",
    "    \n",
    "    df['exter_qual_new'] = df['exter_qual'].map({'Po':1,'Fa':2,'TA':3,'Gd':4,'Ex':5})\n",
    "    \n",
    "    df['all_qual'] = df['overall_qual'] + df['bsmt_qual_fillna'] + df['kitchen_qual_new'] + df['exter_qual_new']\n",
    "    return df"
   ]
  },
  {
   "cell_type": "code",
   "execution_count": 802,
   "metadata": {
    "jupyter": {
     "source_hidden": true
    }
   },
   "outputs": [],
   "source": [
    "# def bsmt_qual_alter(df):\n",
    "#     df['bsmt_qual_test1'] = df['bsmt_qual'].map(lambda x: 'Fa' if str(x) == 'nan' or x == 'Po' else x)\n",
    "#     df.drop('bsmt_qual',axis = 1,inplace=True)\n",
    "#     return df\n",
    "# df = bsmt_qual_alter(df)"
   ]
  },
  {
   "cell_type": "code",
   "execution_count": 803,
   "metadata": {
    "jupyter": {
     "source_hidden": true
    }
   },
   "outputs": [],
   "source": [
    "# def bsmt_full_bath_na(df):\n",
    "#     df['bsmt_full_bath'].fillna(0,inplace=True)\n",
    "#     return df\n",
    "    \n",
    "# df = bsmt_full_bath_na(df)"
   ]
  },
  {
   "cell_type": "code",
   "execution_count": 804,
   "metadata": {},
   "outputs": [],
   "source": [
    "def garage_cars_na(df):\n",
    "    df['garage_cars'].fillna(2,inplace=True)\n",
    "    return df"
   ]
  },
  {
   "cell_type": "code",
   "execution_count": 805,
   "metadata": {},
   "outputs": [],
   "source": [
    "def room_avg_size(df):\n",
    "    df['room_avg_size'] = df['total_sf'] / (df['totrms_abvgrd'] + df['full_bath'] + 0.5*df['half_bath'] + df['kitchen_abvgr'])\n",
    "    return df"
   ]
  },
  {
   "cell_type": "code",
   "execution_count": 806,
   "metadata": {},
   "outputs": [],
   "source": [
    "def total_baths(df):\n",
    "    df['total_baths'] = df['full_bath'] + 0.5*df['half_bath'] + 0.5* df['bsmt_full_bath'].fillna(0) + 0.5 *0.5* df['bsmt_half_bath'].fillna(0)\n",
    "    return df\n"
   ]
  },
  {
   "cell_type": "code",
   "execution_count": 807,
   "metadata": {
    "jupyter": {
     "source_hidden": true
    }
   },
   "outputs": [],
   "source": [
    "# def kitchen_qual_alter(df):\n",
    "#     df['kitchen_qual'] = df['kitchen_qual'].map({'Po':1,'Fa':2,'TA':3,'Gd':4,'Ex':5})\n",
    "#     return df\n",
    "# df = kitchen_qual_alter(df)"
   ]
  },
  {
   "cell_type": "code",
   "execution_count": 808,
   "metadata": {
    "jupyter": {
     "source_hidden": true
    }
   },
   "outputs": [],
   "source": [
    "# def central_air_convert(df):\n",
    "#     df['central_air'] = df['central_air'].map({'Y':1,'N':0})\n",
    "#     return df\n",
    "# df = central_air_convert(df)"
   ]
  },
  {
   "cell_type": "code",
   "execution_count": 864,
   "metadata": {},
   "outputs": [],
   "source": [
    "# using this function to do all the clean and engineering together\n",
    "def clean_data(df,for_model='y'):\n",
    "    df = rename_columns(df)\n",
    "    df = create_total_sf(df)\n",
    "    df = all_qual(df)\n",
    "    df = garage_cars_na(df)\n",
    "    df = room_avg_size(df)\n",
    "    df = total_baths(df)\n",
    "    \n",
    "    if for_model == 'y':\n",
    "        df = df[['all_qual','year_built','total_sf','total_baths','totrms_abvgrd','fireplaces','garage_cars','room_avg_size','saleprice']]\n",
    "    else:\n",
    "        df = df[['id','all_qual','year_built','total_sf','total_baths','totrms_abvgrd','fireplaces','garage_cars','room_avg_size']]\n",
    "    return df"
   ]
  },
  {
   "cell_type": "code",
   "execution_count": 850,
   "metadata": {},
   "outputs": [],
   "source": [
    "df_final = clean_data(df)"
   ]
  },
  {
   "cell_type": "code",
   "execution_count": 869,
   "metadata": {},
   "outputs": [],
   "source": [
    "# high leverage outliers\n",
    "\n",
    "# df_final = df_final.drop(183)\n",
    "# df_final = df_final.drop(1628)"
   ]
  },
  {
   "cell_type": "markdown",
   "metadata": {},
   "source": [
    "---\n"
   ]
  },
  {
   "cell_type": "markdown",
   "metadata": {},
   "source": [
    "### Training Model"
   ]
  },
  {
   "cell_type": "code",
   "execution_count": 852,
   "metadata": {},
   "outputs": [],
   "source": [
    "X = df_final.drop('saleprice',axis=1)\n",
    "y = df_final['saleprice']\n",
    "\n",
    "X_train,X_test,y_train,y_test = train_test_split(X,y,train_size=0.85,random_state=42)\n",
    "\n",
    "# log transform the saleprice\n",
    "y_train = np.log(y_train)\n",
    "y_test = np.log(y_test)\n",
    "y_all = np.log(y)"
   ]
  },
  {
   "cell_type": "code",
   "execution_count": 853,
   "metadata": {},
   "outputs": [],
   "source": [
    "pipe = Pipeline([\n",
    "    ('sd',StandardScaler()),\n",
    "    ('poly',PolynomialFeatures()),\n",
    "#     ('el',ElasticNet())\n",
    "#     ('lin',LinearRegression())\n",
    "#     ('lso',Lasso())\n",
    "    ('rg',Ridge())\n",
    "])"
   ]
  },
  {
   "cell_type": "code",
   "execution_count": 854,
   "metadata": {},
   "outputs": [],
   "source": [
    "pipe_params = {\n",
    "#     'sd__with_mean':[True,False],\n",
    "#     'sd__with_std':[True,False],\n",
    "    'poly__interaction_only':[True],\n",
    "    'poly__include_bias': [False],\n",
    "#     'el__alpha':[0.001,0.01],\n",
    "#     'el__l1_ratio':[0.5]\n",
    "#     'lso__alpha':[0,0.1,0.5,0.6,0.9,1],\n",
    "    'rg__alpha':[0.6,0.9,1]\n",
    "}"
   ]
  },
  {
   "cell_type": "code",
   "execution_count": 855,
   "metadata": {},
   "outputs": [],
   "source": [
    "pipe_gs = GridSearchCV(pipe,pipe_params,cv=10,verbose=1)"
   ]
  },
  {
   "cell_type": "code",
   "execution_count": 856,
   "metadata": {},
   "outputs": [
    {
     "name": "stdout",
     "output_type": "stream",
     "text": [
      "Fitting 10 folds for each of 3 candidates, totalling 30 fits\n"
     ]
    },
    {
     "data": {
      "text/plain": [
       "GridSearchCV(cv=10,\n",
       "             estimator=Pipeline(steps=[('sd', StandardScaler()),\n",
       "                                       ('poly', PolynomialFeatures()),\n",
       "                                       ('rg', Ridge())]),\n",
       "             param_grid={'poly__include_bias': [False],\n",
       "                         'poly__interaction_only': [True],\n",
       "                         'rg__alpha': [0.6, 0.9, 1]},\n",
       "             verbose=1)"
      ]
     },
     "execution_count": 856,
     "metadata": {},
     "output_type": "execute_result"
    }
   ],
   "source": [
    "pipe_gs.fit(X_train,y_train)"
   ]
  },
  {
   "cell_type": "code",
   "execution_count": 857,
   "metadata": {},
   "outputs": [
    {
     "data": {
      "text/plain": [
       "(0.8617296193527608, 0.8454505872519154)"
      ]
     },
     "execution_count": 857,
     "metadata": {},
     "output_type": "execute_result"
    }
   ],
   "source": [
    "pipe_gs.score(X_train,y_train),pipe_gs.score(X_test,y_test)"
   ]
  },
  {
   "cell_type": "code",
   "execution_count": 858,
   "metadata": {},
   "outputs": [
    {
     "data": {
      "text/plain": [
       "Pipeline(steps=[('sd', StandardScaler()),\n",
       "                ('poly',\n",
       "                 PolynomialFeatures(include_bias=False, interaction_only=True)),\n",
       "                ('rg', Ridge(alpha=0.6))])"
      ]
     },
     "execution_count": 858,
     "metadata": {},
     "output_type": "execute_result"
    }
   ],
   "source": [
    "pipe_gs.best_estimator_"
   ]
  },
  {
   "cell_type": "code",
   "execution_count": 859,
   "metadata": {},
   "outputs": [
    {
     "data": {
      "image/png": "[encoded data removed]",
      "text/plain": [
       "<Figure size 720x360 with 1 Axes>"
      ]
     },
     "metadata": {
      "needs_background": "light"
     },
     "output_type": "display_data"
    }
   ],
   "source": [
    "# visulize the residuals\n",
    "preds = pipe_gs.predict(X_train)\n",
    "\n",
    "resi = y_train - preds\n",
    "plt.figure(figsize=(10,5))\n",
    "sns.scatterplot(y_train,resi);\n",
    "plt.ylabel('residuals');"
   ]
  },
  {
   "cell_type": "markdown",
   "metadata": {},
   "source": [
    "# Found 2 problems from the residuals plot:\n",
    "* If saleprice is not log transformd, then the residual will increase when saleprice increases\n",
    "* 2 high leverage outliers"
   ]
  },
  {
   "cell_type": "code",
   "execution_count": 658,
   "metadata": {},
   "outputs": [],
   "source": [
    "# find the high leverage outlier\n",
    "# train_vs_preds = pd.DataFrame({'y_train':y_train,'preds':preds,'resi':resi,'trans_back_train':np.exp(y_train)})"
   ]
  },
  {
   "cell_type": "code",
   "execution_count": 837,
   "metadata": {},
   "outputs": [],
   "source": [
    "# train_vs_preds[train_vs_preds['resi'] == train_vs_preds['resi'].min()]"
   ]
  },
  {
   "cell_type": "markdown",
   "metadata": {},
   "source": [
    "---\n",
    "### check p values"
   ]
  },
  {
   "cell_type": "code",
   "execution_count": 836,
   "metadata": {},
   "outputs": [],
   "source": [
    "\n",
    "# import statsmodels.api as sm\n",
    "# sc = StandardScaler(with_mean=False,with_std=False)\n",
    "\n",
    "# X_sd = sc.fit_transform(X)\n",
    "# y_log = np.log(y)\n",
    "# X_sd = sm.add_constant(X_sd)\n",
    "\n",
    "# model = sm.OLS(y_log, X_sd)\n",
    "# results = model.fit()\n",
    "\n",
    "# results.summary()"
   ]
  },
  {
   "cell_type": "markdown",
   "metadata": {},
   "source": [
    "---\n",
    "## Make prediction on test data."
   ]
  },
  {
   "cell_type": "code",
   "execution_count": 865,
   "metadata": {},
   "outputs": [],
   "source": [
    "df_test = pd.read_csv('test.csv')\n",
    "df_final_test = clean_data(df_test,for_model='n')\n",
    "df_final_test = df_final_test.sort_values(by='id')"
   ]
  },
  {
   "cell_type": "code",
   "execution_count": 867,
   "metadata": {},
   "outputs": [],
   "source": []
  },
  {
   "cell_type": "code",
   "execution_count": 780,
   "metadata": {},
   "outputs": [],
   "source": [
    "# finished sorting, drop id column\n",
    "X_final_test = df_final_test.drop('id',axis=1)"
   ]
  },
  {
   "cell_type": "code",
   "execution_count": 781,
   "metadata": {},
   "outputs": [],
   "source": [
    "# make prediction base on previous model\n",
    "y_final_test = pipe_gs.predict(X_final_test)"
   ]
  },
  {
   "cell_type": "code",
   "execution_count": 782,
   "metadata": {},
   "outputs": [],
   "source": [
    "# log transform back and convert to DataFrame\n",
    "y_final_test_df = pd.DataFrame(np.exp(y_final_test))"
   ]
  },
  {
   "cell_type": "code",
   "execution_count": 784,
   "metadata": {},
   "outputs": [],
   "source": [
    "df_final_test_id = df_final_test[['id']].reset_index(drop=True)"
   ]
  },
  {
   "cell_type": "code",
   "execution_count": 786,
   "metadata": {},
   "outputs": [],
   "source": [
    "# concat the id column and prediction column\n",
    "final_answear = pd.concat([df_final_test_id,y_final_test_df],axis=1)\n",
    "final_answear.columns=['Id','SalePrice']"
   ]
  },
  {
   "cell_type": "code",
   "execution_count": 788,
   "metadata": {},
   "outputs": [],
   "source": [
    "# export to csv file\n",
    "final_answear.to_csv('second_submission.csv',index=False)"
   ]
  }
 ],
 "metadata": {
  "kernelspec": {
   "display_name": "Python 3",
   "language": "python",
   "name": "python3"
  },
  "language_info": {
   "codemirror_mode": {
    "name": "ipython",
    "version": 3
   },
   "file_extension": ".py",
   "mimetype": "text/x-python",
   "name": "python",
   "nbconvert_exporter": "python",
   "pygments_lexer": "ipython3",
   "version": "3.7.4"
  }
 },
 "nbformat": 4,
 "nbformat_minor": 4
}
