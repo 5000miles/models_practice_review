{
  "nbformat": 4,
  "nbformat_minor": 0,
  "metadata": {
    "colab": {
      "name": "Noise detection CNN .ipynb",
      "provenance": [],
      "collapsed_sections": []
    },
    "kernelspec": {
      "name": "python3",
      "display_name": "Python 3"
    },
    "language_info": {
      "name": "python"
    },
    "accelerator": "GPU"
  },
  "cells": [
    {
      "cell_type": "code",
      "metadata": {
        "id": "KswJcJSonNoX"
      },
      "source": [
        "import pandas as pd\n",
        "import librosa\n",
        "import numpy as np\n",
        "\n",
        "from sklearn.model_selection import train_test_split \n",
        "\n",
        "from keras.models import Sequential\n",
        "from keras.layers import Dense, Dropout, Activation, Flatten\n",
        "from keras.layers import Convolution2D, Conv2D, MaxPooling2D, GlobalAveragePooling2D\n",
        "from keras.optimizers import Adam\n",
        "from sklearn import metrics \n",
        " \n",
        "from datetime import datetime \n",
        "import matplotlib.pyplot as plt"
      ],
      "execution_count": null,
      "outputs": []
    },
    {
      "cell_type": "code",
      "metadata": {
        "colab": {
          "base_uri": "https://localhost:8080/"
        },
        "id": "21YhLKHZkbJk",
        "outputId": "b994955b-d41f-4fc7-89a8-286db807f2e3"
      },
      "source": [
        "from google.colab import drive\n",
        "drive.mount('/content/drive')"
      ],
      "execution_count": null,
      "outputs": [
        {
          "output_type": "stream",
          "text": [
            "Mounted at /content/drive\n"
          ],
          "name": "stdout"
        }
      ]
    },
    {
      "cell_type": "code",
      "metadata": {
        "id": "V7RI-U7hyXTe"
      },
      "source": [
        "##################### Model 1"
      ],
      "execution_count": null,
      "outputs": []
    },
    {
      "cell_type": "markdown",
      "metadata": {
        "id": "TD39PXDFJ0pi"
      },
      "source": [
        "Prepare Data"
      ]
    },
    {
      "cell_type": "code",
      "metadata": {
        "id": "zkt75hH7K9wz"
      },
      "source": [
        "# import data\n",
        "mfcc_noise_only = pd.read_csv('/content/drive/MyDrive/GA/capstone/mfcc_noise_only.csv')\n",
        "\n",
        "# convert string like values back to numpy array. (1,6960)\n",
        "mfcc_noise_only['feature'] = mfcc_noise_only.apply(lambda x: np.fromstring(x['new_feature'], dtype=float, sep=','),axis=1)\n",
        "\n",
        "# reshape the (1,6960) to (40,174)\n",
        "mfcc_noise_only['feature'] = mfcc_noise_only.apply(lambda x: x['feature'].reshape(40,174),axis=1)\n",
        "\n",
        "# keep only the \n",
        "mfcc_noise_only = mfcc_noise_only.drop('new_feature', axis = 1)"
      ],
      "execution_count": null,
      "outputs": []
    },
    {
      "cell_type": "code",
      "metadata": {
        "id": "F-ZJzDGqKv_j"
      },
      "source": [
        "# make a (8732, 40, 174) numpy array as the X\n",
        "X = np.array(mfcc_noise_only['feature'].tolist())\n",
        "y = np.array(pd.get_dummies(mfcc_noise_only['class_label']))\n",
        "\n",
        "X_train, X_test, y_train, y_test = train_test_split(X, y, test_size=0.1, random_state = 3)\n",
        "\n",
        "lengh_X_train = len(X_train)\n",
        "lengh_X_test = len(X_test)\n",
        "input_rows = X.shape[1]\n",
        "input_columns = X.shape[2]\n",
        "input_channels = 1\n",
        "\n",
        "X_train = X_train.reshape(lengh_X_train, input_rows, input_columns,input_channels)\n",
        "X_test = X_test.reshape(lengh_X_test, input_rows, input_columns,input_channels)"
      ],
      "execution_count": null,
      "outputs": []
    },
    {
      "cell_type": "code",
      "metadata": {
        "id": "YrUPu-iTafWb"
      },
      "source": [
        "classes = np.array(['air_conditioner', 'car_horn', 'children_playing', 'dog_bark',\n",
        "       'drilling', 'engine_idling', 'gun_shot', 'jackhammer', 'siren',\n",
        "       'street_music'])"
      ],
      "execution_count": null,
      "outputs": []
    },
    {
      "cell_type": "code",
      "metadata": {
        "id": "8zMG0ueyPFs8"
      },
      "source": [
        "# Construct model \n",
        "model = Sequential()\n",
        "model.add(Conv2D(filters=16, kernel_size=2, input_shape=(input_rows, input_columns, input_channels), activation='relu'))\n",
        "model.add(MaxPooling2D(pool_size=2))\n",
        "model.add(Dropout(0.2))\n",
        "\n",
        "model.add(Conv2D(filters=32, kernel_size=2, activation='relu'))\n",
        "model.add(MaxPooling2D(pool_size=2))\n",
        "model.add(Dropout(0.2))\n",
        "\n",
        "model.add(Conv2D(filters=64, kernel_size=2, activation='relu'))\n",
        "model.add(MaxPooling2D(pool_size=2))\n",
        "model.add(Dropout(0.2))\n",
        "\n",
        "model.add(Conv2D(filters=128, kernel_size=2, activation='relu'))\n",
        "model.add(MaxPooling2D(pool_size=2))\n",
        "model.add(Dropout(0.2))\n",
        "model.add(GlobalAveragePooling2D())\n",
        "\n",
        "model.add(Dense(10, activation='softmax'))"
      ],
      "execution_count": null,
      "outputs": []
    },
    {
      "cell_type": "code",
      "metadata": {
        "id": "_o6z0O4CQI8i"
      },
      "source": [
        "model.compile(loss='categorical_crossentropy', metrics=['accuracy'], optimizer='adam')"
      ],
      "execution_count": null,
      "outputs": []
    },
    {
      "cell_type": "code",
      "metadata": {
        "colab": {
          "base_uri": "https://localhost:8080/"
        },
        "id": "kFmmMyqojVBv",
        "outputId": "62542956-0781-4988-ac07-9f7c715f98d6"
      },
      "source": [
        "model.summary()"
      ],
      "execution_count": null,
      "outputs": [
        {
          "output_type": "stream",
          "text": [
            "Model: \"sequential\"\n",
            "_________________________________________________________________\n",
            "Layer (type)                 Output Shape              Param #   \n",
            "=================================================================\n",
            "conv2d (Conv2D)              (None, 39, 173, 16)       80        \n",
            "_________________________________________________________________\n",
            "max_pooling2d (MaxPooling2D) (None, 19, 86, 16)        0         \n",
            "_________________________________________________________________\n",
            "dropout (Dropout)            (None, 19, 86, 16)        0         \n",
            "_________________________________________________________________\n",
            "conv2d_1 (Conv2D)            (None, 18, 85, 32)        2080      \n",
            "_________________________________________________________________\n",
            "max_pooling2d_1 (MaxPooling2 (None, 9, 42, 32)         0         \n",
            "_________________________________________________________________\n",
            "dropout_1 (Dropout)          (None, 9, 42, 32)         0         \n",
            "_________________________________________________________________\n",
            "conv2d_2 (Conv2D)            (None, 8, 41, 64)         8256      \n",
            "_________________________________________________________________\n",
            "max_pooling2d_2 (MaxPooling2 (None, 4, 20, 64)         0         \n",
            "_________________________________________________________________\n",
            "dropout_2 (Dropout)          (None, 4, 20, 64)         0         \n",
            "_________________________________________________________________\n",
            "conv2d_3 (Conv2D)            (None, 3, 19, 128)        32896     \n",
            "_________________________________________________________________\n",
            "max_pooling2d_3 (MaxPooling2 (None, 1, 9, 128)         0         \n",
            "_________________________________________________________________\n",
            "dropout_3 (Dropout)          (None, 1, 9, 128)         0         \n",
            "_________________________________________________________________\n",
            "global_average_pooling2d (Gl (None, 128)               0         \n",
            "_________________________________________________________________\n",
            "dense (Dense)                (None, 10)                1290      \n",
            "=================================================================\n",
            "Total params: 44,602\n",
            "Trainable params: 44,602\n",
            "Non-trainable params: 0\n",
            "_________________________________________________________________\n"
          ],
          "name": "stdout"
        }
      ]
    },
    {
      "cell_type": "code",
      "metadata": {
        "colab": {
          "base_uri": "https://localhost:8080/"
        },
        "id": "7bFwW8y5Rrkd",
        "outputId": "f6b567c2-a5b9-41eb-c535-d3b064a097c6"
      },
      "source": [
        "num_epochs = 69\n",
        "num_batch_size = 64\n",
        "\n",
        "start = datetime.now()\n",
        "\n",
        "model.fit(X_train, y_train, batch_size=num_batch_size, epochs=num_epochs, validation_data=(X_test, y_test), verbose=1)\n",
        "\n",
        "\n",
        "duration = datetime.now() - start\n",
        "print(\"Training completed in time: \", duration)"
      ],
      "execution_count": null,
      "outputs": [
        {
          "output_type": "stream",
          "text": [
            "Epoch 1/69\n",
            "123/123 [==============================] - 18s 10ms/step - loss: 3.5439 - accuracy: 0.2518 - val_loss: 1.6771 - val_accuracy: 0.4783\n",
            "Epoch 2/69\n",
            "123/123 [==============================] - 1s 6ms/step - loss: 1.3947 - accuracy: 0.5064 - val_loss: 1.4047 - val_accuracy: 0.5309\n",
            "Epoch 3/69\n",
            "123/123 [==============================] - 1s 6ms/step - loss: 1.2123 - accuracy: 0.5720 - val_loss: 1.2936 - val_accuracy: 0.5709\n",
            "Epoch 4/69\n",
            "123/123 [==============================] - 1s 6ms/step - loss: 1.0298 - accuracy: 0.6384 - val_loss: 1.1537 - val_accuracy: 0.6236\n",
            "Epoch 5/69\n",
            "123/123 [==============================] - 1s 6ms/step - loss: 0.9461 - accuracy: 0.6726 - val_loss: 0.9883 - val_accuracy: 0.6968\n",
            "Epoch 6/69\n",
            "123/123 [==============================] - 1s 6ms/step - loss: 0.8588 - accuracy: 0.7060 - val_loss: 0.9386 - val_accuracy: 0.7094\n",
            "Epoch 7/69\n",
            "123/123 [==============================] - 1s 6ms/step - loss: 0.7775 - accuracy: 0.7364 - val_loss: 0.8529 - val_accuracy: 0.7517\n",
            "Epoch 8/69\n",
            "123/123 [==============================] - 1s 6ms/step - loss: 0.7078 - accuracy: 0.7614 - val_loss: 0.7775 - val_accuracy: 0.7746\n",
            "Epoch 9/69\n",
            "123/123 [==============================] - 1s 6ms/step - loss: 0.6591 - accuracy: 0.7822 - val_loss: 0.6929 - val_accuracy: 0.8112\n",
            "Epoch 10/69\n",
            "123/123 [==============================] - 1s 6ms/step - loss: 0.6276 - accuracy: 0.7826 - val_loss: 0.6464 - val_accuracy: 0.8227\n",
            "Epoch 11/69\n",
            "123/123 [==============================] - 1s 6ms/step - loss: 0.5769 - accuracy: 0.8077 - val_loss: 0.6030 - val_accuracy: 0.8318\n",
            "Epoch 12/69\n",
            "123/123 [==============================] - 1s 6ms/step - loss: 0.5236 - accuracy: 0.8252 - val_loss: 0.5688 - val_accuracy: 0.8375\n",
            "Epoch 13/69\n",
            "123/123 [==============================] - 1s 6ms/step - loss: 0.4947 - accuracy: 0.8293 - val_loss: 0.5646 - val_accuracy: 0.8284\n",
            "Epoch 14/69\n",
            "123/123 [==============================] - 1s 6ms/step - loss: 0.4843 - accuracy: 0.8367 - val_loss: 0.5548 - val_accuracy: 0.8410\n",
            "Epoch 15/69\n",
            "123/123 [==============================] - 1s 6ms/step - loss: 0.4407 - accuracy: 0.8573 - val_loss: 0.5038 - val_accuracy: 0.8535\n",
            "Epoch 16/69\n",
            "123/123 [==============================] - 1s 6ms/step - loss: 0.4233 - accuracy: 0.8565 - val_loss: 0.6410 - val_accuracy: 0.7895\n",
            "Epoch 17/69\n",
            "123/123 [==============================] - 1s 6ms/step - loss: 0.4344 - accuracy: 0.8472 - val_loss: 0.4375 - val_accuracy: 0.8741\n",
            "Epoch 18/69\n",
            "123/123 [==============================] - 1s 6ms/step - loss: 0.3781 - accuracy: 0.8762 - val_loss: 0.4161 - val_accuracy: 0.8822\n",
            "Epoch 19/69\n",
            "123/123 [==============================] - 1s 6ms/step - loss: 0.4032 - accuracy: 0.8587 - val_loss: 0.4158 - val_accuracy: 0.8902\n",
            "Epoch 20/69\n",
            "123/123 [==============================] - 1s 6ms/step - loss: 0.3742 - accuracy: 0.8766 - val_loss: 0.4520 - val_accuracy: 0.8684\n",
            "Epoch 21/69\n",
            "123/123 [==============================] - 1s 6ms/step - loss: 0.3300 - accuracy: 0.8929 - val_loss: 0.4268 - val_accuracy: 0.8753\n",
            "Epoch 22/69\n",
            "123/123 [==============================] - 1s 6ms/step - loss: 0.3293 - accuracy: 0.8793 - val_loss: 0.4808 - val_accuracy: 0.8513\n",
            "Epoch 23/69\n",
            "123/123 [==============================] - 1s 6ms/step - loss: 0.3030 - accuracy: 0.8910 - val_loss: 0.3719 - val_accuracy: 0.8970\n",
            "Epoch 24/69\n",
            "123/123 [==============================] - 1s 6ms/step - loss: 0.3002 - accuracy: 0.8989 - val_loss: 0.3785 - val_accuracy: 0.8844\n",
            "Epoch 25/69\n",
            "123/123 [==============================] - 1s 6ms/step - loss: 0.2939 - accuracy: 0.8993 - val_loss: 0.3876 - val_accuracy: 0.8924\n",
            "Epoch 26/69\n",
            "123/123 [==============================] - 1s 6ms/step - loss: 0.2841 - accuracy: 0.9044 - val_loss: 0.3548 - val_accuracy: 0.8936\n",
            "Epoch 27/69\n",
            "123/123 [==============================] - 1s 6ms/step - loss: 0.2647 - accuracy: 0.9088 - val_loss: 0.3347 - val_accuracy: 0.9142\n",
            "Epoch 28/69\n",
            "123/123 [==============================] - 1s 6ms/step - loss: 0.2667 - accuracy: 0.9100 - val_loss: 0.3628 - val_accuracy: 0.8970\n",
            "Epoch 29/69\n",
            "123/123 [==============================] - 1s 6ms/step - loss: 0.2617 - accuracy: 0.9073 - val_loss: 0.3090 - val_accuracy: 0.9165\n",
            "Epoch 30/69\n",
            "123/123 [==============================] - 1s 6ms/step - loss: 0.2279 - accuracy: 0.9226 - val_loss: 0.3969 - val_accuracy: 0.8822\n",
            "Epoch 31/69\n",
            "123/123 [==============================] - 1s 6ms/step - loss: 0.2468 - accuracy: 0.9133 - val_loss: 0.3417 - val_accuracy: 0.8982\n",
            "Epoch 32/69\n",
            "123/123 [==============================] - 1s 6ms/step - loss: 0.2352 - accuracy: 0.9236 - val_loss: 0.3820 - val_accuracy: 0.8833\n",
            "Epoch 33/69\n",
            "123/123 [==============================] - 1s 6ms/step - loss: 0.2282 - accuracy: 0.9157 - val_loss: 0.3787 - val_accuracy: 0.8810\n",
            "Epoch 34/69\n",
            "123/123 [==============================] - 1s 6ms/step - loss: 0.2337 - accuracy: 0.9137 - val_loss: 0.3351 - val_accuracy: 0.9050\n",
            "Epoch 35/69\n",
            "123/123 [==============================] - 1s 6ms/step - loss: 0.2134 - accuracy: 0.9290 - val_loss: 0.3071 - val_accuracy: 0.9119\n",
            "Epoch 36/69\n",
            "123/123 [==============================] - 1s 6ms/step - loss: 0.2029 - accuracy: 0.9312 - val_loss: 0.3505 - val_accuracy: 0.8879\n",
            "Epoch 37/69\n",
            "123/123 [==============================] - 1s 6ms/step - loss: 0.2205 - accuracy: 0.9222 - val_loss: 0.2897 - val_accuracy: 0.9153\n",
            "Epoch 38/69\n",
            "123/123 [==============================] - 1s 6ms/step - loss: 0.2166 - accuracy: 0.9219 - val_loss: 0.3074 - val_accuracy: 0.9119\n",
            "Epoch 39/69\n",
            "123/123 [==============================] - 1s 6ms/step - loss: 0.1781 - accuracy: 0.9376 - val_loss: 0.3044 - val_accuracy: 0.9085\n",
            "Epoch 40/69\n",
            "123/123 [==============================] - 1s 6ms/step - loss: 0.1981 - accuracy: 0.9305 - val_loss: 0.3095 - val_accuracy: 0.9027\n",
            "Epoch 41/69\n",
            "123/123 [==============================] - 1s 6ms/step - loss: 0.1877 - accuracy: 0.9352 - val_loss: 0.3335 - val_accuracy: 0.9005\n",
            "Epoch 42/69\n",
            "123/123 [==============================] - 1s 6ms/step - loss: 0.2048 - accuracy: 0.9269 - val_loss: 0.3162 - val_accuracy: 0.9027\n",
            "Epoch 43/69\n",
            "123/123 [==============================] - 1s 6ms/step - loss: 0.1831 - accuracy: 0.9386 - val_loss: 0.3445 - val_accuracy: 0.9005\n",
            "Epoch 44/69\n",
            "123/123 [==============================] - 1s 6ms/step - loss: 0.1692 - accuracy: 0.9405 - val_loss: 0.3031 - val_accuracy: 0.9108\n",
            "Epoch 45/69\n",
            "123/123 [==============================] - 1s 6ms/step - loss: 0.1783 - accuracy: 0.9419 - val_loss: 0.3093 - val_accuracy: 0.9085\n",
            "Epoch 46/69\n",
            "123/123 [==============================] - 1s 6ms/step - loss: 0.1741 - accuracy: 0.9377 - val_loss: 0.3066 - val_accuracy: 0.9142\n",
            "Epoch 47/69\n",
            "123/123 [==============================] - 1s 6ms/step - loss: 0.1752 - accuracy: 0.9405 - val_loss: 0.3035 - val_accuracy: 0.9039\n",
            "Epoch 48/69\n",
            "123/123 [==============================] - 1s 6ms/step - loss: 0.1579 - accuracy: 0.9458 - val_loss: 0.3146 - val_accuracy: 0.9153\n",
            "Epoch 49/69\n",
            "123/123 [==============================] - 1s 6ms/step - loss: 0.1637 - accuracy: 0.9440 - val_loss: 0.2999 - val_accuracy: 0.9176\n",
            "Epoch 50/69\n",
            "123/123 [==============================] - 1s 6ms/step - loss: 0.1567 - accuracy: 0.9469 - val_loss: 0.2729 - val_accuracy: 0.9165\n",
            "Epoch 51/69\n",
            "123/123 [==============================] - 1s 6ms/step - loss: 0.1578 - accuracy: 0.9395 - val_loss: 0.2497 - val_accuracy: 0.9233\n",
            "Epoch 52/69\n",
            "123/123 [==============================] - 1s 6ms/step - loss: 0.1684 - accuracy: 0.9424 - val_loss: 0.2818 - val_accuracy: 0.9039\n",
            "Epoch 53/69\n",
            "123/123 [==============================] - 1s 6ms/step - loss: 0.1436 - accuracy: 0.9468 - val_loss: 0.2438 - val_accuracy: 0.9348\n",
            "Epoch 54/69\n",
            "123/123 [==============================] - 1s 6ms/step - loss: 0.1369 - accuracy: 0.9515 - val_loss: 0.2868 - val_accuracy: 0.9085\n",
            "Epoch 55/69\n",
            "123/123 [==============================] - 1s 6ms/step - loss: 0.1432 - accuracy: 0.9480 - val_loss: 0.3024 - val_accuracy: 0.9130\n",
            "Epoch 56/69\n",
            "123/123 [==============================] - 1s 6ms/step - loss: 0.1710 - accuracy: 0.9412 - val_loss: 0.2719 - val_accuracy: 0.9211\n",
            "Epoch 57/69\n",
            "123/123 [==============================] - 1s 6ms/step - loss: 0.1516 - accuracy: 0.9469 - val_loss: 0.2916 - val_accuracy: 0.9119\n",
            "Epoch 58/69\n",
            "123/123 [==============================] - 1s 6ms/step - loss: 0.1307 - accuracy: 0.9549 - val_loss: 0.2697 - val_accuracy: 0.9165\n",
            "Epoch 59/69\n",
            "123/123 [==============================] - 1s 6ms/step - loss: 0.1422 - accuracy: 0.9505 - val_loss: 0.2404 - val_accuracy: 0.9302\n",
            "Epoch 60/69\n",
            "123/123 [==============================] - 1s 6ms/step - loss: 0.1287 - accuracy: 0.9522 - val_loss: 0.2213 - val_accuracy: 0.9451\n",
            "Epoch 61/69\n",
            "123/123 [==============================] - 1s 6ms/step - loss: 0.1405 - accuracy: 0.9528 - val_loss: 0.2823 - val_accuracy: 0.9176\n",
            "Epoch 62/69\n",
            "123/123 [==============================] - 1s 6ms/step - loss: 0.1479 - accuracy: 0.9495 - val_loss: 0.2653 - val_accuracy: 0.9291\n",
            "Epoch 63/69\n",
            "123/123 [==============================] - 1s 6ms/step - loss: 0.1363 - accuracy: 0.9531 - val_loss: 0.2939 - val_accuracy: 0.9199\n",
            "Epoch 64/69\n",
            "123/123 [==============================] - 1s 6ms/step - loss: 0.1286 - accuracy: 0.9526 - val_loss: 0.2237 - val_accuracy: 0.9405\n",
            "Epoch 65/69\n",
            "123/123 [==============================] - 1s 6ms/step - loss: 0.1278 - accuracy: 0.9573 - val_loss: 0.2903 - val_accuracy: 0.9211\n",
            "Epoch 66/69\n",
            "123/123 [==============================] - 1s 6ms/step - loss: 0.1378 - accuracy: 0.9500 - val_loss: 0.2151 - val_accuracy: 0.9336\n",
            "Epoch 67/69\n",
            "123/123 [==============================] - 1s 6ms/step - loss: 0.1188 - accuracy: 0.9548 - val_loss: 0.2374 - val_accuracy: 0.9405\n",
            "Epoch 68/69\n",
            "123/123 [==============================] - 1s 6ms/step - loss: 0.1247 - accuracy: 0.9528 - val_loss: 0.3139 - val_accuracy: 0.9039\n",
            "Epoch 69/69\n",
            "123/123 [==============================] - 1s 6ms/step - loss: 0.1303 - accuracy: 0.9563 - val_loss: 0.2795 - val_accuracy: 0.9153\n",
            "Training completed in time:  0:01:07.105735\n"
          ],
          "name": "stdout"
        }
      ]
    },
    {
      "cell_type": "code",
      "metadata": {
        "colab": {
          "base_uri": "https://localhost:8080/"
        },
        "id": "uU28196VKtrI",
        "outputId": "c2985769-30f4-42c1-a038-26e29fbb697c"
      },
      "source": [
        "# Evaluating the model on the training and testing set\n",
        "train_score = model.evaluate(X_train, y_train, verbose=0)\n",
        "test_score = model.evaluate(X_test, y_test, verbose=0)\n",
        "\n",
        "print(f'Loss values on training data set is {train_score[0]}, and accuracy is {train_score[1]}')\n",
        "print(f'Loss values on testing data set is {test_score[0]}, and accuracy is {test_score[1]}')"
      ],
      "execution_count": null,
      "outputs": [
        {
          "output_type": "stream",
          "text": [
            "Loss values on training data set is 0.07496549934148788, and accuracy is 0.9773479104042053\n",
            "Loss values on testing data set is 0.27945375442504883, and accuracy is 0.9153317809104919\n"
          ],
          "name": "stdout"
        }
      ]
    },
    {
      "cell_type": "code",
      "metadata": {
        "id": "_HOmiOe7UprA"
      },
      "source": [
        "test_preds_1 = pd.DataFrame((model.predict(X_test) > 0.5).astype('int32'))\n",
        "test_preds_1 = test_preds_1.idxmax(axis=1).tolist()\n",
        "y_test_df = pd.DataFrame(y_test)\n",
        "y_test_true = y_test_df.idxmax(axis=1).tolist()"
      ],
      "execution_count": null,
      "outputs": []
    },
    {
      "cell_type": "code",
      "metadata": {
        "colab": {
          "base_uri": "https://localhost:8080/",
          "height": 629
        },
        "id": "r62AWy6XXyin",
        "outputId": "ddb36b0c-08c8-42d6-d9b4-b3fb28fc57b1"
      },
      "source": [
        "from sklearn.metrics import ConfusionMatrixDisplay, confusion_matrix\n",
        "cm = confusion_matrix(y_test_true, test_preds_1)\n",
        "cmp = ConfusionMatrixDisplay(cm,classes)\n",
        "fig, ax = plt.subplots(figsize=(10, 10))\n",
        "\n",
        "cmp.plot(ax=ax,cmap='coolwarm');\n",
        "\n",
        "plt.xticks(rotation = 90);"
      ],
      "execution_count": null,
      "outputs": [
        {
          "output_type": "display_data",
          "data": {
            "image/png": "[encoded data removed]",
            "text/plain": [
              "<Figure size 720x720 with 2 Axes>"
            ]
          },
          "metadata": {
            "tags": [],
            "needs_background": "light"
          }
        }
      ]
    },
    {
      "cell_type": "code",
      "metadata": {
        "colab": {
          "base_uri": "https://localhost:8080/"
        },
        "id": "ztPaFdxeFfEI",
        "outputId": "f911dcd4-fded-44b5-8bf0-e1260c924212"
      },
      "source": [
        "gpu_info = !nvidia-smi\n",
        "gpu_info = '\\n'.join(gpu_info)\n",
        "if gpu_info.find('failed') >= 0:\n",
        "  print('Select the Runtime > \"Change runtime type\" menu to enable a GPU accelerator, ')\n",
        "  print('and then re-execute this cell.')\n",
        "else:\n",
        "  print(gpu_info)"
      ],
      "execution_count": null,
      "outputs": [
        {
          "output_type": "stream",
          "text": [
            "Thu May 13 05:56:52 2021       \n",
            "+-----------------------------------------------------------------------------+\n",
            "| NVIDIA-SMI 465.19.01    Driver Version: 460.32.03    CUDA Version: 11.2     |\n",
            "|-------------------------------+----------------------+----------------------+\n",
            "| GPU  Name        Persistence-M| Bus-Id        Disp.A | Volatile Uncorr. ECC |\n",
            "| Fan  Temp  Perf  Pwr:Usage/Cap|         Memory-Usage | GPU-Util  Compute M. |\n",
            "|                               |                      |               MIG M. |\n",
            "|===============================+======================+======================|\n",
            "|   0  Tesla P100-PCIE...  Off  | 00000000:00:04.0 Off |                    0 |\n",
            "| N/A   37C    P0    26W / 250W |      0MiB / 16280MiB |      0%      Default |\n",
            "|                               |                      |                  N/A |\n",
            "+-------------------------------+----------------------+----------------------+\n",
            "                                                                               \n",
            "+-----------------------------------------------------------------------------+\n",
            "| Processes:                                                                  |\n",
            "|  GPU   GI   CI        PID   Type   Process name                  GPU Memory |\n",
            "|        ID   ID                                                   Usage      |\n",
            "|=============================================================================|\n",
            "|  No running processes found                                                 |\n",
            "+-----------------------------------------------------------------------------+\n"
          ],
          "name": "stdout"
        }
      ]
    },
    {
      "cell_type": "code",
      "metadata": {
        "id": "kHx8FJPTFftp"
      },
      "source": [
        "##############"
      ],
      "execution_count": null,
      "outputs": []
    },
    {
      "cell_type": "code",
      "metadata": {
        "id": "8ibdz2q_ynBh"
      },
      "source": [
        "############ model 2"
      ],
      "execution_count": null,
      "outputs": []
    },
    {
      "cell_type": "markdown",
      "metadata": {
        "id": "z6X8qtWFsWQ7"
      },
      "source": [
        "MODEL 2"
      ]
    },
    {
      "cell_type": "code",
      "metadata": {
        "id": "EqWEkRw_yu7j"
      },
      "source": [
        "combined_voice = pd.read_csv('/content/drive/MyDrive/GA/capstone/mfcc_combined_voice.csv')"
      ],
      "execution_count": null,
      "outputs": []
    },
    {
      "cell_type": "code",
      "metadata": {
        "id": "O0t-MFfqyu7k"
      },
      "source": [
        "combined_voice['feature'] = combined_voice.apply(lambda x: np.fromstring(x['new_feature'], dtype=float, sep=','),axis=1)"
      ],
      "execution_count": null,
      "outputs": []
    },
    {
      "cell_type": "code",
      "metadata": {
        "id": "xAzB6wQLyu7k"
      },
      "source": [
        "combined_voice['feature'] = combined_voice.apply(lambda x: x['feature'].reshape(40,222),axis=1)"
      ],
      "execution_count": null,
      "outputs": []
    },
    {
      "cell_type": "code",
      "metadata": {
        "id": "gWuR4pGryu7l"
      },
      "source": [
        "combined_voice.drop('new_feature', axis=1, inplace=True)"
      ],
      "execution_count": null,
      "outputs": []
    },
    {
      "cell_type": "code",
      "metadata": {
        "id": "o7wzg3MKRG7y"
      },
      "source": [
        "# make a (8732, 40, 174) numpy array as the X\n",
        "X = np.array(mfcc_noise_only['feature'].tolist())\n",
        "y = np.array(pd.get_dummies(mfcc_noise_only['class_label']))\n",
        "\n",
        "X_train, X_test, y_train, y_test = train_test_split(X, y, test_size=0.1, random_state = 3)\n",
        "\n",
        "lengh_X_train = len(X_train)\n",
        "lengh_X_test = len(X_test)\n",
        "input_rows = X.shape[1]\n",
        "input_columns = X.shape[2]\n",
        "input_channels = 1\n",
        "\n",
        "X_train = X_train.reshape(lengh_X_train, input_rows, input_columns,input_channels)\n",
        "X_test = X_test.reshape(lengh_X_test, input_rows, input_columns,input_channels)"
      ],
      "execution_count": null,
      "outputs": []
    },
    {
      "cell_type": "code",
      "metadata": {
        "id": "39duXt5rzvIY"
      },
      "source": [
        "# reshape the features like prevoiou one\n",
        "X_c = np.array(combined_voice['feature'].tolist())\n",
        "y_c = np.array(pd.get_dummies(combined_voice['class_label']))\n",
        "\n",
        "X_c_train, X_c_test, y_c_train, y_c_test = train_test_split(X_c, y_c, test_size=0.1, random_state = 3)\n",
        "\n",
        "lengh_X_c_train = len(X_c_train)\n",
        "lengh_X_c_test = len(X_c_test)\n",
        "c_input_rows = X_c.shape[1]\n",
        "c_input_columns = X_c.shape[2]\n",
        "input_channels = 1 \n",
        "\n",
        "X_c_train = X_c_train.reshape(lengh_X_c_train, c_input_rows, c_input_columns, input_channels)\n",
        "X_c_test = X_c_test.reshape(lengh_X_c_test, c_input_rows, c_input_columns, input_channels)"
      ],
      "execution_count": null,
      "outputs": []
    },
    {
      "cell_type": "code",
      "metadata": {
        "id": "UaRhMIbqz8xA"
      },
      "source": [
        "# Construct model \n",
        "model = Sequential()\n",
        "model.add(Conv2D(filters=16, kernel_size=2, input_shape=(c_input_rows, c_input_columns, input_channels), activation='relu'))\n",
        "model.add(MaxPooling2D(pool_size=2))\n",
        "model.add(Dropout(0.2))\n",
        "\n",
        "model.add(Conv2D(filters=32, kernel_size=2, activation='relu'))\n",
        "model.add(MaxPooling2D(pool_size=2))\n",
        "model.add(Dropout(0.2))\n",
        "\n",
        "model.add(Conv2D(filters=64, kernel_size=2, activation='relu'))\n",
        "model.add(MaxPooling2D(pool_size=2))\n",
        "model.add(Dropout(0.2))\n",
        "\n",
        "model.add(Conv2D(filters=128, kernel_size=2, activation='relu'))\n",
        "model.add(MaxPooling2D(pool_size=2))\n",
        "model.add(Dropout(0.2))\n",
        "model.add(GlobalAveragePooling2D())\n",
        "\n",
        "model.add(Dense(10, activation='softmax'))"
      ],
      "execution_count": null,
      "outputs": []
    },
    {
      "cell_type": "code",
      "metadata": {
        "id": "69fMauBk0GWi"
      },
      "source": [
        "model.compile(loss='categorical_crossentropy', metrics=['accuracy'], optimizer='adam')"
      ],
      "execution_count": null,
      "outputs": []
    },
    {
      "cell_type": "code",
      "metadata": {
        "colab": {
          "base_uri": "https://localhost:8080/"
        },
        "id": "xlXO08rg0PY0",
        "outputId": "14064ab9-6ed7-426c-d7bc-453a150ee931"
      },
      "source": [
        "epochs = 69\n",
        "batch_size = 128\n",
        "\n",
        "start = datetime.now()\n",
        "\n",
        "model.fit(X_c_train, y_c_train, batch_size=batch_size, epochs=epochs, validation_data=(X_c_test, y_c_test), verbose=1)\n",
        "\n",
        "\n",
        "duration = datetime.now() - start\n",
        "print(\"Training completed in time: \", duration)"
      ],
      "execution_count": null,
      "outputs": [
        {
          "output_type": "stream",
          "text": [
            "Epoch 1/69\n",
            "62/62 [==============================] - 2s 20ms/step - loss: 7.6800 - accuracy: 0.1237 - val_loss: 2.1144 - val_accuracy: 0.2334\n",
            "Epoch 2/69\n",
            "62/62 [==============================] - 1s 15ms/step - loss: 2.0038 - accuracy: 0.2801 - val_loss: 1.8066 - val_accuracy: 0.3101\n",
            "Epoch 3/69\n",
            "62/62 [==============================] - 1s 15ms/step - loss: 1.6820 - accuracy: 0.3796 - val_loss: 1.6538 - val_accuracy: 0.4050\n",
            "Epoch 4/69\n",
            "62/62 [==============================] - 1s 15ms/step - loss: 1.5446 - accuracy: 0.4339 - val_loss: 1.5570 - val_accuracy: 0.4302\n",
            "Epoch 5/69\n",
            "62/62 [==============================] - 1s 15ms/step - loss: 1.4564 - accuracy: 0.4734 - val_loss: 1.5686 - val_accuracy: 0.4096\n",
            "Epoch 6/69\n",
            "62/62 [==============================] - 1s 15ms/step - loss: 1.4204 - accuracy: 0.4910 - val_loss: 1.4800 - val_accuracy: 0.4554\n",
            "Epoch 7/69\n",
            "62/62 [==============================] - 1s 15ms/step - loss: 1.3075 - accuracy: 0.5364 - val_loss: 1.4246 - val_accuracy: 0.5069\n",
            "Epoch 8/69\n",
            "62/62 [==============================] - 1s 15ms/step - loss: 1.2820 - accuracy: 0.5422 - val_loss: 1.3996 - val_accuracy: 0.5080\n",
            "Epoch 9/69\n",
            "62/62 [==============================] - 1s 15ms/step - loss: 1.2348 - accuracy: 0.5616 - val_loss: 1.3243 - val_accuracy: 0.5400\n",
            "Epoch 10/69\n",
            "62/62 [==============================] - 1s 15ms/step - loss: 1.2215 - accuracy: 0.5602 - val_loss: 1.2888 - val_accuracy: 0.5286\n",
            "Epoch 11/69\n",
            "62/62 [==============================] - 1s 15ms/step - loss: 1.1797 - accuracy: 0.5849 - val_loss: 1.2112 - val_accuracy: 0.5858\n",
            "Epoch 12/69\n",
            "62/62 [==============================] - 1s 15ms/step - loss: 1.1212 - accuracy: 0.6147 - val_loss: 1.1405 - val_accuracy: 0.6018\n",
            "Epoch 13/69\n",
            "62/62 [==============================] - 1s 15ms/step - loss: 1.1042 - accuracy: 0.6133 - val_loss: 1.1413 - val_accuracy: 0.6041\n",
            "Epoch 14/69\n",
            "62/62 [==============================] - 1s 15ms/step - loss: 1.0677 - accuracy: 0.6358 - val_loss: 1.1367 - val_accuracy: 0.6133\n",
            "Epoch 15/69\n",
            "62/62 [==============================] - 1s 15ms/step - loss: 1.0254 - accuracy: 0.6409 - val_loss: 1.0959 - val_accuracy: 0.6339\n",
            "Epoch 16/69\n",
            "62/62 [==============================] - 1s 15ms/step - loss: 0.9851 - accuracy: 0.6597 - val_loss: 1.1248 - val_accuracy: 0.5870\n",
            "Epoch 17/69\n",
            "62/62 [==============================] - 1s 15ms/step - loss: 0.9801 - accuracy: 0.6599 - val_loss: 1.0093 - val_accuracy: 0.6670\n",
            "Epoch 18/69\n",
            "62/62 [==============================] - 1s 15ms/step - loss: 0.9413 - accuracy: 0.6754 - val_loss: 0.9249 - val_accuracy: 0.7037\n",
            "Epoch 19/69\n",
            "62/62 [==============================] - 1s 15ms/step - loss: 0.9232 - accuracy: 0.6886 - val_loss: 0.9825 - val_accuracy: 0.6705\n",
            "Epoch 20/69\n",
            "62/62 [==============================] - 1s 15ms/step - loss: 0.9063 - accuracy: 0.6895 - val_loss: 0.8840 - val_accuracy: 0.7265\n",
            "Epoch 21/69\n",
            "62/62 [==============================] - 1s 15ms/step - loss: 0.8867 - accuracy: 0.6969 - val_loss: 0.8884 - val_accuracy: 0.7105\n",
            "Epoch 22/69\n",
            "62/62 [==============================] - 1s 15ms/step - loss: 0.8449 - accuracy: 0.7109 - val_loss: 0.8294 - val_accuracy: 0.7380\n",
            "Epoch 23/69\n",
            "62/62 [==============================] - 1s 15ms/step - loss: 0.8048 - accuracy: 0.7289 - val_loss: 0.8618 - val_accuracy: 0.7277\n",
            "Epoch 24/69\n",
            "62/62 [==============================] - 1s 15ms/step - loss: 0.8164 - accuracy: 0.7250 - val_loss: 0.8317 - val_accuracy: 0.7391\n",
            "Epoch 25/69\n",
            "62/62 [==============================] - 1s 15ms/step - loss: 0.8072 - accuracy: 0.7191 - val_loss: 0.8253 - val_accuracy: 0.7277\n",
            "Epoch 26/69\n",
            "62/62 [==============================] - 1s 15ms/step - loss: 0.7644 - accuracy: 0.7349 - val_loss: 0.7881 - val_accuracy: 0.7460\n",
            "Epoch 27/69\n",
            "62/62 [==============================] - 1s 15ms/step - loss: 0.7686 - accuracy: 0.7339 - val_loss: 0.8010 - val_accuracy: 0.7449\n",
            "Epoch 28/69\n",
            "62/62 [==============================] - 1s 15ms/step - loss: 0.7659 - accuracy: 0.7402 - val_loss: 0.6924 - val_accuracy: 0.7895\n",
            "Epoch 29/69\n",
            "62/62 [==============================] - 1s 15ms/step - loss: 0.7249 - accuracy: 0.7511 - val_loss: 0.7061 - val_accuracy: 0.7654\n",
            "Epoch 30/69\n",
            "62/62 [==============================] - 1s 15ms/step - loss: 0.7333 - accuracy: 0.7436 - val_loss: 0.7390 - val_accuracy: 0.7643\n",
            "Epoch 31/69\n",
            "62/62 [==============================] - 1s 15ms/step - loss: 0.7246 - accuracy: 0.7539 - val_loss: 0.7306 - val_accuracy: 0.7780\n",
            "Epoch 32/69\n",
            "62/62 [==============================] - 1s 15ms/step - loss: 0.6576 - accuracy: 0.7724 - val_loss: 0.6762 - val_accuracy: 0.7872\n",
            "Epoch 33/69\n",
            "62/62 [==============================] - 1s 15ms/step - loss: 0.6773 - accuracy: 0.7678 - val_loss: 0.6768 - val_accuracy: 0.7872\n",
            "Epoch 34/69\n",
            "62/62 [==============================] - 1s 15ms/step - loss: 0.6743 - accuracy: 0.7701 - val_loss: 0.6332 - val_accuracy: 0.8055\n",
            "Epoch 35/69\n",
            "62/62 [==============================] - 1s 15ms/step - loss: 0.6579 - accuracy: 0.7764 - val_loss: 0.6828 - val_accuracy: 0.7952\n",
            "Epoch 36/69\n",
            "62/62 [==============================] - 1s 15ms/step - loss: 0.6405 - accuracy: 0.7795 - val_loss: 0.6327 - val_accuracy: 0.8066\n",
            "Epoch 37/69\n",
            "62/62 [==============================] - 1s 15ms/step - loss: 0.6153 - accuracy: 0.7886 - val_loss: 0.6662 - val_accuracy: 0.7803\n",
            "Epoch 38/69\n",
            "62/62 [==============================] - 1s 15ms/step - loss: 0.6403 - accuracy: 0.7805 - val_loss: 0.6458 - val_accuracy: 0.7929\n",
            "Epoch 39/69\n",
            "62/62 [==============================] - 1s 15ms/step - loss: 0.6010 - accuracy: 0.7916 - val_loss: 0.5945 - val_accuracy: 0.8124\n",
            "Epoch 40/69\n",
            "62/62 [==============================] - 1s 15ms/step - loss: 0.5766 - accuracy: 0.8062 - val_loss: 0.5942 - val_accuracy: 0.8089\n",
            "Epoch 41/69\n",
            "62/62 [==============================] - 1s 15ms/step - loss: 0.5655 - accuracy: 0.8105 - val_loss: 0.6254 - val_accuracy: 0.7975\n",
            "Epoch 42/69\n",
            "62/62 [==============================] - 1s 15ms/step - loss: 0.5937 - accuracy: 0.7957 - val_loss: 0.6288 - val_accuracy: 0.7952\n",
            "Epoch 43/69\n",
            "62/62 [==============================] - 1s 16ms/step - loss: 0.5582 - accuracy: 0.8115 - val_loss: 0.6264 - val_accuracy: 0.7860\n",
            "Epoch 44/69\n",
            "62/62 [==============================] - 1s 15ms/step - loss: 0.5616 - accuracy: 0.8082 - val_loss: 0.5832 - val_accuracy: 0.8078\n",
            "Epoch 45/69\n",
            "62/62 [==============================] - 1s 15ms/step - loss: 0.5173 - accuracy: 0.8196 - val_loss: 0.5871 - val_accuracy: 0.8112\n",
            "Epoch 46/69\n",
            "62/62 [==============================] - 1s 15ms/step - loss: 0.5394 - accuracy: 0.8114 - val_loss: 0.5675 - val_accuracy: 0.8146\n",
            "Epoch 47/69\n",
            "62/62 [==============================] - 1s 15ms/step - loss: 0.5412 - accuracy: 0.8188 - val_loss: 0.5669 - val_accuracy: 0.8135\n",
            "Epoch 48/69\n",
            "62/62 [==============================] - 1s 15ms/step - loss: 0.5101 - accuracy: 0.8289 - val_loss: 0.5409 - val_accuracy: 0.8238\n",
            "Epoch 49/69\n",
            "62/62 [==============================] - 1s 15ms/step - loss: 0.5205 - accuracy: 0.8170 - val_loss: 0.5479 - val_accuracy: 0.8261\n",
            "Epoch 50/69\n",
            "62/62 [==============================] - 1s 15ms/step - loss: 0.5203 - accuracy: 0.8206 - val_loss: 0.5161 - val_accuracy: 0.8352\n",
            "Epoch 51/69\n",
            "62/62 [==============================] - 1s 15ms/step - loss: 0.5108 - accuracy: 0.8220 - val_loss: 0.5417 - val_accuracy: 0.8238\n",
            "Epoch 52/69\n",
            "62/62 [==============================] - 1s 15ms/step - loss: 0.4936 - accuracy: 0.8341 - val_loss: 0.5067 - val_accuracy: 0.8352\n",
            "Epoch 53/69\n",
            "62/62 [==============================] - 1s 15ms/step - loss: 0.4563 - accuracy: 0.8491 - val_loss: 0.5271 - val_accuracy: 0.8227\n",
            "Epoch 54/69\n",
            "62/62 [==============================] - 1s 15ms/step - loss: 0.4776 - accuracy: 0.8380 - val_loss: 0.5338 - val_accuracy: 0.8238\n",
            "Epoch 55/69\n",
            "62/62 [==============================] - 1s 15ms/step - loss: 0.4816 - accuracy: 0.8380 - val_loss: 0.5170 - val_accuracy: 0.8295\n",
            "Epoch 56/69\n",
            "62/62 [==============================] - 1s 15ms/step - loss: 0.4665 - accuracy: 0.8392 - val_loss: 0.4900 - val_accuracy: 0.8444\n",
            "Epoch 57/69\n",
            "62/62 [==============================] - 1s 15ms/step - loss: 0.4455 - accuracy: 0.8474 - val_loss: 0.5142 - val_accuracy: 0.8318\n",
            "Epoch 58/69\n",
            "62/62 [==============================] - 1s 16ms/step - loss: 0.4355 - accuracy: 0.8508 - val_loss: 0.5086 - val_accuracy: 0.8261\n",
            "Epoch 59/69\n",
            "62/62 [==============================] - 1s 15ms/step - loss: 0.4393 - accuracy: 0.8505 - val_loss: 0.4768 - val_accuracy: 0.8501\n",
            "Epoch 60/69\n",
            "62/62 [==============================] - 1s 15ms/step - loss: 0.4559 - accuracy: 0.8423 - val_loss: 0.4615 - val_accuracy: 0.8547\n",
            "Epoch 61/69\n",
            "62/62 [==============================] - 1s 15ms/step - loss: 0.4313 - accuracy: 0.8521 - val_loss: 0.4688 - val_accuracy: 0.8444\n",
            "Epoch 62/69\n",
            "62/62 [==============================] - 1s 15ms/step - loss: 0.4433 - accuracy: 0.8479 - val_loss: 0.4780 - val_accuracy: 0.8455\n",
            "Epoch 63/69\n",
            "62/62 [==============================] - 1s 15ms/step - loss: 0.4409 - accuracy: 0.8434 - val_loss: 0.4455 - val_accuracy: 0.8570\n",
            "Epoch 64/69\n",
            "62/62 [==============================] - 1s 15ms/step - loss: 0.4058 - accuracy: 0.8541 - val_loss: 0.5210 - val_accuracy: 0.8238\n",
            "Epoch 65/69\n",
            "62/62 [==============================] - 1s 15ms/step - loss: 0.3932 - accuracy: 0.8558 - val_loss: 0.4427 - val_accuracy: 0.8467\n",
            "Epoch 66/69\n",
            "62/62 [==============================] - 1s 15ms/step - loss: 0.3951 - accuracy: 0.8601 - val_loss: 0.4335 - val_accuracy: 0.8616\n",
            "Epoch 67/69\n",
            "62/62 [==============================] - 1s 15ms/step - loss: 0.4097 - accuracy: 0.8617 - val_loss: 0.4396 - val_accuracy: 0.8604\n",
            "Epoch 68/69\n",
            "62/62 [==============================] - 1s 15ms/step - loss: 0.3829 - accuracy: 0.8717 - val_loss: 0.4299 - val_accuracy: 0.8558\n",
            "Epoch 69/69\n",
            "62/62 [==============================] - 1s 15ms/step - loss: 0.3864 - accuracy: 0.8598 - val_loss: 0.4564 - val_accuracy: 0.8513\n",
            "Training completed in time:  0:01:06.391424\n"
          ],
          "name": "stdout"
        }
      ]
    },
    {
      "cell_type": "code",
      "metadata": {
        "colab": {
          "base_uri": "https://localhost:8080/"
        },
        "id": "PDsCwkGn0Y1O",
        "outputId": "04ff8384-4a81-466a-df4a-a828e5c022db"
      },
      "source": [
        "train_score = model.evaluate(X_c_train, y_c_train, verbose=0)\n",
        "test_score = model.evaluate(X_c_test, y_c_test, verbose=0)\n",
        "\n",
        "print(f'Loss values on training data set is {train_score[0]}, and accuracy is {train_score[1]}')\n",
        "print(f'Loss values on testing data set is {test_score[0]}, and accuracy is {test_score[1]}')"
      ],
      "execution_count": null,
      "outputs": [
        {
          "output_type": "stream",
          "text": [
            "Loss values on training data set is 0.2980222702026367, and accuracy is 0.9041740894317627\n",
            "Loss values on testing data set is 0.4563806653022766, and accuracy is 0.8512585759162903\n"
          ],
          "name": "stdout"
        }
      ]
    },
    {
      "cell_type": "code",
      "metadata": {
        "id": "3acb53ctVTHv"
      },
      "source": [
        "test_preds_2 = pd.DataFrame((model.predict(X_c_test) > 0.5).astype('int32'))\n",
        "test_preds_2 = test_preds_2.idxmax(axis=1).tolist()\n",
        "y_test_df_2 = pd.DataFrame(y_c_test)\n",
        "y_test_true_2 = y_test_df_2.idxmax(axis=1).tolist()"
      ],
      "execution_count": null,
      "outputs": []
    },
    {
      "cell_type": "code",
      "metadata": {
        "colab": {
          "base_uri": "https://localhost:8080/",
          "height": 629
        },
        "id": "0eijZXwGfZnN",
        "outputId": "d2c5cf49-3865-44ab-e2be-94e4e15e768a"
      },
      "source": [
        "cm = confusion_matrix(y_test_true_2, test_preds_2)\n",
        "cmp = ConfusionMatrixDisplay(cm,classes)\n",
        "fig, ax = plt.subplots(figsize=(10, 10))\n",
        "\n",
        "cmp.plot(ax=ax,cmap='coolwarm');\n",
        "\n",
        "plt.xticks(rotation = 90);"
      ],
      "execution_count": null,
      "outputs": [
        {
          "output_type": "display_data",
          "data": {
            "image/png": "[encoded data removed]",
            "text/plain": [
              "<Figure size 720x720 with 2 Axes>"
            ]
          },
          "metadata": {
            "tags": [],
            "needs_background": "light"
          }
        }
      ]
    },
    {
      "cell_type": "markdown",
      "metadata": {
        "id": "2t8P0v4rOxr7"
      },
      "source": [
        "Save the models"
      ]
    },
    {
      "cell_type": "code",
      "metadata": {
        "id": "ZzlgvTjBWuHw"
      },
      "source": [
        "predict_test = X_c_test[0].reshape(1,40,222,1)"
      ],
      "execution_count": null,
      "outputs": []
    },
    {
      "cell_type": "code",
      "metadata": {
        "id": "w4-AKh4wW7yd"
      },
      "source": [
        "test_result = (model.predict(predict_test) > 0.5).astype('int32').reshape(-1)"
      ],
      "execution_count": null,
      "outputs": []
    },
    {
      "cell_type": "code",
      "metadata": {
        "id": "BwhTJM3FZ0eK"
      },
      "source": [
        "classes_cat = pd.get_dummies(combined_voice['class_label']).columns"
      ],
      "execution_count": null,
      "outputs": []
    },
    {
      "cell_type": "code",
      "metadata": {
        "colab": {
          "base_uri": "https://localhost:8080/"
        },
        "id": "VBRG8k0EaQmK",
        "outputId": "a53099d3-464b-46fb-ef37-f1ecec5873ea"
      },
      "source": [
        "test_result"
      ],
      "execution_count": null,
      "outputs": [
        {
          "output_type": "execute_result",
          "data": {
            "text/plain": [
              "array([0, 0, 1, 0, 0, 0, 0, 0, 0, 0], dtype=int32)"
            ]
          },
          "metadata": {
            "tags": []
          },
          "execution_count": 79
        }
      ]
    },
    {
      "cell_type": "code",
      "metadata": {
        "colab": {
          "base_uri": "https://localhost:8080/",
          "height": 35
        },
        "id": "sINK9ZZeaDPt",
        "outputId": "3fa97f39-2439-4f77-d415-cce5390d0f4d"
      },
      "source": [
        "classes_cat[test_result == 1][0]"
      ],
      "execution_count": null,
      "outputs": [
        {
          "output_type": "execute_result",
          "data": {
            "application/vnd.google.colaboratory.intrinsic+json": {
              "type": "string"
            },
            "text/plain": [
              "'children_playing'"
            ]
          },
          "metadata": {
            "tags": []
          },
          "execution_count": 86
        }
      ]
    },
    {
      "cell_type": "code",
      "metadata": {
        "colab": {
          "base_uri": "https://localhost:8080/"
        },
        "id": "rrf65dWBsOlr",
        "outputId": "ee4b6da3-1e8e-4dbd-f025-9a0ec8aee978"
      },
      "source": [
        "classes_cat"
      ],
      "execution_count": null,
      "outputs": [
        {
          "output_type": "execute_result",
          "data": {
            "text/plain": [
              "Index(['air_conditioner', 'car_horn', 'children_playing', 'dog_bark',\n",
              "       'drilling', 'engine_idling', 'gun_shot', 'jackhammer', 'siren',\n",
              "       'street_music'],\n",
              "      dtype='object')"
            ]
          },
          "metadata": {
            "tags": []
          },
          "execution_count": 101
        }
      ]
    },
    {
      "cell_type": "code",
      "metadata": {
        "id": "9Q9cQXyhbeGV"
      },
      "source": [
        "def make_prediction(file_path):\n",
        "  voice, voice_rate = librosa.load(file_path, res_type='kaiser_fast')\n",
        "  mfcc = librosa.feature.mfcc(y=voice,sr=voice_rate,n_mfcc=40)\n",
        "  x = mfcc.reshape(1,40,222,1)\n",
        "\n",
        "  pred = (model.predict(x) > 0.5).astype('int32').reshape(-1)\n",
        "\n",
        "  result = classes_cat[pred == 1][0]\n",
        "\n",
        "  return result"
      ],
      "execution_count": null,
      "outputs": []
    },
    {
      "cell_type": "code",
      "metadata": {
        "colab": {
          "base_uri": "https://localhost:8080/",
          "height": 35
        },
        "id": "GuZfTtQUdUTy",
        "outputId": "60d991d7-117d-4622-f982-7c24aebe40ae"
      },
      "source": [
        "make_prediction('/content/drive/MyDrive/GA/capstone/test_combine.wav')"
      ],
      "execution_count": null,
      "outputs": [
        {
          "output_type": "execute_result",
          "data": {
            "application/vnd.google.colaboratory.intrinsic+json": {
              "type": "string"
            },
            "text/plain": [
              "'children_playing'"
            ]
          },
          "metadata": {
            "tags": []
          },
          "execution_count": 92
        }
      ]
    },
    {
      "cell_type": "code",
      "metadata": {
        "id": "r8faAzuEgU_I"
      },
      "source": [
        "model.save('/content/drive/MyDrive/GA/capstone/capstone.h5')\n"
      ],
      "execution_count": null,
      "outputs": []
    },
    {
      "cell_type": "code",
      "metadata": {
        "id": "CZSyKSLKg1LF"
      },
      "source": [
        "with open(\"/content/drive/MyDrive/GA/capstone/capstone.json\", \"w\") as json_file:\n",
        "    json_file.write(model_json)"
      ],
      "execution_count": null,
      "outputs": []
    },
    {
      "cell_type": "code",
      "metadata": {
        "id": "vqVYNf2RhBsV"
      },
      "source": [
        "model.save_weights(\"/content/drive/MyDrive/GA/capstone/capstone.h5\")"
      ],
      "execution_count": null,
      "outputs": []
    }
  ]
}