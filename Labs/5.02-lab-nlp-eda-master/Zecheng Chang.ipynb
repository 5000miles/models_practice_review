{
 "cells": [
  {
   "cell_type": "markdown",
   "metadata": {},
   "source": [
    "# Exploratory Data Analysis on a Natural Language Processing Task\n",
    "> Authors: Caroline Schmitt, Matt Brems\n",
    "\n",
    "---\n",
    "\n",
    "Exploratory data analysis (EDA) is a crucial part of any data science project. EDA helps us discover interesting relationships in the data, detect outliers and errors, examine our own assumptions about the data, and prepare for modeling. During EDA we might discover that we need to clean our data more conscientiously, or that we have more missing data than we realized, or that there aren't many patterns in the data (indicating that modeling may be challenging.)\n",
    "\n",
    "In this lab you'll bring in a natural language dataset and perform EDA. The dataset contains Facebook statuses taken from between 2009 and 2011 as well as personality test results associated with the users whose Facebook statuses are included.\n",
    "\n",
    "This dataset uses results from the Big Five Personality Test, also referred to as the five-factor model, which measures a person's score on five dimensions of personality:\n",
    "- **O**penness\n",
    "- **C**onscientiousness\n",
    "- **E**xtroversion\n",
    "- **A**greeableness\n",
    "- **N**euroticism\n",
    "\n",
    "Notoriously, the political consulting group Cambridge Analytica claims to have predicted the personalities of Facebook users by using those users' data, with the goal of targeting them with political ads that would be particularly persuasive given their personality type. Cambridge Analytica claims to have considered 32 unique 'groups' in the following fashion:\n",
    "- For each of the five OCEAN qualities, a user is categorized as either 'yes' or 'no'.\n",
    "- This makes for 32 different potential combinations of qualities. ($2^5 = 32$).\n",
    "\n",
    "Cambridge Analytica's methodology was then, roughly, the following:\n",
    "- Gather a large amount of data from Facebook.\n",
    "- Use this data to predict an individual's Big Five personality \"grouping.\"\n",
    "- Design political advertisements that would be particularly effective to that particular \"grouping.\" (For example, are certain advertisements particularly effective toward people with specific personality traits?)\n",
    "\n",
    "In this lab you will perform EDA to examine many relationships in the data.\n",
    "\n",
    "Exploratory data analysis can be a non-linear process, and you're encouraged to explore questions that occur to you as you work through the notebook.\n",
    "\n",
    "> **Content note**: This dataset contains real Facebook statuses scraped from 2009 to 2011, and some of the statuses contain language that is not safe for work, crude, or offensive. The full dataset is available as `mypersonality.csv`, and a sanitized version containing only statuses that passed an automated profanity check is available as `mypersonality_noprofanity.csv`. Please do not hesitate to use `mypersonality_noprofanity.csv` if you would prefer to. Please note that the automated profanity check is not foolproof. If you have any concerns about working with this dataset, please get in touch with your instructional team.\n",
    "\n",
    "---\n",
    "\n",
    "### External resources\n",
    "\n",
    "These resources are not required reading but may be of use or interest.\n",
    "\n",
    "- [Python Graph Gallery](https://python-graph-gallery.com/)\n",
    "- [Wikipedia page](https://en.wikipedia.org/wiki/Big_Five_personality_traits) on the Big Five test\n",
    "- [A short (3-4 pages) academic paper](./celli-al_wcpr13.pdf) using the `MyPersonality` dataset to model personality\n",
    "\n",
    "---\n",
    "\n",
    "## Load packages"
   ]
  },
  {
   "cell_type": "code",
   "execution_count": 1,
   "metadata": {},
   "outputs": [],
   "source": [
    "import matplotlib.pyplot as plt\n",
    "import pandas as pd\n",
    "import seaborn as sns\n",
    "\n",
    "from sklearn.feature_extraction.text import CountVectorizer\n",
    "\n",
    "# this setting widens how many characters pandas will display in a column:\n",
    "pd.options.display.max_colwidth = 350"
   ]
  },
  {
   "cell_type": "markdown",
   "metadata": {},
   "source": [
    "---\n",
    "\n",
    "## Import data\n",
    "\n",
    "This code is provided for you. Some columns with network and score-related data are dropped.\n",
    "\n",
    "The remaining columns will be `#AUTHID`, `STATUS`, `cEXT`, `cNEU`, `cAGR`, `cCON`, `cOPN`, and `DATE`:\n",
    "\n",
    "| Variable name | Description                                                                      |\n",
    "|---------------|----------------------------------------------------------------------------------|\n",
    "| `#AUTHID`     | Author ID code, unique per user                                                  |\n",
    "| `STATUS`      | Text of a Facebook status                                                        |\n",
    "| `cEXT`        | Author extroversion category, `y` for above median and `n` for below median      |\n",
    "| `cNEU`        | Author neuroticism category, `y` for above median and `n` for below median       |\n",
    "| `cAGR`        | Author agreeableness category, `y` for above median and `n` for below median     |\n",
    "| `cCON`        | Author conscientiousness category, `y` for above median and `n` for below median |\n",
    "| `cOPN`        | Author openness category, `y` for above median and `n` for below median          |\n",
    "| `DATE`        | Time stamp of original Facebook status                                           |\n"
   ]
  },
  {
   "cell_type": "code",
   "execution_count": 2,
   "metadata": {},
   "outputs": [
    {
     "data": {
      "text/html": [
       "<div>\n",
       "<style scoped>\n",
       "    .dataframe tbody tr th:only-of-type {\n",
       "        vertical-align: middle;\n",
       "    }\n",
       "\n",
       "    .dataframe tbody tr th {\n",
       "        vertical-align: top;\n",
       "    }\n",
       "\n",
       "    .dataframe thead th {\n",
       "        text-align: right;\n",
       "    }\n",
       "</style>\n",
       "<table border=\"1\" class=\"dataframe\">\n",
       "  <thead>\n",
       "    <tr style=\"text-align: right;\">\n",
       "      <th></th>\n",
       "      <th>#AUTHID</th>\n",
       "      <th>STATUS</th>\n",
       "      <th>cEXT</th>\n",
       "      <th>cNEU</th>\n",
       "      <th>cAGR</th>\n",
       "      <th>cCON</th>\n",
       "      <th>cOPN</th>\n",
       "      <th>DATE</th>\n",
       "    </tr>\n",
       "  </thead>\n",
       "  <tbody>\n",
       "    <tr>\n",
       "      <td>0</td>\n",
       "      <td>b7b7764cfa1c523e4e93ab2a79a946c4</td>\n",
       "      <td>likes the sound of thunder.</td>\n",
       "      <td>n</td>\n",
       "      <td>y</td>\n",
       "      <td>n</td>\n",
       "      <td>n</td>\n",
       "      <td>y</td>\n",
       "      <td>06/19/09 03:21 PM</td>\n",
       "    </tr>\n",
       "    <tr>\n",
       "      <td>1</td>\n",
       "      <td>b7b7764cfa1c523e4e93ab2a79a946c4</td>\n",
       "      <td>is so sleepy it's not even funny that's she can't get to sleep.</td>\n",
       "      <td>n</td>\n",
       "      <td>y</td>\n",
       "      <td>n</td>\n",
       "      <td>n</td>\n",
       "      <td>y</td>\n",
       "      <td>07/02/09 08:41 AM</td>\n",
       "    </tr>\n",
       "    <tr>\n",
       "      <td>2</td>\n",
       "      <td>b7b7764cfa1c523e4e93ab2a79a946c4</td>\n",
       "      <td>is sore and wants the knot of muscles at the base of her neck to stop hurting. On the other hand, YAY I'M IN ILLINOIS! &lt;3</td>\n",
       "      <td>n</td>\n",
       "      <td>y</td>\n",
       "      <td>n</td>\n",
       "      <td>n</td>\n",
       "      <td>y</td>\n",
       "      <td>06/15/09 01:15 PM</td>\n",
       "    </tr>\n",
       "  </tbody>\n",
       "</table>\n",
       "</div>"
      ],
      "text/plain": [
       "                            #AUTHID  \\\n",
       "0  b7b7764cfa1c523e4e93ab2a79a946c4   \n",
       "1  b7b7764cfa1c523e4e93ab2a79a946c4   \n",
       "2  b7b7764cfa1c523e4e93ab2a79a946c4   \n",
       "\n",
       "                                                                                                                      STATUS  \\\n",
       "0                                                                                                likes the sound of thunder.   \n",
       "1                                                            is so sleepy it's not even funny that's she can't get to sleep.   \n",
       "2  is sore and wants the knot of muscles at the base of her neck to stop hurting. On the other hand, YAY I'M IN ILLINOIS! <3   \n",
       "\n",
       "  cEXT cNEU cAGR cCON cOPN               DATE  \n",
       "0    n    y    n    n    y  06/19/09 03:21 PM  \n",
       "1    n    y    n    n    y  07/02/09 08:41 AM  \n",
       "2    n    y    n    n    y  06/15/09 01:15 PM  "
      ]
     },
     "execution_count": 2,
     "metadata": {},
     "output_type": "execute_result"
    }
   ],
   "source": [
    "df = pd.read_csv('data/mypersonality.csv')\n",
    "# df = pd.read_csv('data/mypersonality_noprofanity.csv') # comment out above & uncomment this to use mypersonality_noprofanity.csv\n",
    "\n",
    "dropcols = [\n",
    "    # these are network-related columns:\n",
    "    'NETWORKSIZE', 'BETWEENNESS', 'NBETWEENNESS', 'DENSITY',\n",
    "    'BROKERAGE', 'NBROKERAGE', 'TRANSITIVITY',\n",
    "    # these are score-related columns;\n",
    "    # we will use the catgories instead:\n",
    "    'sEXT', 'sNEU', 'sAGR', 'sCON', 'sOPN'\n",
    "]\n",
    "\n",
    "df.drop(columns=dropcols, inplace=True)\n",
    "df.head(3)"
   ]
  },
  {
   "cell_type": "markdown",
   "metadata": {},
   "source": [
    "## Data cleaning\n",
    "\n",
    "It's often more convenient to work with integers than strings. Convert the personality columns to 0 and 1, with 0 meaning 'below the median' and 1 meaning 'above the median.'"
   ]
  },
  {
   "cell_type": "code",
   "execution_count": 3,
   "metadata": {},
   "outputs": [],
   "source": [
    "def map_func(value):\n",
    "    if value == 'y':\n",
    "        return 1\n",
    "    else:\n",
    "        return 0\n",
    "    \n",
    "for column in ['cEXT', 'cNEU', 'cAGR', 'cCON', 'cOPN']:\n",
    "    df[column] = df[column].map(map_func)"
   ]
  },
  {
   "cell_type": "code",
   "execution_count": 4,
   "metadata": {},
   "outputs": [
    {
     "data": {
      "text/html": [
       "<div>\n",
       "<style scoped>\n",
       "    .dataframe tbody tr th:only-of-type {\n",
       "        vertical-align: middle;\n",
       "    }\n",
       "\n",
       "    .dataframe tbody tr th {\n",
       "        vertical-align: top;\n",
       "    }\n",
       "\n",
       "    .dataframe thead th {\n",
       "        text-align: right;\n",
       "    }\n",
       "</style>\n",
       "<table border=\"1\" class=\"dataframe\">\n",
       "  <thead>\n",
       "    <tr style=\"text-align: right;\">\n",
       "      <th></th>\n",
       "      <th>#AUTHID</th>\n",
       "      <th>STATUS</th>\n",
       "      <th>cEXT</th>\n",
       "      <th>cNEU</th>\n",
       "      <th>cAGR</th>\n",
       "      <th>cCON</th>\n",
       "      <th>cOPN</th>\n",
       "      <th>DATE</th>\n",
       "    </tr>\n",
       "  </thead>\n",
       "  <tbody>\n",
       "    <tr>\n",
       "      <td>0</td>\n",
       "      <td>b7b7764cfa1c523e4e93ab2a79a946c4</td>\n",
       "      <td>likes the sound of thunder.</td>\n",
       "      <td>0</td>\n",
       "      <td>1</td>\n",
       "      <td>0</td>\n",
       "      <td>0</td>\n",
       "      <td>1</td>\n",
       "      <td>06/19/09 03:21 PM</td>\n",
       "    </tr>\n",
       "    <tr>\n",
       "      <td>1</td>\n",
       "      <td>b7b7764cfa1c523e4e93ab2a79a946c4</td>\n",
       "      <td>is so sleepy it's not even funny that's she can't get to sleep.</td>\n",
       "      <td>0</td>\n",
       "      <td>1</td>\n",
       "      <td>0</td>\n",
       "      <td>0</td>\n",
       "      <td>1</td>\n",
       "      <td>07/02/09 08:41 AM</td>\n",
       "    </tr>\n",
       "    <tr>\n",
       "      <td>2</td>\n",
       "      <td>b7b7764cfa1c523e4e93ab2a79a946c4</td>\n",
       "      <td>is sore and wants the knot of muscles at the base of her neck to stop hurting. On the other hand, YAY I'M IN ILLINOIS! &lt;3</td>\n",
       "      <td>0</td>\n",
       "      <td>1</td>\n",
       "      <td>0</td>\n",
       "      <td>0</td>\n",
       "      <td>1</td>\n",
       "      <td>06/15/09 01:15 PM</td>\n",
       "    </tr>\n",
       "  </tbody>\n",
       "</table>\n",
       "</div>"
      ],
      "text/plain": [
       "                            #AUTHID  \\\n",
       "0  b7b7764cfa1c523e4e93ab2a79a946c4   \n",
       "1  b7b7764cfa1c523e4e93ab2a79a946c4   \n",
       "2  b7b7764cfa1c523e4e93ab2a79a946c4   \n",
       "\n",
       "                                                                                                                      STATUS  \\\n",
       "0                                                                                                likes the sound of thunder.   \n",
       "1                                                            is so sleepy it's not even funny that's she can't get to sleep.   \n",
       "2  is sore and wants the knot of muscles at the base of her neck to stop hurting. On the other hand, YAY I'M IN ILLINOIS! <3   \n",
       "\n",
       "   cEXT  cNEU  cAGR  cCON  cOPN               DATE  \n",
       "0     0     1     0     0     1  06/19/09 03:21 PM  \n",
       "1     0     1     0     0     1  07/02/09 08:41 AM  \n",
       "2     0     1     0     0     1  06/15/09 01:15 PM  "
      ]
     },
     "execution_count": 4,
     "metadata": {},
     "output_type": "execute_result"
    }
   ],
   "source": [
    "df.head(3)"
   ]
  },
  {
   "cell_type": "markdown",
   "metadata": {},
   "source": [
    "-----\n",
    "\n",
    "## A first look at the dataset\n",
    "\n",
    "In this section, check:\n",
    "\n",
    "- How many observations are there in the dataset?\n",
    "    * 9916\n",
    "- How many unique `#AUTHID` codes are there?\n",
    "    * 250\n",
    "- How many `y` and `n` values are in each of the personality category columns?\n",
    "    * cEXT: 5707 N, 4209 Y\n",
    "    * cNEU: 6199 N, 3717 Y\n",
    "    * cAGR: 5267 N, 4649 Y\n",
    "    * cCON: 5360 N, 4556 Y\n",
    "    * cOPN: 7369 N, 2547 Y"
   ]
  },
  {
   "cell_type": "code",
   "execution_count": 5,
   "metadata": {},
   "outputs": [
    {
     "data": {
      "text/plain": [
       "(9916, 8)"
      ]
     },
     "execution_count": 5,
     "metadata": {},
     "output_type": "execute_result"
    }
   ],
   "source": [
    "df.shape"
   ]
  },
  {
   "cell_type": "code",
   "execution_count": 6,
   "metadata": {},
   "outputs": [
    {
     "data": {
      "text/plain": [
       "250"
      ]
     },
     "execution_count": 6,
     "metadata": {},
     "output_type": "execute_result"
    }
   ],
   "source": [
    "df['#AUTHID'].nunique()"
   ]
  },
  {
   "cell_type": "code",
   "execution_count": 7,
   "metadata": {},
   "outputs": [
    {
     "name": "stdout",
     "output_type": "stream",
     "text": [
      "0    5707\n",
      "1    4209\n",
      "Name: cEXT, dtype: int64\n",
      "0    6199\n",
      "1    3717\n",
      "Name: cNEU, dtype: int64\n",
      "1    5267\n",
      "0    4649\n",
      "Name: cAGR, dtype: int64\n",
      "0    5360\n",
      "1    4556\n",
      "Name: cCON, dtype: int64\n",
      "1    7369\n",
      "0    2547\n",
      "Name: cOPN, dtype: int64\n"
     ]
    }
   ],
   "source": [
    "for i in ['cEXT', 'cNEU', 'cAGR', 'cCON', 'cOPN']:\n",
    "    print(df[i].value_counts())"
   ]
  },
  {
   "cell_type": "markdown",
   "metadata": {},
   "source": [
    "\n",
    "---\n",
    "\n",
    "## EDA on Statuses\n",
    "\n",
    "Before we even vectorize the text, we might look at the lengths and word counts in each Facebook status. Some personality types might be more long-winded than others!\n",
    "\n",
    "### Create a new column called `status_char_length` that contains the character length of each status\n",
    "\n",
    "> Note: You can do this in one line with `map`."
   ]
  },
  {
   "cell_type": "code",
   "execution_count": 8,
   "metadata": {},
   "outputs": [],
   "source": [
    "df['status_char_length'] = df['STATUS'].map(lambda x: len(x))"
   ]
  },
  {
   "cell_type": "code",
   "execution_count": 9,
   "metadata": {},
   "outputs": [
    {
     "data": {
      "text/html": [
       "<div>\n",
       "<style scoped>\n",
       "    .dataframe tbody tr th:only-of-type {\n",
       "        vertical-align: middle;\n",
       "    }\n",
       "\n",
       "    .dataframe tbody tr th {\n",
       "        vertical-align: top;\n",
       "    }\n",
       "\n",
       "    .dataframe thead th {\n",
       "        text-align: right;\n",
       "    }\n",
       "</style>\n",
       "<table border=\"1\" class=\"dataframe\">\n",
       "  <thead>\n",
       "    <tr style=\"text-align: right;\">\n",
       "      <th></th>\n",
       "      <th>#AUTHID</th>\n",
       "      <th>STATUS</th>\n",
       "      <th>cEXT</th>\n",
       "      <th>cNEU</th>\n",
       "      <th>cAGR</th>\n",
       "      <th>cCON</th>\n",
       "      <th>cOPN</th>\n",
       "      <th>DATE</th>\n",
       "      <th>status_char_length</th>\n",
       "    </tr>\n",
       "  </thead>\n",
       "  <tbody>\n",
       "    <tr>\n",
       "      <td>0</td>\n",
       "      <td>b7b7764cfa1c523e4e93ab2a79a946c4</td>\n",
       "      <td>likes the sound of thunder.</td>\n",
       "      <td>0</td>\n",
       "      <td>1</td>\n",
       "      <td>0</td>\n",
       "      <td>0</td>\n",
       "      <td>1</td>\n",
       "      <td>06/19/09 03:21 PM</td>\n",
       "      <td>27</td>\n",
       "    </tr>\n",
       "    <tr>\n",
       "      <td>1</td>\n",
       "      <td>b7b7764cfa1c523e4e93ab2a79a946c4</td>\n",
       "      <td>is so sleepy it's not even funny that's she can't get to sleep.</td>\n",
       "      <td>0</td>\n",
       "      <td>1</td>\n",
       "      <td>0</td>\n",
       "      <td>0</td>\n",
       "      <td>1</td>\n",
       "      <td>07/02/09 08:41 AM</td>\n",
       "      <td>63</td>\n",
       "    </tr>\n",
       "    <tr>\n",
       "      <td>2</td>\n",
       "      <td>b7b7764cfa1c523e4e93ab2a79a946c4</td>\n",
       "      <td>is sore and wants the knot of muscles at the base of her neck to stop hurting. On the other hand, YAY I'M IN ILLINOIS! &lt;3</td>\n",
       "      <td>0</td>\n",
       "      <td>1</td>\n",
       "      <td>0</td>\n",
       "      <td>0</td>\n",
       "      <td>1</td>\n",
       "      <td>06/15/09 01:15 PM</td>\n",
       "      <td>121</td>\n",
       "    </tr>\n",
       "  </tbody>\n",
       "</table>\n",
       "</div>"
      ],
      "text/plain": [
       "                            #AUTHID  \\\n",
       "0  b7b7764cfa1c523e4e93ab2a79a946c4   \n",
       "1  b7b7764cfa1c523e4e93ab2a79a946c4   \n",
       "2  b7b7764cfa1c523e4e93ab2a79a946c4   \n",
       "\n",
       "                                                                                                                      STATUS  \\\n",
       "0                                                                                                likes the sound of thunder.   \n",
       "1                                                            is so sleepy it's not even funny that's she can't get to sleep.   \n",
       "2  is sore and wants the knot of muscles at the base of her neck to stop hurting. On the other hand, YAY I'M IN ILLINOIS! <3   \n",
       "\n",
       "   cEXT  cNEU  cAGR  cCON  cOPN               DATE  status_char_length  \n",
       "0     0     1     0     0     1  06/19/09 03:21 PM                  27  \n",
       "1     0     1     0     0     1  07/02/09 08:41 AM                  63  \n",
       "2     0     1     0     0     1  06/15/09 01:15 PM                 121  "
      ]
     },
     "execution_count": 9,
     "metadata": {},
     "output_type": "execute_result"
    }
   ],
   "source": [
    "df.head(3)"
   ]
  },
  {
   "cell_type": "markdown",
   "metadata": {},
   "source": [
    "### Create a new column called `status_word_count` that contains the number of words in each status\n",
    "\n",
    "> Note: You can evaluate this based off of how many strings are separated by whitespaces; you're not required to check that each set of characters set apart by whitespaces is a word in the dictionary."
   ]
  },
  {
   "cell_type": "code",
   "execution_count": 10,
   "metadata": {},
   "outputs": [],
   "source": [
    "df['status_word_count'] =  df['STATUS'].map(lambda x: len(x.split(' ')) )"
   ]
  },
  {
   "cell_type": "code",
   "execution_count": 11,
   "metadata": {},
   "outputs": [
    {
     "data": {
      "text/html": [
       "<div>\n",
       "<style scoped>\n",
       "    .dataframe tbody tr th:only-of-type {\n",
       "        vertical-align: middle;\n",
       "    }\n",
       "\n",
       "    .dataframe tbody tr th {\n",
       "        vertical-align: top;\n",
       "    }\n",
       "\n",
       "    .dataframe thead th {\n",
       "        text-align: right;\n",
       "    }\n",
       "</style>\n",
       "<table border=\"1\" class=\"dataframe\">\n",
       "  <thead>\n",
       "    <tr style=\"text-align: right;\">\n",
       "      <th></th>\n",
       "      <th>#AUTHID</th>\n",
       "      <th>STATUS</th>\n",
       "      <th>cEXT</th>\n",
       "      <th>cNEU</th>\n",
       "      <th>cAGR</th>\n",
       "      <th>cCON</th>\n",
       "      <th>cOPN</th>\n",
       "      <th>DATE</th>\n",
       "      <th>status_char_length</th>\n",
       "      <th>status_word_count</th>\n",
       "    </tr>\n",
       "  </thead>\n",
       "  <tbody>\n",
       "    <tr>\n",
       "      <td>0</td>\n",
       "      <td>b7b7764cfa1c523e4e93ab2a79a946c4</td>\n",
       "      <td>likes the sound of thunder.</td>\n",
       "      <td>0</td>\n",
       "      <td>1</td>\n",
       "      <td>0</td>\n",
       "      <td>0</td>\n",
       "      <td>1</td>\n",
       "      <td>06/19/09 03:21 PM</td>\n",
       "      <td>27</td>\n",
       "      <td>5</td>\n",
       "    </tr>\n",
       "    <tr>\n",
       "      <td>1</td>\n",
       "      <td>b7b7764cfa1c523e4e93ab2a79a946c4</td>\n",
       "      <td>is so sleepy it's not even funny that's she can't get to sleep.</td>\n",
       "      <td>0</td>\n",
       "      <td>1</td>\n",
       "      <td>0</td>\n",
       "      <td>0</td>\n",
       "      <td>1</td>\n",
       "      <td>07/02/09 08:41 AM</td>\n",
       "      <td>63</td>\n",
       "      <td>13</td>\n",
       "    </tr>\n",
       "    <tr>\n",
       "      <td>2</td>\n",
       "      <td>b7b7764cfa1c523e4e93ab2a79a946c4</td>\n",
       "      <td>is sore and wants the knot of muscles at the base of her neck to stop hurting. On the other hand, YAY I'M IN ILLINOIS! &lt;3</td>\n",
       "      <td>0</td>\n",
       "      <td>1</td>\n",
       "      <td>0</td>\n",
       "      <td>0</td>\n",
       "      <td>1</td>\n",
       "      <td>06/15/09 01:15 PM</td>\n",
       "      <td>121</td>\n",
       "      <td>26</td>\n",
       "    </tr>\n",
       "  </tbody>\n",
       "</table>\n",
       "</div>"
      ],
      "text/plain": [
       "                            #AUTHID  \\\n",
       "0  b7b7764cfa1c523e4e93ab2a79a946c4   \n",
       "1  b7b7764cfa1c523e4e93ab2a79a946c4   \n",
       "2  b7b7764cfa1c523e4e93ab2a79a946c4   \n",
       "\n",
       "                                                                                                                      STATUS  \\\n",
       "0                                                                                                likes the sound of thunder.   \n",
       "1                                                            is so sleepy it's not even funny that's she can't get to sleep.   \n",
       "2  is sore and wants the knot of muscles at the base of her neck to stop hurting. On the other hand, YAY I'M IN ILLINOIS! <3   \n",
       "\n",
       "   cEXT  cNEU  cAGR  cCON  cOPN               DATE  status_char_length  \\\n",
       "0     0     1     0     0     1  06/19/09 03:21 PM                  27   \n",
       "1     0     1     0     0     1  07/02/09 08:41 AM                  63   \n",
       "2     0     1     0     0     1  06/15/09 01:15 PM                 121   \n",
       "\n",
       "   status_word_count  \n",
       "0                  5  \n",
       "1                 13  \n",
       "2                 26  "
      ]
     },
     "execution_count": 11,
     "metadata": {},
     "output_type": "execute_result"
    }
   ],
   "source": [
    "df.head(3)"
   ]
  },
  {
   "cell_type": "markdown",
   "metadata": {},
   "source": [
    "---\n",
    "\n",
    "## Longest and shortest statuses\n",
    "\n",
    "Looking at individual observations can help us get a sense of what the dataset contains.\n",
    "\n",
    "### Show the five longest and five shortest statuses based off of `status_word_count`"
   ]
  },
  {
   "cell_type": "code",
   "execution_count": 12,
   "metadata": {},
   "outputs": [
    {
     "data": {
      "text/html": [
       "<div>\n",
       "<style scoped>\n",
       "    .dataframe tbody tr th:only-of-type {\n",
       "        vertical-align: middle;\n",
       "    }\n",
       "\n",
       "    .dataframe tbody tr th {\n",
       "        vertical-align: top;\n",
       "    }\n",
       "\n",
       "    .dataframe thead th {\n",
       "        text-align: right;\n",
       "    }\n",
       "</style>\n",
       "<table border=\"1\" class=\"dataframe\">\n",
       "  <thead>\n",
       "    <tr style=\"text-align: right;\">\n",
       "      <th></th>\n",
       "      <th>#AUTHID</th>\n",
       "      <th>STATUS</th>\n",
       "      <th>cEXT</th>\n",
       "      <th>cNEU</th>\n",
       "      <th>cAGR</th>\n",
       "      <th>cCON</th>\n",
       "      <th>cOPN</th>\n",
       "      <th>DATE</th>\n",
       "      <th>status_char_length</th>\n",
       "      <th>status_word_count</th>\n",
       "    </tr>\n",
       "  </thead>\n",
       "  <tbody>\n",
       "    <tr>\n",
       "      <td>8316</td>\n",
       "      <td>c5d9ffcb242053b0abdebe0d684fea3a</td>\n",
       "      <td>*PROPNAME*'s?</td>\n",
       "      <td>0</td>\n",
       "      <td>0</td>\n",
       "      <td>0</td>\n",
       "      <td>1</td>\n",
       "      <td>0</td>\n",
       "      <td>10/17/09 10:57 PM</td>\n",
       "      <td>13</td>\n",
       "      <td>1</td>\n",
       "    </tr>\n",
       "    <tr>\n",
       "      <td>7614</td>\n",
       "      <td>2382eeba332f59ff29cf63a839a33f9a</td>\n",
       "      <td>http:////ca.news.yahoo.com//s//capress//091008//world//eu_nobel_literature</td>\n",
       "      <td>0</td>\n",
       "      <td>1</td>\n",
       "      <td>0</td>\n",
       "      <td>0</td>\n",
       "      <td>0</td>\n",
       "      <td>10/08/09 08:30 PM</td>\n",
       "      <td>74</td>\n",
       "      <td>1</td>\n",
       "    </tr>\n",
       "    <tr>\n",
       "      <td>9099</td>\n",
       "      <td>715c9eb832dc833a0b6409ddccd268b1</td>\n",
       "      <td>no</td>\n",
       "      <td>0</td>\n",
       "      <td>0</td>\n",
       "      <td>0</td>\n",
       "      <td>1</td>\n",
       "      <td>1</td>\n",
       "      <td>09/13/09 03:33 AM</td>\n",
       "      <td>2</td>\n",
       "      <td>1</td>\n",
       "    </tr>\n",
       "    <tr>\n",
       "      <td>229</td>\n",
       "      <td>ecbddbfe00e0f83cfdb802a7186061c7</td>\n",
       "      <td>MLIG!!!</td>\n",
       "      <td>1</td>\n",
       "      <td>0</td>\n",
       "      <td>1</td>\n",
       "      <td>0</td>\n",
       "      <td>1</td>\n",
       "      <td>09/21/09 02:53 AM</td>\n",
       "      <td>7</td>\n",
       "      <td>1</td>\n",
       "    </tr>\n",
       "    <tr>\n",
       "      <td>4014</td>\n",
       "      <td>e4a512374eee079d2b8acc2ce69990d5</td>\n",
       "      <td>2010</td>\n",
       "      <td>1</td>\n",
       "      <td>0</td>\n",
       "      <td>1</td>\n",
       "      <td>0</td>\n",
       "      <td>1</td>\n",
       "      <td>01/01/09 07:00 PM</td>\n",
       "      <td>4</td>\n",
       "      <td>1</td>\n",
       "    </tr>\n",
       "  </tbody>\n",
       "</table>\n",
       "</div>"
      ],
      "text/plain": [
       "                               #AUTHID  \\\n",
       "8316  c5d9ffcb242053b0abdebe0d684fea3a   \n",
       "7614  2382eeba332f59ff29cf63a839a33f9a   \n",
       "9099  715c9eb832dc833a0b6409ddccd268b1   \n",
       "229   ecbddbfe00e0f83cfdb802a7186061c7   \n",
       "4014  e4a512374eee079d2b8acc2ce69990d5   \n",
       "\n",
       "                                                                          STATUS  \\\n",
       "8316                                                               *PROPNAME*'s?   \n",
       "7614  http:////ca.news.yahoo.com//s//capress//091008//world//eu_nobel_literature   \n",
       "9099                                                                          no   \n",
       "229                                                                      MLIG!!!   \n",
       "4014                                                                        2010   \n",
       "\n",
       "      cEXT  cNEU  cAGR  cCON  cOPN               DATE  status_char_length  \\\n",
       "8316     0     0     0     1     0  10/17/09 10:57 PM                  13   \n",
       "7614     0     1     0     0     0  10/08/09 08:30 PM                  74   \n",
       "9099     0     0     0     1     1  09/13/09 03:33 AM                   2   \n",
       "229      1     0     1     0     1  09/21/09 02:53 AM                   7   \n",
       "4014     1     0     1     0     1  01/01/09 07:00 PM                   4   \n",
       "\n",
       "      status_word_count  \n",
       "8316                  1  \n",
       "7614                  1  \n",
       "9099                  1  \n",
       "229                   1  \n",
       "4014                  1  "
      ]
     },
     "execution_count": 12,
     "metadata": {},
     "output_type": "execute_result"
    }
   ],
   "source": [
    "# shortest\n",
    "df.sort_values('status_word_count').head(5)"
   ]
  },
  {
   "cell_type": "code",
   "execution_count": 13,
   "metadata": {},
   "outputs": [
    {
     "data": {
      "text/html": [
       "<div>\n",
       "<style scoped>\n",
       "    .dataframe tbody tr th:only-of-type {\n",
       "        vertical-align: middle;\n",
       "    }\n",
       "\n",
       "    .dataframe tbody tr th {\n",
       "        vertical-align: top;\n",
       "    }\n",
       "\n",
       "    .dataframe thead th {\n",
       "        text-align: right;\n",
       "    }\n",
       "</style>\n",
       "<table border=\"1\" class=\"dataframe\">\n",
       "  <thead>\n",
       "    <tr style=\"text-align: right;\">\n",
       "      <th></th>\n",
       "      <th>#AUTHID</th>\n",
       "      <th>STATUS</th>\n",
       "      <th>cEXT</th>\n",
       "      <th>cNEU</th>\n",
       "      <th>cAGR</th>\n",
       "      <th>cCON</th>\n",
       "      <th>cOPN</th>\n",
       "      <th>DATE</th>\n",
       "      <th>status_char_length</th>\n",
       "      <th>status_word_count</th>\n",
       "    </tr>\n",
       "  </thead>\n",
       "  <tbody>\n",
       "    <tr>\n",
       "      <td>6989</td>\n",
       "      <td>502db2fcfe26705ae16a46c5cb2ad2e5</td>\n",
       "      <td>If I wear makeup, I'm fake. If I like to get dressed up, I'm a Tart. If I say what i think, I'm a bitch. If I cry sometimes, I'm a drama queen. If I have guy friends, I'm a slut. If I stand up for myself, I'm mouthy. Seems like you can't do anything now a days without being labeled.. So what, go ahead and label me, see if i give a shit. Repost ...</td>\n",
       "      <td>0</td>\n",
       "      <td>1</td>\n",
       "      <td>1</td>\n",
       "      <td>0</td>\n",
       "      <td>1</td>\n",
       "      <td>02/18/11 08:33 AM</td>\n",
       "      <td>384</td>\n",
       "      <td>85</td>\n",
       "    </tr>\n",
       "    <tr>\n",
       "      <td>2399</td>\n",
       "      <td>b2be41464b53ffc6deae9536ddfd3aee</td>\n",
       "      <td>And you run and you run to catch up with the sun but it's sinking.               Racing around to come up behind you again.               The sun is the same in a relative way but you're older.               Shorter of breath and one day closer to death.</td>\n",
       "      <td>1</td>\n",
       "      <td>0</td>\n",
       "      <td>1</td>\n",
       "      <td>0</td>\n",
       "      <td>1</td>\n",
       "      <td>09/17/09 02:49 AM</td>\n",
       "      <td>254</td>\n",
       "      <td>86</td>\n",
       "    </tr>\n",
       "    <tr>\n",
       "      <td>5680</td>\n",
       "      <td>1ece40ac9b657dea8c22a1fe58d3a6fe</td>\n",
       "      <td>I always make it a rule to let the other fellow fire first.  If a man wants to fight, I argue the question with him and try to show him how foolish it would be.  If he can't be dissuaded, why then the fun begins but I always let him have first crack.  Then when I fire, you see, I have the verdict of self-defence on my side.  I know that he is p...</td>\n",
       "      <td>0</td>\n",
       "      <td>0</td>\n",
       "      <td>1</td>\n",
       "      <td>0</td>\n",
       "      <td>1</td>\n",
       "      <td>12/07/09 04:07 AM</td>\n",
       "      <td>395</td>\n",
       "      <td>88</td>\n",
       "    </tr>\n",
       "    <tr>\n",
       "      <td>496</td>\n",
       "      <td>9a8cf1dcb2de1a8f70c4745a636bbb96</td>\n",
       "      <td>Exact words when renewing DL: Me: Oh no, you can't take my license, It's my 25th b-day. How am I going to get into the bar? DMV: We gonna give you a new one over there Me: But, it won't have my picture and stuff on it.  Dmv:  Hold up, we can take a picture of your picture and put it on a license i think. (yelling at co-worker to see if this can...</td>\n",
       "      <td>1</td>\n",
       "      <td>1</td>\n",
       "      <td>1</td>\n",
       "      <td>1</td>\n",
       "      <td>1</td>\n",
       "      <td>10/30/09 02:05 PM</td>\n",
       "      <td>413</td>\n",
       "      <td>91</td>\n",
       "    </tr>\n",
       "    <tr>\n",
       "      <td>2188</td>\n",
       "      <td>692758eda219c4fdb6aa64e929be3ff0</td>\n",
       "      <td>just found an organization called Think Before You Speak that flips out about people saying, \"that's gay,\" claiming that it's offensive.  That's pretty gay, if you ask me.</td>\n",
       "      <td>0</td>\n",
       "      <td>1</td>\n",
       "      <td>1</td>\n",
       "      <td>0</td>\n",
       "      <td>1</td>\n",
       "      <td>07/11/09 04:55 AM</td>\n",
       "      <td>255</td>\n",
       "      <td>113</td>\n",
       "    </tr>\n",
       "  </tbody>\n",
       "</table>\n",
       "</div>"
      ],
      "text/plain": [
       "                               #AUTHID  \\\n",
       "6989  502db2fcfe26705ae16a46c5cb2ad2e5   \n",
       "2399  b2be41464b53ffc6deae9536ddfd3aee   \n",
       "5680  1ece40ac9b657dea8c22a1fe58d3a6fe   \n",
       "496   9a8cf1dcb2de1a8f70c4745a636bbb96   \n",
       "2188  692758eda219c4fdb6aa64e929be3ff0   \n",
       "\n",
       "                                                                                                                                                                                                                                                                                                                                                             STATUS  \\\n",
       "6989  If I wear makeup, I'm fake. If I like to get dressed up, I'm a Tart. If I say what i think, I'm a bitch. If I cry sometimes, I'm a drama queen. If I have guy friends, I'm a slut. If I stand up for myself, I'm mouthy. Seems like you can't do anything now a days without being labeled.. So what, go ahead and label me, see if i give a shit. Repost ...   \n",
       "2399                                                                                                 And you run and you run to catch up with the sun but it's sinking.               Racing around to come up behind you again.               The sun is the same in a relative way but you're older.               Shorter of breath and one day closer to death.   \n",
       "5680  I always make it a rule to let the other fellow fire first.  If a man wants to fight, I argue the question with him and try to show him how foolish it would be.  If he can't be dissuaded, why then the fun begins but I always let him have first crack.  Then when I fire, you see, I have the verdict of self-defence on my side.  I know that he is p...   \n",
       "496   Exact words when renewing DL: Me: Oh no, you can't take my license, It's my 25th b-day. How am I going to get into the bar? DMV: We gonna give you a new one over there Me: But, it won't have my picture and stuff on it.  Dmv:  Hold up, we can take a picture of your picture and put it on a license i think. (yelling at co-worker to see if this can...   \n",
       "2188                                                                                                just found an organization called Think Before You Speak that flips out about people saying, \"that's gay,\" claiming that it's offensive.  That's pretty gay, if you ask me.                                                                                       \n",
       "\n",
       "      cEXT  cNEU  cAGR  cCON  cOPN               DATE  status_char_length  \\\n",
       "6989     0     1     1     0     1  02/18/11 08:33 AM                 384   \n",
       "2399     1     0     1     0     1  09/17/09 02:49 AM                 254   \n",
       "5680     0     0     1     0     1  12/07/09 04:07 AM                 395   \n",
       "496      1     1     1     1     1  10/30/09 02:05 PM                 413   \n",
       "2188     0     1     1     0     1  07/11/09 04:55 AM                 255   \n",
       "\n",
       "      status_word_count  \n",
       "6989                 85  \n",
       "2399                 86  \n",
       "5680                 88  \n",
       "496                  91  \n",
       "2188                113  "
      ]
     },
     "execution_count": 13,
     "metadata": {},
     "output_type": "execute_result"
    }
   ],
   "source": [
    "# longest\n",
    "df.sort_values('status_word_count').tail(5)"
   ]
  },
  {
   "cell_type": "markdown",
   "metadata": {},
   "source": [
    "---\n",
    "\n",
    "## Investigating distribution of post lengths\n",
    "\n",
    "We've now seen some of the shortest and longest posts in the dataset. But how common are short posts, and how common are long posts? \n",
    "\n",
    "Use visuals to show the distributions of post lengths.\n",
    "\n",
    "> Note: There are multiple different types of visualizations you could use for this, and you could investigate this by looking at `status_word_count`, `status_char_length`, or both."
   ]
  },
  {
   "cell_type": "code",
   "execution_count": 14,
   "metadata": {},
   "outputs": [
    {
     "data": {
      "image/png": "[encoded data removed]",
      "text/plain": [
       "<Figure size 864x360 with 2 Axes>"
      ]
     },
     "metadata": {
      "needs_background": "light"
     },
     "output_type": "display_data"
    }
   ],
   "source": [
    "fig,axes = plt.subplots(1,2,figsize=(12,5))\n",
    "sns.distplot(df['status_word_count'],ax= axes[0]);\n",
    "sns.boxplot(df['status_word_count'],ax= axes[1]);"
   ]
  },
  {
   "cell_type": "code",
   "execution_count": 15,
   "metadata": {},
   "outputs": [
    {
     "data": {
      "image/png": "[encoded data removed]",
      "text/plain": [
       "<Figure size 864x360 with 2 Axes>"
      ]
     },
     "metadata": {
      "needs_background": "light"
     },
     "output_type": "display_data"
    }
   ],
   "source": [
    "fig,axes = plt.subplots(1,2,figsize=(12,5))\n",
    "sns.distplot(df['status_char_length'],ax= axes[0]);\n",
    "sns.boxplot(df['status_char_length'],ax= axes[1]);"
   ]
  },
  {
   "cell_type": "markdown",
   "metadata": {},
   "source": [
    "---\n",
    "\n",
    "## Exploring personality categories and individual users\n",
    "\n",
    "Because we have many posts per user for most users, doing EDA on the personality columns might be misleading. If we have 2,000 Facebook statuses from one very high-conscientiousness user, a bar chart of how many `'cCON'` statuses are associated with `1` might be misleading. We'll have to be careful about labeling and titling any visualizations we make off of the dataset.\n",
    "\n",
    "This dataset has redacted original poster names, but each user is given an `#AUTHID`. How many unique users are there? Do we have the same number of posts per user, or do we have some more posts by some users than others?"
   ]
  },
  {
   "cell_type": "code",
   "execution_count": 16,
   "metadata": {},
   "outputs": [
    {
     "data": {
      "text/plain": [
       "250"
      ]
     },
     "execution_count": 16,
     "metadata": {},
     "output_type": "execute_result"
    }
   ],
   "source": [
    "# 250 different users\n",
    "df['#AUTHID'].nunique()"
   ]
  },
  {
   "cell_type": "code",
   "execution_count": 17,
   "metadata": {},
   "outputs": [
    {
     "data": {
      "text/plain": [
       "#AUTHID\n",
       "00419a4c96b32cd63b2c7196da761274     1\n",
       "02c37028a782cfda660c7243e45244bb     6\n",
       "03133a828cd0cf52e3752813ce5d818f     5\n",
       "03e6c4eca4269c183fa0e1780f73faba     8\n",
       "06b055f8e2bca96496514891057913c3    12\n",
       "                                    ..\n",
       "f83aa7290cf3ae8ed75d6aee5ebbb559     6\n",
       "fbe5aa478508d1dc931427ade5d9e1b4     3\n",
       "fc1c9fb6c64740edcbbf8cfe9dde8b02    30\n",
       "fe22087986fdcc65939c793fe0ec90a9    19\n",
       "fffafe151f07a30a0ede2038a897b680    21\n",
       "Name: STATUS, Length: 250, dtype: int64"
      ]
     },
     "execution_count": 17,
     "metadata": {},
     "output_type": "execute_result"
    }
   ],
   "source": [
    "df.groupby('#AUTHID')['STATUS'].count()"
   ]
  },
  {
   "cell_type": "markdown",
   "metadata": {},
   "source": [
    "### We have more posts for some users than others."
   ]
  },
  {
   "cell_type": "markdown",
   "metadata": {},
   "source": [
    "---\n",
    "\n",
    "### Create a new dataframe called `unique_users` that only contains the `#AUTHID` and personality category columns\n",
    "\n",
    "If you do this correctly, it should have 250 rows and 6 columns.*\n",
    "\n",
    "(Hint: You can use the pandas [drop_duplicates()](https://pandas.pydata.org/pandas-docs/stable/reference/api/pandas.DataFrame.drop_duplicates.html) method to make this easier. The only column you want to consider when deciding if a user is duplicated is the `#AUTHID` column.)\n",
    "\n",
    "> Note: *If using the `noprofanity` dataset, this number may be different."
   ]
  },
  {
   "cell_type": "code",
   "execution_count": 18,
   "metadata": {},
   "outputs": [],
   "source": [
    "unique_users = df.drop(['STATUS','status_char_length','status_word_count','DATE'],axis=1).drop_duplicates()"
   ]
  },
  {
   "cell_type": "code",
   "execution_count": 19,
   "metadata": {},
   "outputs": [
    {
     "data": {
      "text/html": [
       "<div>\n",
       "<style scoped>\n",
       "    .dataframe tbody tr th:only-of-type {\n",
       "        vertical-align: middle;\n",
       "    }\n",
       "\n",
       "    .dataframe tbody tr th {\n",
       "        vertical-align: top;\n",
       "    }\n",
       "\n",
       "    .dataframe thead th {\n",
       "        text-align: right;\n",
       "    }\n",
       "</style>\n",
       "<table border=\"1\" class=\"dataframe\">\n",
       "  <thead>\n",
       "    <tr style=\"text-align: right;\">\n",
       "      <th></th>\n",
       "      <th>#AUTHID</th>\n",
       "      <th>cEXT</th>\n",
       "      <th>cNEU</th>\n",
       "      <th>cAGR</th>\n",
       "      <th>cCON</th>\n",
       "      <th>cOPN</th>\n",
       "    </tr>\n",
       "  </thead>\n",
       "  <tbody>\n",
       "    <tr>\n",
       "      <td>0</td>\n",
       "      <td>b7b7764cfa1c523e4e93ab2a79a946c4</td>\n",
       "      <td>0</td>\n",
       "      <td>1</td>\n",
       "      <td>0</td>\n",
       "      <td>0</td>\n",
       "      <td>1</td>\n",
       "    </tr>\n",
       "    <tr>\n",
       "      <td>102</td>\n",
       "      <td>318bf822d4f2bd3920367560218619c0</td>\n",
       "      <td>1</td>\n",
       "      <td>1</td>\n",
       "      <td>0</td>\n",
       "      <td>1</td>\n",
       "      <td>0</td>\n",
       "    </tr>\n",
       "    <tr>\n",
       "      <td>171</td>\n",
       "      <td>ecbddbfe00e0f83cfdb802a7186061c7</td>\n",
       "      <td>1</td>\n",
       "      <td>0</td>\n",
       "      <td>1</td>\n",
       "      <td>0</td>\n",
       "      <td>1</td>\n",
       "    </tr>\n",
       "    <tr>\n",
       "      <td>236</td>\n",
       "      <td>db39f7b2aad360b1033ec1f8fcd57f9c</td>\n",
       "      <td>1</td>\n",
       "      <td>1</td>\n",
       "      <td>0</td>\n",
       "      <td>1</td>\n",
       "      <td>1</td>\n",
       "    </tr>\n",
       "    <tr>\n",
       "      <td>246</td>\n",
       "      <td>4d035bd3fd8d9595d15cea9e388964be</td>\n",
       "      <td>1</td>\n",
       "      <td>1</td>\n",
       "      <td>0</td>\n",
       "      <td>0</td>\n",
       "      <td>1</td>\n",
       "    </tr>\n",
       "    <tr>\n",
       "      <td>...</td>\n",
       "      <td>...</td>\n",
       "      <td>...</td>\n",
       "      <td>...</td>\n",
       "      <td>...</td>\n",
       "      <td>...</td>\n",
       "      <td>...</td>\n",
       "    </tr>\n",
       "    <tr>\n",
       "      <td>9909</td>\n",
       "      <td>a764ca41dca158d7a191505dcc8ce47f</td>\n",
       "      <td>1</td>\n",
       "      <td>0</td>\n",
       "      <td>1</td>\n",
       "      <td>1</td>\n",
       "      <td>0</td>\n",
       "    </tr>\n",
       "    <tr>\n",
       "      <td>9910</td>\n",
       "      <td>deb899e426c1a5c66c24eeb0d7df6257</td>\n",
       "      <td>0</td>\n",
       "      <td>0</td>\n",
       "      <td>1</td>\n",
       "      <td>0</td>\n",
       "      <td>1</td>\n",
       "    </tr>\n",
       "    <tr>\n",
       "      <td>9912</td>\n",
       "      <td>ea28a927cb6663480ea33ca917c3c8ba</td>\n",
       "      <td>1</td>\n",
       "      <td>1</td>\n",
       "      <td>1</td>\n",
       "      <td>1</td>\n",
       "      <td>1</td>\n",
       "    </tr>\n",
       "    <tr>\n",
       "      <td>9914</td>\n",
       "      <td>5532642937eb3497a43e15dbb23a9d2d</td>\n",
       "      <td>0</td>\n",
       "      <td>1</td>\n",
       "      <td>0</td>\n",
       "      <td>0</td>\n",
       "      <td>1</td>\n",
       "    </tr>\n",
       "    <tr>\n",
       "      <td>9915</td>\n",
       "      <td>a286b7286b1247d4a7851709e9f31e1e</td>\n",
       "      <td>1</td>\n",
       "      <td>1</td>\n",
       "      <td>0</td>\n",
       "      <td>1</td>\n",
       "      <td>1</td>\n",
       "    </tr>\n",
       "  </tbody>\n",
       "</table>\n",
       "<p>250 rows × 6 columns</p>\n",
       "</div>"
      ],
      "text/plain": [
       "                               #AUTHID  cEXT  cNEU  cAGR  cCON  cOPN\n",
       "0     b7b7764cfa1c523e4e93ab2a79a946c4     0     1     0     0     1\n",
       "102   318bf822d4f2bd3920367560218619c0     1     1     0     1     0\n",
       "171   ecbddbfe00e0f83cfdb802a7186061c7     1     0     1     0     1\n",
       "236   db39f7b2aad360b1033ec1f8fcd57f9c     1     1     0     1     1\n",
       "246   4d035bd3fd8d9595d15cea9e388964be     1     1     0     0     1\n",
       "...                                ...   ...   ...   ...   ...   ...\n",
       "9909  a764ca41dca158d7a191505dcc8ce47f     1     0     1     1     0\n",
       "9910  deb899e426c1a5c66c24eeb0d7df6257     0     0     1     0     1\n",
       "9912  ea28a927cb6663480ea33ca917c3c8ba     1     1     1     1     1\n",
       "9914  5532642937eb3497a43e15dbb23a9d2d     0     1     0     0     1\n",
       "9915  a286b7286b1247d4a7851709e9f31e1e     1     1     0     1     1\n",
       "\n",
       "[250 rows x 6 columns]"
      ]
     },
     "execution_count": 19,
     "metadata": {},
     "output_type": "execute_result"
    }
   ],
   "source": [
    "unique_users"
   ]
  },
  {
   "cell_type": "markdown",
   "metadata": {},
   "source": [
    "### Using `unique_users`, investigate personality\n",
    "\n",
    "For this section, perform EDA on just the unique users. Create 2-3 tables or visuals to investigate.\n",
    "\n",
    "Here are some prompts to get you started:\n",
    "\n",
    "- What proportion of above-median openness users also exhibit above-median extroversion vs. below-median extroversion? What about other pairs of personality traits?\n",
    "- Do any two personality traits appear to be correlated?\n",
    "- Are about equal numbers of users above median conscientiousness and below median conscientiousness, or is there an imbalanced split? What about the other personality traits?\n",
    "- Are any users below-median across all five personality traits? How many?\n",
    "- Are any users above-median all five personality traits? How many?\n",
    "\n",
    "For each dataframe or plot you end up with, remember to provide interpretation in markdown as well."
   ]
  },
  {
   "cell_type": "code",
   "execution_count": 205,
   "metadata": {},
   "outputs": [
    {
     "data": {
      "text/plain": [
       "0    0.590909\n",
       "1    0.409091\n",
       "Name: cEXT, dtype: float64"
      ]
     },
     "execution_count": 205,
     "metadata": {},
     "output_type": "execute_result"
    }
   ],
   "source": [
    "unique_users[unique_users['cOPN'] == 1]['cEXT'].value_counts(normalize=True)"
   ]
  },
  {
   "cell_type": "markdown",
   "metadata": {},
   "source": [
    "#### About 43.78% of users who show above-median openness also exhibit above-median extroversion.\n",
    "#### And 56.22% of users who show above-median openness also exhibit below-median extroversion."
   ]
  },
  {
   "cell_type": "markdown",
   "metadata": {},
   "source": [
    "---"
   ]
  },
  {
   "cell_type": "code",
   "execution_count": 21,
   "metadata": {},
   "outputs": [
    {
     "data": {
      "image/png": "[encoded data removed]",
      "text/plain": [
       "<Figure size 432x288 with 2 Axes>"
      ]
     },
     "metadata": {
      "needs_background": "light"
     },
     "output_type": "display_data"
    }
   ],
   "source": [
    "sns.heatmap(unique_users.corr(),cmap='coolwarm');"
   ]
  },
  {
   "cell_type": "code",
   "execution_count": 22,
   "metadata": {},
   "outputs": [
    {
     "data": {
      "text/html": [
       "<div>\n",
       "<style scoped>\n",
       "    .dataframe tbody tr th:only-of-type {\n",
       "        vertical-align: middle;\n",
       "    }\n",
       "\n",
       "    .dataframe tbody tr th {\n",
       "        vertical-align: top;\n",
       "    }\n",
       "\n",
       "    .dataframe thead th {\n",
       "        text-align: right;\n",
       "    }\n",
       "</style>\n",
       "<table border=\"1\" class=\"dataframe\">\n",
       "  <thead>\n",
       "    <tr style=\"text-align: right;\">\n",
       "      <th></th>\n",
       "      <th>cEXT</th>\n",
       "      <th>cNEU</th>\n",
       "      <th>cAGR</th>\n",
       "      <th>cCON</th>\n",
       "      <th>cOPN</th>\n",
       "    </tr>\n",
       "  </thead>\n",
       "  <tbody>\n",
       "    <tr>\n",
       "      <td>cEXT</td>\n",
       "      <td>1.000000</td>\n",
       "      <td>-0.269335</td>\n",
       "      <td>0.091429</td>\n",
       "      <td>0.182399</td>\n",
       "      <td>0.079561</td>\n",
       "    </tr>\n",
       "    <tr>\n",
       "      <td>cNEU</td>\n",
       "      <td>-0.269335</td>\n",
       "      <td>1.000000</td>\n",
       "      <td>-0.312656</td>\n",
       "      <td>-0.237050</td>\n",
       "      <td>-0.030387</td>\n",
       "    </tr>\n",
       "    <tr>\n",
       "      <td>cAGR</td>\n",
       "      <td>0.091429</td>\n",
       "      <td>-0.312656</td>\n",
       "      <td>1.000000</td>\n",
       "      <td>0.085410</td>\n",
       "      <td>0.204943</td>\n",
       "    </tr>\n",
       "    <tr>\n",
       "      <td>cCON</td>\n",
       "      <td>0.182399</td>\n",
       "      <td>-0.237050</td>\n",
       "      <td>0.085410</td>\n",
       "      <td>1.000000</td>\n",
       "      <td>0.008419</td>\n",
       "    </tr>\n",
       "    <tr>\n",
       "      <td>cOPN</td>\n",
       "      <td>0.079561</td>\n",
       "      <td>-0.030387</td>\n",
       "      <td>0.204943</td>\n",
       "      <td>0.008419</td>\n",
       "      <td>1.000000</td>\n",
       "    </tr>\n",
       "  </tbody>\n",
       "</table>\n",
       "</div>"
      ],
      "text/plain": [
       "          cEXT      cNEU      cAGR      cCON      cOPN\n",
       "cEXT  1.000000 -0.269335  0.091429  0.182399  0.079561\n",
       "cNEU -0.269335  1.000000 -0.312656 -0.237050 -0.030387\n",
       "cAGR  0.091429 -0.312656  1.000000  0.085410  0.204943\n",
       "cCON  0.182399 -0.237050  0.085410  1.000000  0.008419\n",
       "cOPN  0.079561 -0.030387  0.204943  0.008419  1.000000"
      ]
     },
     "execution_count": 22,
     "metadata": {},
     "output_type": "execute_result"
    }
   ],
   "source": [
    "unique_users.corr()"
   ]
  },
  {
   "cell_type": "markdown",
   "metadata": {},
   "source": [
    "#### Looks like cEXT and cNEU are slightly negetively correlated. cNEU and cAGR are  slightly negetively correlated as well."
   ]
  },
  {
   "cell_type": "markdown",
   "metadata": {},
   "source": [
    "---"
   ]
  },
  {
   "cell_type": "code",
   "execution_count": 23,
   "metadata": {},
   "outputs": [
    {
     "name": "stdout",
     "output_type": "stream",
     "text": [
      "0    154\n",
      "1     96\n",
      "Name: cEXT, dtype: int64\n",
      "0    151\n",
      "1     99\n",
      "Name: cNEU, dtype: int64\n",
      "1    134\n",
      "0    116\n",
      "Name: cAGR, dtype: int64\n",
      "1    130\n",
      "0    120\n",
      "Name: cCON, dtype: int64\n",
      "1    176\n",
      "0     74\n",
      "Name: cOPN, dtype: int64\n"
     ]
    }
   ],
   "source": [
    "for column in unique_users.drop('#AUTHID',axis=1).columns:\n",
    "    print(unique_users[column].value_counts())"
   ]
  },
  {
   "cell_type": "markdown",
   "metadata": {},
   "source": [
    "#### Most of the personality traits are imbalanced except cAGR and cCON."
   ]
  },
  {
   "cell_type": "markdown",
   "metadata": {},
   "source": [
    "----"
   ]
  },
  {
   "cell_type": "code",
   "execution_count": 204,
   "metadata": {},
   "outputs": [
    {
     "data": {
      "text/plain": [
       "3    83\n",
       "2    77\n",
       "4    43\n",
       "1    40\n",
       "5     4\n",
       "0     3\n",
       "dtype: int64"
      ]
     },
     "execution_count": 204,
     "metadata": {},
     "output_type": "execute_result"
    }
   ],
   "source": [
    "unique_users.drop('#AUTHID',axis=1).sum(axis=1).value_counts()"
   ]
  },
  {
   "cell_type": "markdown",
   "metadata": {},
   "source": [
    "#### 3 users below-median all five personality traits\n",
    "#### 5 users above-median all five personality traits"
   ]
  },
  {
   "cell_type": "markdown",
   "metadata": {},
   "source": [
    "## Plots vs. Tables\n",
    "\n",
    "(Short answer.) Explain when you might present a visualization versus when you might present a table of summary statistics. You can provide your answer using sentences or bullet points."
   ]
  },
  {
   "cell_type": "markdown",
   "metadata": {},
   "source": [
    "* Using plots when I want to reveal relationships among whole sets of values.\n",
    "* Using tables when I want to reveal the precise values."
   ]
  },
  {
   "cell_type": "markdown",
   "metadata": {},
   "source": [
    "---\n",
    "\n",
    "## Exploring status length and word count based on personality\n",
    "\n",
    "### Using `groupby()`, find the mean status length and status word count for posts by users in the above-median and below-median categories of each of the personality traits\n",
    "\n",
    "> Note: Using `groupby()` five separate times is the easiest way to do this."
   ]
  },
  {
   "cell_type": "code",
   "execution_count": 25,
   "metadata": {},
   "outputs": [
    {
     "name": "stdout",
     "output_type": "stream",
     "text": [
      "      status_char_length  status_word_count\n",
      "cEXT                                       \n",
      "0              79.866655          14.659891\n",
      "1              81.704918          14.843906\n",
      "      status_char_length  status_word_count\n",
      "cNEU                                       \n",
      "0              80.852396          14.753025\n",
      "1              80.304278          14.712941\n",
      "      status_char_length  status_word_count\n",
      "cAGR                                       \n",
      "0              80.976769          14.857389\n",
      "1              80.355800          14.632618\n",
      "      status_char_length  status_word_count\n",
      "cCON                                       \n",
      "0              81.920149          14.969963\n",
      "1              79.149034          14.465101\n",
      "      status_char_length  status_word_count\n",
      "cOPN                                       \n",
      "0              85.686298          15.653318\n",
      "1              78.905143          14.421631\n"
     ]
    }
   ],
   "source": [
    "for column in ['cEXT', 'cNEU', 'cAGR', 'cCON', 'cOPN']:\n",
    "    print(df.groupby(column)[['status_char_length','status_word_count']].mean())"
   ]
  },
  {
   "cell_type": "markdown",
   "metadata": {},
   "source": [
    "     *It looks like for each personality trait, the differences of status length and word count between above median and below median are pretty small.\n",
    "     *However, the difference in cOPN is the largest among all of the personality traits."
   ]
  },
  {
   "cell_type": "markdown",
   "metadata": {},
   "source": [
    "### Distribution of post length for above- and below-median personality traits\n",
    "\n",
    "Choose one of the personality category columns (i.e. `cOPN`, `cCON`, `cEXT`, `cAGR`, or `cNEU`.) Visualize the distribution of status word counts of posts for users who are both above-median and below-median on that trait.\n",
    "\n",
    "> Note: This can be done several ways -- using seaborn or matplotlib, and as overlapping histograms or as side-by-side or stacked histograms."
   ]
  },
  {
   "cell_type": "code",
   "execution_count": 26,
   "metadata": {},
   "outputs": [
    {
     "data": {
      "image/png": "[encoded data removed]",
      "text/plain": [
       "<Figure size 432x288 with 1 Axes>"
      ]
     },
     "metadata": {
      "needs_background": "light"
     },
     "output_type": "display_data"
    }
   ],
   "source": [
    "plt.title('cOPN')\n",
    "sns.distplot(df[df['cOPN'] == 1]['status_word_count']);\n",
    "sns.distplot(df[df['cOPN'] == 0]['status_word_count']);"
   ]
  },
  {
   "cell_type": "markdown",
   "metadata": {},
   "source": [
    "---\n",
    "\n",
    "## EDA on Word Counts\n",
    "\n",
    "### Vectorize the text\n",
    "\n",
    "In order to perform EDA on word count data, we'll need to count-vectorize.\n",
    "\n",
    "Create a dataframe that contains the count-vectorized text for each Facebook status in the dataset.\n",
    "\n",
    "To do this, you might follow these steps:\n",
    "- Instantiate a `CountVectorizer` object\n",
    "- Fit the count vectorizer on the Facebook statuses\n",
    "- Store the transformed data\n",
    "- Convert to a dataframe and store\n",
    "    - Don't forget that the transformed data will need to be 'densified'. The `toarray()` or `todense()` methods will allow this.\n",
    "    - Don't forget that the `get_feature_names()` method on a fitted `CountVectorizer` object will bring you back the words learned from the dataset, which you can set as the `columns` argument when creating the dataframe.\n",
    "    \n",
    "It's up to you whether or not to keep stopwords in the dataset."
   ]
  },
  {
   "cell_type": "code",
   "execution_count": 27,
   "metadata": {},
   "outputs": [],
   "source": [
    "from sklearn.feature_extraction.text import CountVectorizer, TfidfVectorizer"
   ]
  },
  {
   "cell_type": "code",
   "execution_count": 28,
   "metadata": {},
   "outputs": [],
   "source": [
    "cvec = CountVectorizer()"
   ]
  },
  {
   "cell_type": "code",
   "execution_count": 29,
   "metadata": {},
   "outputs": [
    {
     "data": {
      "text/plain": [
       "CountVectorizer()"
      ]
     },
     "execution_count": 29,
     "metadata": {},
     "output_type": "execute_result"
    }
   ],
   "source": [
    "cvec.fit(df['STATUS'])"
   ]
  },
  {
   "cell_type": "code",
   "execution_count": 30,
   "metadata": {},
   "outputs": [],
   "source": [
    "status_vec = cvec.transform(df['STATUS'])"
   ]
  },
  {
   "cell_type": "code",
   "execution_count": 31,
   "metadata": {},
   "outputs": [],
   "source": [
    "status = pd.DataFrame(status_vec.todense(),columns=cvec.get_feature_names())"
   ]
  },
  {
   "cell_type": "markdown",
   "metadata": {},
   "source": [
    "### Show the 15 most common words"
   ]
  },
  {
   "cell_type": "code",
   "execution_count": 32,
   "metadata": {},
   "outputs": [
    {
     "data": {
      "text/plain": [
       "the    4982\n",
       "to     4476\n",
       "is     3156\n",
       "and    3057\n",
       "of     2093\n",
       "in     1984\n",
       "it     1669\n",
       "for    1641\n",
       "my     1564\n",
       "you    1495\n",
       "dtype: int64"
      ]
     },
     "execution_count": 32,
     "metadata": {},
     "output_type": "execute_result"
    }
   ],
   "source": [
    "status.sum().sort_values(ascending=False).head(10)"
   ]
  },
  {
   "cell_type": "markdown",
   "metadata": {},
   "source": [
    "### Show the 15 frequency of the most common words as a bar chart"
   ]
  },
  {
   "cell_type": "code",
   "execution_count": 33,
   "metadata": {},
   "outputs": [
    {
     "data": {
      "image/png": "[encoded data removed]",
      "text/plain": [
       "<Figure size 432x288 with 1 Axes>"
      ]
     },
     "metadata": {
      "needs_background": "light"
     },
     "output_type": "display_data"
    }
   ],
   "source": [
    "status.sum().sort_values(ascending=False).head(10).plot(kind='barh');"
   ]
  },
  {
   "cell_type": "markdown",
   "metadata": {},
   "source": [
    "### Investigating `propname`\n",
    "\n",
    "The word `propname` shows up frequently in this dataset. Show 10 statuses in the dataset that contain `propname`:"
   ]
  },
  {
   "cell_type": "code",
   "execution_count": 34,
   "metadata": {},
   "outputs": [
    {
     "name": "stdout",
     "output_type": "stream",
     "text": [
      "170    Ten Movies to Watch Right Now (and some you can Instant Netflix) 1. La Vie En Rose 2. Shrink (if you love LA) 3. Paris Je'taime (if you love Paris) 3. Clay Pidgeons (*PROPNAME* is priceless) 4. Quills 5. Away We Go 6. Sunshine Cleaning 7. A League of Their Own 8. Smart People (I Heart *PROPNAME*'s Page and SJP) 9. Frost//Nixon 10. Doubt\n",
      "245                                                                                                                                                                                                                                                             Nicel little test for *PROPNAME*!! Way to show them *PROPNAME* how to play PRO football!!\n",
      "446                                                                                                                                                                 *PROPNAME* made it up to me today... after I waited for her for a half hour past our appointment time. Sheesh. But *PROPNAME* was awesome enough to let me have some hot chocolate :)\n",
      "Name: STATUS, dtype: object\n"
     ]
    }
   ],
   "source": [
    "print(df.loc[status[status['propname'] >1].index[0:3],'STATUS'])"
   ]
  },
  {
   "cell_type": "markdown",
   "metadata": {},
   "source": [
    "#### Provide a short explanation of what you believe `propname` to be:\n",
    "\n",
    "> Note: The attached PDF also contains an explanation.\n",
    "* Answer: Propnames have been used to replace the proper name"
   ]
  },
  {
   "cell_type": "markdown",
   "metadata": {},
   "source": [
    "-----\n",
    "\n",
    "## Most common words based on personality category\n",
    "\n",
    "In order to do more targeted EDA, we'll need to be able to reference not only the dataframe of vectorized statuses, but also the personality columns from the original dataframe.\n",
    "\n",
    "### Create a new dataframe with the vectorized text _and_ the personality category columns\n",
    "\n",
    "> Note: One way to do this is by using [`pd.concat`](https://pandas.pydata.org/pandas-docs/stable/reference/api/pandas.concat.html)."
   ]
  },
  {
   "cell_type": "code",
   "execution_count": 221,
   "metadata": {},
   "outputs": [],
   "source": [
    "status_personality = pd.concat([df[['cEXT','cNEU','cAGR','cCON','cOPN']],status],axis=1)"
   ]
  },
  {
   "cell_type": "markdown",
   "metadata": {},
   "source": [
    "### Show the 25 most common words for statuses from high-cAGR users"
   ]
  },
  {
   "cell_type": "code",
   "execution_count": 214,
   "metadata": {},
   "outputs": [
    {
     "data": {
      "text/plain": [
       "to          66\n",
       "the         60\n",
       "is          43\n",
       "and         42\n",
       "in          25\n",
       "of          23\n",
       "it          21\n",
       "for         21\n",
       "you         18\n",
       "my          17\n",
       "on          16\n",
       "be          16\n",
       "this        16\n",
       "that        14\n",
       "propname    13\n",
       "will        12\n",
       "all         11\n",
       "me          11\n",
       "out         10\n",
       "just        10\n",
       "with         9\n",
       "one          8\n",
       "how          8\n",
       "then         8\n",
       "going        8\n",
       "dtype: int64"
      ]
     },
     "execution_count": 214,
     "metadata": {},
     "output_type": "execute_result"
    }
   ],
   "source": [
    "status_personality[status_personality['cAGR'] == 1].drop(['cEXT', 'cNEU', 'cAGR', 'cCON', 'cOPN'],axis=1).sum().sort_values(ascending=False).head(25)"
   ]
  },
  {
   "cell_type": "markdown",
   "metadata": {},
   "source": [
    "### Show the 25 most common words for statuses from low-cAGR users"
   ]
  },
  {
   "cell_type": "code",
   "execution_count": 39,
   "metadata": {},
   "outputs": [
    {
     "data": {
      "text/plain": [
       "the          65\n",
       "is           43\n",
       "to           39\n",
       "and          29\n",
       "in           24\n",
       "of           24\n",
       "for          17\n",
       "my           15\n",
       "at           15\n",
       "not          14\n",
       "it           14\n",
       "be           12\n",
       "will         12\n",
       "propname     11\n",
       "so           10\n",
       "up           10\n",
       "from         10\n",
       "with         10\n",
       "that          9\n",
       "we            9\n",
       "night         9\n",
       "can           9\n",
       "then          9\n",
       "you           8\n",
       "champions     8\n",
       "dtype: int64"
      ]
     },
     "execution_count": 39,
     "metadata": {},
     "output_type": "execute_result"
    }
   ],
   "source": [
    "status_personality[status_personality['cAGR'] == 0].drop(['cEXT', 'cNEU', 'cAGR', 'cCON', 'cOPN'],axis=1).sum().sort_values(ascending=False).head(25)"
   ]
  },
  {
   "cell_type": "markdown",
   "metadata": {},
   "source": [
    "-----\n",
    "\n",
    "### (BONUS) Most common bigrams:\n",
    "\n",
    "This is a bonus section and not required.\n",
    "\n",
    "Find the 10 most common bigrams in the dataset.\n",
    "\n",
    "> Note: The easiest way to do this involves instantiating a new `CountVectorizer`."
   ]
  },
  {
   "cell_type": "code",
   "execution_count": 45,
   "metadata": {},
   "outputs": [
    {
     "data": {
      "text/plain": [
       "in the      448\n",
       "of the      323\n",
       "for the     318\n",
       "going to    295\n",
       "to the      290\n",
       "to be       284\n",
       "on the      217\n",
       "at the      172\n",
       "to get      165\n",
       "to go       162\n",
       "dtype: int64"
      ]
     },
     "execution_count": 45,
     "metadata": {},
     "output_type": "execute_result"
    }
   ],
   "source": [
    "cvec_new = CountVectorizer(ngram_range=(2,2))\n",
    "\n",
    "status_new = cvec_new.fit_transform(df['STATUS'])\n",
    "\n",
    "vect_bigrams = pd.DataFrame(status_new.todense(),columns = cvec_new.get_feature_names())\n",
    "\n",
    "vect_bigrams.sum().sort_values(ascending=False).head(10)"
   ]
  },
  {
   "cell_type": "markdown",
   "metadata": {},
   "source": [
    "### (BONUS) Most common trigrams:\n",
    "\n",
    "This is a bonus section and not required.\n",
    "\n",
    "Find the 10 most common trigrams in the dataset.\n",
    "\n",
    "> Note: The easiest way to do this involves instantiating a new `CountVectorizer`."
   ]
  },
  {
   "cell_type": "code",
   "execution_count": 47,
   "metadata": {},
   "outputs": [
    {
     "data": {
      "text/plain": [
       "is going to                   93\n",
       "propname and propname         56\n",
       "going to be                   45\n",
       "looking forward to            41\n",
       "to go to                      38\n",
       "going to the                  35\n",
       "propname propname propname    34\n",
       "out of the                    32\n",
       "in the morning                29\n",
       "the rest of                   28\n",
       "dtype: int64"
      ]
     },
     "execution_count": 47,
     "metadata": {},
     "output_type": "execute_result"
    }
   ],
   "source": [
    "cvec_new_3 = CountVectorizer(ngram_range=(3,3))\n",
    "\n",
    "status_new_3 = cvec_new_3.fit_transform(df['STATUS'])\n",
    "\n",
    "vect_trigrams = pd.DataFrame(status_new_3.todense(),columns = cvec_new_3.get_feature_names())\n",
    "\n",
    "vect_trigrams.sum().sort_values(ascending=False).head(10)"
   ]
  },
  {
   "cell_type": "markdown",
   "metadata": {},
   "source": [
    "---\n",
    "\n",
    "## Choose your own adventure\n",
    "\n",
    "By now you've looked at a lot of visualizations and frequency counts.\n",
    "\n",
    "Come up with 2-3 questions about the data, and try to answer them using descriptive statistics (like counts, averages, etc.) or visualizations.\n",
    "\n",
    "Some questions you might explore:\n",
    "\n",
    "- Have numbers been redacted, or are phone numbers, house numbers, or zip codes anywhere in the dataset?\n",
    "- `PROPNAME` has been used to redact personal names. Given that this data was scraped between 2009 and 2011, investigate if any public figures or famous people show up in the dataset, or their names have been redacted as well.\n",
    "- Is count of uppercase letters vs. lowercase letters per status related to any personality category or personality score?\n",
    "- Is _average_ word count per status related to any personality category or personality metric?\n",
    "- Is punctuation use related to personality?\n",
    "\n",
    "Or, of course, come up with your own questions to investigate.\n",
    "\n",
    "The focus here is on \"explore\" -- you might not find anything of particular interest, but don't let that discourage you."
   ]
  },
  {
   "cell_type": "markdown",
   "metadata": {},
   "source": [
    "---"
   ]
  },
  {
   "cell_type": "markdown",
   "metadata": {},
   "source": [
    "> Have numbers been redacted, or are phone numbers, house numbers, or zip codes anywhere in the dataset?"
   ]
  },
  {
   "cell_type": "code",
   "execution_count": 72,
   "metadata": {},
   "outputs": [
    {
     "name": "stdout",
     "output_type": "stream",
     "text": [
      "10014\n",
      "13500\n",
      "15000\n",
      "20307\n",
      "24676\n",
      "58530\n",
      "67259\n",
      "67878\n",
      "70000\n"
     ]
    }
   ],
   "source": [
    "# check zipcode\n",
    "for i in status.columns:\n",
    "    test = re.match('^[0-9]{5}(?:-[0-9]{4})?$',i)\n",
    "    if test:\n",
    "        print(test.group())\n",
    "        \n",
    "# looks like zip codes haven't been redacted."
   ]
  },
  {
   "cell_type": "code",
   "execution_count": 73,
   "metadata": {},
   "outputs": [],
   "source": [
    "# check zipcode\n",
    "for i in status.columns:\n",
    "    test = re.match('^(\\+\\d{1,2}\\s)?\\(?\\d{3}\\)?[\\s.-]\\d{3}[\\s.-]\\d{4}$',i)\n",
    "    if test:\n",
    "        print(test.group())\n",
    "    \n",
    "# looks like all the phone numbers have been redacted."
   ]
  },
  {
   "cell_type": "markdown",
   "metadata": {},
   "source": [
    "---"
   ]
  },
  {
   "cell_type": "markdown",
   "metadata": {},
   "source": [
    "> Investigating if any public figures or famous people show up in the dataset, or their names have been redacted as well. "
   ]
  },
  {
   "cell_type": "code",
   "execution_count": 78,
   "metadata": {},
   "outputs": [
    {
     "data": {
      "text/html": [
       "<div>\n",
       "<style scoped>\n",
       "    .dataframe tbody tr th:only-of-type {\n",
       "        vertical-align: middle;\n",
       "    }\n",
       "\n",
       "    .dataframe tbody tr th {\n",
       "        vertical-align: top;\n",
       "    }\n",
       "\n",
       "    .dataframe thead th {\n",
       "        text-align: right;\n",
       "    }\n",
       "</style>\n",
       "<table border=\"1\" class=\"dataframe\">\n",
       "  <thead>\n",
       "    <tr style=\"text-align: right;\">\n",
       "      <th></th>\n",
       "      <th>#AUTHID</th>\n",
       "      <th>STATUS</th>\n",
       "      <th>cEXT</th>\n",
       "      <th>cNEU</th>\n",
       "      <th>cAGR</th>\n",
       "      <th>cCON</th>\n",
       "      <th>cOPN</th>\n",
       "      <th>DATE</th>\n",
       "      <th>status_char_length</th>\n",
       "      <th>status_word_count</th>\n",
       "    </tr>\n",
       "  </thead>\n",
       "  <tbody>\n",
       "    <tr>\n",
       "      <td>799</td>\n",
       "      <td>c19a4fb5e846fb6575b0a8f3a2081ea0</td>\n",
       "      <td>prøver å forsvare Obama til min norsk romkamerat på norsk og det er utrolig vanskelig.</td>\n",
       "      <td>0</td>\n",
       "      <td>1</td>\n",
       "      <td>0</td>\n",
       "      <td>1</td>\n",
       "      <td>0</td>\n",
       "      <td>08/19/09 08:50 PM</td>\n",
       "      <td>86</td>\n",
       "      <td>15</td>\n",
       "    </tr>\n",
       "    <tr>\n",
       "      <td>2096</td>\n",
       "      <td>8f9d4ed5d16ed1a67d734196d29d1f6b</td>\n",
       "      <td>Can Obama will the US to victory over Brazil Sunday?</td>\n",
       "      <td>1</td>\n",
       "      <td>0</td>\n",
       "      <td>1</td>\n",
       "      <td>1</td>\n",
       "      <td>1</td>\n",
       "      <td>06/27/09 11:24 PM</td>\n",
       "      <td>52</td>\n",
       "      <td>10</td>\n",
       "    </tr>\n",
       "    <tr>\n",
       "      <td>3881</td>\n",
       "      <td>9f320ade181aa12bf10361871afa8d90</td>\n",
       "      <td>An Obama consultant yesterday on taxing high-value, middle class health care plans: \"We're not talking about a new tax on these people. We're saying they currently get an enormous tax break and we're going to slightly scale that back . . .\" This will likely be the talking point for any new, middle-class taxes to come.</td>\n",
       "      <td>0</td>\n",
       "      <td>1</td>\n",
       "      <td>0</td>\n",
       "      <td>1</td>\n",
       "      <td>0</td>\n",
       "      <td>01/12/10 04:41 PM</td>\n",
       "      <td>319</td>\n",
       "      <td>56</td>\n",
       "    </tr>\n",
       "    <tr>\n",
       "      <td>6355</td>\n",
       "      <td>1886cffe45f0ee0240eda42e44a01e07</td>\n",
       "      <td>@_@ turkeyday for me = a bunch of republicans coming together eating a huge feast and Obama bashing....its disgusting!</td>\n",
       "      <td>1</td>\n",
       "      <td>0</td>\n",
       "      <td>0</td>\n",
       "      <td>0</td>\n",
       "      <td>0</td>\n",
       "      <td>11/27/09 04:20 AM</td>\n",
       "      <td>118</td>\n",
       "      <td>19</td>\n",
       "    </tr>\n",
       "    <tr>\n",
       "      <td>6555</td>\n",
       "      <td>8d7faa6d7f104a6cb7c4a9e1c6310a15</td>\n",
       "      <td>is temporarily upset with Obama for being in a commercial with *PROPNAME*.</td>\n",
       "      <td>1</td>\n",
       "      <td>0</td>\n",
       "      <td>1</td>\n",
       "      <td>0</td>\n",
       "      <td>1</td>\n",
       "      <td>10/06/09 05:17 AM</td>\n",
       "      <td>74</td>\n",
       "      <td>12</td>\n",
       "    </tr>\n",
       "    <tr>\n",
       "      <td>7493</td>\n",
       "      <td>1187ed8a8b100eb49b8684ac30d6da29</td>\n",
       "      <td>President Obama -- fighting wars in two countries -- will arrive in Norway on Thursday to accept the Nobel Peace Prize.... Amusing CNN headline</td>\n",
       "      <td>1</td>\n",
       "      <td>1</td>\n",
       "      <td>0</td>\n",
       "      <td>1</td>\n",
       "      <td>0</td>\n",
       "      <td>12/10/09 12:21 AM</td>\n",
       "      <td>143</td>\n",
       "      <td>24</td>\n",
       "    </tr>\n",
       "    <tr>\n",
       "      <td>7518</td>\n",
       "      <td>1187ed8a8b100eb49b8684ac30d6da29</td>\n",
       "      <td>Obama got the Nobel Peace Prize the same day that we bombed the moon... interesting...</td>\n",
       "      <td>1</td>\n",
       "      <td>1</td>\n",
       "      <td>0</td>\n",
       "      <td>1</td>\n",
       "      <td>0</td>\n",
       "      <td>10/09/09 03:50 PM</td>\n",
       "      <td>86</td>\n",
       "      <td>15</td>\n",
       "    </tr>\n",
       "    <tr>\n",
       "      <td>8495</td>\n",
       "      <td>a40e2ef8193f5273a04cc7bbaae0789c</td>\n",
       "      <td>... Obama won the Nobel Peace Prize?  Weird.</td>\n",
       "      <td>1</td>\n",
       "      <td>0</td>\n",
       "      <td>1</td>\n",
       "      <td>1</td>\n",
       "      <td>1</td>\n",
       "      <td>10/09/09 03:19 PM</td>\n",
       "      <td>44</td>\n",
       "      <td>9</td>\n",
       "    </tr>\n",
       "    <tr>\n",
       "      <td>8833</td>\n",
       "      <td>7d41c244db4ee816029991d903cc7ce1</td>\n",
       "      <td>yeah Obama, let's fix this thing!</td>\n",
       "      <td>0</td>\n",
       "      <td>0</td>\n",
       "      <td>0</td>\n",
       "      <td>1</td>\n",
       "      <td>1</td>\n",
       "      <td>08/14/09 07:31 PM</td>\n",
       "      <td>33</td>\n",
       "      <td>6</td>\n",
       "    </tr>\n",
       "  </tbody>\n",
       "</table>\n",
       "</div>"
      ],
      "text/plain": [
       "                               #AUTHID  \\\n",
       "799   c19a4fb5e846fb6575b0a8f3a2081ea0   \n",
       "2096  8f9d4ed5d16ed1a67d734196d29d1f6b   \n",
       "3881  9f320ade181aa12bf10361871afa8d90   \n",
       "6355  1886cffe45f0ee0240eda42e44a01e07   \n",
       "6555  8d7faa6d7f104a6cb7c4a9e1c6310a15   \n",
       "7493  1187ed8a8b100eb49b8684ac30d6da29   \n",
       "7518  1187ed8a8b100eb49b8684ac30d6da29   \n",
       "8495  a40e2ef8193f5273a04cc7bbaae0789c   \n",
       "8833  7d41c244db4ee816029991d903cc7ce1   \n",
       "\n",
       "                                                                                                                                                                                                                                                                                                                               STATUS  \\\n",
       "799                                                                                                                                                                                                                                            prøver å forsvare Obama til min norsk romkamerat på norsk og det er utrolig vanskelig.   \n",
       "2096                                                                                                                                                                                                                                                                             Can Obama will the US to victory over Brazil Sunday?   \n",
       "3881  An Obama consultant yesterday on taxing high-value, middle class health care plans: \"We're not talking about a new tax on these people. We're saying they currently get an enormous tax break and we're going to slightly scale that back . . .\" This will likely be the talking point for any new, middle-class taxes to come.   \n",
       "6355                                                                                                                                                                                                           @_@ turkeyday for me = a bunch of republicans coming together eating a huge feast and Obama bashing....its disgusting!   \n",
       "6555                                                                                                                                                                                                                                                       is temporarily upset with Obama for being in a commercial with *PROPNAME*.   \n",
       "7493                                                                                                                                                                                  President Obama -- fighting wars in two countries -- will arrive in Norway on Thursday to accept the Nobel Peace Prize.... Amusing CNN headline   \n",
       "7518                                                                                                                                                                                                                                           Obama got the Nobel Peace Prize the same day that we bombed the moon... interesting...   \n",
       "8495                                                                                                                                                                                                                                                                                     ... Obama won the Nobel Peace Prize?  Weird.   \n",
       "8833                                                                                                                                                                                                                                                                                                yeah Obama, let's fix this thing!   \n",
       "\n",
       "      cEXT  cNEU  cAGR  cCON  cOPN               DATE  status_char_length  \\\n",
       "799      0     1     0     1     0  08/19/09 08:50 PM                  86   \n",
       "2096     1     0     1     1     1  06/27/09 11:24 PM                  52   \n",
       "3881     0     1     0     1     0  01/12/10 04:41 PM                 319   \n",
       "6355     1     0     0     0     0  11/27/09 04:20 AM                 118   \n",
       "6555     1     0     1     0     1  10/06/09 05:17 AM                  74   \n",
       "7493     1     1     0     1     0  12/10/09 12:21 AM                 143   \n",
       "7518     1     1     0     1     0  10/09/09 03:50 PM                  86   \n",
       "8495     1     0     1     1     1  10/09/09 03:19 PM                  44   \n",
       "8833     0     0     0     1     1  08/14/09 07:31 PM                  33   \n",
       "\n",
       "      status_word_count  \n",
       "799                  15  \n",
       "2096                 10  \n",
       "3881                 56  \n",
       "6355                 19  \n",
       "6555                 12  \n",
       "7493                 24  \n",
       "7518                 15  \n",
       "8495                  9  \n",
       "8833                  6  "
      ]
     },
     "execution_count": 78,
     "metadata": {},
     "output_type": "execute_result"
    }
   ],
   "source": [
    "df[df['STATUS'].str.contains('Obama')]\n",
    "# looks lile public figures havn't been redacted."
   ]
  },
  {
   "cell_type": "markdown",
   "metadata": {},
   "source": [
    "---"
   ]
  },
  {
   "cell_type": "markdown",
   "metadata": {},
   "source": [
    "> Is count of uppercase letters vs. lowercase letters per status related to any personality category or personality score?"
   ]
  },
  {
   "cell_type": "code",
   "execution_count": 194,
   "metadata": {},
   "outputs": [],
   "source": [
    "# Vectorize the df again without lowercase everything\n",
    "cvec_cap = CountVectorizer(lowercase=False)\n",
    "cvec_cap.fit(df['STATUS'])\n",
    "status_vec_cap = cvec_cap.transform(df['STATUS'])"
   ]
  },
  {
   "cell_type": "code",
   "execution_count": 195,
   "metadata": {},
   "outputs": [],
   "source": [
    "status_cap = pd.DataFrame(status_vec_cap.todense(),columns=cvec_cap.get_feature_names())"
   ]
  },
  {
   "cell_type": "code",
   "execution_count": 196,
   "metadata": {},
   "outputs": [],
   "source": [
    "status_personality_cap =  pd.concat([unique_users.drop('#AUTHID',axis=1),status_cap],axis=1)"
   ]
  },
  {
   "cell_type": "code",
   "execution_count": 188,
   "metadata": {},
   "outputs": [],
   "source": [
    "status_personality_columns = status_cap.columns"
   ]
  },
  {
   "cell_type": "code",
   "execution_count": 189,
   "metadata": {},
   "outputs": [],
   "source": [
    "status_personality_cap_columns = []\n",
    "for i in status_personality_columns:\n",
    "    if i == i.title() and (not i[0].isdigit()):\n",
    "        status_personality_cap_columns.append(i)\n"
   ]
  },
  {
   "cell_type": "code",
   "execution_count": 200,
   "metadata": {},
   "outputs": [],
   "source": [
    "df_cap = status_personality_cap.loc[:,status_personality_cap_columns]"
   ]
  },
  {
   "cell_type": "code",
   "execution_count": 218,
   "metadata": {},
   "outputs": [],
   "source": [
    "status_personality_cap = pd.concat([df[['cEXT','cNEU','cAGR','cCON','cOPN']],df_cap],axis=1)"
   ]
  },
  {
   "cell_type": "code",
   "execution_count": 251,
   "metadata": {},
   "outputs": [],
   "source": [
    "df_not_cap = status_cap.loc[:,[column for column in status_cap.columns if column not in status_personality_cap_columns]]"
   ]
  },
  {
   "cell_type": "code",
   "execution_count": 254,
   "metadata": {},
   "outputs": [],
   "source": [
    "df_not_cap = pd.concat([df[['cEXT','cNEU','cAGR','cCON','cOPN']],df_not_cap],axis=1)"
   ]
  },
  {
   "cell_type": "code",
   "execution_count": 258,
   "metadata": {},
   "outputs": [
    {
     "data": {
      "text/plain": [
       "0.21235069092044656"
      ]
     },
     "execution_count": 258,
     "metadata": {},
     "output_type": "execute_result"
    }
   ],
   "source": [
    "(status_personality_cap.groupby('cNEU').sum().sum(axis=1)[1]) / (df_not_cap.groupby('cNEU').sum().sum(axis=1)[1])"
   ]
  },
  {
   "cell_type": "code",
   "execution_count": 259,
   "metadata": {},
   "outputs": [
    {
     "data": {
      "text/plain": [
       "0.23449377195784094"
      ]
     },
     "execution_count": 259,
     "metadata": {},
     "output_type": "execute_result"
    }
   ],
   "source": [
    "(status_personality_cap.groupby('cEXT').sum().sum(axis=1)[1]) / (df_not_cap.groupby('cEXT').sum().sum(axis=1)[1])"
   ]
  },
  {
   "cell_type": "code",
   "execution_count": 260,
   "metadata": {},
   "outputs": [
    {
     "data": {
      "text/plain": [
       "0.2392568913111833"
      ]
     },
     "execution_count": 260,
     "metadata": {},
     "output_type": "execute_result"
    }
   ],
   "source": [
    "(status_personality_cap.groupby('cAGR').sum().sum(axis=1)[1]) / (df_not_cap.groupby('cAGR').sum().sum(axis=1)[1])"
   ]
  },
  {
   "cell_type": "code",
   "execution_count": 261,
   "metadata": {},
   "outputs": [
    {
     "data": {
      "text/plain": [
       "0.24367025133846604"
      ]
     },
     "execution_count": 261,
     "metadata": {},
     "output_type": "execute_result"
    }
   ],
   "source": [
    "(status_personality_cap.groupby('cCON').sum().sum(axis=1)[1]) / (df_not_cap.groupby('cCON').sum().sum(axis=1)[1])"
   ]
  },
  {
   "cell_type": "code",
   "execution_count": 262,
   "metadata": {},
   "outputs": [
    {
     "data": {
      "text/plain": [
       "0.2304590721399077"
      ]
     },
     "execution_count": 262,
     "metadata": {},
     "output_type": "execute_result"
    }
   ],
   "source": [
    "(status_personality_cap.groupby('cOPN').sum().sum(axis=1)[1]) / (df_not_cap.groupby('cOPN').sum().sum(axis=1)[1])"
   ]
  },
  {
   "cell_type": "markdown",
   "metadata": {},
   "source": [
    "### The ratio between uppercase letters and lowercase letters aren't vary too much between different personality category"
   ]
  }
 ],
 "metadata": {
  "kernelspec": {
   "display_name": "Python 3",
   "language": "python",
   "name": "python3"
  },
  "language_info": {
   "codemirror_mode": {
    "name": "ipython",
    "version": 3
   },
   "file_extension": ".py",
   "mimetype": "text/x-python",
   "name": "python",
   "nbconvert_exporter": "python",
   "pygments_lexer": "ipython3",
   "version": "3.7.4"
  }
 },
 "nbformat": 4,
 "nbformat_minor": 4
}
