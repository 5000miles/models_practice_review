{
 "cells": [
  {
   "cell_type": "markdown",
   "metadata": {},
   "source": [
    "<img src=\"http://imgur.com/1ZcRyrc.png\" style=\"float: left; margin: 20px; height: 55px\">\n",
    "\n",
    "# Simple Linear Regression with Sacramento Real Estate Data\n",
    "\n",
    "_Authors: Matt Brems, Sam Stack, Justin Pounders_\n",
    "\n",
    "---\n",
    "\n",
    "In this lab you will hone your exploratory data analysis (EDA) skills and practice constructing simple linear regressions using a data set on Sacramento real estate sales.  The data set contains information on qualities of the property, location of the property, and time of sale."
   ]
  },
  {
   "cell_type": "markdown",
   "metadata": {},
   "source": [
    "### 1. Read in the Sacramento housing data set."
   ]
  },
  {
   "cell_type": "code",
   "execution_count": 1,
   "metadata": {},
   "outputs": [],
   "source": [
    "sac_csv = './datasets/sacramento_real_estate_transactions.csv'"
   ]
  },
  {
   "cell_type": "code",
   "execution_count": 2,
   "metadata": {},
   "outputs": [],
   "source": [
    "import pandas as pd\n",
    "import seaborn as sns\n",
    "import matplotlib.pyplot as plt"
   ]
  },
  {
   "cell_type": "code",
   "execution_count": 3,
   "metadata": {},
   "outputs": [],
   "source": [
    "df= pd.read_csv(sac_csv)"
   ]
  },
  {
   "cell_type": "code",
   "execution_count": 4,
   "metadata": {},
   "outputs": [
    {
     "data": {
      "text/html": [
       "<div>\n",
       "<style scoped>\n",
       "    .dataframe tbody tr th:only-of-type {\n",
       "        vertical-align: middle;\n",
       "    }\n",
       "\n",
       "    .dataframe tbody tr th {\n",
       "        vertical-align: top;\n",
       "    }\n",
       "\n",
       "    .dataframe thead th {\n",
       "        text-align: right;\n",
       "    }\n",
       "</style>\n",
       "<table border=\"1\" class=\"dataframe\">\n",
       "  <thead>\n",
       "    <tr style=\"text-align: right;\">\n",
       "      <th></th>\n",
       "      <th>street</th>\n",
       "      <th>city</th>\n",
       "      <th>zip</th>\n",
       "      <th>state</th>\n",
       "      <th>beds</th>\n",
       "      <th>baths</th>\n",
       "      <th>sq__ft</th>\n",
       "      <th>type</th>\n",
       "      <th>sale_date</th>\n",
       "      <th>price</th>\n",
       "      <th>latitude</th>\n",
       "      <th>longitude</th>\n",
       "    </tr>\n",
       "  </thead>\n",
       "  <tbody>\n",
       "    <tr>\n",
       "      <td>0</td>\n",
       "      <td>3526 HIGH ST</td>\n",
       "      <td>SACRAMENTO</td>\n",
       "      <td>95838</td>\n",
       "      <td>CA</td>\n",
       "      <td>2</td>\n",
       "      <td>1</td>\n",
       "      <td>836</td>\n",
       "      <td>Residential</td>\n",
       "      <td>Wed May 21 00:00:00 EDT 2008</td>\n",
       "      <td>59222</td>\n",
       "      <td>38.631913</td>\n",
       "      <td>-121.434879</td>\n",
       "    </tr>\n",
       "    <tr>\n",
       "      <td>1</td>\n",
       "      <td>51 OMAHA CT</td>\n",
       "      <td>SACRAMENTO</td>\n",
       "      <td>95823</td>\n",
       "      <td>CA</td>\n",
       "      <td>3</td>\n",
       "      <td>1</td>\n",
       "      <td>1167</td>\n",
       "      <td>Residential</td>\n",
       "      <td>Wed May 21 00:00:00 EDT 2008</td>\n",
       "      <td>68212</td>\n",
       "      <td>38.478902</td>\n",
       "      <td>-121.431028</td>\n",
       "    </tr>\n",
       "    <tr>\n",
       "      <td>2</td>\n",
       "      <td>2796 BRANCH ST</td>\n",
       "      <td>SACRAMENTO</td>\n",
       "      <td>95815</td>\n",
       "      <td>CA</td>\n",
       "      <td>2</td>\n",
       "      <td>1</td>\n",
       "      <td>796</td>\n",
       "      <td>Residential</td>\n",
       "      <td>Wed May 21 00:00:00 EDT 2008</td>\n",
       "      <td>68880</td>\n",
       "      <td>38.618305</td>\n",
       "      <td>-121.443839</td>\n",
       "    </tr>\n",
       "    <tr>\n",
       "      <td>3</td>\n",
       "      <td>2805 JANETTE WAY</td>\n",
       "      <td>SACRAMENTO</td>\n",
       "      <td>95815</td>\n",
       "      <td>CA</td>\n",
       "      <td>2</td>\n",
       "      <td>1</td>\n",
       "      <td>852</td>\n",
       "      <td>Residential</td>\n",
       "      <td>Wed May 21 00:00:00 EDT 2008</td>\n",
       "      <td>69307</td>\n",
       "      <td>38.616835</td>\n",
       "      <td>-121.439146</td>\n",
       "    </tr>\n",
       "    <tr>\n",
       "      <td>4</td>\n",
       "      <td>6001 MCMAHON DR</td>\n",
       "      <td>SACRAMENTO</td>\n",
       "      <td>95824</td>\n",
       "      <td>CA</td>\n",
       "      <td>2</td>\n",
       "      <td>1</td>\n",
       "      <td>797</td>\n",
       "      <td>Residential</td>\n",
       "      <td>Wed May 21 00:00:00 EDT 2008</td>\n",
       "      <td>81900</td>\n",
       "      <td>38.519470</td>\n",
       "      <td>-121.435768</td>\n",
       "    </tr>\n",
       "  </tbody>\n",
       "</table>\n",
       "</div>"
      ],
      "text/plain": [
       "             street        city    zip state  beds  baths  sq__ft  \\\n",
       "0      3526 HIGH ST  SACRAMENTO  95838    CA     2      1     836   \n",
       "1       51 OMAHA CT  SACRAMENTO  95823    CA     3      1    1167   \n",
       "2    2796 BRANCH ST  SACRAMENTO  95815    CA     2      1     796   \n",
       "3  2805 JANETTE WAY  SACRAMENTO  95815    CA     2      1     852   \n",
       "4   6001 MCMAHON DR  SACRAMENTO  95824    CA     2      1     797   \n",
       "\n",
       "          type                     sale_date  price   latitude   longitude  \n",
       "0  Residential  Wed May 21 00:00:00 EDT 2008  59222  38.631913 -121.434879  \n",
       "1  Residential  Wed May 21 00:00:00 EDT 2008  68212  38.478902 -121.431028  \n",
       "2  Residential  Wed May 21 00:00:00 EDT 2008  68880  38.618305 -121.443839  \n",
       "3  Residential  Wed May 21 00:00:00 EDT 2008  69307  38.616835 -121.439146  \n",
       "4  Residential  Wed May 21 00:00:00 EDT 2008  81900  38.519470 -121.435768  "
      ]
     },
     "execution_count": 4,
     "metadata": {},
     "output_type": "execute_result"
    }
   ],
   "source": [
    "df.head()"
   ]
  },
  {
   "cell_type": "markdown",
   "metadata": {},
   "source": [
    "### 2. Conduct exploratory data analysis on this data set. \n",
    "\n",
    "**Report any notable findings here and any steps you take to clean/process data.**\n",
    "\n",
    "> **Note:** These EDA checks should be done on every data set you handle. If you find yourself checking repeatedly for missing/corrupted data, it might be beneficial to have a function that you can reuse every time you're given new data."
   ]
  },
  {
   "cell_type": "code",
   "execution_count": 5,
   "metadata": {},
   "outputs": [
    {
     "name": "stdout",
     "output_type": "stream",
     "text": [
      "<class 'pandas.core.frame.DataFrame'>\n",
      "RangeIndex: 985 entries, 0 to 984\n",
      "Data columns (total 12 columns):\n",
      "street       985 non-null object\n",
      "city         985 non-null object\n",
      "zip          985 non-null int64\n",
      "state        985 non-null object\n",
      "beds         985 non-null int64\n",
      "baths        985 non-null int64\n",
      "sq__ft       985 non-null int64\n",
      "type         985 non-null object\n",
      "sale_date    985 non-null object\n",
      "price        985 non-null int64\n",
      "latitude     985 non-null float64\n",
      "longitude    985 non-null float64\n",
      "dtypes: float64(2), int64(5), object(5)\n",
      "memory usage: 92.5+ KB\n"
     ]
    }
   ],
   "source": [
    "df.info()"
   ]
  },
  {
   "cell_type": "markdown",
   "metadata": {},
   "source": [
    "### Findings: \n",
    "* Firstly, I noticed that the sale_date is stored as object, it's better to convert to date type."
   ]
  },
  {
   "cell_type": "code",
   "execution_count": 6,
   "metadata": {},
   "outputs": [],
   "source": [
    "def sale_date_convert(df):\n",
    "    df['sale_date'] = pd.to_datetime(df['sale_date'],infer_datetime_format=True)\n",
    "    return df\n",
    "\n",
    "df = sale_date_convert(df)"
   ]
  },
  {
   "cell_type": "markdown",
   "metadata": {},
   "source": [
    "* Secondly, zip code is better to be object instead of int"
   ]
  },
  {
   "cell_type": "code",
   "execution_count": 7,
   "metadata": {},
   "outputs": [],
   "source": [
    "def zip_convert(df):\n",
    "    df['zip'] = df['zip'].astype('O')\n",
    "    return df\n",
    "\n",
    "df = zip_convert(df)"
   ]
  },
  {
   "cell_type": "code",
   "execution_count": 8,
   "metadata": {},
   "outputs": [
    {
     "data": {
      "text/html": [
       "<div>\n",
       "<style scoped>\n",
       "    .dataframe tbody tr th:only-of-type {\n",
       "        vertical-align: middle;\n",
       "    }\n",
       "\n",
       "    .dataframe tbody tr th {\n",
       "        vertical-align: top;\n",
       "    }\n",
       "\n",
       "    .dataframe thead th {\n",
       "        text-align: right;\n",
       "    }\n",
       "</style>\n",
       "<table border=\"1\" class=\"dataframe\">\n",
       "  <thead>\n",
       "    <tr style=\"text-align: right;\">\n",
       "      <th></th>\n",
       "      <th>count</th>\n",
       "      <th>mean</th>\n",
       "      <th>std</th>\n",
       "      <th>min</th>\n",
       "      <th>25%</th>\n",
       "      <th>50%</th>\n",
       "      <th>75%</th>\n",
       "      <th>max</th>\n",
       "    </tr>\n",
       "  </thead>\n",
       "  <tbody>\n",
       "    <tr>\n",
       "      <td>beds</td>\n",
       "      <td>985.0</td>\n",
       "      <td>2.911675</td>\n",
       "      <td>1.307932</td>\n",
       "      <td>0.000000</td>\n",
       "      <td>2.000000</td>\n",
       "      <td>3.000000</td>\n",
       "      <td>4.000000</td>\n",
       "      <td>8.000000</td>\n",
       "    </tr>\n",
       "    <tr>\n",
       "      <td>baths</td>\n",
       "      <td>985.0</td>\n",
       "      <td>1.776650</td>\n",
       "      <td>0.895371</td>\n",
       "      <td>0.000000</td>\n",
       "      <td>1.000000</td>\n",
       "      <td>2.000000</td>\n",
       "      <td>2.000000</td>\n",
       "      <td>5.000000</td>\n",
       "    </tr>\n",
       "    <tr>\n",
       "      <td>sq__ft</td>\n",
       "      <td>985.0</td>\n",
       "      <td>1312.918782</td>\n",
       "      <td>856.123224</td>\n",
       "      <td>-984.000000</td>\n",
       "      <td>950.000000</td>\n",
       "      <td>1304.000000</td>\n",
       "      <td>1718.000000</td>\n",
       "      <td>5822.000000</td>\n",
       "    </tr>\n",
       "    <tr>\n",
       "      <td>price</td>\n",
       "      <td>985.0</td>\n",
       "      <td>233715.951269</td>\n",
       "      <td>139088.818896</td>\n",
       "      <td>-210944.000000</td>\n",
       "      <td>145000.000000</td>\n",
       "      <td>213750.000000</td>\n",
       "      <td>300000.000000</td>\n",
       "      <td>884790.000000</td>\n",
       "    </tr>\n",
       "    <tr>\n",
       "      <td>latitude</td>\n",
       "      <td>985.0</td>\n",
       "      <td>38.445121</td>\n",
       "      <td>5.103637</td>\n",
       "      <td>-121.503471</td>\n",
       "      <td>38.482704</td>\n",
       "      <td>38.625932</td>\n",
       "      <td>38.695589</td>\n",
       "      <td>39.020808</td>\n",
       "    </tr>\n",
       "    <tr>\n",
       "      <td>longitude</td>\n",
       "      <td>985.0</td>\n",
       "      <td>-121.193371</td>\n",
       "      <td>5.100670</td>\n",
       "      <td>-121.551704</td>\n",
       "      <td>-121.446119</td>\n",
       "      <td>-121.375799</td>\n",
       "      <td>-121.294893</td>\n",
       "      <td>38.668433</td>\n",
       "    </tr>\n",
       "  </tbody>\n",
       "</table>\n",
       "</div>"
      ],
      "text/plain": [
       "           count           mean            std            min            25%  \\\n",
       "beds       985.0       2.911675       1.307932       0.000000       2.000000   \n",
       "baths      985.0       1.776650       0.895371       0.000000       1.000000   \n",
       "sq__ft     985.0    1312.918782     856.123224    -984.000000     950.000000   \n",
       "price      985.0  233715.951269  139088.818896 -210944.000000  145000.000000   \n",
       "latitude   985.0      38.445121       5.103637    -121.503471      38.482704   \n",
       "longitude  985.0    -121.193371       5.100670    -121.551704    -121.446119   \n",
       "\n",
       "                     50%            75%            max  \n",
       "beds            3.000000       4.000000       8.000000  \n",
       "baths           2.000000       2.000000       5.000000  \n",
       "sq__ft       1304.000000    1718.000000    5822.000000  \n",
       "price      213750.000000  300000.000000  884790.000000  \n",
       "latitude       38.625932      38.695589      39.020808  \n",
       "longitude    -121.375799    -121.294893      38.668433  "
      ]
     },
     "execution_count": 8,
     "metadata": {},
     "output_type": "execute_result"
    }
   ],
   "source": [
    "df.describe().T"
   ]
  },
  {
   "cell_type": "markdown",
   "metadata": {},
   "source": [
    "* Thirdly, there are negative values in sq_ft and price which doesn't make ssense, it better to remove them"
   ]
  },
  {
   "cell_type": "code",
   "execution_count": 9,
   "metadata": {},
   "outputs": [],
   "source": [
    "df = df[(df['sq__ft'] > 0) & (df['price'] > 0)]"
   ]
  },
  {
   "cell_type": "markdown",
   "metadata": {},
   "source": [
    "_**Fun Fact:** Zip codes often have leading zeros — e.g., 02215 = Boston, MA — which will often get knocked off automatically by many software programs like Python or Excel. You can imagine that this could create some issues. _"
   ]
  },
  {
   "cell_type": "code",
   "execution_count": 10,
   "metadata": {},
   "outputs": [
    {
     "data": {
      "text/html": [
       "<div>\n",
       "<style scoped>\n",
       "    .dataframe tbody tr th:only-of-type {\n",
       "        vertical-align: middle;\n",
       "    }\n",
       "\n",
       "    .dataframe tbody tr th {\n",
       "        vertical-align: top;\n",
       "    }\n",
       "\n",
       "    .dataframe thead th {\n",
       "        text-align: right;\n",
       "    }\n",
       "</style>\n",
       "<table border=\"1\" class=\"dataframe\">\n",
       "  <thead>\n",
       "    <tr style=\"text-align: right;\">\n",
       "      <th></th>\n",
       "      <th>count</th>\n",
       "      <th>mean</th>\n",
       "      <th>std</th>\n",
       "      <th>min</th>\n",
       "      <th>25%</th>\n",
       "      <th>50%</th>\n",
       "      <th>75%</th>\n",
       "      <th>max</th>\n",
       "    </tr>\n",
       "  </thead>\n",
       "  <tbody>\n",
       "    <tr>\n",
       "      <td>price</td>\n",
       "      <td>813.0</td>\n",
       "      <td>229471.130381</td>\n",
       "      <td>119897.576889</td>\n",
       "      <td>2000.0</td>\n",
       "      <td>148750.0</td>\n",
       "      <td>207973.0</td>\n",
       "      <td>285000.0</td>\n",
       "      <td>884790.0</td>\n",
       "    </tr>\n",
       "    <tr>\n",
       "      <td>sq__ft</td>\n",
       "      <td>813.0</td>\n",
       "      <td>1591.892989</td>\n",
       "      <td>663.908347</td>\n",
       "      <td>484.0</td>\n",
       "      <td>1144.0</td>\n",
       "      <td>1419.0</td>\n",
       "      <td>1851.0</td>\n",
       "      <td>5822.0</td>\n",
       "    </tr>\n",
       "  </tbody>\n",
       "</table>\n",
       "</div>"
      ],
      "text/plain": [
       "        count           mean            std     min       25%       50%  \\\n",
       "price   813.0  229471.130381  119897.576889  2000.0  148750.0  207973.0   \n",
       "sq__ft  813.0    1591.892989     663.908347   484.0    1144.0    1419.0   \n",
       "\n",
       "             75%       max  \n",
       "price   285000.0  884790.0  \n",
       "sq__ft    1851.0    5822.0  "
      ]
     },
     "execution_count": 10,
     "metadata": {},
     "output_type": "execute_result"
    }
   ],
   "source": [
    "df[['price','sq__ft']].describe().T"
   ]
  },
  {
   "cell_type": "markdown",
   "metadata": {},
   "source": [
    "Price of 2000 is a outlier, remove it."
   ]
  },
  {
   "cell_type": "code",
   "execution_count": 11,
   "metadata": {},
   "outputs": [],
   "source": [
    "df = df[df['price'] > 2000]"
   ]
  },
  {
   "cell_type": "markdown",
   "metadata": {},
   "source": [
    "### 3. Our goal will be to predict price. List variables that you think qualify as predictors of price in an SLR model. \n",
    "\n",
    "**For each of the variables you believe to be a valid potential predictor in an SLR model, generate a plot showing the relationship between the independent and dependent variables.**"
   ]
  },
  {
   "cell_type": "code",
   "execution_count": 12,
   "metadata": {},
   "outputs": [
    {
     "data": {
      "text/plain": [
       "<matplotlib.axes._subplots.AxesSubplot at 0x7fd1540ea8d0>"
      ]
     },
     "execution_count": 12,
     "metadata": {},
     "output_type": "execute_result"
    },
    {
     "data": {
      "image/png": "[encoded data removed]",
      "text/plain": [
       "<Figure size 432x288 with 1 Axes>"
      ]
     },
     "metadata": {
      "needs_background": "light"
     },
     "output_type": "display_data"
    }
   ],
   "source": [
    "sns.scatterplot(df['beds'], df['price'])"
   ]
  },
  {
   "cell_type": "code",
   "execution_count": 13,
   "metadata": {},
   "outputs": [
    {
     "data": {
      "text/plain": [
       "Index(['street', 'city', 'zip', 'state', 'beds', 'baths', 'sq__ft', 'type',\n",
       "       'sale_date', 'price', 'latitude', 'longitude'],\n",
       "      dtype='object')"
      ]
     },
     "execution_count": 13,
     "metadata": {},
     "output_type": "execute_result"
    }
   ],
   "source": [
    "df.columns"
   ]
  },
  {
   "cell_type": "code",
   "execution_count": 14,
   "metadata": {},
   "outputs": [
    {
     "data": {
      "image/png": "[encoded data removed]",
      "text/plain": [
       "<Figure size 1440x360 with 4 Axes>"
      ]
     },
     "metadata": {
      "needs_background": "light"
     },
     "output_type": "display_data"
    }
   ],
   "source": [
    "# plt.figure(figsize=(20,9));\n",
    "sns.pairplot(df, x_vars=['beds','baths','sq__ft','type'], y_vars=['price'],height=5);"
   ]
  },
  {
   "cell_type": "code",
   "execution_count": 15,
   "metadata": {},
   "outputs": [],
   "source": [
    "df_new = df[['sq__ft','price']]"
   ]
  },
  {
   "cell_type": "markdown",
   "metadata": {},
   "source": [
    "When you've finished cleaning or have made a good deal of progress cleaning, it's always a good idea to save your work.\n",
    "```python\n",
    "shd.to_csv('./datasets/sacramento_real_estate_transactions_Clean.csv')\n",
    "```"
   ]
  },
  {
   "cell_type": "markdown",
   "metadata": {},
   "source": [
    "### 4. Which variable would be the best predictor of Y in an SLR model? Why?"
   ]
  },
  {
   "cell_type": "code",
   "execution_count": 16,
   "metadata": {},
   "outputs": [],
   "source": [
    "# sq_ft would be the best predictor of Y in an SLR model because the linear realationship is more obvious from the scatter plot"
   ]
  },
  {
   "cell_type": "markdown",
   "metadata": {},
   "source": [
    "### 5. Build a function that will take in two lists, `Y` and `X`, and return the intercept and slope coefficients that minimize SSE. \n",
    "\n",
    "`Y` is the target variable and `X` is the predictor variable.\n",
    "\n",
    "- **Test your function on price and the variable you determined was the best predictor in Problem 4.**\n",
    "- **Report the slope and intercept.**"
   ]
  },
  {
   "cell_type": "code",
   "execution_count": 17,
   "metadata": {},
   "outputs": [],
   "source": [
    "def slr(x,y):\n",
    "    x_mean = sum(x)/len(x)\n",
    "    y_mean = sum(y)/len(y)\n",
    "    \n",
    "    beta_1_numerator = 0\n",
    "    beta_1_denominator = 0\n",
    "    \n",
    "    for i in range(len(x)):\n",
    "        beta_1_numerator += ((x[i]-x_mean)*(y[i]-y_mean))\n",
    "        beta_1_denominator += (x[i] - x_mean)**2\n",
    "    beta_1 = beta_1_numerator / beta_1_denominator\n",
    "    \n",
    "    beta_0 = y_mean - beta_1 * x_mean\n",
    "    \n",
    "    return beta_0,beta_1"
   ]
  },
  {
   "cell_type": "code",
   "execution_count": 18,
   "metadata": {},
   "outputs": [],
   "source": [
    "x = df_new['sq__ft'].to_list()\n",
    "y = df_new['price'].to_list()\n",
    "\n",
    "intercept,slope = slr(x,y)"
   ]
  },
  {
   "cell_type": "code",
   "execution_count": 19,
   "metadata": {},
   "outputs": [
    {
     "name": "stdout",
     "output_type": "stream",
     "text": [
      "Slope is 134.75120754188796 and intercept is 15943.749961489637\n"
     ]
    }
   ],
   "source": [
    "print(f'Slope is {slope} and intercept is {intercept}')"
   ]
  },
  {
   "cell_type": "markdown",
   "metadata": {},
   "source": [
    "### 6. Interpret the intercept. Interpret the slope."
   ]
  },
  {
   "cell_type": "markdown",
   "metadata": {},
   "source": [
    "* 1 square feet increase in the sq__ft will result in a average of134.13 increase in the price. And on average, the price starts from 17313.71"
   ]
  },
  {
   "cell_type": "markdown",
   "metadata": {},
   "source": [
    "### 7. Give an example of how this model could be used for prediction and how it could be used for inference. \n",
    "\n",
    "**Be sure to make it clear which example is associated with prediction and which is associated with inference.**"
   ]
  },
  {
   "cell_type": "markdown",
   "metadata": {},
   "source": [
    "Prediction:\n",
    "* My client wants to know how much his 3000 ft^2 house might be. Using the model above: 29497 + 3000 * 124.628 = 406384\n",
    "\n",
    "Inference:\n",
    "* My client wants to know what affect the price, our model indicates that sq feet is the most import feature: 1 square feet increase in the sq__ft will result in a average of 125.62 increase in the price and on average, the price starts from 29497.56."
   ]
  },
  {
   "cell_type": "markdown",
   "metadata": {},
   "source": [
    "### 8: [Bonus] Using the model you came up with in Problem 5, calculate and plot the residuals."
   ]
  },
  {
   "cell_type": "code",
   "execution_count": 20,
   "metadata": {},
   "outputs": [
    {
     "data": {
      "image/png": "[encoded data removed]",
      "text/plain": [
       "<Figure size 432x288 with 1 Axes>"
      ]
     },
     "metadata": {
      "needs_background": "light"
     },
     "output_type": "display_data"
    }
   ],
   "source": [
    "y_prdct = [intercept+slope*xi for xi in x]\n",
    "\n",
    "residual = []\n",
    "for i in range(len(y_prdct)):\n",
    "    residual.append(y[i] - y_prdct[i])\n",
    "    \n",
    "sns.scatterplot(x, residual);"
   ]
  },
  {
   "cell_type": "markdown",
   "metadata": {},
   "source": [
    "---\n",
    "\n",
    "> The material following this point can be completed after the second lesson on Monday.\n",
    "\n",
    "---"
   ]
  },
  {
   "cell_type": "markdown",
   "metadata": {},
   "source": [
    "## Dummy Variables\n",
    "\n",
    "---\n",
    "\n",
    "It is important to be cautious with categorical variables, which represent distict groups or categories, when building a regression. If put in a regression \"as-is,\" categorical variables represented as integers will be treated like *continuous* variables.\n",
    "\n",
    "That is to say, instead of group \"3\" having a different effect on the estimation than group \"1\" it will estimate literally 3 times more than group 1. \n",
    "\n",
    "For example, if occupation category \"1\" represents \"analyst\" and occupation category \"3\" represents \"barista\", and our target variable is salary, if we leave this as a column of integers then barista will always have `beta*3` the effect of analyst.\n",
    "\n",
    "This will almost certainly force the beta coefficient to be something strange and incorrect. Instead, we can re-represent the categories as multiple \"dummy coded\" columns.\n",
    "\n",
    "### 9. Use the `pd.get_dummies` function to convert the `type` column into dummy-coded variables.\n",
    "\n",
    "Print out the header of the dummy-coded variable output."
   ]
  },
  {
   "cell_type": "code",
   "execution_count": 21,
   "metadata": {},
   "outputs": [
    {
     "data": {
      "text/html": [
       "<div>\n",
       "<style scoped>\n",
       "    .dataframe tbody tr th:only-of-type {\n",
       "        vertical-align: middle;\n",
       "    }\n",
       "\n",
       "    .dataframe tbody tr th {\n",
       "        vertical-align: top;\n",
       "    }\n",
       "\n",
       "    .dataframe thead th {\n",
       "        text-align: right;\n",
       "    }\n",
       "</style>\n",
       "<table border=\"1\" class=\"dataframe\">\n",
       "  <thead>\n",
       "    <tr style=\"text-align: right;\">\n",
       "      <th></th>\n",
       "      <th>Condo</th>\n",
       "      <th>Multi-Family</th>\n",
       "      <th>Residential</th>\n",
       "    </tr>\n",
       "  </thead>\n",
       "  <tbody>\n",
       "    <tr>\n",
       "      <td>0</td>\n",
       "      <td>0</td>\n",
       "      <td>0</td>\n",
       "      <td>1</td>\n",
       "    </tr>\n",
       "    <tr>\n",
       "      <td>1</td>\n",
       "      <td>0</td>\n",
       "      <td>0</td>\n",
       "      <td>1</td>\n",
       "    </tr>\n",
       "    <tr>\n",
       "      <td>2</td>\n",
       "      <td>0</td>\n",
       "      <td>0</td>\n",
       "      <td>1</td>\n",
       "    </tr>\n",
       "    <tr>\n",
       "      <td>3</td>\n",
       "      <td>0</td>\n",
       "      <td>0</td>\n",
       "      <td>1</td>\n",
       "    </tr>\n",
       "    <tr>\n",
       "      <td>4</td>\n",
       "      <td>0</td>\n",
       "      <td>0</td>\n",
       "      <td>1</td>\n",
       "    </tr>\n",
       "    <tr>\n",
       "      <td>...</td>\n",
       "      <td>...</td>\n",
       "      <td>...</td>\n",
       "      <td>...</td>\n",
       "    </tr>\n",
       "    <tr>\n",
       "      <td>980</td>\n",
       "      <td>0</td>\n",
       "      <td>0</td>\n",
       "      <td>1</td>\n",
       "    </tr>\n",
       "    <tr>\n",
       "      <td>981</td>\n",
       "      <td>0</td>\n",
       "      <td>0</td>\n",
       "      <td>1</td>\n",
       "    </tr>\n",
       "    <tr>\n",
       "      <td>982</td>\n",
       "      <td>0</td>\n",
       "      <td>0</td>\n",
       "      <td>1</td>\n",
       "    </tr>\n",
       "    <tr>\n",
       "      <td>983</td>\n",
       "      <td>0</td>\n",
       "      <td>0</td>\n",
       "      <td>1</td>\n",
       "    </tr>\n",
       "    <tr>\n",
       "      <td>984</td>\n",
       "      <td>0</td>\n",
       "      <td>0</td>\n",
       "      <td>1</td>\n",
       "    </tr>\n",
       "  </tbody>\n",
       "</table>\n",
       "<p>812 rows × 3 columns</p>\n",
       "</div>"
      ],
      "text/plain": [
       "     Condo  Multi-Family  Residential\n",
       "0        0             0            1\n",
       "1        0             0            1\n",
       "2        0             0            1\n",
       "3        0             0            1\n",
       "4        0             0            1\n",
       "..     ...           ...          ...\n",
       "980      0             0            1\n",
       "981      0             0            1\n",
       "982      0             0            1\n",
       "983      0             0            1\n",
       "984      0             0            1\n",
       "\n",
       "[812 rows x 3 columns]"
      ]
     },
     "execution_count": 21,
     "metadata": {},
     "output_type": "execute_result"
    }
   ],
   "source": [
    "pd.get_dummies(df['type'])"
   ]
  },
  {
   "cell_type": "markdown",
   "metadata": {},
   "source": [
    "---\n",
    "\n",
    "### A Word of Caution When Creating Dummies\n",
    "\n",
    "Let's touch on precautions we should take when dummy coding.\n",
    "\n",
    "**If you convert a qualitative variable to dummy variables, you want to turn a variable with N categories into N-1 variables.**\n",
    "\n",
    "> **Scenario 1:** Suppose we're working with the variable \"sex\" or \"gender\" with values \"M\" and \"F\". \n",
    "\n",
    "You should include in your model only one variable for \"sex = F\" which takes on 1 if sex is female and 0 if sex is not female! Rather than saying \"a one unit change in X,\" the coefficient associated with \"sex = F\" is interpreted as the average change in Y when sex = F relative to when sex = M.\n",
    "\n",
    "| Female | Male | \n",
    "|-------|------|\n",
    "| 0 | 1 | \n",
    "| 1 | 0 |\n",
    "| 0 | 1 |\n",
    "| 1 | 0 |\n",
    "| 1 | 0 |\n",
    "_As we can see a 1 in the female column indicates a 0 in the male column. And so, we have two columns stating the same information in different ways._\n",
    "\n",
    "> Scenario 2: Suppose we're modeling revenue at a bar for each of the days of the week. We have a column with strings identifying which day of the week this observation occured in.\n",
    "\n",
    "We might include six of the days as their own variables: \"Monday\", \"Tuesday\", \"Wednesday\", \"Thursday\", \"Friday\", \"Saturday\". **But not all 7 days.**  \n",
    "\n",
    "|Monday | Tuesday | Wednesday | Thursday | Friday | Saturday | \n",
    "|-------|---------|-----------|----------|--------|----------|\n",
    "| 1     | 0       |0          |      0   |0       | 0        | \n",
    "| 0     | 1       |0          |      0   |0       | 0        | \n",
    "| 0     | 0       |1          |      0   |0       | 0        | \n",
    "| 0     | 0       |0          |      1   |0       | 0        | \n",
    "| 0     | 0       |0          |      0   |1       | 0        | \n",
    "| 0     | 0       |0          |      0   |0       | 1        | \n",
    "| 0     | 0       |0          |      0   |0       | 0        | \n",
    "\n",
    "_As humans we can infer from the last row that if its is not Monday, Tusday, Wednesday, Thursday, Friday or Saturday than it must be Sunday. Models work the same way._\n",
    "\n",
    "The coefficient for Monday is then interpreted as the average change in revenue when \"day = Monday\" relative to \"day = Sunday.\" The coefficient for Tuesday is interpreted in the average change in revenue when \"day = Tuesday\" relative to \"day = Sunday\" and so on.\n",
    "\n",
    "The category you leave out, which the other columns are *relative to* is often referred to as the **reference category**."
   ]
  },
  {
   "cell_type": "markdown",
   "metadata": {},
   "source": [
    "### 10. Remove \"Unkown\" from four dummy coded variable dataframe and append the rest to the original data."
   ]
  },
  {
   "cell_type": "code",
   "execution_count": 22,
   "metadata": {},
   "outputs": [],
   "source": [
    "df_dummies = pd.concat([df_new,pd.get_dummies(df[['city','zip','state','type']],drop_first=True)], axis = 1)"
   ]
  },
  {
   "cell_type": "markdown",
   "metadata": {},
   "source": [
    "### 11. Build what you think may be the best MLR model predicting `price`. \n",
    "\n",
    "The independent variables are your choice, but *include at least three variables.* At least one of which should be a dummy-coded variable (either one we created before or a new one).\n",
    "\n",
    "To construct your model don't forget to load in the statsmodels api:\n",
    "\n",
    "```python\n",
    "from sklearn.linear_model import LinearRegression\n",
    "\n",
    "model = LinearRegression()\n",
    "```"
   ]
  },
  {
   "cell_type": "markdown",
   "metadata": {},
   "source": [
    "_I'm going to engineer a new dummy variable for 'HUGE houses'.  Those whose square footage is 3 (positive) standard deviations away from the mean._\n",
    "```\n",
    "Mean = 1315\n",
    "STD = 853\n",
    "Huge Houses > 3775 sq ft\n",
    "```"
   ]
  },
  {
   "cell_type": "code",
   "execution_count": 23,
   "metadata": {},
   "outputs": [],
   "source": [
    "from sklearn.linear_model import LinearRegression\n",
    "from sklearn.model_selection import train_test_split"
   ]
  },
  {
   "cell_type": "code",
   "execution_count": 24,
   "metadata": {},
   "outputs": [
    {
     "data": {
      "text/plain": [
       "array([1, 2, 3, 4, 5])"
      ]
     },
     "execution_count": 24,
     "metadata": {},
     "output_type": "execute_result"
    }
   ],
   "source": [
    "df['baths'].unique()"
   ]
  },
  {
   "cell_type": "code",
   "execution_count": 25,
   "metadata": {},
   "outputs": [],
   "source": [
    "df_final = pd.concat([df_new,pd.get_dummies(df['type'],drop_first=True,prefix='type')], axis = 1)\n",
    "\n",
    "def huge_house(value):\n",
    "    if value > 3775:\n",
    "        return 1\n",
    "    else:\n",
    "        return 0\n",
    "    \n",
    "df_final['huge_house'] = df['sq__ft'].map(huge_house)\n",
    "\n",
    "df_final = pd.concat([df_final,df[['beds','baths']]], axis = 1)\n",
    "\n"
   ]
  },
  {
   "cell_type": "code",
   "execution_count": 26,
   "metadata": {},
   "outputs": [],
   "source": [
    "X_new = df_final.drop('price',axis=1)\n",
    "y_new = df_final['price']\n",
    "\n",
    "X_train,X_test,y_train,y_test = train_test_split(X_new,y_new,train_size=0.8,random_state=42)"
   ]
  },
  {
   "cell_type": "code",
   "execution_count": 27,
   "metadata": {},
   "outputs": [
    {
     "data": {
      "text/plain": [
       "LinearRegression()"
      ]
     },
     "execution_count": 27,
     "metadata": {},
     "output_type": "execute_result"
    }
   ],
   "source": [
    "linreg = LinearRegression()\n",
    "linreg.fit(X_train,y_train)"
   ]
  },
  {
   "cell_type": "code",
   "execution_count": 28,
   "metadata": {},
   "outputs": [
    {
     "name": "stdout",
     "output_type": "stream",
     "text": [
      "Slope is [   153.50814336 -22060.41467012  39991.32305399 -35569.53100541\n",
      " -30637.65115426  13351.28068728] and intercept is 23408.344671259692\n"
     ]
    }
   ],
   "source": [
    "print(f'Slope is {linreg.coef_} and intercept is {linreg.intercept_}')"
   ]
  },
  {
   "cell_type": "code",
   "execution_count": 29,
   "metadata": {},
   "outputs": [
    {
     "data": {
      "text/plain": [
       "(0.5485052101545216, 0.5566898573277145)"
      ]
     },
     "execution_count": 29,
     "metadata": {},
     "output_type": "execute_result"
    }
   ],
   "source": [
    "# evalute the model\n",
    "linreg.score(X_train,y_train), linreg.score(X_test,y_test)"
   ]
  },
  {
   "cell_type": "markdown",
   "metadata": {},
   "source": [
    "### 12. Plot the true price vs the predicted price to evaluate your MLR visually."
   ]
  },
  {
   "cell_type": "code",
   "execution_count": 30,
   "metadata": {},
   "outputs": [
    {
     "data": {
      "image/png": "[encoded data removed]",
      "text/plain": [
       "<Figure size 432x288 with 1 Axes>"
      ]
     },
     "metadata": {
      "needs_background": "light"
     },
     "output_type": "display_data"
    }
   ],
   "source": [
    "predict_new = linreg.predict(X_train)\n",
    "sns.scatterplot(predict_new,y_train);\n",
    "sns.lineplot(y_train,y_train);"
   ]
  },
  {
   "cell_type": "markdown",
   "metadata": {},
   "source": [
    "### 13. List the five assumptions for an MLR model. \n",
    "\n",
    "Indicate which ones are the same as the assumptions for an SLR model. "
   ]
  },
  {
   "cell_type": "markdown",
   "metadata": {},
   "source": [
    "**SLR AND MLR**:  \n",
    "\n",
    "- *Linearity: Y must have an approximately linear relationship with each independent X_i.*\n",
    "- *Independence: Errors (residuals) e_i and e_j must be independent of one another for any i != j.*\n",
    "- *Normality: The errors (residuals) follow a Normal distribution.*\n",
    "- *Equality of Variances: The errors (residuals) should have a roughly consistent pattern, regardless of the value of the X_i. (There should be no discernable relationship between X_1 and the residuals.)*\n",
    "\n",
    "**MLR ONLY**:  \n",
    "- *Independence Part 2: The independent variables X_i and X_j must be independent of one another for any i != j*\n",
    "\n",
    "\n",
    "\n"
   ]
  },
  {
   "cell_type": "markdown",
   "metadata": {},
   "source": [
    "### 14. Pick at least two assumptions and articulate whether or not you believe them to be met  for your model and why."
   ]
  },
  {
   "cell_type": "code",
   "execution_count": 33,
   "metadata": {},
   "outputs": [
    {
     "data": {
      "image/png": "[encoded data removed]",
      "text/plain": [
       "<Figure size 432x288 with 1 Axes>"
      ]
     },
     "metadata": {
      "needs_background": "light"
     },
     "output_type": "display_data"
    }
   ],
   "source": [
    "\n",
    "sns.scatterplot(y,residual);\n",
    "\n",
    "# Equality of Variances assumption is met"
   ]
  },
  {
   "cell_type": "code",
   "execution_count": 34,
   "metadata": {},
   "outputs": [
    {
     "data": {
      "text/plain": [
       "<matplotlib.axes._subplots.AxesSubplot at 0x7fd15579e690>"
      ]
     },
     "execution_count": 34,
     "metadata": {},
     "output_type": "execute_result"
    },
    {
     "data": {
      "image/png": "[encoded data removed]",
      "text/plain": [
       "<Figure size 432x288 with 1 Axes>"
      ]
     },
     "metadata": {
      "needs_background": "light"
     },
     "output_type": "display_data"
    }
   ],
   "source": [
    "sns.distplot(residual)\n",
    "\n",
    "# The residuals are pretty much normally distributed.(a little bit right skewed)"
   ]
  },
  {
   "cell_type": "markdown",
   "metadata": {},
   "source": [
    "### 15. [Bonus] Generate a table showing the point estimates, standard errors, t-scores, p-values, and 95% confidence intervals for the model you built. \n",
    "\n",
    "**Write a few sentences interpreting some of the output.**\n",
    "\n",
    "> **Hint:** scikit-learn does not have this functionality built in, but statsmodels does in the `summary` method.  To fit the statsmodels model use something like the following.  There is one big caveat here, however!  `statsmodels.OLS` does _not_ add an intercept to your model, so you will need to do this explicitly by adding a column filled with the number 1 to your X matrix\n",
    "\n",
    "```python\n",
    "import statsmodels.api as sm\n",
    "\n",
    "# The Default here is Linear Regression (ordinary least squares regression OLS)\n",
    "model = sm.OLS(y,X).fit()\n",
    "```"
   ]
  },
  {
   "cell_type": "code",
   "execution_count": 35,
   "metadata": {},
   "outputs": [
    {
     "name": "stderr",
     "output_type": "stream",
     "text": [
      "/Users/czc/opt/anaconda3/lib/python3.7/site-packages/numpy/core/fromnumeric.py:2495: FutureWarning: Method .ptp is deprecated and will be removed in a future version. Use numpy.ptp instead.\n",
      "  return ptp(axis=axis, out=out, **kwargs)\n"
     ]
    }
   ],
   "source": [
    "import statsmodels.api as sm\n",
    "\n",
    "# The Default here is Linear Regression (ordinary least squares regression OLS)\n",
    "model = sm.OLS(y_train,sm.add_constant(X_train)).fit()"
   ]
  },
  {
   "cell_type": "code",
   "execution_count": 36,
   "metadata": {},
   "outputs": [
    {
     "data": {
      "text/html": [
       "<table class=\"simpletable\">\n",
       "<caption>OLS Regression Results</caption>\n",
       "<tr>\n",
       "  <th>Dep. Variable:</th>          <td>price</td>      <th>  R-squared:         </th> <td>   0.549</td> \n",
       "</tr>\n",
       "<tr>\n",
       "  <th>Model:</th>                   <td>OLS</td>       <th>  Adj. R-squared:    </th> <td>   0.544</td> \n",
       "</tr>\n",
       "<tr>\n",
       "  <th>Method:</th>             <td>Least Squares</td>  <th>  F-statistic:       </th> <td>   130.0</td> \n",
       "</tr>\n",
       "<tr>\n",
       "  <th>Date:</th>             <td>Tue, 16 Mar 2021</td> <th>  Prob (F-statistic):</th> <td>2.19e-107</td>\n",
       "</tr>\n",
       "<tr>\n",
       "  <th>Time:</th>                 <td>20:27:12</td>     <th>  Log-Likelihood:    </th> <td> -8257.4</td> \n",
       "</tr>\n",
       "<tr>\n",
       "  <th>No. Observations:</th>      <td>   649</td>      <th>  AIC:               </th> <td>1.653e+04</td>\n",
       "</tr>\n",
       "<tr>\n",
       "  <th>Df Residuals:</th>          <td>   642</td>      <th>  BIC:               </th> <td>1.656e+04</td>\n",
       "</tr>\n",
       "<tr>\n",
       "  <th>Df Model:</th>              <td>     6</td>      <th>                     </th>     <td> </td>    \n",
       "</tr>\n",
       "<tr>\n",
       "  <th>Covariance Type:</th>      <td>nonrobust</td>    <th>                     </th>     <td> </td>    \n",
       "</tr>\n",
       "</table>\n",
       "<table class=\"simpletable\">\n",
       "<tr>\n",
       "          <td></td>             <th>coef</th>     <th>std err</th>      <th>t</th>      <th>P>|t|</th>  <th>[0.025</th>    <th>0.975]</th>  \n",
       "</tr>\n",
       "<tr>\n",
       "  <th>const</th>             <td> 2.341e+04</td> <td> 1.63e+04</td> <td>    1.433</td> <td> 0.152</td> <td>-8669.285</td> <td> 5.55e+04</td>\n",
       "</tr>\n",
       "<tr>\n",
       "  <th>sq__ft</th>            <td>  153.5081</td> <td>    8.917</td> <td>   17.216</td> <td> 0.000</td> <td>  135.999</td> <td>  171.018</td>\n",
       "</tr>\n",
       "<tr>\n",
       "  <th>type_Multi-Family</th> <td>-2.206e+04</td> <td> 3.02e+04</td> <td>   -0.730</td> <td> 0.466</td> <td>-8.14e+04</td> <td> 3.73e+04</td>\n",
       "</tr>\n",
       "<tr>\n",
       "  <th>type_Residential</th>  <td> 3.999e+04</td> <td> 1.52e+04</td> <td>    2.626</td> <td> 0.009</td> <td> 1.01e+04</td> <td> 6.99e+04</td>\n",
       "</tr>\n",
       "<tr>\n",
       "  <th>huge_house</th>        <td>-3.557e+04</td> <td> 3.48e+04</td> <td>   -1.023</td> <td> 0.307</td> <td>-1.04e+05</td> <td> 3.27e+04</td>\n",
       "</tr>\n",
       "<tr>\n",
       "  <th>beds</th>              <td>-3.064e+04</td> <td> 6047.984</td> <td>   -5.066</td> <td> 0.000</td> <td>-4.25e+04</td> <td>-1.88e+04</td>\n",
       "</tr>\n",
       "<tr>\n",
       "  <th>baths</th>             <td> 1.335e+04</td> <td> 7369.087</td> <td>    1.812</td> <td> 0.070</td> <td>-1119.145</td> <td> 2.78e+04</td>\n",
       "</tr>\n",
       "</table>\n",
       "<table class=\"simpletable\">\n",
       "<tr>\n",
       "  <th>Omnibus:</th>       <td>243.425</td> <th>  Durbin-Watson:     </th> <td>   1.923</td> \n",
       "</tr>\n",
       "<tr>\n",
       "  <th>Prob(Omnibus):</th> <td> 0.000</td>  <th>  Jarque-Bera (JB):  </th> <td>1284.839</td> \n",
       "</tr>\n",
       "<tr>\n",
       "  <th>Skew:</th>          <td> 1.600</td>  <th>  Prob(JB):          </th> <td>1.00e-279</td>\n",
       "</tr>\n",
       "<tr>\n",
       "  <th>Kurtosis:</th>      <td> 9.105</td>  <th>  Cond. No.          </th> <td>1.87e+04</td> \n",
       "</tr>\n",
       "</table><br/><br/>Warnings:<br/>[1] Standard Errors assume that the covariance matrix of the errors is correctly specified.<br/>[2] The condition number is large, 1.87e+04. This might indicate that there are<br/>strong multicollinearity or other numerical problems."
      ],
      "text/plain": [
       "<class 'statsmodels.iolib.summary.Summary'>\n",
       "\"\"\"\n",
       "                            OLS Regression Results                            \n",
       "==============================================================================\n",
       "Dep. Variable:                  price   R-squared:                       0.549\n",
       "Model:                            OLS   Adj. R-squared:                  0.544\n",
       "Method:                 Least Squares   F-statistic:                     130.0\n",
       "Date:                Tue, 16 Mar 2021   Prob (F-statistic):          2.19e-107\n",
       "Time:                        20:27:12   Log-Likelihood:                -8257.4\n",
       "No. Observations:                 649   AIC:                         1.653e+04\n",
       "Df Residuals:                     642   BIC:                         1.656e+04\n",
       "Df Model:                           6                                         \n",
       "Covariance Type:            nonrobust                                         \n",
       "=====================================================================================\n",
       "                        coef    std err          t      P>|t|      [0.025      0.975]\n",
       "-------------------------------------------------------------------------------------\n",
       "const              2.341e+04   1.63e+04      1.433      0.152   -8669.285    5.55e+04\n",
       "sq__ft              153.5081      8.917     17.216      0.000     135.999     171.018\n",
       "type_Multi-Family -2.206e+04   3.02e+04     -0.730      0.466   -8.14e+04    3.73e+04\n",
       "type_Residential   3.999e+04   1.52e+04      2.626      0.009    1.01e+04    6.99e+04\n",
       "huge_house        -3.557e+04   3.48e+04     -1.023      0.307   -1.04e+05    3.27e+04\n",
       "beds              -3.064e+04   6047.984     -5.066      0.000   -4.25e+04   -1.88e+04\n",
       "baths              1.335e+04   7369.087      1.812      0.070   -1119.145    2.78e+04\n",
       "==============================================================================\n",
       "Omnibus:                      243.425   Durbin-Watson:                   1.923\n",
       "Prob(Omnibus):                  0.000   Jarque-Bera (JB):             1284.839\n",
       "Skew:                           1.600   Prob(JB):                    1.00e-279\n",
       "Kurtosis:                       9.105   Cond. No.                     1.87e+04\n",
       "==============================================================================\n",
       "\n",
       "Warnings:\n",
       "[1] Standard Errors assume that the covariance matrix of the errors is correctly specified.\n",
       "[2] The condition number is large, 1.87e+04. This might indicate that there are\n",
       "strong multicollinearity or other numerical problems.\n",
       "\"\"\""
      ]
     },
     "execution_count": 36,
     "metadata": {},
     "output_type": "execute_result"
    }
   ],
   "source": [
    "model.summary()"
   ]
  },
  {
   "cell_type": "markdown",
   "metadata": {},
   "source": [
    "---\n",
    "\n",
    "> The material following this point can be completed after the first lesson on Tuesday.\n",
    "\n",
    "---"
   ]
  },
  {
   "cell_type": "markdown",
   "metadata": {},
   "source": [
    "### 16. Regression Metrics\n",
    "\n",
    "Implement a function called `r2_adj()` that will calculate $R^2_{adj}$ for a model. "
   ]
  },
  {
   "cell_type": "code",
   "execution_count": 37,
   "metadata": {},
   "outputs": [],
   "source": [
    "def r2_adj(model,x,y):\n",
    "    y_mean = sum(y)/len(y)\n",
    "    \n",
    "    predict_y = model.predict(sm.add_constant(x))\n",
    "    SS_residual = sum((y-predict_y)**2)\n",
    "    SS_total = sum((y-y_mean)**2)\n",
    "    \n",
    "    r2 = 1 - SS_residual / SS_total\n",
    "    r2_adj = 1 - (1 - r2) * (len(y) - 1)/(len(y)-x.shape[1] - 1)\n",
    "    \n",
    "    return r2_adj"
   ]
  },
  {
   "cell_type": "code",
   "execution_count": 38,
   "metadata": {},
   "outputs": [
    {
     "data": {
      "text/plain": [
       "0.54428563267933"
      ]
     },
     "execution_count": 38,
     "metadata": {},
     "output_type": "execute_result"
    }
   ],
   "source": [
    "r2_adj(model,X_train,y_train)"
   ]
  },
  {
   "cell_type": "markdown",
   "metadata": {},
   "source": [
    "### 17. Metrics, metrics, everywhere...\n",
    "\n",
    "Write a function to calculate and print or return six regression metrics.  Use other functions liberally, including those found in `sklearn.metrics`."
   ]
  },
  {
   "cell_type": "code",
   "execution_count": 44,
   "metadata": {},
   "outputs": [],
   "source": [
    "from sklearn.metrics import r2_score,mean_squared_error\n",
    "import numpy as np"
   ]
  },
  {
   "cell_type": "code",
   "execution_count": 69,
   "metadata": {},
   "outputs": [],
   "source": [
    "def metrics(model,x,y):\n",
    "    y_predi = model.predict(sm.add_constant(x))\n",
    "    \n",
    "    r2_score_is = r2_score(y,y_predi)\n",
    "    r2_adj_is = r2_adj(model,x,y)\n",
    "    mse = mean_squared_error(y,y_predi)\n",
    "    rmse = np.sqrt(mse)\n",
    "    f_value = model.fvalue\n",
    "    f_prob = model.f_pvalue\n",
    "    \n",
    "    print(f'r2 score is {r2_score_is},r2 adjusted score is {r2_adj_is}')\n",
    "    print(f'MSE is {mse}, RMSE is {rmse}')\n",
    "    print(f'F statistics value is {f_value}, f probability is {f_prob}')\n",
    "    "
   ]
  },
  {
   "cell_type": "code",
   "execution_count": 70,
   "metadata": {},
   "outputs": [
    {
     "name": "stdout",
     "output_type": "stream",
     "text": [
      "r2 score is 0.5485052101545217,r2 adjusted score is 0.54428563267933\n",
      "MSE is 6588620954.407666, RMSE is 81170.32064990052\n",
      "F statistics value is 129.99055317254084, f probability is 2.1884709615163043e-107\n"
     ]
    },
    {
     "name": "stderr",
     "output_type": "stream",
     "text": [
      "/Users/czc/opt/anaconda3/lib/python3.7/site-packages/numpy/core/fromnumeric.py:2495: FutureWarning: Method .ptp is deprecated and will be removed in a future version. Use numpy.ptp instead.\n",
      "  return ptp(axis=axis, out=out, **kwargs)\n",
      "/Users/czc/opt/anaconda3/lib/python3.7/site-packages/numpy/core/fromnumeric.py:2495: FutureWarning: Method .ptp is deprecated and will be removed in a future version. Use numpy.ptp instead.\n",
      "  return ptp(axis=axis, out=out, **kwargs)\n"
     ]
    }
   ],
   "source": [
    "metrics(model,X_train,y_train)"
   ]
  },
  {
   "cell_type": "markdown",
   "metadata": {},
   "source": [
    "### 18. Model Iteration\n",
    "\n",
    "Evaluate your current home price prediction model by calculating all six regression metrics.  Now adjust your model (e.g. add or take away features) and see how to metrics change."
   ]
  },
  {
   "cell_type": "code",
   "execution_count": 73,
   "metadata": {},
   "outputs": [],
   "source": [
    "# drop huge_house"
   ]
  },
  {
   "cell_type": "code",
   "execution_count": 72,
   "metadata": {},
   "outputs": [],
   "source": [
    "X_train_alter = X_train.drop('huge_house',axis=1)"
   ]
  },
  {
   "cell_type": "code",
   "execution_count": 74,
   "metadata": {},
   "outputs": [
    {
     "name": "stderr",
     "output_type": "stream",
     "text": [
      "/Users/czc/opt/anaconda3/lib/python3.7/site-packages/numpy/core/fromnumeric.py:2495: FutureWarning: Method .ptp is deprecated and will be removed in a future version. Use numpy.ptp instead.\n",
      "  return ptp(axis=axis, out=out, **kwargs)\n"
     ]
    }
   ],
   "source": [
    "model_2 = sm.OLS(y_train,sm.add_constant(X_train_alter)).fit()"
   ]
  },
  {
   "cell_type": "code",
   "execution_count": 76,
   "metadata": {},
   "outputs": [
    {
     "name": "stdout",
     "output_type": "stream",
     "text": [
      "r2 score is 0.5477692091914723,r2 adjusted score is 0.5442526400561023\n",
      "MSE is 6599361347.15787, RMSE is 81236.45331473963\n",
      "F statistics value is 155.7680762428417, f probability is 2.8022521333031724e-108\n"
     ]
    },
    {
     "name": "stderr",
     "output_type": "stream",
     "text": [
      "/Users/czc/opt/anaconda3/lib/python3.7/site-packages/numpy/core/fromnumeric.py:2495: FutureWarning: Method .ptp is deprecated and will be removed in a future version. Use numpy.ptp instead.\n",
      "  return ptp(axis=axis, out=out, **kwargs)\n"
     ]
    }
   ],
   "source": [
    "metrics(model_2,X_train_alter,y_train)"
   ]
  },
  {
   "cell_type": "code",
   "execution_count": 77,
   "metadata": {},
   "outputs": [],
   "source": [
    "# the metrics didn't change too much, however the F values is larger which means coefs are more significant than previous one"
   ]
  },
  {
   "cell_type": "markdown",
   "metadata": {},
   "source": [
    "### 19. Bias vs. Variance\n",
    "\n",
    "At this point, do you think your model is high bias, high variance or in the sweet spot?  If you are doing this after Wednesday, can you provide evidence to support your belief?"
   ]
  },
  {
   "cell_type": "code",
   "execution_count": null,
   "metadata": {},
   "outputs": [],
   "source": [
    "# It's high bias. I would use cross validation to support this."
   ]
  }
 ],
 "metadata": {
  "anaconda-cloud": {},
  "kernelspec": {
   "display_name": "Python 3",
   "language": "python",
   "name": "python3"
  },
  "language_info": {
   "codemirror_mode": {
    "name": "ipython",
    "version": 3
   },
   "file_extension": ".py",
   "mimetype": "text/x-python",
   "name": "python",
   "nbconvert_exporter": "python",
   "pygments_lexer": "ipython3",
   "version": "3.7.4"
  }
 },
 "nbformat": 4,
 "nbformat_minor": 4
}
