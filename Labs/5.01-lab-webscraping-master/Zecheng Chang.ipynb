{
 "cells": [
  {
   "cell_type": "code",
   "execution_count": 109,
   "metadata": {},
   "outputs": [],
   "source": [
    "# Import libaries\n",
    "from bs4 import BeautifulSoup\n",
    "import requests\n",
    "import pandas as pd"
   ]
  },
  {
   "cell_type": "markdown",
   "metadata": {},
   "source": [
    "### Step 1: Create a soup object from the home page"
   ]
  },
  {
   "cell_type": "code",
   "execution_count": 8,
   "metadata": {},
   "outputs": [],
   "source": [
    "url = 'https://pages.git.generalassemb.ly/rldaggie/for-scraping/'\n",
    "res = requests.get(url)\n",
    "soup = BeautifulSoup(res.content,'lxml')"
   ]
  },
  {
   "cell_type": "markdown",
   "metadata": {},
   "source": [
    "### Step 2: Scrape the home page soup for every restaurant\n",
    "\n",
    "Note: Your best bet is to create a list of dictionaries, one for each restaurant. Each dictionary contains the restaurant's name and path from the `href`. The result of your scrape should look something like this:\n",
    "\n",
    "```python\n",
    "restaurants = [\n",
    "    {'name': 'A&W Restaurants', 'href': 'restaurants/1.html'}, \n",
    "    {'name': \"Applebee's\", 'href': 'restaurants/2.html'},\n",
    "    ...\n",
    "]\n",
    "```"
   ]
  },
  {
   "cell_type": "code",
   "execution_count": 29,
   "metadata": {},
   "outputs": [],
   "source": [
    "restaurants = []\n",
    "for i in soup.find('table',{'class':'table'}).find_all('a'):\n",
    "    res_dict = {'name':i.text,'href':i.attrs['href'],}\n",
    "    restaurants.append(res_dict)"
   ]
  },
  {
   "cell_type": "code",
   "execution_count": 122,
   "metadata": {},
   "outputs": [
    {
     "data": {
      "text/plain": [
       "[{'name': 'A&W Restaurants', 'href': 'restaurants/1.html'},\n",
       " {'name': \"Applebee's\", 'href': 'restaurants/2.html'},\n",
       " {'name': \"Arby's\", 'href': 'restaurants/3.html'},\n",
       " {'name': 'Atlanta Bread Company', 'href': 'restaurants/4.html'},\n",
       " {'name': \"Bojangle's Famous Chicken 'n Biscuits\",\n",
       "  'href': 'restaurants/5.html'}]"
      ]
     },
     "execution_count": 122,
     "metadata": {},
     "output_type": "execute_result"
    }
   ],
   "source": [
    "restaurants[0:5]"
   ]
  },
  {
   "cell_type": "markdown",
   "metadata": {},
   "source": [
    "### Step 3: Using the `href`, scrape each restaurant's page and create a single list of food dictionaries.\n",
    "\n",
    "Your list of foods should look something like this:\n",
    "```python\n",
    "foods = [\n",
    "    {\n",
    "        'calories': '0',\n",
    "        'carbs': '0',\n",
    "        'category': 'Drinks',\n",
    "        'fat': '0',\n",
    "        'name': 'A&W® Diet Root Beer',\n",
    "        'restaurant': 'A&W Restaurants'\n",
    "    },\n",
    "    {\n",
    "        'calories': '0',\n",
    "        'carbs': '0',\n",
    "        'category': 'Drinks',\n",
    "        'fat': '0',\n",
    "        'name': 'A&W® Diet Root Beer',\n",
    "        'restaurant': 'A&W Restaurants'\n",
    "    },\n",
    "    ...\n",
    "]\n",
    "```\n",
    "\n",
    "**Note**: Remove extra white space from each category"
   ]
  },
  {
   "cell_type": "code",
   "execution_count": 95,
   "metadata": {},
   "outputs": [],
   "source": [
    "food = []\n",
    "for restaurant in restaurants:\n",
    "    res_each = requests.get(url+restaurant['href'])\n",
    "    soup_each = BeautifulSoup(res_each.content,'lxml')\n",
    "    \n",
    "    # based on the column names, create a food template.\n",
    "    food_dict_temp = {}\n",
    "    for i in soup_each.find('table').find('thead').find_all('th'):\n",
    "        food_dict_temp[i.text] = []\n",
    "    temp_keys = list(food_dict_temp.keys())\n",
    "    \n",
    "    # iterate each sub category and create dictonay and append to list\n",
    "    for i in soup_each.find('tbody').find_all('tr'):\n",
    "        start = 0\n",
    "        food_instant = food_dict_temp.copy()\n",
    "        for value in i.find_all('td'):\n",
    "            food_instant[temp_keys[start]] = value.text\n",
    "            start += 1\n",
    "        food_instant['restaurant']=restaurant['name']\n",
    "        food.append(food_instant)\n",
    "    "
   ]
  },
  {
   "cell_type": "code",
   "execution_count": 108,
   "metadata": {},
   "outputs": [
    {
     "data": {
      "text/plain": [
       "[{'Name': 'Original Bacon Double Cheeseburger',\n",
       "  'Category': 'Burgers',\n",
       "  'Calories': '760',\n",
       "  'Fat': '45',\n",
       "  'Carbs': '45',\n",
       "  'restaurant': 'A&W Restaurants'},\n",
       " {'Name': 'Coney (Chili) Dog',\n",
       "  'Category': 'Entrees',\n",
       "  'Calories': '340',\n",
       "  'Fat': '20',\n",
       "  'Carbs': '26',\n",
       "  'restaurant': 'A&W Restaurants'},\n",
       " {'Name': 'Chili Fries',\n",
       "  'Category': 'French Fries',\n",
       "  'Calories': '370',\n",
       "  'Fat': '15',\n",
       "  'Carbs': '49',\n",
       "  'restaurant': 'A&W Restaurants'}]"
      ]
     },
     "execution_count": 108,
     "metadata": {},
     "output_type": "execute_result"
    }
   ],
   "source": [
    "food[0:3]"
   ]
  },
  {
   "cell_type": "markdown",
   "metadata": {},
   "source": [
    "### Step 4: Create a pandas DataFrame from your list of foods\n",
    "\n",
    "**Note**: Your DataFrame should have 5,131 rows"
   ]
  },
  {
   "cell_type": "code",
   "execution_count": 112,
   "metadata": {},
   "outputs": [],
   "source": [
    "food_df = pd.DataFrame(food)"
   ]
  },
  {
   "cell_type": "code",
   "execution_count": 117,
   "metadata": {},
   "outputs": [
    {
     "name": "stdout",
     "output_type": "stream",
     "text": [
      "<class 'pandas.core.frame.DataFrame'>\n",
      "RangeIndex: 5131 entries, 0 to 5130\n",
      "Data columns (total 6 columns):\n",
      "Name          5131 non-null object\n",
      "Category      5131 non-null object\n",
      "Calories      5131 non-null object\n",
      "Fat           5131 non-null object\n",
      "Carbs         5131 non-null object\n",
      "restaurant    5131 non-null object\n",
      "dtypes: object(6)\n",
      "memory usage: 240.6+ KB\n"
     ]
    }
   ],
   "source": [
    "food_df.info()"
   ]
  },
  {
   "cell_type": "markdown",
   "metadata": {},
   "source": [
    "### Step 5: Export to csv\n",
    "\n",
    "**Note:** Don't export the index column from your DataFrame"
   ]
  },
  {
   "cell_type": "code",
   "execution_count": 121,
   "metadata": {},
   "outputs": [],
   "source": [
    "food_df.to_csv('food dataframe.csv',index=False)"
   ]
  }
 ],
 "metadata": {
  "kernelspec": {
   "display_name": "Python 3",
   "language": "python",
   "name": "python3"
  },
  "language_info": {
   "codemirror_mode": {
    "name": "ipython",
    "version": 3
   },
   "file_extension": ".py",
   "mimetype": "text/x-python",
   "name": "python",
   "nbconvert_exporter": "python",
   "pygments_lexer": "ipython3",
   "version": "3.7.4"
  }
 },
 "nbformat": 4,
 "nbformat_minor": 4
}
