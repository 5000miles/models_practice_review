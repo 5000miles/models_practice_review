{
  "nbformat": 4,
  "nbformat_minor": 0,
  "metadata": {
    "accelerator": "TPU",
    "colab": {
      "name": "8.01-lab-nn-classification-starter.ipynb",
      "provenance": [],
      "collapsed_sections": []
    },
    "kernelspec": {
      "display_name": "Python 3",
      "language": "python",
      "name": "python3"
    },
    "language_info": {
      "codemirror_mode": {
        "name": "ipython",
        "version": 3
      },
      "file_extension": ".py",
      "mimetype": "text/x-python",
      "name": "python",
      "nbconvert_exporter": "python",
      "pygments_lexer": "ipython3",
      "version": "3.7.4"
    }
  },
  "cells": [
    {
      "cell_type": "markdown",
      "metadata": {
        "id": "zwBCE43Cv3PH"
      },
      "source": [
        "## Lab 8.01 Neural Network Binary Classification\n",
        "_By Jeff Hale_"
      ]
    },
    {
      "cell_type": "markdown",
      "metadata": {
        "id": "UmyEaf4Awl2v"
      },
      "source": [
        "This lab uses a small [dataset](https://archive.ics.uci.edu/ml/datasets/heart+Disease) provided by the Cleveland Clinic Foundation for Heart Disease. The goal is to predict whether a patient has heart disease (the *target* column)."
      ]
    },
    {
      "cell_type": "markdown",
      "metadata": {
        "id": "uyVxPib57SeE"
      },
      "source": [
        "We suggest running this lab in [Google Colab](https://colab.research.google.com/). \n",
        "\n",
        "Go *File*->*Upload notebook* to upload this notebook to colab.\n",
        "\n",
        "If you are working in Colab and want to see if you can get a speed boost, set your runtime to *TPU* by going to *Runtime*->*Change runtime type* in the menu above. \n",
        "\n",
        "The processor type won't make a big difference with this small dataset and small networks, but it's good to know how to change the processor."
      ]
    },
    {
      "cell_type": "markdown",
      "metadata": {
        "id": "iiyC7HkqxlUD"
      },
      "source": [
        "### Read data and load using pandas\n",
        "\n",
        "#### Imports"
      ]
    },
    {
      "cell_type": "code",
      "metadata": {
        "id": "5IoRbCA2n0_V"
      },
      "source": [
        "import pandas as pd\n",
        "import numpy as np\n",
        "import matplotlib.pyplot as plt\n",
        "from sklearn.model_selection import train_test_split\n",
        "\n",
        "import tensorflow as tf"
      ],
      "execution_count": 1,
      "outputs": []
    },
    {
      "cell_type": "code",
      "metadata": {
        "colab": {
          "resources": {
            "http://localhost:8080/nbextensions/google.colab/files.js": {
              "data": "Ly8gQ29weXJpZ2h0IDIwMTcgR29vZ2xlIExMQwovLwovLyBMaWNlbnNlZCB1bmRlciB0aGUgQXBhY2hlIExpY2Vuc2UsIFZlcnNpb24gMi4wICh0aGUgIkxpY2Vuc2UiKTsKLy8geW91IG1heSBub3QgdXNlIHRoaXMgZmlsZSBleGNlcHQgaW4gY29tcGxpYW5jZSB3aXRoIHRoZSBMaWNlbnNlLgovLyBZb3UgbWF5IG9idGFpbiBhIGNvcHkgb2YgdGhlIExpY2Vuc2UgYXQKLy8KLy8gICAgICBodHRwOi8vd3d3LmFwYWNoZS5vcmcvbGljZW5zZXMvTElDRU5TRS0yLjAKLy8KLy8gVW5sZXNzIHJlcXVpcmVkIGJ5IGFwcGxpY2FibGUgbGF3IG9yIGFncmVlZCB0byBpbiB3cml0aW5nLCBzb2Z0d2FyZQovLyBkaXN0cmlidXRlZCB1bmRlciB0aGUgTGljZW5zZSBpcyBkaXN0cmlidXRlZCBvbiBhbiAiQVMgSVMiIEJBU0lTLAovLyBXSVRIT1VUIFdBUlJBTlRJRVMgT1IgQ09ORElUSU9OUyBPRiBBTlkgS0lORCwgZWl0aGVyIGV4cHJlc3Mgb3IgaW1wbGllZC4KLy8gU2VlIHRoZSBMaWNlbnNlIGZvciB0aGUgc3BlY2lmaWMgbGFuZ3VhZ2UgZ292ZXJuaW5nIHBlcm1pc3Npb25zIGFuZAovLyBsaW1pdGF0aW9ucyB1bmRlciB0aGUgTGljZW5zZS4KCi8qKgogKiBAZmlsZW92ZXJ2aWV3IEhlbHBlcnMgZm9yIGdvb2dsZS5jb2xhYiBQeXRob24gbW9kdWxlLgogKi8KKGZ1bmN0aW9uKHNjb3BlKSB7CmZ1bmN0aW9uIHNwYW4odGV4dCwgc3R5bGVBdHRyaWJ1dGVzID0ge30pIHsKICBjb25zdCBlbGVtZW50ID0gZG9jdW1lbnQuY3JlYXRlRWxlbWVudCgnc3BhbicpOwogIGVsZW1lbnQudGV4dENvbnRlbnQgPSB0ZXh0OwogIGZvciAoY29uc3Qga2V5IG9mIE9iamVjdC5rZXlzKHN0eWxlQXR0cmlidXRlcykpIHsKICAgIGVsZW1lbnQuc3R5bGVba2V5XSA9IHN0eWxlQXR0cmlidXRlc1trZXldOwogIH0KICByZXR1cm4gZWxlbWVudDsKfQoKLy8gTWF4IG51bWJlciBvZiBieXRlcyB3aGljaCB3aWxsIGJlIHVwbG9hZGVkIGF0IGEgdGltZS4KY29uc3QgTUFYX1BBWUxPQURfU0laRSA9IDEwMCAqIDEwMjQ7CgpmdW5jdGlvbiBfdXBsb2FkRmlsZXMoaW5wdXRJZCwgb3V0cHV0SWQpIHsKICBjb25zdCBzdGVwcyA9IHVwbG9hZEZpbGVzU3RlcChpbnB1dElkLCBvdXRwdXRJZCk7CiAgY29uc3Qgb3V0cHV0RWxlbWVudCA9IGRvY3VtZW50LmdldEVsZW1lbnRCeUlkKG91dHB1dElkKTsKICAvLyBDYWNoZSBzdGVwcyBvbiB0aGUgb3V0cHV0RWxlbWVudCB0byBtYWtlIGl0IGF2YWlsYWJsZSBmb3IgdGhlIG5leHQgY2FsbAogIC8vIHRvIHVwbG9hZEZpbGVzQ29udGludWUgZnJvbSBQeXRob24uCiAgb3V0cHV0RWxlbWVudC5zdGVwcyA9IHN0ZXBzOwoKICByZXR1cm4gX3VwbG9hZEZpbGVzQ29udGludWUob3V0cHV0SWQpOwp9CgovLyBUaGlzIGlzIHJvdWdobHkgYW4gYXN5bmMgZ2VuZXJhdG9yIChub3Qgc3VwcG9ydGVkIGluIHRoZSBicm93c2VyIHlldCksCi8vIHdoZXJlIHRoZXJlIGFyZSBtdWx0aXBsZSBhc3luY2hyb25vdXMgc3RlcHMgYW5kIHRoZSBQeXRob24gc2lkZSBpcyBnb2luZwovLyB0byBwb2xsIGZvciBjb21wbGV0aW9uIG9mIGVhY2ggc3RlcC4KLy8gVGhpcyB1c2VzIGEgUHJvbWlzZSB0byBibG9jayB0aGUgcHl0aG9uIHNpZGUgb24gY29tcGxldGlvbiBvZiBlYWNoIHN0ZXAsCi8vIHRoZW4gcGFzc2VzIHRoZSByZXN1bHQgb2YgdGhlIHByZXZpb3VzIHN0ZXAgYXMgdGhlIGlucHV0IHRvIHRoZSBuZXh0IHN0ZXAuCmZ1bmN0aW9uIF91cGxvYWRGaWxlc0NvbnRpbnVlKG91dHB1dElkKSB7CiAgY29uc3Qgb3V0cHV0RWxlbWVudCA9IGRvY3VtZW50LmdldEVsZW1lbnRCeUlkKG91dHB1dElkKTsKICBjb25zdCBzdGVwcyA9IG91dHB1dEVsZW1lbnQuc3RlcHM7CgogIGNvbnN0IG5leHQgPSBzdGVwcy5uZXh0KG91dHB1dEVsZW1lbnQubGFzdFByb21pc2VWYWx1ZSk7CiAgcmV0dXJuIFByb21pc2UucmVzb2x2ZShuZXh0LnZhbHVlLnByb21pc2UpLnRoZW4oKHZhbHVlKSA9PiB7CiAgICAvLyBDYWNoZSB0aGUgbGFzdCBwcm9taXNlIHZhbHVlIHRvIG1ha2UgaXQgYXZhaWxhYmxlIHRvIHRoZSBuZXh0CiAgICAvLyBzdGVwIG9mIHRoZSBnZW5lcmF0b3IuCiAgICBvdXRwdXRFbGVtZW50Lmxhc3RQcm9taXNlVmFsdWUgPSB2YWx1ZTsKICAgIHJldHVybiBuZXh0LnZhbHVlLnJlc3BvbnNlOwogIH0pOwp9CgovKioKICogR2VuZXJhdG9yIGZ1bmN0aW9uIHdoaWNoIGlzIGNhbGxlZCBiZXR3ZWVuIGVhY2ggYXN5bmMgc3RlcCBvZiB0aGUgdXBsb2FkCiAqIHByb2Nlc3MuCiAqIEBwYXJhbSB7c3RyaW5nfSBpbnB1dElkIEVsZW1lbnQgSUQgb2YgdGhlIGlucHV0IGZpbGUgcGlja2VyIGVsZW1lbnQuCiAqIEBwYXJhbSB7c3RyaW5nfSBvdXRwdXRJZCBFbGVtZW50IElEIG9mIHRoZSBvdXRwdXQgZGlzcGxheS4KICogQHJldHVybiB7IUl0ZXJhYmxlPCFPYmplY3Q+fSBJdGVyYWJsZSBvZiBuZXh0IHN0ZXBzLgogKi8KZnVuY3Rpb24qIHVwbG9hZEZpbGVzU3RlcChpbnB1dElkLCBvdXRwdXRJZCkgewogIGNvbnN0IGlucHV0RWxlbWVudCA9IGRvY3VtZW50LmdldEVsZW1lbnRCeUlkKGlucHV0SWQpOwogIGlucHV0RWxlbWVudC5kaXNhYmxlZCA9IGZhbHNlOwoKICBjb25zdCBvdXRwdXRFbGVtZW50ID0gZG9jdW1lbnQuZ2V0RWxlbWVudEJ5SWQob3V0cHV0SWQpOwogIG91dHB1dEVsZW1lbnQuaW5uZXJIVE1MID0gJyc7CgogIGNvbnN0IHBpY2tlZFByb21pc2UgPSBuZXcgUHJvbWlzZSgocmVzb2x2ZSkgPT4gewogICAgaW5wdXRFbGVtZW50LmFkZEV2ZW50TGlzdGVuZXIoJ2NoYW5nZScsIChlKSA9PiB7CiAgICAgIHJlc29sdmUoZS50YXJnZXQuZmlsZXMpOwogICAgfSk7CiAgfSk7CgogIGNvbnN0IGNhbmNlbCA9IGRvY3VtZW50LmNyZWF0ZUVsZW1lbnQoJ2J1dHRvbicpOwogIGlucHV0RWxlbWVudC5wYXJlbnRFbGVtZW50LmFwcGVuZENoaWxkKGNhbmNlbCk7CiAgY2FuY2VsLnRleHRDb250ZW50ID0gJ0NhbmNlbCB1cGxvYWQnOwogIGNvbnN0IGNhbmNlbFByb21pc2UgPSBuZXcgUHJvbWlzZSgocmVzb2x2ZSkgPT4gewogICAgY2FuY2VsLm9uY2xpY2sgPSAoKSA9PiB7CiAgICAgIHJlc29sdmUobnVsbCk7CiAgICB9OwogIH0pOwoKICAvLyBXYWl0IGZvciB0aGUgdXNlciB0byBwaWNrIHRoZSBmaWxlcy4KICBjb25zdCBmaWxlcyA9IHlpZWxkIHsKICAgIHByb21pc2U6IFByb21pc2UucmFjZShbcGlja2VkUHJvbWlzZSwgY2FuY2VsUHJvbWlzZV0pLAogICAgcmVzcG9uc2U6IHsKICAgICAgYWN0aW9uOiAnc3RhcnRpbmcnLAogICAgfQogIH07CgogIGNhbmNlbC5yZW1vdmUoKTsKCiAgLy8gRGlzYWJsZSB0aGUgaW5wdXQgZWxlbWVudCBzaW5jZSBmdXJ0aGVyIHBpY2tzIGFyZSBub3QgYWxsb3dlZC4KICBpbnB1dEVsZW1lbnQuZGlzYWJsZWQgPSB0cnVlOwoKICBpZiAoIWZpbGVzKSB7CiAgICByZXR1cm4gewogICAgICByZXNwb25zZTogewogICAgICAgIGFjdGlvbjogJ2NvbXBsZXRlJywKICAgICAgfQogICAgfTsKICB9CgogIGZvciAoY29uc3QgZmlsZSBvZiBmaWxlcykgewogICAgY29uc3QgbGkgPSBkb2N1bWVudC5jcmVhdGVFbGVtZW50KCdsaScpOwogICAgbGkuYXBwZW5kKHNwYW4oZmlsZS5uYW1lLCB7Zm9udFdlaWdodDogJ2JvbGQnfSkpOwogICAgbGkuYXBwZW5kKHNwYW4oCiAgICAgICAgYCgke2ZpbGUudHlwZSB8fCAnbi9hJ30pIC0gJHtmaWxlLnNpemV9IGJ5dGVzLCBgICsKICAgICAgICBgbGFzdCBtb2RpZmllZDogJHsKICAgICAgICAgICAgZmlsZS5sYXN0TW9kaWZpZWREYXRlID8gZmlsZS5sYXN0TW9kaWZpZWREYXRlLnRvTG9jYWxlRGF0ZVN0cmluZygpIDoKICAgICAgICAgICAgICAgICAgICAgICAgICAgICAgICAgICAgJ24vYSd9IC0gYCkpOwogICAgY29uc3QgcGVyY2VudCA9IHNwYW4oJzAlIGRvbmUnKTsKICAgIGxpLmFwcGVuZENoaWxkKHBlcmNlbnQpOwoKICAgIG91dHB1dEVsZW1lbnQuYXBwZW5kQ2hpbGQobGkpOwoKICAgIGNvbnN0IGZpbGVEYXRhUHJvbWlzZSA9IG5ldyBQcm9taXNlKChyZXNvbHZlKSA9PiB7CiAgICAgIGNvbnN0IHJlYWRlciA9IG5ldyBGaWxlUmVhZGVyKCk7CiAgICAgIHJlYWRlci5vbmxvYWQgPSAoZSkgPT4gewogICAgICAgIHJlc29sdmUoZS50YXJnZXQucmVzdWx0KTsKICAgICAgfTsKICAgICAgcmVhZGVyLnJlYWRBc0FycmF5QnVmZmVyKGZpbGUpOwogICAgfSk7CiAgICAvLyBXYWl0IGZvciB0aGUgZGF0YSB0byBiZSByZWFkeS4KICAgIGxldCBmaWxlRGF0YSA9IHlpZWxkIHsKICAgICAgcHJvbWlzZTogZmlsZURhdGFQcm9taXNlLAogICAgICByZXNwb25zZTogewogICAgICAgIGFjdGlvbjogJ2NvbnRpbnVlJywKICAgICAgfQogICAgfTsKCiAgICAvLyBVc2UgYSBjaHVua2VkIHNlbmRpbmcgdG8gYXZvaWQgbWVzc2FnZSBzaXplIGxpbWl0cy4gU2VlIGIvNjIxMTU2NjAuCiAgICBsZXQgcG9zaXRpb24gPSAwOwogICAgd2hpbGUgKHBvc2l0aW9uIDwgZmlsZURhdGEuYnl0ZUxlbmd0aCkgewogICAgICBjb25zdCBsZW5ndGggPSBNYXRoLm1pbihmaWxlRGF0YS5ieXRlTGVuZ3RoIC0gcG9zaXRpb24sIE1BWF9QQVlMT0FEX1NJWkUpOwogICAgICBjb25zdCBjaHVuayA9IG5ldyBVaW50OEFycmF5KGZpbGVEYXRhLCBwb3NpdGlvbiwgbGVuZ3RoKTsKICAgICAgcG9zaXRpb24gKz0gbGVuZ3RoOwoKICAgICAgY29uc3QgYmFzZTY0ID0gYnRvYShTdHJpbmcuZnJvbUNoYXJDb2RlLmFwcGx5KG51bGwsIGNodW5rKSk7CiAgICAgIHlpZWxkIHsKICAgICAgICByZXNwb25zZTogewogICAgICAgICAgYWN0aW9uOiAnYXBwZW5kJywKICAgICAgICAgIGZpbGU6IGZpbGUubmFtZSwKICAgICAgICAgIGRhdGE6IGJhc2U2NCwKICAgICAgICB9LAogICAgICB9OwogICAgICBwZXJjZW50LnRleHRDb250ZW50ID0KICAgICAgICAgIGAke01hdGgucm91bmQoKHBvc2l0aW9uIC8gZmlsZURhdGEuYnl0ZUxlbmd0aCkgKiAxMDApfSUgZG9uZWA7CiAgICB9CiAgfQoKICAvLyBBbGwgZG9uZS4KICB5aWVsZCB7CiAgICByZXNwb25zZTogewogICAgICBhY3Rpb246ICdjb21wbGV0ZScsCiAgICB9CiAgfTsKfQoKc2NvcGUuZ29vZ2xlID0gc2NvcGUuZ29vZ2xlIHx8IHt9OwpzY29wZS5nb29nbGUuY29sYWIgPSBzY29wZS5nb29nbGUuY29sYWIgfHwge307CnNjb3BlLmdvb2dsZS5jb2xhYi5fZmlsZXMgPSB7CiAgX3VwbG9hZEZpbGVzLAogIF91cGxvYWRGaWxlc0NvbnRpbnVlLAp9Owp9KShzZWxmKTsK",
              "ok": true,
              "headers": [
                [
                  "content-type",
                  "application/javascript"
                ]
              ],
              "status": 200,
              "status_text": ""
            }
          },
          "base_uri": "https://localhost:8080/",
          "height": 72
        },
        "id": "1Epp2LMAZziO",
        "outputId": "89aa75fd-6eff-419b-fe3a-400c0b66d65f"
      },
      "source": [
        "from google.colab import files\n",
        "uploaded = files.upload()"
      ],
      "execution_count": 2,
      "outputs": [
        {
          "output_type": "display_data",
          "data": {
            "text/html": [
              "\n",
              "     <input type=\"file\" id=\"files-da2e562e-d93b-4e69-907b-2747256e75be\" name=\"files[]\" multiple disabled\n",
              "        style=\"border:none\" />\n",
              "     <output id=\"result-da2e562e-d93b-4e69-907b-2747256e75be\">\n",
              "      Upload widget is only available when the cell has been executed in the\n",
              "      current browser session. Please rerun this cell to enable.\n",
              "      </output>\n",
              "      <script src=\"/nbextensions/google.colab/files.js\"></script> "
            ],
            "text/plain": [
              "<IPython.core.display.HTML object>"
            ]
          },
          "metadata": {
            "tags": []
          }
        },
        {
          "output_type": "stream",
          "text": [
            "Saving heart.csv to heart.csv\n"
          ],
          "name": "stdout"
        }
      ]
    },
    {
      "cell_type": "markdown",
      "metadata": {
        "id": "6BXRPD2-xtQ1"
      },
      "source": [
        "#### Load the csv file using pandas."
      ]
    },
    {
      "cell_type": "code",
      "metadata": {
        "id": "UEfJ8TcMpe-2"
      },
      "source": [
        "data = pd.read_csv('heart.csv')"
      ],
      "execution_count": 5,
      "outputs": []
    },
    {
      "cell_type": "markdown",
      "metadata": {
        "id": "nB9HXQ1NXakR"
      },
      "source": [
        "#### Inspect"
      ]
    },
    {
      "cell_type": "code",
      "metadata": {
        "colab": {
          "base_uri": "https://localhost:8080/",
          "height": 204
        },
        "id": "8FkK6QIRpjd4",
        "outputId": "27fd110d-07a9-422a-f55b-c70040efdf92"
      },
      "source": [
        "data.sample(5)"
      ],
      "execution_count": 6,
      "outputs": [
        {
          "output_type": "execute_result",
          "data": {
            "text/html": [
              "<div>\n",
              "<style scoped>\n",
              "    .dataframe tbody tr th:only-of-type {\n",
              "        vertical-align: middle;\n",
              "    }\n",
              "\n",
              "    .dataframe tbody tr th {\n",
              "        vertical-align: top;\n",
              "    }\n",
              "\n",
              "    .dataframe thead th {\n",
              "        text-align: right;\n",
              "    }\n",
              "</style>\n",
              "<table border=\"1\" class=\"dataframe\">\n",
              "  <thead>\n",
              "    <tr style=\"text-align: right;\">\n",
              "      <th></th>\n",
              "      <th>age</th>\n",
              "      <th>sex</th>\n",
              "      <th>cp</th>\n",
              "      <th>trestbps</th>\n",
              "      <th>chol</th>\n",
              "      <th>fbs</th>\n",
              "      <th>restecg</th>\n",
              "      <th>thalach</th>\n",
              "      <th>exang</th>\n",
              "      <th>oldpeak</th>\n",
              "      <th>slope</th>\n",
              "      <th>ca</th>\n",
              "      <th>thal</th>\n",
              "      <th>target</th>\n",
              "    </tr>\n",
              "  </thead>\n",
              "  <tbody>\n",
              "    <tr>\n",
              "      <th>56</th>\n",
              "      <td>48</td>\n",
              "      <td>1</td>\n",
              "      <td>0</td>\n",
              "      <td>122</td>\n",
              "      <td>222</td>\n",
              "      <td>0</td>\n",
              "      <td>0</td>\n",
              "      <td>186</td>\n",
              "      <td>0</td>\n",
              "      <td>0.0</td>\n",
              "      <td>2</td>\n",
              "      <td>0</td>\n",
              "      <td>2</td>\n",
              "      <td>1</td>\n",
              "    </tr>\n",
              "    <tr>\n",
              "      <th>245</th>\n",
              "      <td>48</td>\n",
              "      <td>1</td>\n",
              "      <td>0</td>\n",
              "      <td>124</td>\n",
              "      <td>274</td>\n",
              "      <td>0</td>\n",
              "      <td>0</td>\n",
              "      <td>166</td>\n",
              "      <td>0</td>\n",
              "      <td>0.5</td>\n",
              "      <td>1</td>\n",
              "      <td>0</td>\n",
              "      <td>3</td>\n",
              "      <td>0</td>\n",
              "    </tr>\n",
              "    <tr>\n",
              "      <th>66</th>\n",
              "      <td>51</td>\n",
              "      <td>1</td>\n",
              "      <td>2</td>\n",
              "      <td>100</td>\n",
              "      <td>222</td>\n",
              "      <td>0</td>\n",
              "      <td>1</td>\n",
              "      <td>143</td>\n",
              "      <td>1</td>\n",
              "      <td>1.2</td>\n",
              "      <td>1</td>\n",
              "      <td>0</td>\n",
              "      <td>2</td>\n",
              "      <td>1</td>\n",
              "    </tr>\n",
              "    <tr>\n",
              "      <th>57</th>\n",
              "      <td>45</td>\n",
              "      <td>1</td>\n",
              "      <td>0</td>\n",
              "      <td>115</td>\n",
              "      <td>260</td>\n",
              "      <td>0</td>\n",
              "      <td>0</td>\n",
              "      <td>185</td>\n",
              "      <td>0</td>\n",
              "      <td>0.0</td>\n",
              "      <td>2</td>\n",
              "      <td>0</td>\n",
              "      <td>2</td>\n",
              "      <td>1</td>\n",
              "    </tr>\n",
              "    <tr>\n",
              "      <th>244</th>\n",
              "      <td>56</td>\n",
              "      <td>1</td>\n",
              "      <td>0</td>\n",
              "      <td>132</td>\n",
              "      <td>184</td>\n",
              "      <td>0</td>\n",
              "      <td>0</td>\n",
              "      <td>105</td>\n",
              "      <td>1</td>\n",
              "      <td>2.1</td>\n",
              "      <td>1</td>\n",
              "      <td>1</td>\n",
              "      <td>1</td>\n",
              "      <td>0</td>\n",
              "    </tr>\n",
              "  </tbody>\n",
              "</table>\n",
              "</div>"
            ],
            "text/plain": [
              "     age  sex  cp  trestbps  chol  fbs  ...  exang  oldpeak  slope  ca  thal  target\n",
              "56    48    1   0       122   222    0  ...      0      0.0      2   0     2       1\n",
              "245   48    1   0       124   274    0  ...      0      0.5      1   0     3       0\n",
              "66    51    1   2       100   222    0  ...      1      1.2      1   0     2       1\n",
              "57    45    1   0       115   260    0  ...      0      0.0      2   0     2       1\n",
              "244   56    1   0       132   184    0  ...      1      2.1      1   1     1       0\n",
              "\n",
              "[5 rows x 14 columns]"
            ]
          },
          "metadata": {
            "tags": []
          },
          "execution_count": 6
        }
      ]
    },
    {
      "cell_type": "code",
      "metadata": {
        "colab": {
          "base_uri": "https://localhost:8080/"
        },
        "id": "_MOAKz654CT5",
        "outputId": "5e552edf-e64a-49d2-cdc4-fc8da97f1f28"
      },
      "source": [
        "data.info()"
      ],
      "execution_count": 8,
      "outputs": [
        {
          "output_type": "stream",
          "text": [
            "<class 'pandas.core.frame.DataFrame'>\n",
            "RangeIndex: 303 entries, 0 to 302\n",
            "Data columns (total 14 columns):\n",
            " #   Column    Non-Null Count  Dtype  \n",
            "---  ------    --------------  -----  \n",
            " 0   age       303 non-null    int64  \n",
            " 1   sex       303 non-null    int64  \n",
            " 2   cp        303 non-null    int64  \n",
            " 3   trestbps  303 non-null    int64  \n",
            " 4   chol      303 non-null    int64  \n",
            " 5   fbs       303 non-null    int64  \n",
            " 6   restecg   303 non-null    int64  \n",
            " 7   thalach   303 non-null    int64  \n",
            " 8   exang     303 non-null    int64  \n",
            " 9   oldpeak   303 non-null    float64\n",
            " 10  slope     303 non-null    int64  \n",
            " 11  ca        303 non-null    int64  \n",
            " 12  thal      303 non-null    int64  \n",
            " 13  target    303 non-null    int64  \n",
            "dtypes: float64(1), int64(13)\n",
            "memory usage: 33.3 KB\n"
          ],
          "name": "stdout"
        }
      ]
    },
    {
      "cell_type": "markdown",
      "metadata": {
        "id": "4iIvlwqwWoWc"
      },
      "source": [
        "#### Check the value counts of the column that's an object"
      ]
    },
    {
      "cell_type": "code",
      "metadata": {
        "colab": {
          "base_uri": "https://localhost:8080/"
        },
        "id": "dP3Z4KoDstlZ",
        "outputId": "e9a403c2-f74e-4d36-c1df-9f7113c0cf1f"
      },
      "source": [
        "data.dtypes\n",
        "# there is no column that is an object."
      ],
      "execution_count": 12,
      "outputs": [
        {
          "output_type": "execute_result",
          "data": {
            "text/plain": [
              "age           int64\n",
              "sex           int64\n",
              "cp            int64\n",
              "trestbps      int64\n",
              "chol          int64\n",
              "fbs           int64\n",
              "restecg       int64\n",
              "thalach       int64\n",
              "exang         int64\n",
              "oldpeak     float64\n",
              "slope         int64\n",
              "ca            int64\n",
              "thal          int64\n",
              "target        int64\n",
              "dtype: object"
            ]
          },
          "metadata": {
            "tags": []
          },
          "execution_count": 12
        }
      ]
    },
    {
      "cell_type": "markdown",
      "metadata": {
        "id": "WWRhH6r4xxQu"
      },
      "source": [
        "You could load data into a format for TensorFlow using `tf.data.Dataset`, but these are unwieldly - it's a serious pain to create a validation dataset from a TF dataset. You used to have to make your data into NumPy arrays for TensorFlow. Now you can just keep them as pandas DataFrames!"
      ]
    },
    {
      "cell_type": "markdown",
      "metadata": {
        "id": "rfTf4SZjXakS"
      },
      "source": [
        "#### Set up X and y"
      ]
    },
    {
      "cell_type": "code",
      "metadata": {
        "id": "2wwhILm1ycSp"
      },
      "source": [
        "X = data.drop('target', axis=1)\n",
        "y = data['target']"
      ],
      "execution_count": 14,
      "outputs": []
    },
    {
      "cell_type": "markdown",
      "metadata": {
        "id": "Ul28qkIfXakT"
      },
      "source": [
        "#### Train-test split"
      ]
    },
    {
      "cell_type": "code",
      "metadata": {
        "id": "LcP1WjczZUdo"
      },
      "source": [
        "X_train, X_test, y_train, y_test = train_test_split(X, y, random_state=3, stratify=y)"
      ],
      "execution_count": 21,
      "outputs": []
    },
    {
      "cell_type": "code",
      "metadata": {
        "colab": {
          "base_uri": "https://localhost:8080/",
          "height": 419
        },
        "id": "3goncsyre1nL",
        "outputId": "ea463e35-b144-486e-fbc5-8fbe1ad02632"
      },
      "source": [
        "X_train"
      ],
      "execution_count": 25,
      "outputs": [
        {
          "output_type": "execute_result",
          "data": {
            "text/html": [
              "<div>\n",
              "<style scoped>\n",
              "    .dataframe tbody tr th:only-of-type {\n",
              "        vertical-align: middle;\n",
              "    }\n",
              "\n",
              "    .dataframe tbody tr th {\n",
              "        vertical-align: top;\n",
              "    }\n",
              "\n",
              "    .dataframe thead th {\n",
              "        text-align: right;\n",
              "    }\n",
              "</style>\n",
              "<table border=\"1\" class=\"dataframe\">\n",
              "  <thead>\n",
              "    <tr style=\"text-align: right;\">\n",
              "      <th></th>\n",
              "      <th>age</th>\n",
              "      <th>sex</th>\n",
              "      <th>cp</th>\n",
              "      <th>trestbps</th>\n",
              "      <th>chol</th>\n",
              "      <th>fbs</th>\n",
              "      <th>restecg</th>\n",
              "      <th>thalach</th>\n",
              "      <th>exang</th>\n",
              "      <th>oldpeak</th>\n",
              "      <th>slope</th>\n",
              "      <th>ca</th>\n",
              "      <th>thal</th>\n",
              "    </tr>\n",
              "  </thead>\n",
              "  <tbody>\n",
              "    <tr>\n",
              "      <th>279</th>\n",
              "      <td>61</td>\n",
              "      <td>1</td>\n",
              "      <td>0</td>\n",
              "      <td>138</td>\n",
              "      <td>166</td>\n",
              "      <td>0</td>\n",
              "      <td>0</td>\n",
              "      <td>125</td>\n",
              "      <td>1</td>\n",
              "      <td>3.6</td>\n",
              "      <td>1</td>\n",
              "      <td>1</td>\n",
              "      <td>2</td>\n",
              "    </tr>\n",
              "    <tr>\n",
              "      <th>264</th>\n",
              "      <td>54</td>\n",
              "      <td>1</td>\n",
              "      <td>0</td>\n",
              "      <td>110</td>\n",
              "      <td>206</td>\n",
              "      <td>0</td>\n",
              "      <td>0</td>\n",
              "      <td>108</td>\n",
              "      <td>1</td>\n",
              "      <td>0.0</td>\n",
              "      <td>1</td>\n",
              "      <td>1</td>\n",
              "      <td>2</td>\n",
              "    </tr>\n",
              "    <tr>\n",
              "      <th>293</th>\n",
              "      <td>67</td>\n",
              "      <td>1</td>\n",
              "      <td>2</td>\n",
              "      <td>152</td>\n",
              "      <td>212</td>\n",
              "      <td>0</td>\n",
              "      <td>0</td>\n",
              "      <td>150</td>\n",
              "      <td>0</td>\n",
              "      <td>0.8</td>\n",
              "      <td>1</td>\n",
              "      <td>0</td>\n",
              "      <td>3</td>\n",
              "    </tr>\n",
              "    <tr>\n",
              "      <th>219</th>\n",
              "      <td>48</td>\n",
              "      <td>1</td>\n",
              "      <td>0</td>\n",
              "      <td>130</td>\n",
              "      <td>256</td>\n",
              "      <td>1</td>\n",
              "      <td>0</td>\n",
              "      <td>150</td>\n",
              "      <td>1</td>\n",
              "      <td>0.0</td>\n",
              "      <td>2</td>\n",
              "      <td>2</td>\n",
              "      <td>3</td>\n",
              "    </tr>\n",
              "    <tr>\n",
              "      <th>2</th>\n",
              "      <td>41</td>\n",
              "      <td>0</td>\n",
              "      <td>1</td>\n",
              "      <td>130</td>\n",
              "      <td>204</td>\n",
              "      <td>0</td>\n",
              "      <td>0</td>\n",
              "      <td>172</td>\n",
              "      <td>0</td>\n",
              "      <td>1.4</td>\n",
              "      <td>2</td>\n",
              "      <td>0</td>\n",
              "      <td>2</td>\n",
              "    </tr>\n",
              "    <tr>\n",
              "      <th>...</th>\n",
              "      <td>...</td>\n",
              "      <td>...</td>\n",
              "      <td>...</td>\n",
              "      <td>...</td>\n",
              "      <td>...</td>\n",
              "      <td>...</td>\n",
              "      <td>...</td>\n",
              "      <td>...</td>\n",
              "      <td>...</td>\n",
              "      <td>...</td>\n",
              "      <td>...</td>\n",
              "      <td>...</td>\n",
              "      <td>...</td>\n",
              "    </tr>\n",
              "    <tr>\n",
              "      <th>215</th>\n",
              "      <td>43</td>\n",
              "      <td>0</td>\n",
              "      <td>0</td>\n",
              "      <td>132</td>\n",
              "      <td>341</td>\n",
              "      <td>1</td>\n",
              "      <td>0</td>\n",
              "      <td>136</td>\n",
              "      <td>1</td>\n",
              "      <td>3.0</td>\n",
              "      <td>1</td>\n",
              "      <td>0</td>\n",
              "      <td>3</td>\n",
              "    </tr>\n",
              "    <tr>\n",
              "      <th>230</th>\n",
              "      <td>47</td>\n",
              "      <td>1</td>\n",
              "      <td>2</td>\n",
              "      <td>108</td>\n",
              "      <td>243</td>\n",
              "      <td>0</td>\n",
              "      <td>1</td>\n",
              "      <td>152</td>\n",
              "      <td>0</td>\n",
              "      <td>0.0</td>\n",
              "      <td>2</td>\n",
              "      <td>0</td>\n",
              "      <td>2</td>\n",
              "    </tr>\n",
              "    <tr>\n",
              "      <th>135</th>\n",
              "      <td>49</td>\n",
              "      <td>0</td>\n",
              "      <td>0</td>\n",
              "      <td>130</td>\n",
              "      <td>269</td>\n",
              "      <td>0</td>\n",
              "      <td>1</td>\n",
              "      <td>163</td>\n",
              "      <td>0</td>\n",
              "      <td>0.0</td>\n",
              "      <td>2</td>\n",
              "      <td>0</td>\n",
              "      <td>2</td>\n",
              "    </tr>\n",
              "    <tr>\n",
              "      <th>70</th>\n",
              "      <td>54</td>\n",
              "      <td>1</td>\n",
              "      <td>2</td>\n",
              "      <td>120</td>\n",
              "      <td>258</td>\n",
              "      <td>0</td>\n",
              "      <td>0</td>\n",
              "      <td>147</td>\n",
              "      <td>0</td>\n",
              "      <td>0.4</td>\n",
              "      <td>1</td>\n",
              "      <td>0</td>\n",
              "      <td>3</td>\n",
              "    </tr>\n",
              "    <tr>\n",
              "      <th>173</th>\n",
              "      <td>58</td>\n",
              "      <td>1</td>\n",
              "      <td>2</td>\n",
              "      <td>132</td>\n",
              "      <td>224</td>\n",
              "      <td>0</td>\n",
              "      <td>0</td>\n",
              "      <td>173</td>\n",
              "      <td>0</td>\n",
              "      <td>3.2</td>\n",
              "      <td>2</td>\n",
              "      <td>2</td>\n",
              "      <td>3</td>\n",
              "    </tr>\n",
              "  </tbody>\n",
              "</table>\n",
              "<p>227 rows × 13 columns</p>\n",
              "</div>"
            ],
            "text/plain": [
              "     age  sex  cp  trestbps  chol  ...  exang  oldpeak  slope  ca  thal\n",
              "279   61    1   0       138   166  ...      1      3.6      1   1     2\n",
              "264   54    1   0       110   206  ...      1      0.0      1   1     2\n",
              "293   67    1   2       152   212  ...      0      0.8      1   0     3\n",
              "219   48    1   0       130   256  ...      1      0.0      2   2     3\n",
              "2     41    0   1       130   204  ...      0      1.4      2   0     2\n",
              "..   ...  ...  ..       ...   ...  ...    ...      ...    ...  ..   ...\n",
              "215   43    0   0       132   341  ...      1      3.0      1   0     3\n",
              "230   47    1   2       108   243  ...      0      0.0      2   0     2\n",
              "135   49    0   0       130   269  ...      0      0.0      2   0     2\n",
              "70    54    1   2       120   258  ...      0      0.4      1   0     3\n",
              "173   58    1   2       132   224  ...      0      3.2      2   2     3\n",
              "\n",
              "[227 rows x 13 columns]"
            ]
          },
          "metadata": {
            "tags": []
          },
          "execution_count": 25
        }
      ]
    },
    {
      "cell_type": "markdown",
      "metadata": {
        "id": "ww4lRDCS3qPh"
      },
      "source": [
        "Convert `thal` column to numeric"
      ]
    },
    {
      "cell_type": "markdown",
      "metadata": {
        "id": "xa7KCi_GXHmW"
      },
      "source": [
        "### Let's use a friendlier OHE! 🎉"
      ]
    },
    {
      "cell_type": "code",
      "metadata": {
        "colab": {
          "base_uri": "https://localhost:8080/"
        },
        "id": "Hr6lqMnFXMxH",
        "outputId": "a1dd5817-27a0-4d3b-db62-ef59e0178fae"
      },
      "source": [
        "!pip install category_encoders \n",
        "import category_encoders as ce"
      ],
      "execution_count": 16,
      "outputs": [
        {
          "output_type": "stream",
          "text": [
            "Collecting category_encoders\n",
            "\u001b[?25l  Downloading https://files.pythonhosted.org/packages/44/57/fcef41c248701ee62e8325026b90c432adea35555cbc870aff9cfba23727/category_encoders-2.2.2-py2.py3-none-any.whl (80kB)\n",
            "\r\u001b[K     |████                            | 10kB 15.8MB/s eta 0:00:01\r\u001b[K     |████████▏                       | 20kB 9.0MB/s eta 0:00:01\r\u001b[K     |████████████▏                   | 30kB 8.1MB/s eta 0:00:01\r\u001b[K     |████████████████▎               | 40kB 6.8MB/s eta 0:00:01\r\u001b[K     |████████████████████▎           | 51kB 5.0MB/s eta 0:00:01\r\u001b[K     |████████████████████████▍       | 61kB 5.7MB/s eta 0:00:01\r\u001b[K     |████████████████████████████▍   | 71kB 5.4MB/s eta 0:00:01\r\u001b[K     |████████████████████████████████| 81kB 3.5MB/s \n",
            "\u001b[?25hRequirement already satisfied: patsy>=0.5.1 in /usr/local/lib/python3.7/dist-packages (from category_encoders) (0.5.1)\n",
            "Requirement already satisfied: pandas>=0.21.1 in /usr/local/lib/python3.7/dist-packages (from category_encoders) (1.1.5)\n",
            "Requirement already satisfied: scikit-learn>=0.20.0 in /usr/local/lib/python3.7/dist-packages (from category_encoders) (0.22.2.post1)\n",
            "Requirement already satisfied: scipy>=1.0.0 in /usr/local/lib/python3.7/dist-packages (from category_encoders) (1.4.1)\n",
            "Requirement already satisfied: statsmodels>=0.9.0 in /usr/local/lib/python3.7/dist-packages (from category_encoders) (0.10.2)\n",
            "Requirement already satisfied: numpy>=1.14.0 in /usr/local/lib/python3.7/dist-packages (from category_encoders) (1.19.5)\n",
            "Requirement already satisfied: six in /usr/local/lib/python3.7/dist-packages (from patsy>=0.5.1->category_encoders) (1.15.0)\n",
            "Requirement already satisfied: pytz>=2017.2 in /usr/local/lib/python3.7/dist-packages (from pandas>=0.21.1->category_encoders) (2018.9)\n",
            "Requirement already satisfied: python-dateutil>=2.7.3 in /usr/local/lib/python3.7/dist-packages (from pandas>=0.21.1->category_encoders) (2.8.1)\n",
            "Requirement already satisfied: joblib>=0.11 in /usr/local/lib/python3.7/dist-packages (from scikit-learn>=0.20.0->category_encoders) (1.0.1)\n",
            "Installing collected packages: category-encoders\n",
            "Successfully installed category-encoders-2.2.2\n"
          ],
          "name": "stdout"
        },
        {
          "output_type": "stream",
          "text": [
            "/usr/local/lib/python3.7/dist-packages/statsmodels/tools/_testing.py:19: FutureWarning: pandas.util.testing is deprecated. Use the functions in the public API at pandas.testing instead.\n",
            "  import pandas.util.testing as tm\n"
          ],
          "name": "stderr"
        }
      ]
    },
    {
      "cell_type": "code",
      "metadata": {
        "colab": {
          "base_uri": "https://localhost:8080/"
        },
        "id": "8cnNgBOZXk-6",
        "outputId": "9975433e-35bd-4723-980d-96ecd95c3063"
      },
      "source": [
        "ohe = ce.OneHotEncoder()\n",
        "X_train = ohe.fit_transform(X_train)\n",
        "X_test = ohe.transform(X_test)"
      ],
      "execution_count": 19,
      "outputs": [
        {
          "output_type": "stream",
          "text": [
            "/usr/local/lib/python3.7/dist-packages/category_encoders/utils.py:21: FutureWarning: is_categorical is deprecated and will be removed in a future version.  Use is_categorical_dtype instead\n",
            "  elif pd.api.types.is_categorical(cols):\n"
          ],
          "name": "stderr"
        }
      ]
    },
    {
      "cell_type": "markdown",
      "metadata": {
        "id": "9CyGI5BA-faC"
      },
      "source": [
        "#### Set the TensorFlow random seed"
      ]
    },
    {
      "cell_type": "code",
      "metadata": {
        "id": "HEfRLI8j-ZQs"
      },
      "source": [
        "tf.random.set_seed(3)"
      ],
      "execution_count": 22,
      "outputs": []
    },
    {
      "cell_type": "markdown",
      "metadata": {
        "id": "bB9C0XJkyQEk"
      },
      "source": [
        "## Create and train a model\n",
        "\n",
        "#### Create model structure"
      ]
    },
    {
      "cell_type": "code",
      "metadata": {
        "id": "rtQUV8cVeqYm"
      },
      "source": [
        "model = tf.keras.Sequential([\n",
        "  tf.keras.layers.Input(shape=(13,)),\n",
        "  tf.keras.layers.BatchNormalization(),\n",
        "  tf.keras.layers.Dense(20, activation='relu'),\n",
        "  tf.keras.layers.Dense(20, activation='relu'),\n",
        "  tf.keras.layers.Dense(1, activation='sigmoid')\n",
        "])"
      ],
      "execution_count": 27,
      "outputs": []
    },
    {
      "cell_type": "markdown",
      "metadata": {
        "id": "MFKv4pxxXakU"
      },
      "source": [
        "#### Visualize the structure"
      ]
    },
    {
      "cell_type": "code",
      "metadata": {
        "colab": {
          "base_uri": "https://localhost:8080/",
          "height": 533
        },
        "id": "xpIoUWSxgUBb",
        "outputId": "1684623c-c948-4afa-9d3b-ac16a34acbfc"
      },
      "source": [
        "tf.keras.utils.plot_model(model,show_shapes=True)"
      ],
      "execution_count": 28,
      "outputs": [
        {
          "output_type": "execute_result",
          "data": {
            "image/png": "[encoded data removed]",
            "text/plain": [
              "<IPython.core.display.Image object>"
            ]
          },
          "metadata": {
            "tags": []
          },
          "execution_count": 28
        }
      ]
    },
    {
      "cell_type": "markdown",
      "metadata": {
        "id": "T12mvCrqpXOX"
      },
      "source": [
        "#### Compile"
      ]
    },
    {
      "cell_type": "code",
      "metadata": {
        "id": "fPzix0n5xPHc"
      },
      "source": [
        "model.compile(\n",
        "  optimizer='adam',\n",
        "  loss=tf.keras.losses.BinaryCrossentropy(),\n",
        "  metrics=['accuracy', 'Recall', 'Precision'],\n",
        "  )"
      ],
      "execution_count": 29,
      "outputs": []
    },
    {
      "cell_type": "markdown",
      "metadata": {
        "id": "nlV0i6J4o-Yg"
      },
      "source": [
        "#### Make an EarlyStopping callback"
      ]
    },
    {
      "cell_type": "code",
      "metadata": {
        "id": "ybDzNUheqxJw"
      },
      "source": [
        "callback = tf.keras.callbacks.EarlyStopping(monitor='val_loss', patience=3)"
      ],
      "execution_count": 30,
      "outputs": []
    },
    {
      "cell_type": "markdown",
      "metadata": {
        "id": "gaEz3a5BpLxr"
      },
      "source": [
        "#### Fit the model"
      ]
    },
    {
      "cell_type": "code",
      "metadata": {
        "id": "GTxY6vPrpJkl",
        "colab": {
          "base_uri": "https://localhost:8080/"
        },
        "outputId": "626365ed-76ac-4ae3-f6b3-d992ccff8756"
      },
      "source": [
        "history = model.fit(X_train, y_train, batch_size=10, epochs=50, validation_split=0.3, callbacks=[callback])  "
      ],
      "execution_count": 49,
      "outputs": [
        {
          "output_type": "stream",
          "text": [
            "Epoch 1/50\n",
            "16/16 [==============================] - 0s 11ms/step - loss: 0.3485 - accuracy: 0.8354 - recall: 0.8837 - precision: 0.8261 - val_loss: 0.3749 - val_accuracy: 0.8841 - val_recall: 0.8947 - val_precision: 0.8947\n",
            "Epoch 2/50\n",
            "16/16 [==============================] - 0s 6ms/step - loss: 0.2928 - accuracy: 0.8797 - recall: 0.9070 - precision: 0.8764 - val_loss: 0.3732 - val_accuracy: 0.8696 - val_recall: 0.8947 - val_precision: 0.8718\n",
            "Epoch 3/50\n",
            "16/16 [==============================] - 0s 6ms/step - loss: 0.2852 - accuracy: 0.8861 - recall: 0.9419 - precision: 0.8617 - val_loss: 0.3743 - val_accuracy: 0.8696 - val_recall: 0.8947 - val_precision: 0.8718\n",
            "Epoch 4/50\n",
            "16/16 [==============================] - 0s 6ms/step - loss: 0.2801 - accuracy: 0.9051 - recall: 0.9186 - precision: 0.9080 - val_loss: 0.3779 - val_accuracy: 0.8551 - val_recall: 0.8684 - val_precision: 0.8684\n",
            "Epoch 5/50\n",
            "16/16 [==============================] - 0s 7ms/step - loss: 0.3325 - accuracy: 0.8418 - recall: 0.8953 - precision: 0.8280 - val_loss: 0.3821 - val_accuracy: 0.8696 - val_recall: 0.8947 - val_precision: 0.8718\n"
          ],
          "name": "stdout"
        }
      ]
    },
    {
      "cell_type": "markdown",
      "metadata": {
        "id": "8rOk1tBrkwOo"
      },
      "source": [
        "#### Plot model performance on the validation data (accuracy, recall, and precision)"
      ]
    },
    {
      "cell_type": "code",
      "metadata": {
        "colab": {
          "base_uri": "https://localhost:8080/",
          "height": 265
        },
        "id": "J0KM_xsoDW3P",
        "outputId": "626977e4-d52c-4906-e09c-27c5eae4bd77"
      },
      "source": [
        "plt.plot(history.history['val_accuracy'], label='accuracy')\n",
        "plt.plot(history.history['val_recall'], label='recall')\n",
        "plt.plot(history.history['val_precision'], label='precision')\n",
        "plt.legend();"
      ],
      "execution_count": 33,
      "outputs": [
        {
          "output_type": "display_data",
          "data": {
            "image/png": "[encoded data removed]",
            "text/plain": [
              "<Figure size 432x288 with 1 Axes>"
            ]
          },
          "metadata": {
            "tags": [],
            "needs_background": "light"
          }
        }
      ]
    },
    {
      "cell_type": "markdown",
      "metadata": {
        "id": "ltQkFibkzAMb"
      },
      "source": [
        "#### Save model"
      ]
    },
    {
      "cell_type": "code",
      "metadata": {
        "colab": {
          "base_uri": "https://localhost:8080/"
        },
        "id": "b4477jxw71mZ",
        "outputId": "eb708a2a-daca-4034-bbdc-ccb7698138eb"
      },
      "source": [
        "model.save('model_1')"
      ],
      "execution_count": 34,
      "outputs": [
        {
          "output_type": "stream",
          "text": [
            "INFO:tensorflow:Assets written to: model_1/assets\n"
          ],
          "name": "stdout"
        }
      ]
    },
    {
      "cell_type": "markdown",
      "metadata": {
        "id": "wgSH6wUwEDp2"
      },
      "source": [
        "#### Load model"
      ]
    },
    {
      "cell_type": "code",
      "metadata": {
        "id": "9DbjapJzd-ks"
      },
      "source": [
        "model_reload = tf.keras.models.load_model('model_1')"
      ],
      "execution_count": 35,
      "outputs": []
    },
    {
      "cell_type": "markdown",
      "metadata": {
        "id": "fs9fVkzQEGbN"
      },
      "source": [
        "#### Evaluate on test set "
      ]
    },
    {
      "cell_type": "code",
      "metadata": {
        "colab": {
          "base_uri": "https://localhost:8080/"
        },
        "id": "aSaWeerYEDFX",
        "outputId": "a21706aa-508f-4246-b85a-f9d432fffacc"
      },
      "source": [
        "model_reload.evaluate(X_test, y_test) "
      ],
      "execution_count": 36,
      "outputs": [
        {
          "output_type": "stream",
          "text": [
            "3/3 [==============================] - 0s 4ms/step - loss: 0.3871 - accuracy: 0.8158 - recall: 0.9024 - precision: 0.7872\n"
          ],
          "name": "stdout"
        },
        {
          "output_type": "execute_result",
          "data": {
            "text/plain": [
              "[0.38708817958831787,\n",
              " 0.8157894611358643,\n",
              " 0.9024389982223511,\n",
              " 0.7872340679168701]"
            ]
          },
          "metadata": {
            "tags": []
          },
          "execution_count": 36
        }
      ]
    },
    {
      "cell_type": "markdown",
      "metadata": {
        "id": "5olEwyc7D_ti"
      },
      "source": [
        "#### X_test predictions"
      ]
    },
    {
      "cell_type": "code",
      "metadata": {
        "id": "w5hEzXcbefof"
      },
      "source": [
        "preds = model_reload.predict(X_test)"
      ],
      "execution_count": 37,
      "outputs": []
    },
    {
      "cell_type": "markdown",
      "metadata": {
        "id": "S4B1DOQOlIpD"
      },
      "source": [
        "#### What do those look like?"
      ]
    },
    {
      "cell_type": "code",
      "metadata": {
        "id": "WxVEisOYw4Jr",
        "colab": {
          "base_uri": "https://localhost:8080/"
        },
        "outputId": "c081e72d-bd65-4247-c312-a794df40e2e9"
      },
      "source": [
        "preds.round()"
      ],
      "execution_count": 39,
      "outputs": [
        {
          "output_type": "execute_result",
          "data": {
            "text/plain": [
              "array([[1.],\n",
              "       [1.],\n",
              "       [1.],\n",
              "       [1.],\n",
              "       [1.],\n",
              "       [0.],\n",
              "       [1.],\n",
              "       [1.],\n",
              "       [1.],\n",
              "       [1.],\n",
              "       [1.],\n",
              "       [1.],\n",
              "       [1.],\n",
              "       [1.],\n",
              "       [0.],\n",
              "       [0.],\n",
              "       [1.],\n",
              "       [0.],\n",
              "       [1.],\n",
              "       [1.],\n",
              "       [0.],\n",
              "       [1.],\n",
              "       [1.],\n",
              "       [1.],\n",
              "       [0.],\n",
              "       [0.],\n",
              "       [1.],\n",
              "       [0.],\n",
              "       [0.],\n",
              "       [0.],\n",
              "       [1.],\n",
              "       [0.],\n",
              "       [1.],\n",
              "       [0.],\n",
              "       [0.],\n",
              "       [1.],\n",
              "       [1.],\n",
              "       [0.],\n",
              "       [1.],\n",
              "       [1.],\n",
              "       [1.],\n",
              "       [1.],\n",
              "       [1.],\n",
              "       [1.],\n",
              "       [0.],\n",
              "       [1.],\n",
              "       [0.],\n",
              "       [0.],\n",
              "       [1.],\n",
              "       [1.],\n",
              "       [0.],\n",
              "       [1.],\n",
              "       [1.],\n",
              "       [1.],\n",
              "       [0.],\n",
              "       [1.],\n",
              "       [0.],\n",
              "       [0.],\n",
              "       [1.],\n",
              "       [0.],\n",
              "       [0.],\n",
              "       [1.],\n",
              "       [1.],\n",
              "       [1.],\n",
              "       [1.],\n",
              "       [1.],\n",
              "       [0.],\n",
              "       [1.],\n",
              "       [0.],\n",
              "       [1.],\n",
              "       [0.],\n",
              "       [0.],\n",
              "       [0.],\n",
              "       [0.],\n",
              "       [1.],\n",
              "       [1.]], dtype=float32)"
            ]
          },
          "metadata": {
            "tags": []
          },
          "execution_count": 39
        }
      ]
    },
    {
      "cell_type": "markdown",
      "metadata": {
        "id": "vzrZM0MTxDl9"
      },
      "source": [
        "#### How is the model performing? \n",
        "Let's look at the confusion matrix using TF."
      ]
    },
    {
      "cell_type": "code",
      "metadata": {
        "colab": {
          "base_uri": "https://localhost:8080/"
        },
        "id": "i-KcKPNNDBdE",
        "outputId": "ffb133b8-d514-4d30-e89b-2eb2c015e5ea"
      },
      "source": [
        "tf.math.confusion_matrix(labels=y_test, predictions=preds.round())"
      ],
      "execution_count": 40,
      "outputs": [
        {
          "output_type": "execute_result",
          "data": {
            "text/plain": [
              "<tf.Tensor: shape=(2, 2), dtype=int32, numpy=\n",
              "array([[25, 10],\n",
              "       [ 4, 37]], dtype=int32)>"
            ]
          },
          "metadata": {
            "tags": []
          },
          "execution_count": 40
        }
      ]
    },
    {
      "cell_type": "markdown",
      "metadata": {
        "id": "_Yk_wAPHwSme"
      },
      "source": [
        "Or just use sklearn's confusion matrix. "
      ]
    },
    {
      "cell_type": "code",
      "metadata": {
        "id": "w6gZHqa3wQgS",
        "colab": {
          "base_uri": "https://localhost:8080/"
        },
        "outputId": "dbd9a5dc-660c-420e-bab1-3fb5e9785b63"
      },
      "source": [
        "from sklearn.metrics import confusion_matrix\n",
        "confusion_matrix(y_test, preds.round())"
      ],
      "execution_count": 41,
      "outputs": [
        {
          "output_type": "execute_result",
          "data": {
            "text/plain": [
              "array([[25, 10],\n",
              "       [ 4, 37]])"
            ]
          },
          "metadata": {
            "tags": []
          },
          "execution_count": 41
        }
      ]
    },
    {
      "cell_type": "markdown",
      "metadata": {
        "id": "i88nl2fLmmPo"
      },
      "source": [
        "#### Evaluate with other metrics"
      ]
    },
    {
      "cell_type": "code",
      "metadata": {
        "id": "3HS5qvVEp7Dt"
      },
      "source": [
        "from sklearn.metrics import recall_score, precision_score, f1_score, balanced_accuracy_score"
      ],
      "execution_count": 42,
      "outputs": []
    },
    {
      "cell_type": "code",
      "metadata": {
        "colab": {
          "base_uri": "https://localhost:8080/"
        },
        "id": "tFNRQNR8z0qp",
        "outputId": "9853ba06-a8a8-452f-c281-97c92a9f22e0"
      },
      "source": [
        "recall_score(y_test, preds.round())"
      ],
      "execution_count": 43,
      "outputs": [
        {
          "output_type": "execute_result",
          "data": {
            "text/plain": [
              "0.9024390243902439"
            ]
          },
          "metadata": {
            "tags": []
          },
          "execution_count": 43
        }
      ]
    },
    {
      "cell_type": "code",
      "metadata": {
        "colab": {
          "base_uri": "https://localhost:8080/"
        },
        "id": "F_BvhOiLqLd7",
        "outputId": "111117f7-2c02-4a3a-a9d3-6b05f4898d21"
      },
      "source": [
        "f1_score(y_test, preds.round())"
      ],
      "execution_count": 44,
      "outputs": [
        {
          "output_type": "execute_result",
          "data": {
            "text/plain": [
              "0.8409090909090909"
            ]
          },
          "metadata": {
            "tags": []
          },
          "execution_count": 44
        }
      ]
    },
    {
      "cell_type": "code",
      "metadata": {
        "colab": {
          "base_uri": "https://localhost:8080/"
        },
        "id": "4tzu786xqRkm",
        "outputId": "e03d6e08-65ce-4a21-b561-81eba395686e"
      },
      "source": [
        "balanced_accuracy_score(y_test, preds.round())"
      ],
      "execution_count": 45,
      "outputs": [
        {
          "output_type": "execute_result",
          "data": {
            "text/plain": [
              "0.8083623693379791"
            ]
          },
          "metadata": {
            "tags": []
          },
          "execution_count": 45
        }
      ]
    },
    {
      "cell_type": "markdown",
      "metadata": {
        "id": "WygQswjBwBb4"
      },
      "source": [
        "### Make a null model"
      ]
    },
    {
      "cell_type": "code",
      "metadata": {
        "colab": {
          "base_uri": "https://localhost:8080/"
        },
        "id": "6-J5CSa-wAt-",
        "outputId": "845c351e-4807-40df-cf43-024d25f344ce"
      },
      "source": [
        "data['target'].value_counts(normalize=True)\n",
        "# the null model is to classify each observation as 1, then 54.45% will be right."
      ],
      "execution_count": 48,
      "outputs": [
        {
          "output_type": "execute_result",
          "data": {
            "text/plain": [
              "1    0.544554\n",
              "0    0.455446\n",
              "Name: target, dtype: float64"
            ]
          },
          "metadata": {
            "tags": []
          },
          "execution_count": 48
        }
      ]
    },
    {
      "cell_type": "markdown",
      "metadata": {
        "id": "aWNUxsZshX71"
      },
      "source": [
        "## Can you make a better model?\n",
        "\n",
        "Change the model architecture and see if you can make a better model. Add nodes, dense layers, and dropout layers."
      ]
    },
    {
      "cell_type": "code",
      "metadata": {
        "id": "-vuo0gPswEjU",
        "colab": {
          "base_uri": "https://localhost:8080/"
        },
        "outputId": "69a14095-2dcd-43bf-ad13-3af37aa73417"
      },
      "source": [
        "# model2\n",
        "model2 = tf.keras.Sequential([\n",
        "  tf.keras.layers.Input(shape=(13,)),\n",
        "  tf.keras.layers.BatchNormalization(),\n",
        "  tf.keras.layers.Dense(10, activation='relu'),\n",
        "  tf.keras.layers.Dense(10, activation='relu'),\n",
        "  tf.keras.layers.Dense(10, activation='relu'),\n",
        "  tf.keras.layers.Dense(1, activation='sigmoid')\n",
        "])\n",
        "\n",
        "model2.compile(\n",
        "  optimizer='adam',\n",
        "  loss=tf.keras.losses.BinaryCrossentropy(),\n",
        "  metrics=['accuracy', 'Recall', 'Precision'],\n",
        "  )\n",
        "\n",
        "history2 = model2.fit(X_train, y_train, batch_size=10, epochs=50, validation_split=0.3, callbacks=[callback])  "
      ],
      "execution_count": 50,
      "outputs": [
        {
          "output_type": "stream",
          "text": [
            "Epoch 1/50\n",
            "16/16 [==============================] - 2s 38ms/step - loss: 0.6663 - accuracy: 0.5498 - recall: 1.0000 - precision: 0.5460 - val_loss: 4.1008 - val_accuracy: 0.5507 - val_recall: 1.0000 - val_precision: 0.5507\n",
            "Epoch 2/50\n",
            "16/16 [==============================] - 0s 6ms/step - loss: 0.6493 - accuracy: 0.5553 - recall: 1.0000 - precision: 0.5508 - val_loss: 2.6992 - val_accuracy: 0.5507 - val_recall: 1.0000 - val_precision: 0.5507\n",
            "Epoch 3/50\n",
            "16/16 [==============================] - 0s 6ms/step - loss: 0.6806 - accuracy: 0.5524 - recall: 1.0000 - precision: 0.5380 - val_loss: 1.9854 - val_accuracy: 0.5507 - val_recall: 1.0000 - val_precision: 0.5507\n",
            "Epoch 4/50\n",
            "16/16 [==============================] - 0s 6ms/step - loss: 0.6537 - accuracy: 0.5784 - recall: 0.9954 - precision: 0.5541 - val_loss: 1.5430 - val_accuracy: 0.5507 - val_recall: 1.0000 - val_precision: 0.5507\n",
            "Epoch 5/50\n",
            "16/16 [==============================] - 0s 6ms/step - loss: 0.5959 - accuracy: 0.6754 - recall: 0.9760 - precision: 0.6507 - val_loss: 1.3247 - val_accuracy: 0.5507 - val_recall: 1.0000 - val_precision: 0.5507\n",
            "Epoch 6/50\n",
            "16/16 [==============================] - 0s 7ms/step - loss: 0.6298 - accuracy: 0.6044 - recall: 0.9565 - precision: 0.5605 - val_loss: 1.0481 - val_accuracy: 0.5507 - val_recall: 1.0000 - val_precision: 0.5507\n",
            "Epoch 7/50\n",
            "16/16 [==============================] - 0s 6ms/step - loss: 0.5789 - accuracy: 0.7272 - recall: 0.9859 - precision: 0.6796 - val_loss: 0.8996 - val_accuracy: 0.5507 - val_recall: 1.0000 - val_precision: 0.5507\n",
            "Epoch 8/50\n",
            "16/16 [==============================] - 0s 6ms/step - loss: 0.5676 - accuracy: 0.7590 - recall: 0.9686 - precision: 0.7116 - val_loss: 0.7743 - val_accuracy: 0.5652 - val_recall: 1.0000 - val_precision: 0.5588\n",
            "Epoch 9/50\n",
            "16/16 [==============================] - 0s 6ms/step - loss: 0.5403 - accuracy: 0.8051 - recall: 0.9640 - precision: 0.7521 - val_loss: 0.6954 - val_accuracy: 0.6232 - val_recall: 1.0000 - val_precision: 0.5938\n",
            "Epoch 10/50\n",
            "16/16 [==============================] - 0s 6ms/step - loss: 0.5541 - accuracy: 0.7189 - recall: 0.9174 - precision: 0.6815 - val_loss: 0.6306 - val_accuracy: 0.6667 - val_recall: 1.0000 - val_precision: 0.6230\n",
            "Epoch 11/50\n",
            "16/16 [==============================] - 0s 7ms/step - loss: 0.5283 - accuracy: 0.7672 - recall: 0.9038 - precision: 0.7350 - val_loss: 0.5867 - val_accuracy: 0.7101 - val_recall: 1.0000 - val_precision: 0.6552\n",
            "Epoch 12/50\n",
            "16/16 [==============================] - 0s 6ms/step - loss: 0.5406 - accuracy: 0.7760 - recall: 0.8898 - precision: 0.7357 - val_loss: 0.5501 - val_accuracy: 0.7246 - val_recall: 0.9474 - val_precision: 0.6792\n",
            "Epoch 13/50\n",
            "16/16 [==============================] - 0s 7ms/step - loss: 0.5016 - accuracy: 0.8069 - recall: 0.9218 - precision: 0.7782 - val_loss: 0.5263 - val_accuracy: 0.7246 - val_recall: 0.8684 - val_precision: 0.7021\n",
            "Epoch 14/50\n",
            "16/16 [==============================] - 0s 6ms/step - loss: 0.4824 - accuracy: 0.8007 - recall: 0.8554 - precision: 0.8009 - val_loss: 0.5017 - val_accuracy: 0.7391 - val_recall: 0.8684 - val_precision: 0.7174\n",
            "Epoch 15/50\n",
            "16/16 [==============================] - 0s 6ms/step - loss: 0.5263 - accuracy: 0.7732 - recall: 0.9057 - precision: 0.7067 - val_loss: 0.4846 - val_accuracy: 0.7971 - val_recall: 0.8684 - val_precision: 0.7857\n",
            "Epoch 16/50\n",
            "16/16 [==============================] - 0s 8ms/step - loss: 0.4729 - accuracy: 0.7652 - recall: 0.9146 - precision: 0.7181 - val_loss: 0.4619 - val_accuracy: 0.7826 - val_recall: 0.8421 - val_precision: 0.7805\n",
            "Epoch 17/50\n",
            "16/16 [==============================] - 0s 7ms/step - loss: 0.4617 - accuracy: 0.7730 - recall: 0.8424 - precision: 0.7522 - val_loss: 0.4447 - val_accuracy: 0.8116 - val_recall: 0.8684 - val_precision: 0.8049\n",
            "Epoch 18/50\n",
            "16/16 [==============================] - 0s 10ms/step - loss: 0.4463 - accuracy: 0.8150 - recall: 0.8110 - precision: 0.8608 - val_loss: 0.4300 - val_accuracy: 0.8261 - val_recall: 0.8947 - val_precision: 0.8095\n",
            "Epoch 19/50\n",
            "16/16 [==============================] - 0s 7ms/step - loss: 0.4503 - accuracy: 0.7988 - recall: 0.8245 - precision: 0.8276 - val_loss: 0.4225 - val_accuracy: 0.8551 - val_recall: 0.8947 - val_precision: 0.8500\n",
            "Epoch 20/50\n",
            "16/16 [==============================] - 0s 7ms/step - loss: 0.4898 - accuracy: 0.7883 - recall: 0.8008 - precision: 0.8027 - val_loss: 0.4226 - val_accuracy: 0.8406 - val_recall: 0.8684 - val_precision: 0.8462\n",
            "Epoch 21/50\n",
            "16/16 [==============================] - 0s 8ms/step - loss: 0.4590 - accuracy: 0.7823 - recall: 0.8022 - precision: 0.7716 - val_loss: 0.4161 - val_accuracy: 0.8551 - val_recall: 0.8947 - val_precision: 0.8500\n",
            "Epoch 22/50\n",
            "16/16 [==============================] - 0s 7ms/step - loss: 0.4270 - accuracy: 0.7730 - recall: 0.7688 - precision: 0.8208 - val_loss: 0.4046 - val_accuracy: 0.8406 - val_recall: 0.8947 - val_precision: 0.8293\n",
            "Epoch 23/50\n",
            "16/16 [==============================] - 0s 9ms/step - loss: 0.4776 - accuracy: 0.7563 - recall: 0.7804 - precision: 0.7884 - val_loss: 0.4012 - val_accuracy: 0.8406 - val_recall: 0.8947 - val_precision: 0.8293\n",
            "Epoch 24/50\n",
            "16/16 [==============================] - 0s 6ms/step - loss: 0.4588 - accuracy: 0.7740 - recall: 0.8131 - precision: 0.7660 - val_loss: 0.4002 - val_accuracy: 0.8696 - val_recall: 0.8947 - val_precision: 0.8718\n",
            "Epoch 25/50\n",
            "16/16 [==============================] - 0s 8ms/step - loss: 0.4044 - accuracy: 0.8164 - recall: 0.8083 - precision: 0.8593 - val_loss: 0.3939 - val_accuracy: 0.8696 - val_recall: 0.8947 - val_precision: 0.8718\n",
            "Epoch 26/50\n",
            "16/16 [==============================] - 0s 6ms/step - loss: 0.4423 - accuracy: 0.7586 - recall: 0.7463 - precision: 0.8058 - val_loss: 0.3886 - val_accuracy: 0.8696 - val_recall: 0.8947 - val_precision: 0.8718\n",
            "Epoch 27/50\n",
            "16/16 [==============================] - 0s 6ms/step - loss: 0.4220 - accuracy: 0.8452 - recall: 0.8174 - precision: 0.8977 - val_loss: 0.3874 - val_accuracy: 0.8696 - val_recall: 0.8947 - val_precision: 0.8718\n",
            "Epoch 28/50\n",
            "16/16 [==============================] - 0s 7ms/step - loss: 0.4056 - accuracy: 0.8169 - recall: 0.8287 - precision: 0.8445 - val_loss: 0.3811 - val_accuracy: 0.8551 - val_recall: 0.8947 - val_precision: 0.8500\n",
            "Epoch 29/50\n",
            "16/16 [==============================] - 0s 6ms/step - loss: 0.3867 - accuracy: 0.8156 - recall: 0.8120 - precision: 0.8530 - val_loss: 0.3831 - val_accuracy: 0.8406 - val_recall: 0.8947 - val_precision: 0.8293\n",
            "Epoch 30/50\n",
            "16/16 [==============================] - 0s 6ms/step - loss: 0.3731 - accuracy: 0.8134 - recall: 0.8164 - precision: 0.8320 - val_loss: 0.3821 - val_accuracy: 0.8406 - val_recall: 0.8947 - val_precision: 0.8293\n",
            "Epoch 31/50\n",
            "16/16 [==============================] - 0s 7ms/step - loss: 0.3814 - accuracy: 0.8190 - recall: 0.7889 - precision: 0.8548 - val_loss: 0.3793 - val_accuracy: 0.8406 - val_recall: 0.8947 - val_precision: 0.8293\n",
            "Epoch 32/50\n",
            "16/16 [==============================] - 0s 8ms/step - loss: 0.3279 - accuracy: 0.8565 - recall: 0.8810 - precision: 0.8532 - val_loss: 0.3805 - val_accuracy: 0.8406 - val_recall: 0.8947 - val_precision: 0.8293\n",
            "Epoch 33/50\n",
            "16/16 [==============================] - 0s 7ms/step - loss: 0.3500 - accuracy: 0.8831 - recall: 0.8552 - precision: 0.9298 - val_loss: 0.3805 - val_accuracy: 0.8551 - val_recall: 0.8947 - val_precision: 0.8500\n",
            "Epoch 34/50\n",
            "16/16 [==============================] - 0s 7ms/step - loss: 0.3297 - accuracy: 0.8264 - recall: 0.8646 - precision: 0.8260 - val_loss: 0.3776 - val_accuracy: 0.8551 - val_recall: 0.8947 - val_precision: 0.8500\n",
            "Epoch 35/50\n",
            "16/16 [==============================] - 0s 6ms/step - loss: 0.3327 - accuracy: 0.8885 - recall: 0.8728 - precision: 0.9184 - val_loss: 0.3760 - val_accuracy: 0.8551 - val_recall: 0.8947 - val_precision: 0.8500\n",
            "Epoch 36/50\n",
            "16/16 [==============================] - 0s 6ms/step - loss: 0.3438 - accuracy: 0.8236 - recall: 0.8438 - precision: 0.8286 - val_loss: 0.3751 - val_accuracy: 0.8696 - val_recall: 0.8947 - val_precision: 0.8718\n",
            "Epoch 37/50\n",
            "16/16 [==============================] - 0s 7ms/step - loss: 0.3095 - accuracy: 0.8683 - recall: 0.8742 - precision: 0.8769 - val_loss: 0.3722 - val_accuracy: 0.8696 - val_recall: 0.8947 - val_precision: 0.8718\n",
            "Epoch 38/50\n",
            "16/16 [==============================] - 0s 9ms/step - loss: 0.3137 - accuracy: 0.8653 - recall: 0.8430 - precision: 0.9070 - val_loss: 0.3729 - val_accuracy: 0.8696 - val_recall: 0.8947 - val_precision: 0.8718\n",
            "Epoch 39/50\n",
            "16/16 [==============================] - 0s 9ms/step - loss: 0.3330 - accuracy: 0.8412 - recall: 0.8918 - precision: 0.8210 - val_loss: 0.3732 - val_accuracy: 0.8406 - val_recall: 0.8684 - val_precision: 0.8462\n",
            "Epoch 40/50\n",
            "16/16 [==============================] - 0s 8ms/step - loss: 0.3370 - accuracy: 0.8686 - recall: 0.8907 - precision: 0.8688 - val_loss: 0.3749 - val_accuracy: 0.8551 - val_recall: 0.8684 - val_precision: 0.8684\n"
          ],
          "name": "stdout"
        }
      ]
    },
    {
      "cell_type": "code",
      "metadata": {
        "colab": {
          "base_uri": "https://localhost:8080/",
          "height": 265
        },
        "id": "wTLCFuyTjOQ5",
        "outputId": "c974c1aa-2a11-4942-b50f-82428daa7946"
      },
      "source": [
        "plt.plot(history2.history['val_accuracy'], label='accuracy')\n",
        "plt.plot(history2.history['val_recall'], label='recall')\n",
        "plt.plot(history2.history['val_precision'], label='precision')\n",
        "plt.legend();"
      ],
      "execution_count": 51,
      "outputs": [
        {
          "output_type": "display_data",
          "data": {
            "image/png": "[encoded data removed]",
            "text/plain": [
              "<Figure size 432x288 with 1 Axes>"
            ]
          },
          "metadata": {
            "tags": [],
            "needs_background": "light"
          }
        }
      ]
    },
    {
      "cell_type": "code",
      "metadata": {
        "id": "Tf-_doZ0jeiH"
      },
      "source": [
        "preds2 = model2.predict(X_test)"
      ],
      "execution_count": 52,
      "outputs": []
    },
    {
      "cell_type": "code",
      "metadata": {
        "colab": {
          "base_uri": "https://localhost:8080/"
        },
        "id": "-CEDokTVjxkn",
        "outputId": "43e3ec78-fd6e-426c-c39a-0cb43d25e977"
      },
      "source": [
        "recall_score(y_test, preds2.round())"
      ],
      "execution_count": 53,
      "outputs": [
        {
          "output_type": "execute_result",
          "data": {
            "text/plain": [
              "0.8292682926829268"
            ]
          },
          "metadata": {
            "tags": []
          },
          "execution_count": 53
        }
      ]
    },
    {
      "cell_type": "code",
      "metadata": {
        "colab": {
          "base_uri": "https://localhost:8080/"
        },
        "id": "FUbIyQX-j4pt",
        "outputId": "5145e72f-3376-406c-99a2-5f6a34e97066"
      },
      "source": [
        "f1_score(y_test, preds2.round())"
      ],
      "execution_count": 55,
      "outputs": [
        {
          "output_type": "execute_result",
          "data": {
            "text/plain": [
              "0.8095238095238095"
            ]
          },
          "metadata": {
            "tags": []
          },
          "execution_count": 55
        }
      ]
    },
    {
      "cell_type": "code",
      "metadata": {
        "colab": {
          "base_uri": "https://localhost:8080/"
        },
        "id": "04DxAk5pj-PZ",
        "outputId": "d9e05df4-61b0-4d0d-ff4e-8899bd66db3e"
      },
      "source": [
        "balanced_accuracy_score(y_test, preds.round())"
      ],
      "execution_count": 56,
      "outputs": [
        {
          "output_type": "execute_result",
          "data": {
            "text/plain": [
              "0.8083623693379791"
            ]
          },
          "metadata": {
            "tags": []
          },
          "execution_count": 56
        }
      ]
    },
    {
      "cell_type": "markdown",
      "metadata": {
        "id": "P2g8fNYPhe5t"
      },
      "source": [
        "#### Save your best model. \n"
      ]
    },
    {
      "cell_type": "code",
      "metadata": {
        "id": "7n8Q-cwmXakb"
      },
      "source": [
        "# first first model is the best"
      ],
      "execution_count": 57,
      "outputs": []
    },
    {
      "cell_type": "markdown",
      "metadata": {
        "id": "8Y2AqHwEh4A_"
      },
      "source": [
        "#### Compare with other algorithms\n",
        "Compare your best neural net model to a scikit-learn LogisticRegression model. Also try a GradientBoostingClassifier."
      ]
    },
    {
      "cell_type": "code",
      "metadata": {
        "id": "50mvw0us9FdB"
      },
      "source": [
        "from sklearn.linear_model import LogisticRegression\n",
        "from sklearn.ensemble import GradientBoostingClassifier"
      ],
      "execution_count": 58,
      "outputs": []
    },
    {
      "cell_type": "markdown",
      "metadata": {
        "id": "HtoS8JaYyWOM"
      },
      "source": [
        "#### Scale and Standardize for Logistic Regression\n"
      ]
    },
    {
      "cell_type": "code",
      "metadata": {
        "id": "hHJpGiqJuK4m"
      },
      "source": [
        "from sklearn.preprocessing import StandardScaler"
      ],
      "execution_count": 59,
      "outputs": []
    },
    {
      "cell_type": "code",
      "metadata": {
        "id": "A5_RtKAkuN4l"
      },
      "source": [
        "sc = StandardScaler()\n",
        "X_train_sc = sc.fit_transform(X_train)\n",
        "X_test_sc = sc.transform(X_test)"
      ],
      "execution_count": 60,
      "outputs": []
    },
    {
      "cell_type": "markdown",
      "metadata": {
        "id": "sWIVhO5tyaEt"
      },
      "source": [
        "#### Logistic Regression"
      ]
    },
    {
      "cell_type": "code",
      "metadata": {
        "colab": {
          "base_uri": "https://localhost:8080/"
        },
        "id": "jtSp1DXxusim",
        "outputId": "8c496210-fa48-4a48-e9fa-ffa7514bb107"
      },
      "source": [
        "logreg = LogisticRegression()\n",
        "logreg.fit(X_train_sc, y_train)"
      ],
      "execution_count": 62,
      "outputs": [
        {
          "output_type": "execute_result",
          "data": {
            "text/plain": [
              "LogisticRegression(C=1.0, class_weight=None, dual=False, fit_intercept=True,\n",
              "                   intercept_scaling=1, l1_ratio=None, max_iter=100,\n",
              "                   multi_class='auto', n_jobs=None, penalty='l2',\n",
              "                   random_state=None, solver='lbfgs', tol=0.0001, verbose=0,\n",
              "                   warm_start=False)"
            ]
          },
          "metadata": {
            "tags": []
          },
          "execution_count": 62
        }
      ]
    },
    {
      "cell_type": "markdown",
      "metadata": {
        "id": "gp1fbbJXzDCC"
      },
      "source": [
        "#### Evaluate performance on metrics other than accuracy"
      ]
    },
    {
      "cell_type": "code",
      "metadata": {
        "colab": {
          "base_uri": "https://localhost:8080/"
        },
        "id": "De4E9nPhzDW0",
        "outputId": "b5e274aa-a32b-4f59-f3fd-8e347deb40f1"
      },
      "source": [
        "preds_logreg = logreg.predict(X_test_sc)\n",
        "\n",
        "precision_score(y_test, preds_logreg)"
      ],
      "execution_count": 64,
      "outputs": [
        {
          "output_type": "execute_result",
          "data": {
            "text/plain": [
              "0.7608695652173914"
            ]
          },
          "metadata": {
            "tags": []
          },
          "execution_count": 64
        }
      ]
    },
    {
      "cell_type": "code",
      "metadata": {
        "colab": {
          "base_uri": "https://localhost:8080/"
        },
        "id": "83EvEGrCzNPZ",
        "outputId": "1cf4c397-b2fb-4c29-dc53-771cea16d6c0"
      },
      "source": [
        "f1_score(y_test, preds_logreg)"
      ],
      "execution_count": 65,
      "outputs": [
        {
          "output_type": "execute_result",
          "data": {
            "text/plain": [
              "0.8045977011494252"
            ]
          },
          "metadata": {
            "tags": []
          },
          "execution_count": 65
        }
      ]
    },
    {
      "cell_type": "markdown",
      "metadata": {
        "id": "E04fXBHexQdX"
      },
      "source": [
        "### GradientBoosting"
      ]
    },
    {
      "cell_type": "code",
      "metadata": {
        "id": "gSZYH3XyuXRe"
      },
      "source": [
        "from sklearn.model_selection import GridSearchCV"
      ],
      "execution_count": 66,
      "outputs": []
    },
    {
      "cell_type": "code",
      "metadata": {
        "colab": {
          "base_uri": "https://localhost:8080/"
        },
        "id": "fO5py5Xvyqon",
        "outputId": "c8153206-fc1f-4333-a77e-025bfb185c52"
      },
      "source": [
        "parames = dict(\n",
        "    max_depth=[2,3,4,5], \n",
        "    n_estimators=[100, 300,700,1000]\n",
        "    )\n",
        "gs = GridSearchCV(GradientBoostingClassifier(), param_grid=parames, n_jobs=-1)\n",
        "gs.fit(X_train, y_train)\n",
        "gs.score(X_test, y_test)"
      ],
      "execution_count": 67,
      "outputs": [
        {
          "output_type": "execute_result",
          "data": {
            "text/plain": [
              "0.7763157894736842"
            ]
          },
          "metadata": {
            "tags": []
          },
          "execution_count": 67
        }
      ]
    },
    {
      "cell_type": "markdown",
      "metadata": {
        "id": "nojEwxvjy4f-"
      },
      "source": [
        "#### Evaluate performance on metrics other than accuracy"
      ]
    },
    {
      "cell_type": "code",
      "metadata": {
        "colab": {
          "base_uri": "https://localhost:8080/"
        },
        "id": "Gl-9aQxZxiKg",
        "outputId": "750a2f4e-68cf-4f76-dd32-84395f23174f"
      },
      "source": [
        "preds_gs = gs.predict(X_test)\n",
        "\n",
        "precision_score(y_test, preds_gs)"
      ],
      "execution_count": 68,
      "outputs": [
        {
          "output_type": "execute_result",
          "data": {
            "text/plain": [
              "0.7727272727272727"
            ]
          },
          "metadata": {
            "tags": []
          },
          "execution_count": 68
        }
      ]
    },
    {
      "cell_type": "code",
      "metadata": {
        "colab": {
          "base_uri": "https://localhost:8080/"
        },
        "id": "eRNkAj6jy2cY",
        "outputId": "c4a51a19-20b8-4a01-92c4-f23ac68d1e6b"
      },
      "source": [
        "f1_score(y_test, preds_gs)"
      ],
      "execution_count": 69,
      "outputs": [
        {
          "output_type": "execute_result",
          "data": {
            "text/plain": [
              "0.7999999999999999"
            ]
          },
          "metadata": {
            "tags": []
          },
          "execution_count": 69
        }
      ]
    },
    {
      "cell_type": "markdown",
      "metadata": {
        "id": "i1m6ZZ5UiKBX"
      },
      "source": [
        "#### Which evaluation metric(s) are best to use in this problem?"
      ]
    },
    {
      "cell_type": "markdown",
      "metadata": {
        "id": "xEBF6anpz9ta"
      },
      "source": [
        "The combination of multiple metrics are the best."
      ]
    },
    {
      "cell_type": "markdown",
      "metadata": {
        "id": "qx8eLEhC3fC9"
      },
      "source": [
        "#### Which model would you recommend for use? Why?"
      ]
    },
    {
      "cell_type": "markdown",
      "metadata": {
        "id": "DgDvq3lc3WCd"
      },
      "source": [
        "If interpretation is not necessary I would choose NN classification because it perfomances better than others. But Logistic Regression can be easily interpreted."
      ]
    },
    {
      "cell_type": "markdown",
      "metadata": {
        "id": "OB8r5k5j34l4"
      },
      "source": [
        "\n",
        "#### Download your notebook and put it in your submission folder. 🎉"
      ]
    },
    {
      "cell_type": "code",
      "metadata": {
        "id": "sMD6iXdfjtqh"
      },
      "source": [
        ""
      ],
      "execution_count": null,
      "outputs": []
    }
  ]
}