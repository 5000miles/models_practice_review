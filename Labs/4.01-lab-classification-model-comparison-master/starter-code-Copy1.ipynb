{
 "cells": [
  {
   "cell_type": "markdown",
   "metadata": {},
   "source": [
    "## Week 4, Lab 1: Predicting Left-Handedness from Psychological Factors\n",
    "> Author: Matt Brems\n",
    "\n",
    "We can sketch out the data science process as follows:\n",
    "1. Define the problem.\n",
    "2. Obtain the data.\n",
    "3. Explore the data.\n",
    "4. Model the data.\n",
    "5. Evaluate the model.\n",
    "6. Answer the problem.\n",
    "\n",
    "We'll walk through a full data science problem in this lab. "
   ]
  },
  {
   "cell_type": "markdown",
   "metadata": {},
   "source": [
    "---\n",
    "## Step 1: Define The Problem.\n",
    "\n",
    "You're currently a data scientist working at a university. A professor of psychology is attempting to study the relationship between personalities and left-handedness. They have tasked you with gathering evidence so that they may publish.\n",
    "\n",
    "Specifically, the professor says \"I need to prove that left-handedness is caused by some personality trait. Go find that personality trait and the data to back it up.\"\n",
    "\n",
    "As a data scientist, you know that any real data science problem must be **specific** and **conclusively answerable**. For example:\n",
    "- Bad data science problem: \"What is the link between obesity and blood pressure?\"\n",
    "    - This is vague and is not conclusively answerable. That is, two people might look at the conclusion and one may say \"Sure, the problem has been answered!\" and the other may say \"The problem has not yet been answered.\"\n",
    "- Good data science problem: \"Does an association exist between obesity and blood pressure?\"\n",
    "    - This is more specific and is conclusively answerable. The problem specifically is asking for a \"Yes\" or \"No\" answer. Based on that, two independent people should both be able to say either \"Yes, the problem has been answered\" or \"No, the problem has not yet been answered.\"\n",
    "- Excellent data science problem: \"As obesity increases, how does blood pressure change?\"\n",
    "    - This is very specific and is conclusively answerable. The problem specifically seeks to understand the effect of one variable on the other.\n",
    "\n",
    "### 1. In the context of the left-handedness and personality example, what are three specific and conclusively answerable problems that you could answer using data science? \n",
    "\n",
    "> You might find it helpful to check out the codebook in the repo for some inspiration."
   ]
  },
  {
   "cell_type": "markdown",
   "metadata": {},
   "source": [
    "### Answer:\n",
    "\n",
    "* 1) Whether someone is more likely to be a left_handedness if he/she hates shopping more? (Q33)\n",
    "* 2) Whether someone is more likely to be a left_handedness if he/she likes dancing more? (Q40)\n",
    "* 3) Whether someone is more likely to be a left_handedness if he/she likes guns more? (Q9)\n"
   ]
  },
  {
   "cell_type": "markdown",
   "metadata": {},
   "source": [
    "---\n",
    "## Step 2: Obtain the data.\n",
    "\n",
    "### 2. Read in the file titled \"data.csv.\"\n",
    "> Hint: Despite being saved as a .csv file, you won't be able to simply `pd.read_csv()` this data!"
   ]
  },
  {
   "cell_type": "code",
   "execution_count": 97,
   "metadata": {},
   "outputs": [],
   "source": [
    "import pandas as pd\n",
    "import seaborn as sns\n",
    "from sklearn.model_selection import train_test_split"
   ]
  },
  {
   "cell_type": "code",
   "execution_count": 82,
   "metadata": {},
   "outputs": [],
   "source": [
    "df = pd.read_csv('data.csv',delimiter='\\t')"
   ]
  },
  {
   "cell_type": "markdown",
   "metadata": {},
   "source": [
    "### 3. Suppose that, instead of us giving you this data in a file, you were actually conducting a survey to gather this data yourself. From an ethics/privacy point of view, what are three things you might consider when attempting to gather this data?\n",
    "> When working with sensitive data like sexual orientation or gender identity, we need to consider how this data could be used if it fell into the wrong hands!"
   ]
  },
  {
   "cell_type": "markdown",
   "metadata": {},
   "source": [
    "Answer:\n",
    "* 1) How to store the data in order to make it safe and not including personal info like names.\n",
    "* 2) Make sure the samle is random\n",
    "* 3) Create a confortable environment for anyone who answear my survey so he/she can give the real answers."
   ]
  },
  {
   "cell_type": "markdown",
   "metadata": {},
   "source": [
    "---\n",
    "## Step 3: Explore the data.\n",
    "\n",
    "### 4. Conduct exploratory data analysis on this dataset.\n",
    "> If you haven't already, be sure to check out the codebook in the repo, as that will help in your EDA process."
   ]
  },
  {
   "cell_type": "code",
   "execution_count": 67,
   "metadata": {},
   "outputs": [
    {
     "data": {
      "text/html": [
       "<div>\n",
       "<style scoped>\n",
       "    .dataframe tbody tr th:only-of-type {\n",
       "        vertical-align: middle;\n",
       "    }\n",
       "\n",
       "    .dataframe tbody tr th {\n",
       "        vertical-align: top;\n",
       "    }\n",
       "\n",
       "    .dataframe thead th {\n",
       "        text-align: right;\n",
       "    }\n",
       "</style>\n",
       "<table border=\"1\" class=\"dataframe\">\n",
       "  <thead>\n",
       "    <tr style=\"text-align: right;\">\n",
       "      <th></th>\n",
       "      <th>count</th>\n",
       "      <th>mean</th>\n",
       "      <th>std</th>\n",
       "      <th>min</th>\n",
       "      <th>25%</th>\n",
       "      <th>50%</th>\n",
       "      <th>75%</th>\n",
       "      <th>max</th>\n",
       "    </tr>\n",
       "  </thead>\n",
       "  <tbody>\n",
       "    <tr>\n",
       "      <td>Q1</td>\n",
       "      <td>4184.0</td>\n",
       "      <td>1.962715</td>\n",
       "      <td>1.360291</td>\n",
       "      <td>0.0</td>\n",
       "      <td>1.0</td>\n",
       "      <td>1.0</td>\n",
       "      <td>3.00</td>\n",
       "      <td>5.0</td>\n",
       "    </tr>\n",
       "    <tr>\n",
       "      <td>Q2</td>\n",
       "      <td>4184.0</td>\n",
       "      <td>3.829589</td>\n",
       "      <td>1.551683</td>\n",
       "      <td>0.0</td>\n",
       "      <td>3.0</td>\n",
       "      <td>5.0</td>\n",
       "      <td>5.00</td>\n",
       "      <td>5.0</td>\n",
       "    </tr>\n",
       "    <tr>\n",
       "      <td>Q3</td>\n",
       "      <td>4184.0</td>\n",
       "      <td>2.846558</td>\n",
       "      <td>1.664804</td>\n",
       "      <td>0.0</td>\n",
       "      <td>1.0</td>\n",
       "      <td>3.0</td>\n",
       "      <td>5.00</td>\n",
       "      <td>5.0</td>\n",
       "    </tr>\n",
       "    <tr>\n",
       "      <td>Q4</td>\n",
       "      <td>4184.0</td>\n",
       "      <td>3.186902</td>\n",
       "      <td>1.476879</td>\n",
       "      <td>0.0</td>\n",
       "      <td>2.0</td>\n",
       "      <td>3.0</td>\n",
       "      <td>5.00</td>\n",
       "      <td>5.0</td>\n",
       "    </tr>\n",
       "    <tr>\n",
       "      <td>Q5</td>\n",
       "      <td>4184.0</td>\n",
       "      <td>2.865440</td>\n",
       "      <td>1.545798</td>\n",
       "      <td>0.0</td>\n",
       "      <td>1.0</td>\n",
       "      <td>3.0</td>\n",
       "      <td>4.00</td>\n",
       "      <td>5.0</td>\n",
       "    </tr>\n",
       "    <tr>\n",
       "      <td>Q6</td>\n",
       "      <td>4184.0</td>\n",
       "      <td>3.672084</td>\n",
       "      <td>1.342238</td>\n",
       "      <td>0.0</td>\n",
       "      <td>3.0</td>\n",
       "      <td>4.0</td>\n",
       "      <td>5.00</td>\n",
       "      <td>5.0</td>\n",
       "    </tr>\n",
       "    <tr>\n",
       "      <td>Q7</td>\n",
       "      <td>4184.0</td>\n",
       "      <td>3.216539</td>\n",
       "      <td>1.490733</td>\n",
       "      <td>0.0</td>\n",
       "      <td>2.0</td>\n",
       "      <td>3.0</td>\n",
       "      <td>5.00</td>\n",
       "      <td>5.0</td>\n",
       "    </tr>\n",
       "    <tr>\n",
       "      <td>Q8</td>\n",
       "      <td>4184.0</td>\n",
       "      <td>3.184512</td>\n",
       "      <td>1.387382</td>\n",
       "      <td>0.0</td>\n",
       "      <td>2.0</td>\n",
       "      <td>3.0</td>\n",
       "      <td>4.00</td>\n",
       "      <td>5.0</td>\n",
       "    </tr>\n",
       "    <tr>\n",
       "      <td>Q9</td>\n",
       "      <td>4184.0</td>\n",
       "      <td>2.761233</td>\n",
       "      <td>1.511805</td>\n",
       "      <td>0.0</td>\n",
       "      <td>1.0</td>\n",
       "      <td>3.0</td>\n",
       "      <td>4.00</td>\n",
       "      <td>5.0</td>\n",
       "    </tr>\n",
       "    <tr>\n",
       "      <td>Q10</td>\n",
       "      <td>4184.0</td>\n",
       "      <td>3.522945</td>\n",
       "      <td>1.242890</td>\n",
       "      <td>0.0</td>\n",
       "      <td>3.0</td>\n",
       "      <td>4.0</td>\n",
       "      <td>5.00</td>\n",
       "      <td>5.0</td>\n",
       "    </tr>\n",
       "    <tr>\n",
       "      <td>Q11</td>\n",
       "      <td>4184.0</td>\n",
       "      <td>2.748805</td>\n",
       "      <td>1.443078</td>\n",
       "      <td>0.0</td>\n",
       "      <td>1.0</td>\n",
       "      <td>3.0</td>\n",
       "      <td>4.00</td>\n",
       "      <td>5.0</td>\n",
       "    </tr>\n",
       "    <tr>\n",
       "      <td>Q12</td>\n",
       "      <td>4184.0</td>\n",
       "      <td>2.852772</td>\n",
       "      <td>1.556284</td>\n",
       "      <td>0.0</td>\n",
       "      <td>1.0</td>\n",
       "      <td>3.0</td>\n",
       "      <td>4.00</td>\n",
       "      <td>5.0</td>\n",
       "    </tr>\n",
       "    <tr>\n",
       "      <td>Q13</td>\n",
       "      <td>4184.0</td>\n",
       "      <td>2.657505</td>\n",
       "      <td>1.559575</td>\n",
       "      <td>0.0</td>\n",
       "      <td>1.0</td>\n",
       "      <td>3.0</td>\n",
       "      <td>4.00</td>\n",
       "      <td>5.0</td>\n",
       "    </tr>\n",
       "    <tr>\n",
       "      <td>Q14</td>\n",
       "      <td>4184.0</td>\n",
       "      <td>3.334130</td>\n",
       "      <td>1.522866</td>\n",
       "      <td>0.0</td>\n",
       "      <td>2.0</td>\n",
       "      <td>4.0</td>\n",
       "      <td>5.00</td>\n",
       "      <td>5.0</td>\n",
       "    </tr>\n",
       "    <tr>\n",
       "      <td>Q15</td>\n",
       "      <td>4184.0</td>\n",
       "      <td>3.168021</td>\n",
       "      <td>1.501683</td>\n",
       "      <td>0.0</td>\n",
       "      <td>2.0</td>\n",
       "      <td>3.0</td>\n",
       "      <td>5.00</td>\n",
       "      <td>5.0</td>\n",
       "    </tr>\n",
       "    <tr>\n",
       "      <td>Q16</td>\n",
       "      <td>4184.0</td>\n",
       "      <td>2.930210</td>\n",
       "      <td>1.575544</td>\n",
       "      <td>0.0</td>\n",
       "      <td>1.0</td>\n",
       "      <td>3.0</td>\n",
       "      <td>4.00</td>\n",
       "      <td>5.0</td>\n",
       "    </tr>\n",
       "    <tr>\n",
       "      <td>Q17</td>\n",
       "      <td>4184.0</td>\n",
       "      <td>2.564771</td>\n",
       "      <td>1.619010</td>\n",
       "      <td>0.0</td>\n",
       "      <td>1.0</td>\n",
       "      <td>2.0</td>\n",
       "      <td>4.00</td>\n",
       "      <td>5.0</td>\n",
       "    </tr>\n",
       "    <tr>\n",
       "      <td>Q18</td>\n",
       "      <td>4184.0</td>\n",
       "      <td>3.424952</td>\n",
       "      <td>1.413236</td>\n",
       "      <td>0.0</td>\n",
       "      <td>2.0</td>\n",
       "      <td>4.0</td>\n",
       "      <td>5.00</td>\n",
       "      <td>5.0</td>\n",
       "    </tr>\n",
       "    <tr>\n",
       "      <td>Q19</td>\n",
       "      <td>4184.0</td>\n",
       "      <td>2.928537</td>\n",
       "      <td>1.493122</td>\n",
       "      <td>0.0</td>\n",
       "      <td>2.0</td>\n",
       "      <td>3.0</td>\n",
       "      <td>4.00</td>\n",
       "      <td>5.0</td>\n",
       "    </tr>\n",
       "    <tr>\n",
       "      <td>Q20</td>\n",
       "      <td>4184.0</td>\n",
       "      <td>3.639818</td>\n",
       "      <td>1.414569</td>\n",
       "      <td>0.0</td>\n",
       "      <td>3.0</td>\n",
       "      <td>4.0</td>\n",
       "      <td>5.00</td>\n",
       "      <td>5.0</td>\n",
       "    </tr>\n",
       "    <tr>\n",
       "      <td>Q21</td>\n",
       "      <td>4184.0</td>\n",
       "      <td>2.867591</td>\n",
       "      <td>1.360858</td>\n",
       "      <td>0.0</td>\n",
       "      <td>2.0</td>\n",
       "      <td>3.0</td>\n",
       "      <td>4.00</td>\n",
       "      <td>5.0</td>\n",
       "    </tr>\n",
       "    <tr>\n",
       "      <td>Q22</td>\n",
       "      <td>4184.0</td>\n",
       "      <td>3.595124</td>\n",
       "      <td>1.354475</td>\n",
       "      <td>0.0</td>\n",
       "      <td>3.0</td>\n",
       "      <td>4.0</td>\n",
       "      <td>5.00</td>\n",
       "      <td>5.0</td>\n",
       "    </tr>\n",
       "    <tr>\n",
       "      <td>Q23</td>\n",
       "      <td>4184.0</td>\n",
       "      <td>3.861138</td>\n",
       "      <td>1.291425</td>\n",
       "      <td>0.0</td>\n",
       "      <td>3.0</td>\n",
       "      <td>4.0</td>\n",
       "      <td>5.00</td>\n",
       "      <td>5.0</td>\n",
       "    </tr>\n",
       "    <tr>\n",
       "      <td>Q24</td>\n",
       "      <td>4184.0</td>\n",
       "      <td>3.337237</td>\n",
       "      <td>1.426095</td>\n",
       "      <td>0.0</td>\n",
       "      <td>2.0</td>\n",
       "      <td>3.0</td>\n",
       "      <td>5.00</td>\n",
       "      <td>5.0</td>\n",
       "    </tr>\n",
       "    <tr>\n",
       "      <td>Q25</td>\n",
       "      <td>4184.0</td>\n",
       "      <td>1.999761</td>\n",
       "      <td>1.290747</td>\n",
       "      <td>0.0</td>\n",
       "      <td>1.0</td>\n",
       "      <td>1.0</td>\n",
       "      <td>3.00</td>\n",
       "      <td>5.0</td>\n",
       "    </tr>\n",
       "    <tr>\n",
       "      <td>Q26</td>\n",
       "      <td>4184.0</td>\n",
       "      <td>3.001434</td>\n",
       "      <td>1.480610</td>\n",
       "      <td>0.0</td>\n",
       "      <td>2.0</td>\n",
       "      <td>3.0</td>\n",
       "      <td>4.00</td>\n",
       "      <td>5.0</td>\n",
       "    </tr>\n",
       "    <tr>\n",
       "      <td>Q27</td>\n",
       "      <td>4184.0</td>\n",
       "      <td>2.730641</td>\n",
       "      <td>1.485883</td>\n",
       "      <td>0.0</td>\n",
       "      <td>1.0</td>\n",
       "      <td>3.0</td>\n",
       "      <td>4.00</td>\n",
       "      <td>5.0</td>\n",
       "    </tr>\n",
       "    <tr>\n",
       "      <td>Q28</td>\n",
       "      <td>4184.0</td>\n",
       "      <td>2.624044</td>\n",
       "      <td>1.481709</td>\n",
       "      <td>0.0</td>\n",
       "      <td>1.0</td>\n",
       "      <td>3.0</td>\n",
       "      <td>4.00</td>\n",
       "      <td>5.0</td>\n",
       "    </tr>\n",
       "    <tr>\n",
       "      <td>Q29</td>\n",
       "      <td>4184.0</td>\n",
       "      <td>2.543738</td>\n",
       "      <td>1.611428</td>\n",
       "      <td>0.0</td>\n",
       "      <td>1.0</td>\n",
       "      <td>2.0</td>\n",
       "      <td>4.00</td>\n",
       "      <td>5.0</td>\n",
       "    </tr>\n",
       "    <tr>\n",
       "      <td>Q30</td>\n",
       "      <td>4184.0</td>\n",
       "      <td>2.894359</td>\n",
       "      <td>1.477968</td>\n",
       "      <td>0.0</td>\n",
       "      <td>1.0</td>\n",
       "      <td>3.0</td>\n",
       "      <td>4.00</td>\n",
       "      <td>5.0</td>\n",
       "    </tr>\n",
       "    <tr>\n",
       "      <td>Q31</td>\n",
       "      <td>4184.0</td>\n",
       "      <td>3.002151</td>\n",
       "      <td>1.420032</td>\n",
       "      <td>0.0</td>\n",
       "      <td>2.0</td>\n",
       "      <td>3.0</td>\n",
       "      <td>4.00</td>\n",
       "      <td>5.0</td>\n",
       "    </tr>\n",
       "    <tr>\n",
       "      <td>Q32</td>\n",
       "      <td>4184.0</td>\n",
       "      <td>2.869503</td>\n",
       "      <td>1.659141</td>\n",
       "      <td>0.0</td>\n",
       "      <td>1.0</td>\n",
       "      <td>3.0</td>\n",
       "      <td>5.00</td>\n",
       "      <td>5.0</td>\n",
       "    </tr>\n",
       "    <tr>\n",
       "      <td>Q33</td>\n",
       "      <td>4184.0</td>\n",
       "      <td>2.741874</td>\n",
       "      <td>1.405670</td>\n",
       "      <td>0.0</td>\n",
       "      <td>1.0</td>\n",
       "      <td>3.0</td>\n",
       "      <td>4.00</td>\n",
       "      <td>5.0</td>\n",
       "    </tr>\n",
       "    <tr>\n",
       "      <td>Q34</td>\n",
       "      <td>4184.0</td>\n",
       "      <td>3.022228</td>\n",
       "      <td>1.562694</td>\n",
       "      <td>0.0</td>\n",
       "      <td>1.0</td>\n",
       "      <td>3.0</td>\n",
       "      <td>4.00</td>\n",
       "      <td>5.0</td>\n",
       "    </tr>\n",
       "    <tr>\n",
       "      <td>Q35</td>\n",
       "      <td>4184.0</td>\n",
       "      <td>3.074092</td>\n",
       "      <td>1.546400</td>\n",
       "      <td>0.0</td>\n",
       "      <td>1.0</td>\n",
       "      <td>3.0</td>\n",
       "      <td>5.00</td>\n",
       "      <td>5.0</td>\n",
       "    </tr>\n",
       "    <tr>\n",
       "      <td>Q36</td>\n",
       "      <td>4184.0</td>\n",
       "      <td>2.610660</td>\n",
       "      <td>1.409707</td>\n",
       "      <td>0.0</td>\n",
       "      <td>1.0</td>\n",
       "      <td>2.0</td>\n",
       "      <td>4.00</td>\n",
       "      <td>5.0</td>\n",
       "    </tr>\n",
       "    <tr>\n",
       "      <td>Q37</td>\n",
       "      <td>4184.0</td>\n",
       "      <td>3.465344</td>\n",
       "      <td>1.521460</td>\n",
       "      <td>0.0</td>\n",
       "      <td>2.0</td>\n",
       "      <td>4.0</td>\n",
       "      <td>5.00</td>\n",
       "      <td>5.0</td>\n",
       "    </tr>\n",
       "    <tr>\n",
       "      <td>Q38</td>\n",
       "      <td>4184.0</td>\n",
       "      <td>2.798757</td>\n",
       "      <td>1.413584</td>\n",
       "      <td>0.0</td>\n",
       "      <td>1.0</td>\n",
       "      <td>3.0</td>\n",
       "      <td>4.00</td>\n",
       "      <td>5.0</td>\n",
       "    </tr>\n",
       "    <tr>\n",
       "      <td>Q39</td>\n",
       "      <td>4184.0</td>\n",
       "      <td>2.569312</td>\n",
       "      <td>1.621772</td>\n",
       "      <td>0.0</td>\n",
       "      <td>1.0</td>\n",
       "      <td>2.0</td>\n",
       "      <td>4.00</td>\n",
       "      <td>5.0</td>\n",
       "    </tr>\n",
       "    <tr>\n",
       "      <td>Q40</td>\n",
       "      <td>4184.0</td>\n",
       "      <td>2.984226</td>\n",
       "      <td>1.483752</td>\n",
       "      <td>0.0</td>\n",
       "      <td>2.0</td>\n",
       "      <td>3.0</td>\n",
       "      <td>4.00</td>\n",
       "      <td>5.0</td>\n",
       "    </tr>\n",
       "    <tr>\n",
       "      <td>Q41</td>\n",
       "      <td>4184.0</td>\n",
       "      <td>3.385277</td>\n",
       "      <td>1.423055</td>\n",
       "      <td>0.0</td>\n",
       "      <td>2.0</td>\n",
       "      <td>4.0</td>\n",
       "      <td>5.00</td>\n",
       "      <td>5.0</td>\n",
       "    </tr>\n",
       "    <tr>\n",
       "      <td>Q42</td>\n",
       "      <td>4184.0</td>\n",
       "      <td>2.704828</td>\n",
       "      <td>1.544345</td>\n",
       "      <td>0.0</td>\n",
       "      <td>1.0</td>\n",
       "      <td>3.0</td>\n",
       "      <td>4.00</td>\n",
       "      <td>5.0</td>\n",
       "    </tr>\n",
       "    <tr>\n",
       "      <td>Q43</td>\n",
       "      <td>4184.0</td>\n",
       "      <td>2.676386</td>\n",
       "      <td>1.523097</td>\n",
       "      <td>0.0</td>\n",
       "      <td>1.0</td>\n",
       "      <td>3.0</td>\n",
       "      <td>4.00</td>\n",
       "      <td>5.0</td>\n",
       "    </tr>\n",
       "    <tr>\n",
       "      <td>Q44</td>\n",
       "      <td>4184.0</td>\n",
       "      <td>2.736616</td>\n",
       "      <td>1.471845</td>\n",
       "      <td>0.0</td>\n",
       "      <td>1.0</td>\n",
       "      <td>3.0</td>\n",
       "      <td>4.00</td>\n",
       "      <td>5.0</td>\n",
       "    </tr>\n",
       "    <tr>\n",
       "      <td>introelapse</td>\n",
       "      <td>4184.0</td>\n",
       "      <td>347.808556</td>\n",
       "      <td>5908.901681</td>\n",
       "      <td>1.0</td>\n",
       "      <td>6.0</td>\n",
       "      <td>12.0</td>\n",
       "      <td>35.00</td>\n",
       "      <td>252063.0</td>\n",
       "    </tr>\n",
       "    <tr>\n",
       "      <td>testelapse</td>\n",
       "      <td>4184.0</td>\n",
       "      <td>479.994503</td>\n",
       "      <td>3142.178542</td>\n",
       "      <td>7.0</td>\n",
       "      <td>186.0</td>\n",
       "      <td>242.0</td>\n",
       "      <td>324.25</td>\n",
       "      <td>119834.0</td>\n",
       "    </tr>\n",
       "    <tr>\n",
       "      <td>fromgoogle</td>\n",
       "      <td>4184.0</td>\n",
       "      <td>1.576243</td>\n",
       "      <td>0.494212</td>\n",
       "      <td>1.0</td>\n",
       "      <td>1.0</td>\n",
       "      <td>2.0</td>\n",
       "      <td>2.00</td>\n",
       "      <td>2.0</td>\n",
       "    </tr>\n",
       "    <tr>\n",
       "      <td>engnat</td>\n",
       "      <td>4184.0</td>\n",
       "      <td>1.239962</td>\n",
       "      <td>0.440882</td>\n",
       "      <td>0.0</td>\n",
       "      <td>1.0</td>\n",
       "      <td>1.0</td>\n",
       "      <td>1.00</td>\n",
       "      <td>2.0</td>\n",
       "    </tr>\n",
       "    <tr>\n",
       "      <td>age</td>\n",
       "      <td>4184.0</td>\n",
       "      <td>30.370698</td>\n",
       "      <td>367.201726</td>\n",
       "      <td>13.0</td>\n",
       "      <td>18.0</td>\n",
       "      <td>21.0</td>\n",
       "      <td>27.00</td>\n",
       "      <td>23763.0</td>\n",
       "    </tr>\n",
       "    <tr>\n",
       "      <td>education</td>\n",
       "      <td>4184.0</td>\n",
       "      <td>2.317878</td>\n",
       "      <td>0.874264</td>\n",
       "      <td>0.0</td>\n",
       "      <td>2.0</td>\n",
       "      <td>2.0</td>\n",
       "      <td>3.00</td>\n",
       "      <td>4.0</td>\n",
       "    </tr>\n",
       "    <tr>\n",
       "      <td>gender</td>\n",
       "      <td>4184.0</td>\n",
       "      <td>1.654398</td>\n",
       "      <td>0.640915</td>\n",
       "      <td>0.0</td>\n",
       "      <td>1.0</td>\n",
       "      <td>2.0</td>\n",
       "      <td>2.00</td>\n",
       "      <td>3.0</td>\n",
       "    </tr>\n",
       "    <tr>\n",
       "      <td>orientation</td>\n",
       "      <td>4184.0</td>\n",
       "      <td>1.833413</td>\n",
       "      <td>1.303454</td>\n",
       "      <td>0.0</td>\n",
       "      <td>1.0</td>\n",
       "      <td>1.0</td>\n",
       "      <td>2.00</td>\n",
       "      <td>5.0</td>\n",
       "    </tr>\n",
       "    <tr>\n",
       "      <td>race</td>\n",
       "      <td>4184.0</td>\n",
       "      <td>5.013623</td>\n",
       "      <td>1.970996</td>\n",
       "      <td>0.0</td>\n",
       "      <td>5.0</td>\n",
       "      <td>6.0</td>\n",
       "      <td>6.00</td>\n",
       "      <td>7.0</td>\n",
       "    </tr>\n",
       "    <tr>\n",
       "      <td>religion</td>\n",
       "      <td>4184.0</td>\n",
       "      <td>2.394359</td>\n",
       "      <td>2.184164</td>\n",
       "      <td>0.0</td>\n",
       "      <td>1.0</td>\n",
       "      <td>2.0</td>\n",
       "      <td>2.00</td>\n",
       "      <td>7.0</td>\n",
       "    </tr>\n",
       "    <tr>\n",
       "      <td>hand</td>\n",
       "      <td>4184.0</td>\n",
       "      <td>1.190966</td>\n",
       "      <td>0.495357</td>\n",
       "      <td>0.0</td>\n",
       "      <td>1.0</td>\n",
       "      <td>1.0</td>\n",
       "      <td>1.00</td>\n",
       "      <td>3.0</td>\n",
       "    </tr>\n",
       "  </tbody>\n",
       "</table>\n",
       "</div>"
      ],
      "text/plain": [
       "              count        mean          std   min    25%    50%     75%  \\\n",
       "Q1           4184.0    1.962715     1.360291   0.0    1.0    1.0    3.00   \n",
       "Q2           4184.0    3.829589     1.551683   0.0    3.0    5.0    5.00   \n",
       "Q3           4184.0    2.846558     1.664804   0.0    1.0    3.0    5.00   \n",
       "Q4           4184.0    3.186902     1.476879   0.0    2.0    3.0    5.00   \n",
       "Q5           4184.0    2.865440     1.545798   0.0    1.0    3.0    4.00   \n",
       "Q6           4184.0    3.672084     1.342238   0.0    3.0    4.0    5.00   \n",
       "Q7           4184.0    3.216539     1.490733   0.0    2.0    3.0    5.00   \n",
       "Q8           4184.0    3.184512     1.387382   0.0    2.0    3.0    4.00   \n",
       "Q9           4184.0    2.761233     1.511805   0.0    1.0    3.0    4.00   \n",
       "Q10          4184.0    3.522945     1.242890   0.0    3.0    4.0    5.00   \n",
       "Q11          4184.0    2.748805     1.443078   0.0    1.0    3.0    4.00   \n",
       "Q12          4184.0    2.852772     1.556284   0.0    1.0    3.0    4.00   \n",
       "Q13          4184.0    2.657505     1.559575   0.0    1.0    3.0    4.00   \n",
       "Q14          4184.0    3.334130     1.522866   0.0    2.0    4.0    5.00   \n",
       "Q15          4184.0    3.168021     1.501683   0.0    2.0    3.0    5.00   \n",
       "Q16          4184.0    2.930210     1.575544   0.0    1.0    3.0    4.00   \n",
       "Q17          4184.0    2.564771     1.619010   0.0    1.0    2.0    4.00   \n",
       "Q18          4184.0    3.424952     1.413236   0.0    2.0    4.0    5.00   \n",
       "Q19          4184.0    2.928537     1.493122   0.0    2.0    3.0    4.00   \n",
       "Q20          4184.0    3.639818     1.414569   0.0    3.0    4.0    5.00   \n",
       "Q21          4184.0    2.867591     1.360858   0.0    2.0    3.0    4.00   \n",
       "Q22          4184.0    3.595124     1.354475   0.0    3.0    4.0    5.00   \n",
       "Q23          4184.0    3.861138     1.291425   0.0    3.0    4.0    5.00   \n",
       "Q24          4184.0    3.337237     1.426095   0.0    2.0    3.0    5.00   \n",
       "Q25          4184.0    1.999761     1.290747   0.0    1.0    1.0    3.00   \n",
       "Q26          4184.0    3.001434     1.480610   0.0    2.0    3.0    4.00   \n",
       "Q27          4184.0    2.730641     1.485883   0.0    1.0    3.0    4.00   \n",
       "Q28          4184.0    2.624044     1.481709   0.0    1.0    3.0    4.00   \n",
       "Q29          4184.0    2.543738     1.611428   0.0    1.0    2.0    4.00   \n",
       "Q30          4184.0    2.894359     1.477968   0.0    1.0    3.0    4.00   \n",
       "Q31          4184.0    3.002151     1.420032   0.0    2.0    3.0    4.00   \n",
       "Q32          4184.0    2.869503     1.659141   0.0    1.0    3.0    5.00   \n",
       "Q33          4184.0    2.741874     1.405670   0.0    1.0    3.0    4.00   \n",
       "Q34          4184.0    3.022228     1.562694   0.0    1.0    3.0    4.00   \n",
       "Q35          4184.0    3.074092     1.546400   0.0    1.0    3.0    5.00   \n",
       "Q36          4184.0    2.610660     1.409707   0.0    1.0    2.0    4.00   \n",
       "Q37          4184.0    3.465344     1.521460   0.0    2.0    4.0    5.00   \n",
       "Q38          4184.0    2.798757     1.413584   0.0    1.0    3.0    4.00   \n",
       "Q39          4184.0    2.569312     1.621772   0.0    1.0    2.0    4.00   \n",
       "Q40          4184.0    2.984226     1.483752   0.0    2.0    3.0    4.00   \n",
       "Q41          4184.0    3.385277     1.423055   0.0    2.0    4.0    5.00   \n",
       "Q42          4184.0    2.704828     1.544345   0.0    1.0    3.0    4.00   \n",
       "Q43          4184.0    2.676386     1.523097   0.0    1.0    3.0    4.00   \n",
       "Q44          4184.0    2.736616     1.471845   0.0    1.0    3.0    4.00   \n",
       "introelapse  4184.0  347.808556  5908.901681   1.0    6.0   12.0   35.00   \n",
       "testelapse   4184.0  479.994503  3142.178542   7.0  186.0  242.0  324.25   \n",
       "fromgoogle   4184.0    1.576243     0.494212   1.0    1.0    2.0    2.00   \n",
       "engnat       4184.0    1.239962     0.440882   0.0    1.0    1.0    1.00   \n",
       "age          4184.0   30.370698   367.201726  13.0   18.0   21.0   27.00   \n",
       "education    4184.0    2.317878     0.874264   0.0    2.0    2.0    3.00   \n",
       "gender       4184.0    1.654398     0.640915   0.0    1.0    2.0    2.00   \n",
       "orientation  4184.0    1.833413     1.303454   0.0    1.0    1.0    2.00   \n",
       "race         4184.0    5.013623     1.970996   0.0    5.0    6.0    6.00   \n",
       "religion     4184.0    2.394359     2.184164   0.0    1.0    2.0    2.00   \n",
       "hand         4184.0    1.190966     0.495357   0.0    1.0    1.0    1.00   \n",
       "\n",
       "                  max  \n",
       "Q1                5.0  \n",
       "Q2                5.0  \n",
       "Q3                5.0  \n",
       "Q4                5.0  \n",
       "Q5                5.0  \n",
       "Q6                5.0  \n",
       "Q7                5.0  \n",
       "Q8                5.0  \n",
       "Q9                5.0  \n",
       "Q10               5.0  \n",
       "Q11               5.0  \n",
       "Q12               5.0  \n",
       "Q13               5.0  \n",
       "Q14               5.0  \n",
       "Q15               5.0  \n",
       "Q16               5.0  \n",
       "Q17               5.0  \n",
       "Q18               5.0  \n",
       "Q19               5.0  \n",
       "Q20               5.0  \n",
       "Q21               5.0  \n",
       "Q22               5.0  \n",
       "Q23               5.0  \n",
       "Q24               5.0  \n",
       "Q25               5.0  \n",
       "Q26               5.0  \n",
       "Q27               5.0  \n",
       "Q28               5.0  \n",
       "Q29               5.0  \n",
       "Q30               5.0  \n",
       "Q31               5.0  \n",
       "Q32               5.0  \n",
       "Q33               5.0  \n",
       "Q34               5.0  \n",
       "Q35               5.0  \n",
       "Q36               5.0  \n",
       "Q37               5.0  \n",
       "Q38               5.0  \n",
       "Q39               5.0  \n",
       "Q40               5.0  \n",
       "Q41               5.0  \n",
       "Q42               5.0  \n",
       "Q43               5.0  \n",
       "Q44               5.0  \n",
       "introelapse  252063.0  \n",
       "testelapse   119834.0  \n",
       "fromgoogle        2.0  \n",
       "engnat            2.0  \n",
       "age           23763.0  \n",
       "education         4.0  \n",
       "gender            3.0  \n",
       "orientation       5.0  \n",
       "race              7.0  \n",
       "religion          7.0  \n",
       "hand              3.0  "
      ]
     },
     "execution_count": 67,
     "metadata": {},
     "output_type": "execute_result"
    }
   ],
   "source": [
    "df.describe().T\n",
    "\n",
    "# There are etrem values in age,introelapse and testelapse. However, no missing values."
   ]
  },
  {
   "cell_type": "code",
   "execution_count": 83,
   "metadata": {},
   "outputs": [],
   "source": [
    "# remove country column and fromgoogle\n",
    "df.drop(['country','fromgoogle'],axis=1,inplace=True)"
   ]
  },
  {
   "cell_type": "code",
   "execution_count": 84,
   "metadata": {},
   "outputs": [
    {
     "data": {
      "text/plain": [
       "count      4184.000000\n",
       "mean        347.808556\n",
       "std        5908.901681\n",
       "min           1.000000\n",
       "25%           6.000000\n",
       "50%          12.000000\n",
       "75%          35.000000\n",
       "max      252063.000000\n",
       "Name: introelapse, dtype: float64"
      ]
     },
     "execution_count": 84,
     "metadata": {},
     "output_type": "execute_result"
    }
   ],
   "source": [
    "df['introelapse'].describe()"
   ]
  },
  {
   "cell_type": "code",
   "execution_count": 85,
   "metadata": {},
   "outputs": [
    {
     "data": {
      "text/plain": [
       "count      4184.000000\n",
       "mean        479.994503\n",
       "std        3142.178542\n",
       "min           7.000000\n",
       "25%         186.000000\n",
       "50%         242.000000\n",
       "75%         324.250000\n",
       "max      119834.000000\n",
       "Name: testelapse, dtype: float64"
      ]
     },
     "execution_count": 85,
     "metadata": {},
     "output_type": "execute_result"
    }
   ],
   "source": [
    "df['testelapse'].describe()"
   ]
  },
  {
   "cell_type": "code",
   "execution_count": 86,
   "metadata": {},
   "outputs": [],
   "source": [
    "# find the outliers of introelapse and reove it from the obvervations\n",
    "introelapse_iqr = 35 - 6\n",
    "introelapse_outliers = 35 + 1.5 * introelapse_iqr\n",
    "df = df[df['introelapse'] <= introelapse_outliers]"
   ]
  },
  {
   "cell_type": "code",
   "execution_count": 87,
   "metadata": {},
   "outputs": [],
   "source": [
    "# find the outliers of testelapse and reove it from the obvervations, this time we also need to remove ouliers which have extremly low value,\n",
    "# because if someone answers the question extremly quick, we would consider he didn't pay too much attention on it.\n",
    "testelapse_iqr = 319 - 185\n",
    "\n",
    "testelapse_outliers_upper = 319 + 1.5 * testelapse_iqr\n",
    "testelapse_outliers_bottom = 185 - 1.5 * testelapse_iqr\n",
    "df = df[(df['testelapse'] <= testelapse_outliers_upper) & (df['testelapse'] >= testelapse_outliers_bottom)]"
   ]
  },
  {
   "cell_type": "code",
   "execution_count": 88,
   "metadata": {},
   "outputs": [],
   "source": [
    "# remove observations that age is outliers\n",
    "df = df[df['age'] < 200]"
   ]
  },
  {
   "cell_type": "code",
   "execution_count": 89,
   "metadata": {},
   "outputs": [],
   "source": [
    "X = df.drop('hand',axis=1)\n",
    "y = df['hand'].map(lambda x:1 if x ==2 else 0)"
   ]
  },
  {
   "cell_type": "code",
   "execution_count": 90,
   "metadata": {},
   "outputs": [],
   "source": [
    "from sklearn.preprocessing import StandardScaler\n",
    "sc = StandardScaler()\n",
    "X = sc.fit_transform(X)"
   ]
  },
  {
   "cell_type": "code",
   "execution_count": 98,
   "metadata": {},
   "outputs": [],
   "source": [
    "X_train,X_test,y_train,y_test = train_test_split(X,y,random_state=42)"
   ]
  },
  {
   "cell_type": "markdown",
   "metadata": {},
   "source": [
    "---\n",
    "## Step 4: Model the data.\n",
    "\n",
    "### 5. Suppose I wanted to use Q1 - Q44 to predict whether or not the person is left-handed. Would this be a classification or regression problem? Why?"
   ]
  },
  {
   "cell_type": "markdown",
   "metadata": {},
   "source": [
    "Answer: Classification"
   ]
  },
  {
   "cell_type": "markdown",
   "metadata": {},
   "source": [
    "### 6. We want to use $k$-nearest neighbors to predict whether or not a person is left-handed based on their responses to Q1 - Q44. Before doing that, however, you remember that it is often a good idea to standardize your variables. In general, why would we standardize our variables? Give an example of when we would standardize our variables."
   ]
  },
  {
   "cell_type": "markdown",
   "metadata": {},
   "source": [
    "Answer: Standarlize data will make the magnitudes of each predictors in a reasonable range. For instance, if we want to use age and income to predict someone's education level. Age must be in the range of [0,200] (hopefully) but someone's income could be billions of dolloar. It would be hard to estimate the coefs.(Inmagine the extremly long contours)"
   ]
  },
  {
   "cell_type": "markdown",
   "metadata": {},
   "source": [
    "### 7. Give an example of when we might not standardize our variables."
   ]
  },
  {
   "cell_type": "markdown",
   "metadata": {},
   "source": [
    "Answer: The answers for Q1- Q44 is a good example since every answer is in the range of 0 to 5 so there is no magnititude problem."
   ]
  },
  {
   "cell_type": "markdown",
   "metadata": {},
   "source": [
    "### 8. Based on your answers to 6 and 7, do you think we should standardize our predictor variables in this case? Why or why not?"
   ]
  },
  {
   "cell_type": "markdown",
   "metadata": {},
   "source": [
    "Answer: We need to standarlize some of the predictors, such as introelapse,testelapse."
   ]
  },
  {
   "cell_type": "markdown",
   "metadata": {},
   "source": [
    "### 9. We want to use $k$-nearest neighbors to predict whether or not a person is left-handed. What munging/cleaning do we need to do to our $y$ variable in order to explicitly answer this question? Do it."
   ]
  },
  {
   "cell_type": "markdown",
   "metadata": {},
   "source": [
    "Answer: Encode the y(hand) into binary: 1 = left-handed, 0 = not left-handed"
   ]
  },
  {
   "cell_type": "markdown",
   "metadata": {},
   "source": [
    "### 10. The professor for whom you work suggests that you set $k = 4$. In this specific case, why might this be a bad idea?"
   ]
  },
  {
   "cell_type": "markdown",
   "metadata": {},
   "source": [
    "Answer: There are 4184 observations, choose the k = sqrt(4000) is a good point to start."
   ]
  },
  {
   "cell_type": "markdown",
   "metadata": {},
   "source": [
    "### 11. Let's *(finally)* use $k$-nearest neighbors to predict whether or not a person is left-handed!\n",
    "\n",
    "> Be sure to create a train/test split with your data!\n",
    "\n",
    "> Create four separate models, one with $k = 3$, one with $k = 5$, one with $k = 15$, and one with $k = 25$.\n",
    "\n",
    "> Instantiate and fit your models."
   ]
  },
  {
   "cell_type": "code",
   "execution_count": 76,
   "metadata": {},
   "outputs": [],
   "source": [
    "from sklearn.neighbors import KNeighborsClassifier"
   ]
  },
  {
   "cell_type": "code",
   "execution_count": 78,
   "metadata": {},
   "outputs": [],
   "source": [
    "knn_3 = KNeighborsClassifier(n_neighbors=3)\n",
    "knn_5 = KNeighborsClassifier(n_neighbors=5)\n",
    "knn_15 = KNeighborsClassifier(n_neighbors=15)\n",
    "knn_25 = KNeighborsClassifier(n_neighbors=25)"
   ]
  },
  {
   "cell_type": "code",
   "execution_count": 99,
   "metadata": {},
   "outputs": [
    {
     "data": {
      "text/plain": [
       "KNeighborsClassifier(n_neighbors=25)"
      ]
     },
     "execution_count": 99,
     "metadata": {},
     "output_type": "execute_result"
    }
   ],
   "source": [
    "knn_3.fit(X_train,y_train)\n",
    "knn_5.fit(X_train,y_train)\n",
    "knn_15.fit(X_train,y_train)\n",
    "knn_25.fit(X_train,y_train)"
   ]
  },
  {
   "cell_type": "markdown",
   "metadata": {},
   "source": [
    "Being good data scientists, we know that we might not run just one type of model. We might run many different models and see which is best.\n",
    "\n",
    "### 12. We want to use logistic regression to predict whether or not a person is left-handed. Before we do that, let's check the [documentation for logistic regression in sklearn](http://scikit-learn.org/stable/modules/generated/sklearn.linear_model.LogisticRegression.html). Is there default regularization? If so, what is it? If not, how do you know?"
   ]
  },
  {
   "cell_type": "markdown",
   "metadata": {},
   "source": [
    "Answer: Yes, there is a defualt regularization. The default regularization is L2: Ridge. I know because in the documentation, the first parameter of LogisticRegression is penalty which is set to l2 as default value."
   ]
  },
  {
   "cell_type": "markdown",
   "metadata": {},
   "source": [
    "### 13. We want to use logistic regression to predict whether or not a person is left-handed. Before we do that, should we standardize our features?"
   ]
  },
  {
   "cell_type": "markdown",
   "metadata": {},
   "source": [
    "Answer:Yes, we do need to standarlize our features."
   ]
  },
  {
   "cell_type": "markdown",
   "metadata": {},
   "source": [
    "### 14. Let's use logistic regression to predict whether or not the person is left-handed.\n",
    "\n",
    "\n",
    "> Be sure to use the same train/test split with your data as with your $k$-NN model above!\n",
    "\n",
    "> Create four separate models, one with LASSO and $\\alpha = 1$, one with LASSO and $\\alpha = 10$, one with Ridge and $\\alpha = 1$, and one with Ridge and $\\alpha = 10$. *(Hint: Be careful with how you specify $\\alpha$ in your model!)*\n",
    "\n",
    "> Instantiate and fit your models."
   ]
  },
  {
   "cell_type": "code",
   "execution_count": 92,
   "metadata": {},
   "outputs": [],
   "source": [
    "from sklearn.linear_model import LogisticRegression"
   ]
  },
  {
   "cell_type": "code",
   "execution_count": 95,
   "metadata": {},
   "outputs": [],
   "source": [
    "logreg_1 = LogisticRegression(penalty='l1',C = 1,solver='liblinear')\n",
    "logreg_2 = LogisticRegression(penalty='l1',C = 10,solver='liblinear')\n",
    "logreg_3 = LogisticRegression(penalty='l2',C = 1)\n",
    "logreg_4 = LogisticRegression(penalty='l2',C = 10)"
   ]
  },
  {
   "cell_type": "code",
   "execution_count": 100,
   "metadata": {},
   "outputs": [
    {
     "data": {
      "text/plain": [
       "LogisticRegression(C=10)"
      ]
     },
     "execution_count": 100,
     "metadata": {},
     "output_type": "execute_result"
    }
   ],
   "source": [
    "logreg_1.fit(X_train,y_train)\n",
    "logreg_2.fit(X_train,y_train)\n",
    "logreg_3.fit(X_train,y_train)\n",
    "logreg_4.fit(X_train,y_train)"
   ]
  },
  {
   "cell_type": "markdown",
   "metadata": {},
   "source": [
    "---\n",
    "## Step 5: Evaluate the model(s).\n",
    "\n",
    "### 15. Before calculating any score on your data, take a step back. Think about your $X$ variable and your $Y$ variable. Do you think your $X$ variables will do a good job of predicting your $Y$ variable? Why or why not? What impact do you think this will have on your scores?"
   ]
  },
  {
   "cell_type": "markdown",
   "metadata": {},
   "source": [
    "Answer: I don't think it will do a good job since I feel that X's are not correlated with Y"
   ]
  },
  {
   "cell_type": "markdown",
   "metadata": {},
   "source": [
    "### 16. Using accuracy as your metric, evaluate all eight of your models on both the training and testing sets. Put your scores below. (If you want to be fancy and generate a table in Markdown, there's a [Markdown table generator site linked here](https://www.tablesgenerator.com/markdown_tables#).)\n",
    "- Note: Your answers here might look a little weird. You didn't do anything wrong; that's to be expected!"
   ]
  },
  {
   "cell_type": "code",
   "execution_count": 102,
   "metadata": {},
   "outputs": [
    {
     "name": "stdout",
     "output_type": "stream",
     "text": [
      "0.9102105681366707 0.8947159316646802 0.8883591577274533 0.8883591577274533\n",
      "0.8883591577274533 0.8883591577274533 0.8883591577274533 0.8883591577274533\n"
     ]
    }
   ],
   "source": [
    "print(knn_3.score(X_train,y_train),knn_5.score(X_train,y_train),knn_15.score(X_train,y_train),knn_25.score(X_train,y_train))\n",
    "\n",
    "print(logreg_1.score(X_train,y_train), logreg_2.score(X_train,y_train), logreg_3.score(X_train,y_train), logreg_4.score(X_train,y_train))"
   ]
  },
  {
   "cell_type": "code",
   "execution_count": 101,
   "metadata": {},
   "outputs": [
    {
     "name": "stdout",
     "output_type": "stream",
     "text": [
      "0.8569725864123957 0.8688915375446961 0.8808104886769964 0.8808104886769964\n",
      "0.8808104886769964 0.8808104886769964 0.8808104886769964 0.8808104886769964\n"
     ]
    }
   ],
   "source": [
    "print(knn_3.score(X_test,y_test),knn_5.score(X_test,y_test),knn_15.score(X_test,y_test),knn_25.score(X_test,y_test))\n",
    "\n",
    "print(logreg_1.score(X_test,y_test), logreg_2.score(X_test,y_test), logreg_3.score(X_test,y_test), logreg_4.score(X_test,y_test))"
   ]
  },
  {
   "cell_type": "markdown",
   "metadata": {},
   "source": [
    "### 17. In which of your $k$-NN models is there evidence of overfitting? How do you know?"
   ]
  },
  {
   "cell_type": "markdown",
   "metadata": {},
   "source": [
    "Answer: When k=3 or k=5, the models are overfitting, because train test score are higher than test set score."
   ]
  },
  {
   "cell_type": "markdown",
   "metadata": {},
   "source": [
    "### 18. Broadly speaking, how does the value of $k$ in $k$-NN affect the bias-variance tradeoff? (i.e. As $k$ increases, how are bias and variance affected?)"
   ]
  },
  {
   "cell_type": "markdown",
   "metadata": {},
   "source": [
    "Answer: When K increase, the bias incrase but variance decrease."
   ]
  },
  {
   "cell_type": "markdown",
   "metadata": {},
   "source": [
    "### 19. If you have a $k$-NN model that has evidence of overfitting, what are three things you might try to do to combat overfitting?"
   ]
  },
  {
   "cell_type": "markdown",
   "metadata": {},
   "source": [
    "Answer:\n",
    "* 1) K is too small\n",
    "* 2) Get more obsevations\n",
    "* 3) Find out nosises and remove them"
   ]
  },
  {
   "cell_type": "markdown",
   "metadata": {},
   "source": [
    "### 20. In which of your logistic regression models is there evidence of overfitting? How do you know?"
   ]
  },
  {
   "cell_type": "markdown",
   "metadata": {},
   "source": [
    "Answer: No evidence of overfitting."
   ]
  },
  {
   "cell_type": "markdown",
   "metadata": {},
   "source": [
    "### 21. Broadly speaking, how does the value of $C$ in logistic regression affect the bias-variance tradeoff? (i.e. As $C$ increases, how are bias and variance affected?)"
   ]
  },
  {
   "cell_type": "markdown",
   "metadata": {},
   "source": [
    "Answer: The C doesn't do anything at all."
   ]
  },
  {
   "cell_type": "markdown",
   "metadata": {},
   "source": [
    "### 22. For your logistic regression models, play around with the regularization hyperparameter, $C$. As you vary $C$, what happens to the fit and coefficients in the model? What do you think this means in the context of this specific problem?"
   ]
  },
  {
   "cell_type": "markdown",
   "metadata": {},
   "source": [
    "Answer: Since the logistic regression models are not even better than the null model. So the change of C has no affections on the model."
   ]
  },
  {
   "cell_type": "markdown",
   "metadata": {},
   "source": [
    "### 23. If you have a logistic regression model that has evidence of overfitting, what are three things you might try to do to combat overfitting?"
   ]
  },
  {
   "cell_type": "markdown",
   "metadata": {},
   "source": [
    "Answer:\n",
    "* 1) Tuning the hyperparameters\n",
    "* 2) remove non-related features\n",
    "* 3) collect more data"
   ]
  },
  {
   "cell_type": "markdown",
   "metadata": {},
   "source": [
    "---\n",
    "## Step 6: Answer the problem.\n",
    "\n",
    "### 24. Suppose you want to understand which psychological features are most important in determining left-handedness. Would you rather use $k$-NN or logistic regression? Why?"
   ]
  },
  {
   "cell_type": "markdown",
   "metadata": {},
   "source": [
    "Answer: Loistic Regression, because the coefs in logistic regression can be interpreted. The larger the absolute value of coef of a predictor, the more importeant the feature is."
   ]
  },
  {
   "cell_type": "markdown",
   "metadata": {},
   "source": [
    "### 25. Select your logistic regression model that utilized LASSO regularization with $\\alpha = 1$. Interpret the coefficient for `Q1`."
   ]
  },
  {
   "cell_type": "code",
   "execution_count": 112,
   "metadata": {},
   "outputs": [
    {
     "data": {
      "text/plain": [
       "0                        Q1\n",
       "1    [-0.09784574576524913]\n",
       "Name: 0, dtype: object"
      ]
     },
     "execution_count": 112,
     "metadata": {},
     "output_type": "execute_result"
    }
   ],
   "source": [
    "pd.DataFrame([df.drop('hand',axis=1).columns,logreg_1.coef_.reshape(-1,1)]).T.loc[0]"
   ]
  },
  {
   "cell_type": "markdown",
   "metadata": {},
   "source": [
    "Answer: 1 unit increases in Q1 will result the log(odds) of being left_handed decrease -0.0978"
   ]
  },
  {
   "cell_type": "markdown",
   "metadata": {},
   "source": [
    "### 26. If you have to select one model overall to be your *best* model, which model would you select? Why?\n",
    "- Usually in the \"real world,\" you'll fit many types of models but ultimately need to pick only one! (For example, a client may not understand what it means to have multiple models, or if you're using an algorithm to make a decision, it's probably pretty challenging to use two or more algorithms simultaneously.) It's not always an easy choice, but you'll have to make it soon enough. Pick a model and defend why you picked this model!"
   ]
  },
  {
   "cell_type": "markdown",
   "metadata": {},
   "source": [
    "Answer: Logistic regression. Even thought none of the models are doing very well, logistics regression can be easily interpreted."
   ]
  },
  {
   "cell_type": "markdown",
   "metadata": {},
   "source": [
    "### 27. Circle back to the three specific and conclusively answerable questions you came up with in Q1. Answer one of these for the professor based on the model you selected!"
   ]
  },
  {
   "cell_type": "markdown",
   "metadata": {},
   "source": [
    "Answer: None of the features collected by the dataset is related to left handeness. I guess it's more like a genetic problem."
   ]
  },
  {
   "cell_type": "markdown",
   "metadata": {},
   "source": [
    "### BONUS:\n",
    "Looking for more to do? Probably not - you're busy! But if you want to, consider exploring the following. (They could make for a blog post!)\n",
    "- Create a visual plot comparing training and test metrics for various values of $k$ and various regularization schemes in logistic regression.\n",
    "- Rather than just evaluating models based on accuracy, consider using sensitivity, specificity, etc.\n",
    "- In the context of predicting left-handedness, why are unbalanced classes concerning? If you were to re-do this process given those concerns, what changes might you make?\n",
    "- Fit and evaluate a generalized linear model other than logistic regression (e.g. Poisson regression).\n",
    "- Suppose this data were in a `SQL` database named `data` and a table named `inventory`. What `SQL` query would return the count of people who were right-handed, left-handed, both, or missing with their class labels of 1, 2, 3, and 0, respectively? (You can assume you've already logged into the database.)"
   ]
  },
  {
   "cell_type": "code",
   "execution_count": null,
   "metadata": {
    "collapsed": true,
    "jupyter": {
     "outputs_hidden": true
    }
   },
   "outputs": [],
   "source": []
  }
 ],
 "metadata": {
  "kernelspec": {
   "display_name": "Python 3",
   "language": "python",
   "name": "python3"
  },
  "language_info": {
   "codemirror_mode": {
    "name": "ipython",
    "version": 3
   },
   "file_extension": ".py",
   "mimetype": "text/x-python",
   "name": "python",
   "nbconvert_exporter": "python",
   "pygments_lexer": "ipython3",
   "version": "3.7.4"
  }
 },
 "nbformat": 4,
 "nbformat_minor": 4
}
