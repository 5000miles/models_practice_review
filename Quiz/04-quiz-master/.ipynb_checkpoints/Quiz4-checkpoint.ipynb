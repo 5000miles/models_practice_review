{
 "cells": [
  {
   "cell_type": "markdown",
   "metadata": {},
   "source": [
    "# Quiz 4 - Zecheng Chang"
   ]
  },
  {
   "cell_type": "markdown",
   "metadata": {},
   "source": [
    "### Q1\n",
    "\n",
    "``` sql\n",
    "SELECT *\n",
    "FROM animals\n",
    "LIMIT 10;\n",
    "```"
   ]
  },
  {
   "cell_type": "markdown",
   "metadata": {},
   "source": [
    "---"
   ]
  },
  {
   "cell_type": "markdown",
   "metadata": {},
   "source": [
    "### Q2\n",
    "\n",
    "```sql\n",
    "SELECT DISTINCT breed\n",
    "FROM animals;\n",
    "```\n"
   ]
  },
  {
   "cell_type": "markdown",
   "metadata": {},
   "source": [
    "---"
   ]
  },
  {
   "cell_type": "markdown",
   "metadata": {},
   "source": [
    "### Q3\n",
    "\n",
    "```sql\n",
    "SELECT\n",
    "age, weight\n",
    "FROM animals\n",
    "WHERE color = 'black' AND type = 'dog';\n",
    "```"
   ]
  },
  {
   "cell_type": "markdown",
   "metadata": {},
   "source": [
    "---"
   ]
  },
  {
   "cell_type": "markdown",
   "metadata": {},
   "source": [
    "### Q4\n",
    "```sql\n",
    "SELECT\n",
    "type, breed\n",
    "FROM animals\n",
    "WHERE weight > 55;\n",
    "```"
   ]
  },
  {
   "cell_type": "markdown",
   "metadata": {},
   "source": [
    "---"
   ]
  },
  {
   "cell_type": "markdown",
   "metadata": {},
   "source": [
    "### Q5\n",
    "\n",
    "```sql\n",
    "SELECT\n",
    "customer_id, first_name, last_name\n",
    "FROM customers\n",
    "WHERE email LIKE '%@gmail.com';\n",
    "```"
   ]
  },
  {
   "cell_type": "markdown",
   "metadata": {},
   "source": [
    "---"
   ]
  },
  {
   "cell_type": "markdown",
   "metadata": {},
   "source": [
    "### Q6\n",
    "\n",
    "```sql\n",
    "SELECT\n",
    "breed, AVG(weight) avg_weight\n",
    "FROM animals\n",
    "GROUP BY breed\n",
    "HAVING avg_weight >= 40;\n",
    "```"
   ]
  },
  {
   "cell_type": "markdown",
   "metadata": {},
   "source": [
    "---"
   ]
  },
  {
   "cell_type": "markdown",
   "metadata": {},
   "source": [
    "### Q7\n",
    "\n",
    "```sql\n",
    "SELECT\n",
    "last_name\n",
    "FROM customers cus\n",
    "LEFT JOIN\n",
    "animals ani\n",
    "ON cus.pet_id = ani.id\n",
    "WHERE type = 'cat';\n",
    "```"
   ]
  },
  {
   "cell_type": "markdown",
   "metadata": {},
   "source": [
    "---"
   ]
  },
  {
   "cell_type": "markdown",
   "metadata": {},
   "source": [
    "### Q8\n",
    "\n",
    "```sql\n",
    "SELECT\n",
    "type, AVG(age) avg_age\n",
    "FROM animals\n",
    "GROUP BY type;\n",
    "```"
   ]
  },
  {
   "cell_type": "markdown",
   "metadata": {},
   "source": [
    "---"
   ]
  },
  {
   "cell_type": "markdown",
   "metadata": {},
   "source": [
    "### Q9\n",
    "\n",
    "```sql\n",
    "SELECT\n",
    "COUNT(*)\n",
    "FROM animals ani\n",
    "LEFT JOIN\n",
    "locations loc\n",
    "ON ani.location_id = loc.id\n",
    "WHERE state = 'New York' AND type = 'rabbit';\n",
    "```"
   ]
  },
  {
   "cell_type": "markdown",
   "metadata": {},
   "source": [
    "---"
   ]
  },
  {
   "cell_type": "markdown",
   "metadata": {},
   "source": [
    "### Q10\n",
    "\n",
    "```sql\n",
    "SELECT\n",
    "ani.id Pet_ID,\n",
    "breed,\n",
    "customer_id,\n",
    "city\n",
    "FROM animals ani\n",
    "LEFT JOIN\n",
    "customers cus\n",
    "ON ani.id = cus.pet_id\n",
    "LEFT JOIN\n",
    "locations loc\n",
    "ON ani.location_id = loc.id\n",
    "WHERE type = 'dog' AND adopted = 'Yes'\n",
    "ORDER BY breed;\n",
    "```"
   ]
  }
 ],
 "metadata": {
  "kernelspec": {
   "display_name": "Python 3",
   "language": "python",
   "name": "python3"
  },
  "language_info": {
   "codemirror_mode": {
    "name": "ipython",
    "version": 3
   },
   "file_extension": ".py",
   "mimetype": "text/x-python",
   "name": "python",
   "nbconvert_exporter": "python",
   "pygments_lexer": "ipython3",
   "version": "3.7.4"
  }
 },
 "nbformat": 4,
 "nbformat_minor": 4
}
